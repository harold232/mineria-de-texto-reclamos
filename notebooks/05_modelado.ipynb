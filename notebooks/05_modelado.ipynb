{
 "cells": [
  {
   "cell_type": "markdown",
   "id": "312c022f-1631-4c45-90b3-13378e7c8fa3",
   "metadata": {},
   "source": [
    "# Modelado"
   ]
  },
  {
   "cell_type": "markdown",
   "id": "79aa2153-1bbf-40ef-9cc7-cc5e66a83fd4",
   "metadata": {},
   "source": [
    "##### Integrantes: \n",
    "##### - Harold Aquino Curisinche \n",
    "##### - Rosa Estrada Estrada\n",
    "##### Descripción: Limpieza y transformación del dataset de reclamos de SUSALUD"
   ]
  },
  {
   "cell_type": "markdown",
   "id": "9d92ede7-6a05-4958-889d-ea2b21d95bc4",
   "metadata": {},
   "source": [
    "### Importacion de librerias"
   ]
  },
  {
   "cell_type": "code",
   "execution_count": 30,
   "id": "30b65f35-621a-4752-8109-cb6e493bc0b4",
   "metadata": {},
   "outputs": [],
   "source": [
    "import pandas as pd\n",
    "import numpy as np"
   ]
  },
  {
   "cell_type": "code",
   "execution_count": 136,
   "id": "f2342514-77ae-4f9e-8f07-05e183fca242",
   "metadata": {},
   "outputs": [],
   "source": [
    "from sklearn.feature_extraction.text import TfidfVectorizer\n",
    "from sklearn.preprocessing import OneHotEncoder, OrdinalEncoder, StandardScaler\n",
    "from sklearn.impute import SimpleImputer\n",
    "from sklearn.compose import ColumnTransformer\n",
    "from sklearn.pipeline import Pipeline\n",
    "from sklearn.model_selection import train_test_split, GridSearchCV, cross_val_score\n",
    "from sklearn.ensemble import RandomForestClassifier\n",
    "from sklearn.metrics import classification_report, confusion_matrix, accuracy_score"
   ]
  },
  {
   "cell_type": "code",
   "execution_count": 34,
   "id": "6e399608-beec-4545-90c6-8579472fc1e3",
   "metadata": {},
   "outputs": [],
   "source": [
    "import xgboost as xgb\n",
    "import matplotlib.pyplot as plt\n",
    "import seaborn as sns"
   ]
  },
  {
   "cell_type": "markdown",
   "id": "eef43fa6-d0c5-4d8f-aa04-8e3b6ed7a0b0",
   "metadata": {},
   "source": [
    "### Carga de datos"
   ]
  },
  {
   "cell_type": "code",
   "execution_count": 36,
   "id": "cb55deeb-9911-4acf-95aa-05ec4986567c",
   "metadata": {},
   "outputs": [],
   "source": [
    "df = pd.read_csv(\"../data/processed/reclamos_clean.csv\", low_memory=False)"
   ]
  },
  {
   "cell_type": "code",
   "execution_count": 37,
   "id": "2c17de38-e947-4b51-b54a-bde6bc5ba4d0",
   "metadata": {},
   "outputs": [
    {
     "data": {
      "text/html": [
       "<div>\n",
       "<style scoped>\n",
       "    .dataframe tbody tr th:only-of-type {\n",
       "        vertical-align: middle;\n",
       "    }\n",
       "\n",
       "    .dataframe tbody tr th {\n",
       "        vertical-align: top;\n",
       "    }\n",
       "\n",
       "    .dataframe thead th {\n",
       "        text-align: right;\n",
       "    }\n",
       "</style>\n",
       "<table border=\"1\" class=\"dataframe\">\n",
       "  <thead>\n",
       "    <tr style=\"text-align: right;\">\n",
       "      <th></th>\n",
       "      <th>ID_PERIODO</th>\n",
       "      <th>DE_TIPO_INSTITUCION</th>\n",
       "      <th>DE_MEDIO_PRESENTACION</th>\n",
       "      <th>DE_MEDIO_RECEPCION</th>\n",
       "      <th>FE_PRESEN_RECLA</th>\n",
       "      <th>DE_SERVICIO</th>\n",
       "      <th>DE_COMPETENCIA</th>\n",
       "      <th>DE_CLASIF_1</th>\n",
       "      <th>DE_ESTADO_RECLAMO</th>\n",
       "      <th>DE_ETAPA_RECLAMO</th>\n",
       "      <th>DESCRIPCION</th>\n",
       "      <th>MES</th>\n",
       "      <th>DIA_SEMANA</th>\n",
       "      <th>AÑO</th>\n",
       "      <th>DIA_MES</th>\n",
       "      <th>ES_FIN_SEMANA</th>\n",
       "      <th>AÑO_ID_PERIODO</th>\n",
       "      <th>MES_ID_PERIODO</th>\n",
       "    </tr>\n",
       "  </thead>\n",
       "  <tbody>\n",
       "    <tr>\n",
       "      <th>0</th>\n",
       "      <td>202101</td>\n",
       "      <td>IAFAS</td>\n",
       "      <td>Físico</td>\n",
       "      <td>Libro de Reclamaciones Físico</td>\n",
       "      <td>2020-11-27</td>\n",
       "      <td>Desconocido</td>\n",
       "      <td>Si</td>\n",
       "      <td>Negar  o demora en otorgar la cobertura en salud</td>\n",
       "      <td>Resuelto</td>\n",
       "      <td>Resultado y Notificación</td>\n",
       "      <td>Sin descripción</td>\n",
       "      <td>11</td>\n",
       "      <td>4</td>\n",
       "      <td>2020</td>\n",
       "      <td>27</td>\n",
       "      <td>0</td>\n",
       "      <td>2021</td>\n",
       "      <td>1</td>\n",
       "    </tr>\n",
       "    <tr>\n",
       "      <th>1</th>\n",
       "      <td>202101</td>\n",
       "      <td>IAFAS</td>\n",
       "      <td>Físico</td>\n",
       "      <td>Libro de Reclamaciones Físico</td>\n",
       "      <td>2021-01-04</td>\n",
       "      <td>Desconocido</td>\n",
       "      <td>Si</td>\n",
       "      <td>Cobrar indebidamente</td>\n",
       "      <td>Resuelto</td>\n",
       "      <td>Resultado y Notificación</td>\n",
       "      <td>Me cobraron por una vacuna que estaba incluida...</td>\n",
       "      <td>1</td>\n",
       "      <td>0</td>\n",
       "      <td>2021</td>\n",
       "      <td>4</td>\n",
       "      <td>0</td>\n",
       "      <td>2021</td>\n",
       "      <td>1</td>\n",
       "    </tr>\n",
       "    <tr>\n",
       "      <th>2</th>\n",
       "      <td>202101</td>\n",
       "      <td>IAFAS</td>\n",
       "      <td>Físico</td>\n",
       "      <td>Libro de Reclamaciones Físico</td>\n",
       "      <td>2021-01-06</td>\n",
       "      <td>Desconocido</td>\n",
       "      <td>Si</td>\n",
       "      <td>Otros relativos a las IAFAS</td>\n",
       "      <td>Concluido</td>\n",
       "      <td>Archivo y Custodia del Expediente</td>\n",
       "      <td>Las ambulancias de EsSalud no llegaron a tiemp...</td>\n",
       "      <td>1</td>\n",
       "      <td>2</td>\n",
       "      <td>2021</td>\n",
       "      <td>6</td>\n",
       "      <td>0</td>\n",
       "      <td>2021</td>\n",
       "      <td>1</td>\n",
       "    </tr>\n",
       "    <tr>\n",
       "      <th>3</th>\n",
       "      <td>202101</td>\n",
       "      <td>IAFAS</td>\n",
       "      <td>Físico</td>\n",
       "      <td>Libro de Reclamaciones Físico</td>\n",
       "      <td>2021-01-06</td>\n",
       "      <td>Desconocido</td>\n",
       "      <td>Si</td>\n",
       "      <td>Otros relativos a las IAFAS</td>\n",
       "      <td>Concluido</td>\n",
       "      <td>Archivo y Custodia del Expediente</td>\n",
       "      <td>La atención que brindan las IAFAS no ha sido d...</td>\n",
       "      <td>1</td>\n",
       "      <td>2</td>\n",
       "      <td>2021</td>\n",
       "      <td>6</td>\n",
       "      <td>0</td>\n",
       "      <td>2021</td>\n",
       "      <td>1</td>\n",
       "    </tr>\n",
       "    <tr>\n",
       "      <th>4</th>\n",
       "      <td>202101</td>\n",
       "      <td>IAFAS</td>\n",
       "      <td>Físico</td>\n",
       "      <td>Libro de Reclamaciones Físico</td>\n",
       "      <td>2021-01-08</td>\n",
       "      <td>Desconocido</td>\n",
       "      <td>Si</td>\n",
       "      <td>Otros relativos a las IAFAS</td>\n",
       "      <td>En trámite</td>\n",
       "      <td>Evaluación e investigación</td>\n",
       "      <td>He tenido problemas para acceder a mis servici...</td>\n",
       "      <td>1</td>\n",
       "      <td>4</td>\n",
       "      <td>2021</td>\n",
       "      <td>8</td>\n",
       "      <td>0</td>\n",
       "      <td>2021</td>\n",
       "      <td>1</td>\n",
       "    </tr>\n",
       "  </tbody>\n",
       "</table>\n",
       "</div>"
      ],
      "text/plain": [
       "   ID_PERIODO DE_TIPO_INSTITUCION DE_MEDIO_PRESENTACION  \\\n",
       "0      202101               IAFAS                Físico   \n",
       "1      202101               IAFAS                Físico   \n",
       "2      202101               IAFAS                Físico   \n",
       "3      202101               IAFAS                Físico   \n",
       "4      202101               IAFAS                Físico   \n",
       "\n",
       "              DE_MEDIO_RECEPCION FE_PRESEN_RECLA  DE_SERVICIO DE_COMPETENCIA  \\\n",
       "0  Libro de Reclamaciones Físico      2020-11-27  Desconocido             Si   \n",
       "1  Libro de Reclamaciones Físico      2021-01-04  Desconocido             Si   \n",
       "2  Libro de Reclamaciones Físico      2021-01-06  Desconocido             Si   \n",
       "3  Libro de Reclamaciones Físico      2021-01-06  Desconocido             Si   \n",
       "4  Libro de Reclamaciones Físico      2021-01-08  Desconocido             Si   \n",
       "\n",
       "                                        DE_CLASIF_1 DE_ESTADO_RECLAMO  \\\n",
       "0  Negar  o demora en otorgar la cobertura en salud          Resuelto   \n",
       "1                              Cobrar indebidamente          Resuelto   \n",
       "2                       Otros relativos a las IAFAS         Concluido   \n",
       "3                       Otros relativos a las IAFAS         Concluido   \n",
       "4                       Otros relativos a las IAFAS        En trámite   \n",
       "\n",
       "                    DE_ETAPA_RECLAMO  \\\n",
       "0           Resultado y Notificación   \n",
       "1           Resultado y Notificación   \n",
       "2  Archivo y Custodia del Expediente   \n",
       "3  Archivo y Custodia del Expediente   \n",
       "4         Evaluación e investigación   \n",
       "\n",
       "                                         DESCRIPCION  MES  DIA_SEMANA   AÑO  \\\n",
       "0                                    Sin descripción   11           4  2020   \n",
       "1  Me cobraron por una vacuna que estaba incluida...    1           0  2021   \n",
       "2  Las ambulancias de EsSalud no llegaron a tiemp...    1           2  2021   \n",
       "3  La atención que brindan las IAFAS no ha sido d...    1           2  2021   \n",
       "4  He tenido problemas para acceder a mis servici...    1           4  2021   \n",
       "\n",
       "   DIA_MES  ES_FIN_SEMANA  AÑO_ID_PERIODO  MES_ID_PERIODO  \n",
       "0       27              0            2021               1  \n",
       "1        4              0            2021               1  \n",
       "2        6              0            2021               1  \n",
       "3        6              0            2021               1  \n",
       "4        8              0            2021               1  "
      ]
     },
     "execution_count": 37,
     "metadata": {},
     "output_type": "execute_result"
    }
   ],
   "source": [
    "df.head()"
   ]
  },
  {
   "cell_type": "markdown",
   "id": "9d080eb0-10c5-44cd-883f-36c47c2ea821",
   "metadata": {},
   "source": [
    "### Variables categoricas"
   ]
  },
  {
   "cell_type": "code",
   "execution_count": 79,
   "id": "f2d9598a-cce0-4cb5-856d-d9c7b74015fa",
   "metadata": {},
   "outputs": [],
   "source": [
    "categorical_cols_onehot = ['DE_MEDIO_PRESENTACION', 'DE_MEDIO_RECEPCION', 'DE_ESTADO_RECLAMO', 'DE_ETAPA_RECLAMO', 'DE_SERVICIO']"
   ]
  },
  {
   "cell_type": "code",
   "execution_count": 81,
   "id": "c5d56ae5-4887-4b3d-ab04-5161c5b323b7",
   "metadata": {},
   "outputs": [],
   "source": [
    "categorical_cols_ordinal = ['DE_TIPO_INSTITUCION', 'DE_COMPETENCIA']"
   ]
  },
  {
   "cell_type": "code",
   "execution_count": 83,
   "id": "74152145-d861-4640-ae2d-bb32dd7df03b",
   "metadata": {},
   "outputs": [],
   "source": [
    "text_col = 'DESCRIPCION'"
   ]
  },
  {
   "cell_type": "markdown",
   "id": "f0676258-6ba8-46af-b755-d1574fb0c647",
   "metadata": {},
   "source": [
    "#### Datos de entrenamietno y de prueba"
   ]
  },
  {
   "cell_type": "code",
   "execution_count": 43,
   "id": "c0a5b050-7622-4e3f-9942-8dac65865457",
   "metadata": {},
   "outputs": [],
   "source": [
    "X = df[[\n",
    "    'DE_TIPO_INSTITUCION', 'DE_MEDIO_PRESENTACION', 'DE_MEDIO_RECEPCION',\n",
    "    'DE_SERVICIO', 'DE_COMPETENCIA', 'DE_ESTADO_RECLAMO', 'DE_ETAPA_RECLAMO',\n",
    "    'DESCRIPCION', 'DIA_MES', 'MES', 'DIA_SEMANA', 'ES_FIN_SEMANA',\n",
    "    'AÑO_ID_PERIODO', 'MES_ID_PERIODO'\n",
    "]]"
   ]
  },
  {
   "cell_type": "code",
   "execution_count": 44,
   "id": "3dfd4ad8-313e-4bc6-af4d-2e8af8747565",
   "metadata": {},
   "outputs": [],
   "source": [
    "y = df['DE_CLASIF_1']"
   ]
  },
  {
   "cell_type": "code",
   "execution_count": 47,
   "id": "e6540003-8152-4f80-8641-1f90f28b2e28",
   "metadata": {},
   "outputs": [],
   "source": [
    "X_train, X_test, y_train, y_test = train_test_split(X, y, test_size=0.2, random_state=42, stratify=y)"
   ]
  },
  {
   "cell_type": "code",
   "execution_count": 65,
   "id": "71a71b79-3272-4371-baf9-f30f9dc790d0",
   "metadata": {},
   "outputs": [
    {
     "name": "stdout",
     "output_type": "stream",
     "text": [
      "Tamaño entrenamiento: (130111, 14)\n",
      "Tamaño prueba: (32528, 14)\n"
     ]
    }
   ],
   "source": [
    "print(f\"Tamaño entrenamiento: {X_train.shape}\")\n",
    "print(f\"Tamaño prueba: {X_test.shape}\")"
   ]
  },
  {
   "cell_type": "markdown",
   "id": "67dc7208-1036-430f-8768-5e8e23c2888e",
   "metadata": {},
   "source": [
    "##### StopWords"
   ]
  },
  {
   "cell_type": "code",
   "execution_count": 9,
   "id": "b8a09314-60b3-4265-99cf-e6326e87f391",
   "metadata": {},
   "outputs": [],
   "source": [
    "import nltk"
   ]
  },
  {
   "cell_type": "code",
   "execution_count": 10,
   "id": "08dd6e02-818f-4e4f-9559-84a1cf3b5496",
   "metadata": {},
   "outputs": [
    {
     "name": "stderr",
     "output_type": "stream",
     "text": [
      "[nltk_data] Downloading package stopwords to\n",
      "[nltk_data]     C:\\Users\\harol\\AppData\\Roaming\\nltk_data...\n",
      "[nltk_data]   Package stopwords is already up-to-date!\n"
     ]
    },
    {
     "data": {
      "text/plain": [
       "True"
      ]
     },
     "execution_count": 10,
     "metadata": {},
     "output_type": "execute_result"
    }
   ],
   "source": [
    "nltk.download('stopwords')"
   ]
  },
  {
   "cell_type": "code",
   "execution_count": 11,
   "id": "785b41bb-6b78-4f22-913f-ea0283b397e6",
   "metadata": {},
   "outputs": [],
   "source": [
    "from nltk.corpus import stopwords"
   ]
  },
  {
   "cell_type": "code",
   "execution_count": 12,
   "id": "ac4addd7-01ca-4c6a-9bc3-12658edcc2b4",
   "metadata": {},
   "outputs": [],
   "source": [
    "stop_words_spanish = stopwords.words('spanish')"
   ]
  },
  {
   "cell_type": "markdown",
   "id": "29933d27-c5a3-40cd-b607-bc5e89f580f7",
   "metadata": {},
   "source": [
    "### Construccion del preprocesamiento"
   ]
  },
  {
   "cell_type": "markdown",
   "id": "d3075c46-256e-4fd3-9aca-5c1fdfd84f6b",
   "metadata": {},
   "source": [
    "#### Creación los transformadores para la codificación"
   ]
  },
  {
   "cell_type": "code",
   "execution_count": 87,
   "id": "38b57e67-40a7-4b3b-b0ba-323dda41b6b6",
   "metadata": {},
   "outputs": [],
   "source": [
    "transformadores = []"
   ]
  },
  {
   "cell_type": "markdown",
   "id": "1648622e-193f-4fd5-9997-62ca9c8ba02f",
   "metadata": {},
   "source": [
    "## OneHot Encoder"
   ]
  },
  {
   "cell_type": "code",
   "execution_count": 89,
   "id": "b8a2345a-a46e-481d-a164-38398085396f",
   "metadata": {},
   "outputs": [],
   "source": [
    "if categorical_cols_onehot:\n",
    "    transformadores.append(('onehot', Pipeline([\n",
    "        ('imputer', SimpleImputer(strategy='constant', fill_value='missing')),\n",
    "        ('onehot', OneHotEncoder(handle_unknown='ignore', sparse_output=False))\n",
    "    ]), categorical_cols_onehot))"
   ]
  },
  {
   "cell_type": "markdown",
   "id": "d5657b90-fc1c-4299-9898-a5b1ef99a940",
   "metadata": {},
   "source": [
    "## Ordinal Encoder"
   ]
  },
  {
   "cell_type": "code",
   "execution_count": 91,
   "id": "f359b5c3-9d36-4859-8b23-dd2fc15abf90",
   "metadata": {},
   "outputs": [],
   "source": [
    "if categorical_cols_ordinal:\n",
    "    transformadores.append(('ordinal', Pipeline([\n",
    "        ('imputer', SimpleImputer(strategy='constant', fill_value='missing')),\n",
    "        ('ordinal', OrdinalEncoder(handle_unknown='use_encoded_value', unknown_value=-1))\n",
    "    ]), categorical_cols_ordinal))"
   ]
  },
  {
   "cell_type": "markdown",
   "id": "d572c837-84b2-490b-9641-69d079df4da6",
   "metadata": {},
   "source": [
    "## TfidfVectorizer"
   ]
  },
  {
   "cell_type": "code",
   "execution_count": 93,
   "id": "bf561222-6f9b-40e2-aa11-5eba9d22d33e",
   "metadata": {},
   "outputs": [],
   "source": [
    "if text_col:\n",
    "    transformadores.append(('text', TfidfVectorizer(max_features=5000), text_col))"
   ]
  },
  {
   "cell_type": "code",
   "execution_count": 95,
   "id": "42f781a6-201a-48c2-9774-d85725c8f491",
   "metadata": {},
   "outputs": [],
   "source": [
    "preprocessor = ColumnTransformer(transformers=transformadores, remainder='passthrough')"
   ]
  },
  {
   "cell_type": "code",
   "execution_count": 110,
   "id": "8d8531bb-8053-4ad4-a553-960583d57479",
   "metadata": {},
   "outputs": [],
   "source": [
    "# preprocessor = ColumnTransformer(\n",
    "#     transformers=[\n",
    "#         ('onehot', OneHotEncoder(handle_unknown='ignore'), categorical_cols_onehot),\n",
    "#         ('ordinal', OrdinalEncoder(), categorical_cols_ordinal),\n",
    "#         ('text', TfidfVectorizer(max_features=5000), text_col)\n",
    "#         #('text', TfidfVectorizer(stop_words=stop_words_spanish, max_features=3000, ngram_range=(1,2), min_df=5), text_col)\n",
    "#     ],\n",
    "#     remainder='passthrough'\n",
    "# )"
   ]
  },
  {
   "cell_type": "markdown",
   "id": "5017ad05-95f1-47e8-856f-fdee3892e8ae",
   "metadata": {},
   "source": [
    "#### Definimos el modelo completo (Random Forest Classifier)"
   ]
  },
  {
   "cell_type": "code",
   "execution_count": 97,
   "id": "ef4102d5-5fa1-4f80-85e5-eadbd08e4af6",
   "metadata": {},
   "outputs": [],
   "source": [
    "#class_weight='balanced'\n",
    "model = Pipeline(steps=[\n",
    "    ('preprocessor', preprocessor),\n",
    "    ('classifier', RandomForestClassifier(n_estimators=100, random_state=42))\n",
    "])"
   ]
  },
  {
   "cell_type": "code",
   "execution_count": 99,
   "id": "f7dab2cd-a03e-4b52-b12d-d8135010235f",
   "metadata": {},
   "outputs": [
    {
     "name": "stderr",
     "output_type": "stream",
     "text": [
      "C:\\Users\\harol\\anaconda3\\Lib\\site-packages\\sklearn\\compose\\_column_transformer.py:1623: FutureWarning: \n",
      "The format of the columns of the 'remainder' transformer in ColumnTransformer.transformers_ will change in version 1.7 to match the format of the other transformers.\n",
      "At the moment the remainder columns are stored as indices (of type int). With the same ColumnTransformer configuration, in the future they will be stored as column names (of type str).\n",
      "To use the new behavior now and suppress this warning, use ColumnTransformer(force_int_remainder_cols=False).\n",
      "\n",
      "  warnings.warn(\n"
     ]
    },
    {
     "data": {
      "text/html": [
       "<style>#sk-container-id-2 {\n",
       "  /* Definition of color scheme common for light and dark mode */\n",
       "  --sklearn-color-text: black;\n",
       "  --sklearn-color-line: gray;\n",
       "  /* Definition of color scheme for unfitted estimators */\n",
       "  --sklearn-color-unfitted-level-0: #fff5e6;\n",
       "  --sklearn-color-unfitted-level-1: #f6e4d2;\n",
       "  --sklearn-color-unfitted-level-2: #ffe0b3;\n",
       "  --sklearn-color-unfitted-level-3: chocolate;\n",
       "  /* Definition of color scheme for fitted estimators */\n",
       "  --sklearn-color-fitted-level-0: #f0f8ff;\n",
       "  --sklearn-color-fitted-level-1: #d4ebff;\n",
       "  --sklearn-color-fitted-level-2: #b3dbfd;\n",
       "  --sklearn-color-fitted-level-3: cornflowerblue;\n",
       "\n",
       "  /* Specific color for light theme */\n",
       "  --sklearn-color-text-on-default-background: var(--sg-text-color, var(--theme-code-foreground, var(--jp-content-font-color1, black)));\n",
       "  --sklearn-color-background: var(--sg-background-color, var(--theme-background, var(--jp-layout-color0, white)));\n",
       "  --sklearn-color-border-box: var(--sg-text-color, var(--theme-code-foreground, var(--jp-content-font-color1, black)));\n",
       "  --sklearn-color-icon: #696969;\n",
       "\n",
       "  @media (prefers-color-scheme: dark) {\n",
       "    /* Redefinition of color scheme for dark theme */\n",
       "    --sklearn-color-text-on-default-background: var(--sg-text-color, var(--theme-code-foreground, var(--jp-content-font-color1, white)));\n",
       "    --sklearn-color-background: var(--sg-background-color, var(--theme-background, var(--jp-layout-color0, #111)));\n",
       "    --sklearn-color-border-box: var(--sg-text-color, var(--theme-code-foreground, var(--jp-content-font-color1, white)));\n",
       "    --sklearn-color-icon: #878787;\n",
       "  }\n",
       "}\n",
       "\n",
       "#sk-container-id-2 {\n",
       "  color: var(--sklearn-color-text);\n",
       "}\n",
       "\n",
       "#sk-container-id-2 pre {\n",
       "  padding: 0;\n",
       "}\n",
       "\n",
       "#sk-container-id-2 input.sk-hidden--visually {\n",
       "  border: 0;\n",
       "  clip: rect(1px 1px 1px 1px);\n",
       "  clip: rect(1px, 1px, 1px, 1px);\n",
       "  height: 1px;\n",
       "  margin: -1px;\n",
       "  overflow: hidden;\n",
       "  padding: 0;\n",
       "  position: absolute;\n",
       "  width: 1px;\n",
       "}\n",
       "\n",
       "#sk-container-id-2 div.sk-dashed-wrapped {\n",
       "  border: 1px dashed var(--sklearn-color-line);\n",
       "  margin: 0 0.4em 0.5em 0.4em;\n",
       "  box-sizing: border-box;\n",
       "  padding-bottom: 0.4em;\n",
       "  background-color: var(--sklearn-color-background);\n",
       "}\n",
       "\n",
       "#sk-container-id-2 div.sk-container {\n",
       "  /* jupyter's `normalize.less` sets `[hidden] { display: none; }`\n",
       "     but bootstrap.min.css set `[hidden] { display: none !important; }`\n",
       "     so we also need the `!important` here to be able to override the\n",
       "     default hidden behavior on the sphinx rendered scikit-learn.org.\n",
       "     See: https://github.com/scikit-learn/scikit-learn/issues/21755 */\n",
       "  display: inline-block !important;\n",
       "  position: relative;\n",
       "}\n",
       "\n",
       "#sk-container-id-2 div.sk-text-repr-fallback {\n",
       "  display: none;\n",
       "}\n",
       "\n",
       "div.sk-parallel-item,\n",
       "div.sk-serial,\n",
       "div.sk-item {\n",
       "  /* draw centered vertical line to link estimators */\n",
       "  background-image: linear-gradient(var(--sklearn-color-text-on-default-background), var(--sklearn-color-text-on-default-background));\n",
       "  background-size: 2px 100%;\n",
       "  background-repeat: no-repeat;\n",
       "  background-position: center center;\n",
       "}\n",
       "\n",
       "/* Parallel-specific style estimator block */\n",
       "\n",
       "#sk-container-id-2 div.sk-parallel-item::after {\n",
       "  content: \"\";\n",
       "  width: 100%;\n",
       "  border-bottom: 2px solid var(--sklearn-color-text-on-default-background);\n",
       "  flex-grow: 1;\n",
       "}\n",
       "\n",
       "#sk-container-id-2 div.sk-parallel {\n",
       "  display: flex;\n",
       "  align-items: stretch;\n",
       "  justify-content: center;\n",
       "  background-color: var(--sklearn-color-background);\n",
       "  position: relative;\n",
       "}\n",
       "\n",
       "#sk-container-id-2 div.sk-parallel-item {\n",
       "  display: flex;\n",
       "  flex-direction: column;\n",
       "}\n",
       "\n",
       "#sk-container-id-2 div.sk-parallel-item:first-child::after {\n",
       "  align-self: flex-end;\n",
       "  width: 50%;\n",
       "}\n",
       "\n",
       "#sk-container-id-2 div.sk-parallel-item:last-child::after {\n",
       "  align-self: flex-start;\n",
       "  width: 50%;\n",
       "}\n",
       "\n",
       "#sk-container-id-2 div.sk-parallel-item:only-child::after {\n",
       "  width: 0;\n",
       "}\n",
       "\n",
       "/* Serial-specific style estimator block */\n",
       "\n",
       "#sk-container-id-2 div.sk-serial {\n",
       "  display: flex;\n",
       "  flex-direction: column;\n",
       "  align-items: center;\n",
       "  background-color: var(--sklearn-color-background);\n",
       "  padding-right: 1em;\n",
       "  padding-left: 1em;\n",
       "}\n",
       "\n",
       "\n",
       "/* Toggleable style: style used for estimator/Pipeline/ColumnTransformer box that is\n",
       "clickable and can be expanded/collapsed.\n",
       "- Pipeline and ColumnTransformer use this feature and define the default style\n",
       "- Estimators will overwrite some part of the style using the `sk-estimator` class\n",
       "*/\n",
       "\n",
       "/* Pipeline and ColumnTransformer style (default) */\n",
       "\n",
       "#sk-container-id-2 div.sk-toggleable {\n",
       "  /* Default theme specific background. It is overwritten whether we have a\n",
       "  specific estimator or a Pipeline/ColumnTransformer */\n",
       "  background-color: var(--sklearn-color-background);\n",
       "}\n",
       "\n",
       "/* Toggleable label */\n",
       "#sk-container-id-2 label.sk-toggleable__label {\n",
       "  cursor: pointer;\n",
       "  display: block;\n",
       "  width: 100%;\n",
       "  margin-bottom: 0;\n",
       "  padding: 0.5em;\n",
       "  box-sizing: border-box;\n",
       "  text-align: center;\n",
       "}\n",
       "\n",
       "#sk-container-id-2 label.sk-toggleable__label-arrow:before {\n",
       "  /* Arrow on the left of the label */\n",
       "  content: \"▸\";\n",
       "  float: left;\n",
       "  margin-right: 0.25em;\n",
       "  color: var(--sklearn-color-icon);\n",
       "}\n",
       "\n",
       "#sk-container-id-2 label.sk-toggleable__label-arrow:hover:before {\n",
       "  color: var(--sklearn-color-text);\n",
       "}\n",
       "\n",
       "/* Toggleable content - dropdown */\n",
       "\n",
       "#sk-container-id-2 div.sk-toggleable__content {\n",
       "  max-height: 0;\n",
       "  max-width: 0;\n",
       "  overflow: hidden;\n",
       "  text-align: left;\n",
       "  /* unfitted */\n",
       "  background-color: var(--sklearn-color-unfitted-level-0);\n",
       "}\n",
       "\n",
       "#sk-container-id-2 div.sk-toggleable__content.fitted {\n",
       "  /* fitted */\n",
       "  background-color: var(--sklearn-color-fitted-level-0);\n",
       "}\n",
       "\n",
       "#sk-container-id-2 div.sk-toggleable__content pre {\n",
       "  margin: 0.2em;\n",
       "  border-radius: 0.25em;\n",
       "  color: var(--sklearn-color-text);\n",
       "  /* unfitted */\n",
       "  background-color: var(--sklearn-color-unfitted-level-0);\n",
       "}\n",
       "\n",
       "#sk-container-id-2 div.sk-toggleable__content.fitted pre {\n",
       "  /* unfitted */\n",
       "  background-color: var(--sklearn-color-fitted-level-0);\n",
       "}\n",
       "\n",
       "#sk-container-id-2 input.sk-toggleable__control:checked~div.sk-toggleable__content {\n",
       "  /* Expand drop-down */\n",
       "  max-height: 200px;\n",
       "  max-width: 100%;\n",
       "  overflow: auto;\n",
       "}\n",
       "\n",
       "#sk-container-id-2 input.sk-toggleable__control:checked~label.sk-toggleable__label-arrow:before {\n",
       "  content: \"▾\";\n",
       "}\n",
       "\n",
       "/* Pipeline/ColumnTransformer-specific style */\n",
       "\n",
       "#sk-container-id-2 div.sk-label input.sk-toggleable__control:checked~label.sk-toggleable__label {\n",
       "  color: var(--sklearn-color-text);\n",
       "  background-color: var(--sklearn-color-unfitted-level-2);\n",
       "}\n",
       "\n",
       "#sk-container-id-2 div.sk-label.fitted input.sk-toggleable__control:checked~label.sk-toggleable__label {\n",
       "  background-color: var(--sklearn-color-fitted-level-2);\n",
       "}\n",
       "\n",
       "/* Estimator-specific style */\n",
       "\n",
       "/* Colorize estimator box */\n",
       "#sk-container-id-2 div.sk-estimator input.sk-toggleable__control:checked~label.sk-toggleable__label {\n",
       "  /* unfitted */\n",
       "  background-color: var(--sklearn-color-unfitted-level-2);\n",
       "}\n",
       "\n",
       "#sk-container-id-2 div.sk-estimator.fitted input.sk-toggleable__control:checked~label.sk-toggleable__label {\n",
       "  /* fitted */\n",
       "  background-color: var(--sklearn-color-fitted-level-2);\n",
       "}\n",
       "\n",
       "#sk-container-id-2 div.sk-label label.sk-toggleable__label,\n",
       "#sk-container-id-2 div.sk-label label {\n",
       "  /* The background is the default theme color */\n",
       "  color: var(--sklearn-color-text-on-default-background);\n",
       "}\n",
       "\n",
       "/* On hover, darken the color of the background */\n",
       "#sk-container-id-2 div.sk-label:hover label.sk-toggleable__label {\n",
       "  color: var(--sklearn-color-text);\n",
       "  background-color: var(--sklearn-color-unfitted-level-2);\n",
       "}\n",
       "\n",
       "/* Label box, darken color on hover, fitted */\n",
       "#sk-container-id-2 div.sk-label.fitted:hover label.sk-toggleable__label.fitted {\n",
       "  color: var(--sklearn-color-text);\n",
       "  background-color: var(--sklearn-color-fitted-level-2);\n",
       "}\n",
       "\n",
       "/* Estimator label */\n",
       "\n",
       "#sk-container-id-2 div.sk-label label {\n",
       "  font-family: monospace;\n",
       "  font-weight: bold;\n",
       "  display: inline-block;\n",
       "  line-height: 1.2em;\n",
       "}\n",
       "\n",
       "#sk-container-id-2 div.sk-label-container {\n",
       "  text-align: center;\n",
       "}\n",
       "\n",
       "/* Estimator-specific */\n",
       "#sk-container-id-2 div.sk-estimator {\n",
       "  font-family: monospace;\n",
       "  border: 1px dotted var(--sklearn-color-border-box);\n",
       "  border-radius: 0.25em;\n",
       "  box-sizing: border-box;\n",
       "  margin-bottom: 0.5em;\n",
       "  /* unfitted */\n",
       "  background-color: var(--sklearn-color-unfitted-level-0);\n",
       "}\n",
       "\n",
       "#sk-container-id-2 div.sk-estimator.fitted {\n",
       "  /* fitted */\n",
       "  background-color: var(--sklearn-color-fitted-level-0);\n",
       "}\n",
       "\n",
       "/* on hover */\n",
       "#sk-container-id-2 div.sk-estimator:hover {\n",
       "  /* unfitted */\n",
       "  background-color: var(--sklearn-color-unfitted-level-2);\n",
       "}\n",
       "\n",
       "#sk-container-id-2 div.sk-estimator.fitted:hover {\n",
       "  /* fitted */\n",
       "  background-color: var(--sklearn-color-fitted-level-2);\n",
       "}\n",
       "\n",
       "/* Specification for estimator info (e.g. \"i\" and \"?\") */\n",
       "\n",
       "/* Common style for \"i\" and \"?\" */\n",
       "\n",
       ".sk-estimator-doc-link,\n",
       "a:link.sk-estimator-doc-link,\n",
       "a:visited.sk-estimator-doc-link {\n",
       "  float: right;\n",
       "  font-size: smaller;\n",
       "  line-height: 1em;\n",
       "  font-family: monospace;\n",
       "  background-color: var(--sklearn-color-background);\n",
       "  border-radius: 1em;\n",
       "  height: 1em;\n",
       "  width: 1em;\n",
       "  text-decoration: none !important;\n",
       "  margin-left: 1ex;\n",
       "  /* unfitted */\n",
       "  border: var(--sklearn-color-unfitted-level-1) 1pt solid;\n",
       "  color: var(--sklearn-color-unfitted-level-1);\n",
       "}\n",
       "\n",
       ".sk-estimator-doc-link.fitted,\n",
       "a:link.sk-estimator-doc-link.fitted,\n",
       "a:visited.sk-estimator-doc-link.fitted {\n",
       "  /* fitted */\n",
       "  border: var(--sklearn-color-fitted-level-1) 1pt solid;\n",
       "  color: var(--sklearn-color-fitted-level-1);\n",
       "}\n",
       "\n",
       "/* On hover */\n",
       "div.sk-estimator:hover .sk-estimator-doc-link:hover,\n",
       ".sk-estimator-doc-link:hover,\n",
       "div.sk-label-container:hover .sk-estimator-doc-link:hover,\n",
       ".sk-estimator-doc-link:hover {\n",
       "  /* unfitted */\n",
       "  background-color: var(--sklearn-color-unfitted-level-3);\n",
       "  color: var(--sklearn-color-background);\n",
       "  text-decoration: none;\n",
       "}\n",
       "\n",
       "div.sk-estimator.fitted:hover .sk-estimator-doc-link.fitted:hover,\n",
       ".sk-estimator-doc-link.fitted:hover,\n",
       "div.sk-label-container:hover .sk-estimator-doc-link.fitted:hover,\n",
       ".sk-estimator-doc-link.fitted:hover {\n",
       "  /* fitted */\n",
       "  background-color: var(--sklearn-color-fitted-level-3);\n",
       "  color: var(--sklearn-color-background);\n",
       "  text-decoration: none;\n",
       "}\n",
       "\n",
       "/* Span, style for the box shown on hovering the info icon */\n",
       ".sk-estimator-doc-link span {\n",
       "  display: none;\n",
       "  z-index: 9999;\n",
       "  position: relative;\n",
       "  font-weight: normal;\n",
       "  right: .2ex;\n",
       "  padding: .5ex;\n",
       "  margin: .5ex;\n",
       "  width: min-content;\n",
       "  min-width: 20ex;\n",
       "  max-width: 50ex;\n",
       "  color: var(--sklearn-color-text);\n",
       "  box-shadow: 2pt 2pt 4pt #999;\n",
       "  /* unfitted */\n",
       "  background: var(--sklearn-color-unfitted-level-0);\n",
       "  border: .5pt solid var(--sklearn-color-unfitted-level-3);\n",
       "}\n",
       "\n",
       ".sk-estimator-doc-link.fitted span {\n",
       "  /* fitted */\n",
       "  background: var(--sklearn-color-fitted-level-0);\n",
       "  border: var(--sklearn-color-fitted-level-3);\n",
       "}\n",
       "\n",
       ".sk-estimator-doc-link:hover span {\n",
       "  display: block;\n",
       "}\n",
       "\n",
       "/* \"?\"-specific style due to the `<a>` HTML tag */\n",
       "\n",
       "#sk-container-id-2 a.estimator_doc_link {\n",
       "  float: right;\n",
       "  font-size: 1rem;\n",
       "  line-height: 1em;\n",
       "  font-family: monospace;\n",
       "  background-color: var(--sklearn-color-background);\n",
       "  border-radius: 1rem;\n",
       "  height: 1rem;\n",
       "  width: 1rem;\n",
       "  text-decoration: none;\n",
       "  /* unfitted */\n",
       "  color: var(--sklearn-color-unfitted-level-1);\n",
       "  border: var(--sklearn-color-unfitted-level-1) 1pt solid;\n",
       "}\n",
       "\n",
       "#sk-container-id-2 a.estimator_doc_link.fitted {\n",
       "  /* fitted */\n",
       "  border: var(--sklearn-color-fitted-level-1) 1pt solid;\n",
       "  color: var(--sklearn-color-fitted-level-1);\n",
       "}\n",
       "\n",
       "/* On hover */\n",
       "#sk-container-id-2 a.estimator_doc_link:hover {\n",
       "  /* unfitted */\n",
       "  background-color: var(--sklearn-color-unfitted-level-3);\n",
       "  color: var(--sklearn-color-background);\n",
       "  text-decoration: none;\n",
       "}\n",
       "\n",
       "#sk-container-id-2 a.estimator_doc_link.fitted:hover {\n",
       "  /* fitted */\n",
       "  background-color: var(--sklearn-color-fitted-level-3);\n",
       "}\n",
       "</style><div id=\"sk-container-id-2\" class=\"sk-top-container\"><div class=\"sk-text-repr-fallback\"><pre>Pipeline(steps=[(&#x27;preprocessor&#x27;,\n",
       "                 ColumnTransformer(remainder=&#x27;passthrough&#x27;,\n",
       "                                   transformers=[(&#x27;onehot&#x27;,\n",
       "                                                  Pipeline(steps=[(&#x27;imputer&#x27;,\n",
       "                                                                   SimpleImputer(fill_value=&#x27;missing&#x27;,\n",
       "                                                                                 strategy=&#x27;constant&#x27;)),\n",
       "                                                                  (&#x27;onehot&#x27;,\n",
       "                                                                   OneHotEncoder(handle_unknown=&#x27;ignore&#x27;,\n",
       "                                                                                 sparse_output=False))]),\n",
       "                                                  [&#x27;DE_MEDIO_PRESENTACION&#x27;,\n",
       "                                                   &#x27;DE_MEDIO_RECEPCION&#x27;,\n",
       "                                                   &#x27;DE_ESTADO_RECLAMO&#x27;,\n",
       "                                                   &#x27;DE_ETAPA_RECLAMO&#x27;,\n",
       "                                                   &#x27;DE_SERVICIO&#x27;]),\n",
       "                                                 (&#x27;ordinal&#x27;,\n",
       "                                                  Pipeline(steps=[(&#x27;imputer&#x27;,\n",
       "                                                                   SimpleImputer(fill_value=&#x27;missing&#x27;,\n",
       "                                                                                 strategy=&#x27;constant&#x27;)),\n",
       "                                                                  (&#x27;ordinal&#x27;,\n",
       "                                                                   OrdinalEncoder(handle_unknown=&#x27;use_encoded_value&#x27;,\n",
       "                                                                                  unknown_value=-1))]),\n",
       "                                                  [&#x27;DE_TIPO_INSTITUCION&#x27;,\n",
       "                                                   &#x27;DE_COMPETENCIA&#x27;]),\n",
       "                                                 (&#x27;text&#x27;,\n",
       "                                                  TfidfVectorizer(max_features=5000),\n",
       "                                                  &#x27;DESCRIPCION&#x27;)])),\n",
       "                (&#x27;classifier&#x27;, RandomForestClassifier(random_state=42))])</pre><b>In a Jupyter environment, please rerun this cell to show the HTML representation or trust the notebook. <br />On GitHub, the HTML representation is unable to render, please try loading this page with nbviewer.org.</b></div><div class=\"sk-container\" hidden><div class=\"sk-item sk-dashed-wrapped\"><div class=\"sk-label-container\"><div class=\"sk-label fitted sk-toggleable\"><input class=\"sk-toggleable__control sk-hidden--visually\" id=\"sk-estimator-id-12\" type=\"checkbox\" ><label for=\"sk-estimator-id-12\" class=\"sk-toggleable__label fitted sk-toggleable__label-arrow fitted\">&nbsp;&nbsp;Pipeline<a class=\"sk-estimator-doc-link fitted\" rel=\"noreferrer\" target=\"_blank\" href=\"https://scikit-learn.org/1.5/modules/generated/sklearn.pipeline.Pipeline.html\">?<span>Documentation for Pipeline</span></a><span class=\"sk-estimator-doc-link fitted\">i<span>Fitted</span></span></label><div class=\"sk-toggleable__content fitted\"><pre>Pipeline(steps=[(&#x27;preprocessor&#x27;,\n",
       "                 ColumnTransformer(remainder=&#x27;passthrough&#x27;,\n",
       "                                   transformers=[(&#x27;onehot&#x27;,\n",
       "                                                  Pipeline(steps=[(&#x27;imputer&#x27;,\n",
       "                                                                   SimpleImputer(fill_value=&#x27;missing&#x27;,\n",
       "                                                                                 strategy=&#x27;constant&#x27;)),\n",
       "                                                                  (&#x27;onehot&#x27;,\n",
       "                                                                   OneHotEncoder(handle_unknown=&#x27;ignore&#x27;,\n",
       "                                                                                 sparse_output=False))]),\n",
       "                                                  [&#x27;DE_MEDIO_PRESENTACION&#x27;,\n",
       "                                                   &#x27;DE_MEDIO_RECEPCION&#x27;,\n",
       "                                                   &#x27;DE_ESTADO_RECLAMO&#x27;,\n",
       "                                                   &#x27;DE_ETAPA_RECLAMO&#x27;,\n",
       "                                                   &#x27;DE_SERVICIO&#x27;]),\n",
       "                                                 (&#x27;ordinal&#x27;,\n",
       "                                                  Pipeline(steps=[(&#x27;imputer&#x27;,\n",
       "                                                                   SimpleImputer(fill_value=&#x27;missing&#x27;,\n",
       "                                                                                 strategy=&#x27;constant&#x27;)),\n",
       "                                                                  (&#x27;ordinal&#x27;,\n",
       "                                                                   OrdinalEncoder(handle_unknown=&#x27;use_encoded_value&#x27;,\n",
       "                                                                                  unknown_value=-1))]),\n",
       "                                                  [&#x27;DE_TIPO_INSTITUCION&#x27;,\n",
       "                                                   &#x27;DE_COMPETENCIA&#x27;]),\n",
       "                                                 (&#x27;text&#x27;,\n",
       "                                                  TfidfVectorizer(max_features=5000),\n",
       "                                                  &#x27;DESCRIPCION&#x27;)])),\n",
       "                (&#x27;classifier&#x27;, RandomForestClassifier(random_state=42))])</pre></div> </div></div><div class=\"sk-serial\"><div class=\"sk-item sk-dashed-wrapped\"><div class=\"sk-label-container\"><div class=\"sk-label fitted sk-toggleable\"><input class=\"sk-toggleable__control sk-hidden--visually\" id=\"sk-estimator-id-13\" type=\"checkbox\" ><label for=\"sk-estimator-id-13\" class=\"sk-toggleable__label fitted sk-toggleable__label-arrow fitted\">&nbsp;preprocessor: ColumnTransformer<a class=\"sk-estimator-doc-link fitted\" rel=\"noreferrer\" target=\"_blank\" href=\"https://scikit-learn.org/1.5/modules/generated/sklearn.compose.ColumnTransformer.html\">?<span>Documentation for preprocessor: ColumnTransformer</span></a></label><div class=\"sk-toggleable__content fitted\"><pre>ColumnTransformer(remainder=&#x27;passthrough&#x27;,\n",
       "                  transformers=[(&#x27;onehot&#x27;,\n",
       "                                 Pipeline(steps=[(&#x27;imputer&#x27;,\n",
       "                                                  SimpleImputer(fill_value=&#x27;missing&#x27;,\n",
       "                                                                strategy=&#x27;constant&#x27;)),\n",
       "                                                 (&#x27;onehot&#x27;,\n",
       "                                                  OneHotEncoder(handle_unknown=&#x27;ignore&#x27;,\n",
       "                                                                sparse_output=False))]),\n",
       "                                 [&#x27;DE_MEDIO_PRESENTACION&#x27;, &#x27;DE_MEDIO_RECEPCION&#x27;,\n",
       "                                  &#x27;DE_ESTADO_RECLAMO&#x27;, &#x27;DE_ETAPA_RECLAMO&#x27;,\n",
       "                                  &#x27;DE_SERVICIO&#x27;]),\n",
       "                                (&#x27;ordinal&#x27;,\n",
       "                                 Pipeline(steps=[(&#x27;imputer&#x27;,\n",
       "                                                  SimpleImputer(fill_value=&#x27;missing&#x27;,\n",
       "                                                                strategy=&#x27;constant&#x27;)),\n",
       "                                                 (&#x27;ordinal&#x27;,\n",
       "                                                  OrdinalEncoder(handle_unknown=&#x27;use_encoded_value&#x27;,\n",
       "                                                                 unknown_value=-1))]),\n",
       "                                 [&#x27;DE_TIPO_INSTITUCION&#x27;, &#x27;DE_COMPETENCIA&#x27;]),\n",
       "                                (&#x27;text&#x27;, TfidfVectorizer(max_features=5000),\n",
       "                                 &#x27;DESCRIPCION&#x27;)])</pre></div> </div></div><div class=\"sk-parallel\"><div class=\"sk-parallel-item\"><div class=\"sk-item\"><div class=\"sk-label-container\"><div class=\"sk-label fitted sk-toggleable\"><input class=\"sk-toggleable__control sk-hidden--visually\" id=\"sk-estimator-id-14\" type=\"checkbox\" ><label for=\"sk-estimator-id-14\" class=\"sk-toggleable__label fitted sk-toggleable__label-arrow fitted\">onehot</label><div class=\"sk-toggleable__content fitted\"><pre>[&#x27;DE_MEDIO_PRESENTACION&#x27;, &#x27;DE_MEDIO_RECEPCION&#x27;, &#x27;DE_ESTADO_RECLAMO&#x27;, &#x27;DE_ETAPA_RECLAMO&#x27;, &#x27;DE_SERVICIO&#x27;]</pre></div> </div></div><div class=\"sk-serial\"><div class=\"sk-item\"><div class=\"sk-serial\"><div class=\"sk-item\"><div class=\"sk-estimator fitted sk-toggleable\"><input class=\"sk-toggleable__control sk-hidden--visually\" id=\"sk-estimator-id-15\" type=\"checkbox\" ><label for=\"sk-estimator-id-15\" class=\"sk-toggleable__label fitted sk-toggleable__label-arrow fitted\">&nbsp;SimpleImputer<a class=\"sk-estimator-doc-link fitted\" rel=\"noreferrer\" target=\"_blank\" href=\"https://scikit-learn.org/1.5/modules/generated/sklearn.impute.SimpleImputer.html\">?<span>Documentation for SimpleImputer</span></a></label><div class=\"sk-toggleable__content fitted\"><pre>SimpleImputer(fill_value=&#x27;missing&#x27;, strategy=&#x27;constant&#x27;)</pre></div> </div></div><div class=\"sk-item\"><div class=\"sk-estimator fitted sk-toggleable\"><input class=\"sk-toggleable__control sk-hidden--visually\" id=\"sk-estimator-id-16\" type=\"checkbox\" ><label for=\"sk-estimator-id-16\" class=\"sk-toggleable__label fitted sk-toggleable__label-arrow fitted\">&nbsp;OneHotEncoder<a class=\"sk-estimator-doc-link fitted\" rel=\"noreferrer\" target=\"_blank\" href=\"https://scikit-learn.org/1.5/modules/generated/sklearn.preprocessing.OneHotEncoder.html\">?<span>Documentation for OneHotEncoder</span></a></label><div class=\"sk-toggleable__content fitted\"><pre>OneHotEncoder(handle_unknown=&#x27;ignore&#x27;, sparse_output=False)</pre></div> </div></div></div></div></div></div></div><div class=\"sk-parallel-item\"><div class=\"sk-item\"><div class=\"sk-label-container\"><div class=\"sk-label fitted sk-toggleable\"><input class=\"sk-toggleable__control sk-hidden--visually\" id=\"sk-estimator-id-17\" type=\"checkbox\" ><label for=\"sk-estimator-id-17\" class=\"sk-toggleable__label fitted sk-toggleable__label-arrow fitted\">ordinal</label><div class=\"sk-toggleable__content fitted\"><pre>[&#x27;DE_TIPO_INSTITUCION&#x27;, &#x27;DE_COMPETENCIA&#x27;]</pre></div> </div></div><div class=\"sk-serial\"><div class=\"sk-item\"><div class=\"sk-serial\"><div class=\"sk-item\"><div class=\"sk-estimator fitted sk-toggleable\"><input class=\"sk-toggleable__control sk-hidden--visually\" id=\"sk-estimator-id-18\" type=\"checkbox\" ><label for=\"sk-estimator-id-18\" class=\"sk-toggleable__label fitted sk-toggleable__label-arrow fitted\">&nbsp;SimpleImputer<a class=\"sk-estimator-doc-link fitted\" rel=\"noreferrer\" target=\"_blank\" href=\"https://scikit-learn.org/1.5/modules/generated/sklearn.impute.SimpleImputer.html\">?<span>Documentation for SimpleImputer</span></a></label><div class=\"sk-toggleable__content fitted\"><pre>SimpleImputer(fill_value=&#x27;missing&#x27;, strategy=&#x27;constant&#x27;)</pre></div> </div></div><div class=\"sk-item\"><div class=\"sk-estimator fitted sk-toggleable\"><input class=\"sk-toggleable__control sk-hidden--visually\" id=\"sk-estimator-id-19\" type=\"checkbox\" ><label for=\"sk-estimator-id-19\" class=\"sk-toggleable__label fitted sk-toggleable__label-arrow fitted\">&nbsp;OrdinalEncoder<a class=\"sk-estimator-doc-link fitted\" rel=\"noreferrer\" target=\"_blank\" href=\"https://scikit-learn.org/1.5/modules/generated/sklearn.preprocessing.OrdinalEncoder.html\">?<span>Documentation for OrdinalEncoder</span></a></label><div class=\"sk-toggleable__content fitted\"><pre>OrdinalEncoder(handle_unknown=&#x27;use_encoded_value&#x27;, unknown_value=-1)</pre></div> </div></div></div></div></div></div></div><div class=\"sk-parallel-item\"><div class=\"sk-item\"><div class=\"sk-label-container\"><div class=\"sk-label fitted sk-toggleable\"><input class=\"sk-toggleable__control sk-hidden--visually\" id=\"sk-estimator-id-20\" type=\"checkbox\" ><label for=\"sk-estimator-id-20\" class=\"sk-toggleable__label fitted sk-toggleable__label-arrow fitted\">text</label><div class=\"sk-toggleable__content fitted\"><pre>DESCRIPCION</pre></div> </div></div><div class=\"sk-serial\"><div class=\"sk-item\"><div class=\"sk-estimator fitted sk-toggleable\"><input class=\"sk-toggleable__control sk-hidden--visually\" id=\"sk-estimator-id-21\" type=\"checkbox\" ><label for=\"sk-estimator-id-21\" class=\"sk-toggleable__label fitted sk-toggleable__label-arrow fitted\">&nbsp;TfidfVectorizer<a class=\"sk-estimator-doc-link fitted\" rel=\"noreferrer\" target=\"_blank\" href=\"https://scikit-learn.org/1.5/modules/generated/sklearn.feature_extraction.text.TfidfVectorizer.html\">?<span>Documentation for TfidfVectorizer</span></a></label><div class=\"sk-toggleable__content fitted\"><pre>TfidfVectorizer(max_features=5000)</pre></div> </div></div></div></div></div><div class=\"sk-parallel-item\"><div class=\"sk-item\"><div class=\"sk-label-container\"><div class=\"sk-label fitted sk-toggleable\"><input class=\"sk-toggleable__control sk-hidden--visually\" id=\"sk-estimator-id-22\" type=\"checkbox\" ><label for=\"sk-estimator-id-22\" class=\"sk-toggleable__label fitted sk-toggleable__label-arrow fitted\">remainder</label><div class=\"sk-toggleable__content fitted\"><pre>[&#x27;DIA_MES&#x27;, &#x27;MES&#x27;, &#x27;DIA_SEMANA&#x27;, &#x27;ES_FIN_SEMANA&#x27;, &#x27;AÑO_ID_PERIODO&#x27;, &#x27;MES_ID_PERIODO&#x27;]</pre></div> </div></div><div class=\"sk-serial\"><div class=\"sk-item\"><div class=\"sk-estimator fitted sk-toggleable\"><input class=\"sk-toggleable__control sk-hidden--visually\" id=\"sk-estimator-id-23\" type=\"checkbox\" ><label for=\"sk-estimator-id-23\" class=\"sk-toggleable__label fitted sk-toggleable__label-arrow fitted\">passthrough</label><div class=\"sk-toggleable__content fitted\"><pre>passthrough</pre></div> </div></div></div></div></div></div></div><div class=\"sk-item\"><div class=\"sk-estimator fitted sk-toggleable\"><input class=\"sk-toggleable__control sk-hidden--visually\" id=\"sk-estimator-id-24\" type=\"checkbox\" ><label for=\"sk-estimator-id-24\" class=\"sk-toggleable__label fitted sk-toggleable__label-arrow fitted\">&nbsp;RandomForestClassifier<a class=\"sk-estimator-doc-link fitted\" rel=\"noreferrer\" target=\"_blank\" href=\"https://scikit-learn.org/1.5/modules/generated/sklearn.ensemble.RandomForestClassifier.html\">?<span>Documentation for RandomForestClassifier</span></a></label><div class=\"sk-toggleable__content fitted\"><pre>RandomForestClassifier(random_state=42)</pre></div> </div></div></div></div></div></div>"
      ],
      "text/plain": [
       "Pipeline(steps=[('preprocessor',\n",
       "                 ColumnTransformer(remainder='passthrough',\n",
       "                                   transformers=[('onehot',\n",
       "                                                  Pipeline(steps=[('imputer',\n",
       "                                                                   SimpleImputer(fill_value='missing',\n",
       "                                                                                 strategy='constant')),\n",
       "                                                                  ('onehot',\n",
       "                                                                   OneHotEncoder(handle_unknown='ignore',\n",
       "                                                                                 sparse_output=False))]),\n",
       "                                                  ['DE_MEDIO_PRESENTACION',\n",
       "                                                   'DE_MEDIO_RECEPCION',\n",
       "                                                   'DE_ESTADO_RECLAMO',\n",
       "                                                   'DE_ETAPA_RECLAMO',\n",
       "                                                   'DE_SERVICIO']),\n",
       "                                                 ('ordinal',\n",
       "                                                  Pipeline(steps=[('imputer',\n",
       "                                                                   SimpleImputer(fill_value='missing',\n",
       "                                                                                 strategy='constant')),\n",
       "                                                                  ('ordinal',\n",
       "                                                                   OrdinalEncoder(handle_unknown='use_encoded_value',\n",
       "                                                                                  unknown_value=-1))]),\n",
       "                                                  ['DE_TIPO_INSTITUCION',\n",
       "                                                   'DE_COMPETENCIA']),\n",
       "                                                 ('text',\n",
       "                                                  TfidfVectorizer(max_features=5000),\n",
       "                                                  'DESCRIPCION')])),\n",
       "                ('classifier', RandomForestClassifier(random_state=42))])"
      ]
     },
     "execution_count": 99,
     "metadata": {},
     "output_type": "execute_result"
    }
   ],
   "source": [
    "model.fit(X_train, y_train)"
   ]
  },
  {
   "cell_type": "markdown",
   "id": "de0bc0fa-d899-4e37-af4b-3eacba5218da",
   "metadata": {},
   "source": [
    "## Evaluación"
   ]
  },
  {
   "cell_type": "code",
   "execution_count": 100,
   "id": "e67b7278-a365-4037-bfeb-d67d6777d43f",
   "metadata": {},
   "outputs": [
    {
     "name": "stdout",
     "output_type": "stream",
     "text": [
      "Accuracy en Train: 0.9974329610870718\n",
      "Accuracy en Test: 0.9546237088047221\n"
     ]
    }
   ],
   "source": [
    "print(\"Accuracy en Train:\", model.score(X_train, y_train))\n",
    "print(\"Accuracy en Test:\", model.score(X_test, y_test))"
   ]
  },
  {
   "cell_type": "code",
   "execution_count": 101,
   "id": "5db4ef88-95f5-45f7-a45e-774499ba8bf6",
   "metadata": {},
   "outputs": [],
   "source": [
    "y_pred = model.predict(X_test)"
   ]
  },
  {
   "cell_type": "code",
   "execution_count": 102,
   "id": "4f6db973-5929-4b24-80e1-f5f18ad814e7",
   "metadata": {},
   "outputs": [
    {
     "name": "stdout",
     "output_type": "stream",
     "text": [
      "                                                                                  precision    recall  f1-score   support\n",
      "\n",
      "                                                                               -       0.99      1.00      0.99     12654\n",
      "                                                            Cobrar indebidamente       1.00      1.00      1.00      2119\n",
      "                      Demorar la gestión de la carta de garantía y/o reembolsos.       0.72      0.61      0.66      1055\n",
      "                                Negar  o demora en otorgar la cobertura en salud       0.69      0.64      0.67      1821\n",
      "                       Negar atención para el trámite de registro o acreditación       1.00      1.00      1.00       189\n",
      "                     Negar el otorgamiento de prestaciones económicas o sociales       1.00      0.94      0.97        47\n",
      "                                     Negar la acreditación de usuario asegurado.       0.76      0.81      0.79      2121\n",
      "                                                 Negar la afiliación del usuario       1.00      1.00      1.00        61\n",
      "                         Negar la cobertura de emergencia en periodo de carencia       1.00      0.78      0.88         9\n",
      "                                       Negar la cobertura en periodo de latencia       1.00      1.00      1.00       114\n",
      "                                      Negar o demorar en la atención en la IAFAS       0.99      1.00      0.99       406\n",
      "               No brindar atención con respeto de parte del personal de la IAFAS       1.00      1.00      1.00       124\n",
      "     No brindar atención según la ley de atención preferencial y de discapacidad       1.00      0.50      0.67         4\n",
      "                              No brindar información sobre sus derechos en salud       1.00      1.00      1.00      1197\n",
      "                No cumplir con la disposición de libro de reclamaciones en salud       1.00      0.78      0.88         9\n",
      "No cumplir con las disposiciones de la PAUS de acuerdo a la normatividad vigente       1.00      1.00      1.00        98\n",
      "   No permitir al usuario la libre elección de IPRESS de acuerdo a lo contratado       1.00      1.00      1.00      1682\n",
      "                                                     Otros relativos a las IAFAS       1.00      1.00      1.00      8818\n",
      "\n",
      "                                                                        accuracy                           0.95     32528\n",
      "                                                                       macro avg       0.95      0.89      0.92     32528\n",
      "                                                                    weighted avg       0.95      0.95      0.95     32528\n",
      "\n"
     ]
    }
   ],
   "source": [
    "print(classification_report(y_test, y_pred))"
   ]
  },
  {
   "cell_type": "markdown",
   "id": "ab020702-7192-4842-8643-f9bc336ceed9",
   "metadata": {},
   "source": [
    "#### Matriz de confusión"
   ]
  },
  {
   "cell_type": "code",
   "execution_count": 127,
   "id": "9e3e2192-6a22-4e96-ab90-92c6ba2f78bf",
   "metadata": {},
   "outputs": [
    {
     "name": "stdout",
     "output_type": "stream",
     "text": [
      "\n",
      "Matriz de Confusión en Test:\n",
      " [[12645     0     0     9     0     0     0     0     0     0     0     0\n",
      "      0     0     0     0     0     0]\n",
      " [    0  2119     0     0     0     0     0     0     0     0     0     0\n",
      "      0     0     0     0     0     0]\n",
      " [   20     0   641   240     0     0   154     0     0     0     0     0\n",
      "      0     0     0     0     0     0]\n",
      " [  116     0   145  1172     0     0   388     0     0     0     0     0\n",
      "      0     0     0     0     0     0]\n",
      " [    0     0     0     0   189     0     0     0     0     0     0     0\n",
      "      0     0     0     0     0     0]\n",
      " [    0     0     0     3     0    44     0     0     0     0     0     0\n",
      "      0     0     0     0     0     0]\n",
      " [   10     0   110   274     0     0  1727     0     0     0     0     0\n",
      "      0     0     0     0     0     0]\n",
      " [    0     0     0     0     0     0     0    61     0     0     0     0\n",
      "      0     0     0     0     0     0]\n",
      " [    1     0     0     0     0     0     0     0     7     0     1     0\n",
      "      0     0     0     0     0     0]\n",
      " [    0     0     0     0     0     0     0     0     0   114     0     0\n",
      "      0     0     0     0     0     0]\n",
      " [    1     0     0     0     0     0     0     0     0     0   405     0\n",
      "      0     0     0     0     0     0]\n",
      " [    0     0     0     0     0     0     0     0     0     0     0   124\n",
      "      0     0     0     0     0     0]\n",
      " [    0     0     0     0     0     0     0     0     0     0     2     0\n",
      "      2     0     0     0     0     0]\n",
      " [    0     0     0     0     0     0     0     0     0     0     0     0\n",
      "      0  1197     0     0     0     0]\n",
      " [    0     0     0     1     0     0     0     0     0     0     1     0\n",
      "      0     0     7     0     0     0]\n",
      " [    0     0     0     0     0     0     0     0     0     0     0     0\n",
      "      0     0     0    98     0     0]\n",
      " [    0     0     0     0     0     0     0     0     0     0     0     0\n",
      "      0     0     0     0  1682     0]\n",
      " [    0     0     0     0     0     0     0     0     0     0     0     0\n",
      "      0     0     0     0     0  8818]]\n"
     ]
    }
   ],
   "source": [
    "conf_matrix = confusion_matrix(y_test, y_pred_test)\n",
    "print(\"\\nMatriz de Confusión en Test:\\n\", conf_matrix)"
   ]
  },
  {
   "cell_type": "markdown",
   "id": "e87f433b-8038-4dfb-b511-046c4129b8fd",
   "metadata": {},
   "source": [
    "### Validacion Cruzada"
   ]
  },
  {
   "cell_type": "code",
   "execution_count": 133,
   "id": "179d37ee-09d7-4f23-96d8-d3669985cb43",
   "metadata": {},
   "outputs": [
    {
     "name": "stdout",
     "output_type": "stream",
     "text": [
      "\n",
      "Accuracy promedio en 5-fold CV: 0.9309574983836878\n"
     ]
    }
   ],
   "source": [
    "scores = cross_val_score(model, X, y, cv=5, scoring='accuracy')\n",
    "print(\"\\nAccuracy promedio en 5-fold CV:\", scores.mean())"
   ]
  },
  {
   "cell_type": "markdown",
   "id": "63d79761-e2bc-4f25-9580-13f3ad5d08a9",
   "metadata": {},
   "source": [
    "## Guardado del modelo"
   ]
  },
  {
   "cell_type": "code",
   "execution_count": 143,
   "id": "bd9f0653-c24a-4979-b693-706661d3b87e",
   "metadata": {},
   "outputs": [],
   "source": [
    "import joblib"
   ]
  },
  {
   "cell_type": "code",
   "execution_count": 147,
   "id": "5faeb982-bca7-4dd0-bc57-cb20af35edc5",
   "metadata": {},
   "outputs": [
    {
     "data": {
      "text/plain": [
       "['../models/modelo_clasificador.pkl']"
      ]
     },
     "execution_count": 147,
     "metadata": {},
     "output_type": "execute_result"
    }
   ],
   "source": [
    "joblib.dump(model, '../models/modelo_clasificador.pkl')"
   ]
  }
 ],
 "metadata": {
  "kernelspec": {
   "display_name": "Python 3 (ipykernel)",
   "language": "python",
   "name": "python3"
  },
  "language_info": {
   "codemirror_mode": {
    "name": "ipython",
    "version": 3
   },
   "file_extension": ".py",
   "mimetype": "text/x-python",
   "name": "python",
   "nbconvert_exporter": "python",
   "pygments_lexer": "ipython3",
   "version": "3.12.7"
  }
 },
 "nbformat": 4,
 "nbformat_minor": 5
}
