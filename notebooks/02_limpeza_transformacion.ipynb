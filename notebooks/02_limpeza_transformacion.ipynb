{
 "cells": [
  {
   "cell_type": "markdown",
   "id": "57837f98",
   "metadata": {},
   "source": [
    "# Limpieza y transformación"
   ]
  },
  {
   "cell_type": "markdown",
   "id": "8d794b66",
   "metadata": {},
   "source": [
    "##### Integrantes: \n",
    "##### - Harold Aquino Curisinche \n",
    "##### - Rosa Estrada Estrada\n",
    "##### Descripción: Limpieza y transformación del dataset de reclamos de SUSALUD"
   ]
  },
  {
   "cell_type": "markdown",
   "id": "c8af2eb6",
   "metadata": {},
   "source": [
    "## 1. Importación de librerías"
   ]
  },
  {
   "cell_type": "code",
   "execution_count": 2,
   "id": "e5ac8d3a-db74-43f6-a032-7ab6c0cae0e4",
   "metadata": {},
   "outputs": [],
   "source": [
    "import pandas as pd\n",
    "import numpy as np"
   ]
  },
  {
   "cell_type": "markdown",
   "id": "f0008318",
   "metadata": {},
   "source": [
    "### Cargar datos procesados"
   ]
  },
  {
   "cell_type": "code",
   "execution_count": 98,
   "id": "40b41099-2370-443c-bd25-b143203bf53d",
   "metadata": {},
   "outputs": [],
   "source": [
    "df = pd.read_csv(\"../data/processed/reclamos_clean.csv\", low_memory=False)"
   ]
  },
  {
   "cell_type": "code",
   "execution_count": 99,
   "id": "26f67e9d-591d-4266-bbf0-4486bb2b5fff",
   "metadata": {},
   "outputs": [
    {
     "data": {
      "text/html": [
       "<div>\n",
       "<style scoped>\n",
       "    .dataframe tbody tr th:only-of-type {\n",
       "        vertical-align: middle;\n",
       "    }\n",
       "\n",
       "    .dataframe tbody tr th {\n",
       "        vertical-align: top;\n",
       "    }\n",
       "\n",
       "    .dataframe thead th {\n",
       "        text-align: right;\n",
       "    }\n",
       "</style>\n",
       "<table border=\"1\" class=\"dataframe\">\n",
       "  <thead>\n",
       "    <tr style=\"text-align: right;\">\n",
       "      <th></th>\n",
       "      <th>ID_PERIODO</th>\n",
       "      <th>DE_TIPO_ADMINISTRADO</th>\n",
       "      <th>CO_ADMIN_DECLA</th>\n",
       "      <th>CO_UGIPRESS</th>\n",
       "      <th>DE_TIPO_INSTITUCION</th>\n",
       "      <th>CO_ADMIN_SUCE</th>\n",
       "      <th>DE_MEDIO_PRESENTACION</th>\n",
       "      <th>CO_UNICO_RECLAMO</th>\n",
       "      <th>DE_MEDIO_RECEPCION</th>\n",
       "      <th>FE_PRESEN_RECLA</th>\n",
       "      <th>...</th>\n",
       "      <th>DE_ETAPA_RECLAMO</th>\n",
       "      <th>DE_TIPO_ADMIN_DERIVA</th>\n",
       "      <th>CO_ADMIN_DERIVA</th>\n",
       "      <th>DE_RESULTADO</th>\n",
       "      <th>DE_MOTIVO_CONCL_ANTIC</th>\n",
       "      <th>FE_RESULT_RECL</th>\n",
       "      <th>DE_COMUN_RESULT</th>\n",
       "      <th>FE_NOTIFI_RESULT</th>\n",
       "      <th>AÑO</th>\n",
       "      <th>MES</th>\n",
       "    </tr>\n",
       "  </thead>\n",
       "  <tbody>\n",
       "    <tr>\n",
       "      <th>0</th>\n",
       "      <td>202101</td>\n",
       "      <td>IAFAS</td>\n",
       "      <td>20007</td>\n",
       "      <td>20007</td>\n",
       "      <td>IAFAS</td>\n",
       "      <td>20007</td>\n",
       "      <td>Físico</td>\n",
       "      <td>20007-352</td>\n",
       "      <td>Libro de Reclamaciones Físico</td>\n",
       "      <td>2020-11-27</td>\n",
       "      <td>...</td>\n",
       "      <td>Resultado y Notificación</td>\n",
       "      <td>-</td>\n",
       "      <td>-</td>\n",
       "      <td>Infundado</td>\n",
       "      <td>-</td>\n",
       "      <td>2020-12-21</td>\n",
       "      <td>Correo electrónico</td>\n",
       "      <td>NaN</td>\n",
       "      <td>2020</td>\n",
       "      <td>11</td>\n",
       "    </tr>\n",
       "    <tr>\n",
       "      <th>1</th>\n",
       "      <td>202101</td>\n",
       "      <td>IAFAS</td>\n",
       "      <td>20007</td>\n",
       "      <td>20007</td>\n",
       "      <td>IAFAS</td>\n",
       "      <td>20007</td>\n",
       "      <td>Físico</td>\n",
       "      <td>20007-360</td>\n",
       "      <td>Libro de Reclamaciones Físico</td>\n",
       "      <td>2021-01-04</td>\n",
       "      <td>...</td>\n",
       "      <td>Resultado y Notificación</td>\n",
       "      <td>-</td>\n",
       "      <td>-</td>\n",
       "      <td>Infundado</td>\n",
       "      <td>-</td>\n",
       "      <td>2021-02-18</td>\n",
       "      <td>Correo electrónico</td>\n",
       "      <td>NaN</td>\n",
       "      <td>2021</td>\n",
       "      <td>1</td>\n",
       "    </tr>\n",
       "    <tr>\n",
       "      <th>2</th>\n",
       "      <td>202101</td>\n",
       "      <td>IAFAS</td>\n",
       "      <td>20007</td>\n",
       "      <td>20007</td>\n",
       "      <td>IAFAS</td>\n",
       "      <td>20007</td>\n",
       "      <td>Físico</td>\n",
       "      <td>20007-361</td>\n",
       "      <td>Libro de Reclamaciones Físico</td>\n",
       "      <td>2021-01-06</td>\n",
       "      <td>...</td>\n",
       "      <td>Archivo y Custodia del Expediente</td>\n",
       "      <td>-</td>\n",
       "      <td>-</td>\n",
       "      <td>Infundado</td>\n",
       "      <td>-</td>\n",
       "      <td>2021-01-20</td>\n",
       "      <td>Correo electrónico</td>\n",
       "      <td>20210122.0</td>\n",
       "      <td>2021</td>\n",
       "      <td>1</td>\n",
       "    </tr>\n",
       "    <tr>\n",
       "      <th>3</th>\n",
       "      <td>202101</td>\n",
       "      <td>IAFAS</td>\n",
       "      <td>20007</td>\n",
       "      <td>20007</td>\n",
       "      <td>IAFAS</td>\n",
       "      <td>20007</td>\n",
       "      <td>Físico</td>\n",
       "      <td>20007-364</td>\n",
       "      <td>Libro de Reclamaciones Físico</td>\n",
       "      <td>2021-01-06</td>\n",
       "      <td>...</td>\n",
       "      <td>Archivo y Custodia del Expediente</td>\n",
       "      <td>-</td>\n",
       "      <td>-</td>\n",
       "      <td>Infundado</td>\n",
       "      <td>-</td>\n",
       "      <td>2021-01-25</td>\n",
       "      <td>Correo electrónico</td>\n",
       "      <td>20210204.0</td>\n",
       "      <td>2021</td>\n",
       "      <td>1</td>\n",
       "    </tr>\n",
       "    <tr>\n",
       "      <th>4</th>\n",
       "      <td>202101</td>\n",
       "      <td>IAFAS</td>\n",
       "      <td>20007</td>\n",
       "      <td>20007</td>\n",
       "      <td>IAFAS</td>\n",
       "      <td>20007</td>\n",
       "      <td>Físico</td>\n",
       "      <td>20007-365</td>\n",
       "      <td>Libro de Reclamaciones Físico</td>\n",
       "      <td>2021-01-08</td>\n",
       "      <td>...</td>\n",
       "      <td>Evaluación e investigación</td>\n",
       "      <td>-</td>\n",
       "      <td>-</td>\n",
       "      <td>Pendiente</td>\n",
       "      <td>-</td>\n",
       "      <td>NaN</td>\n",
       "      <td>-</td>\n",
       "      <td>NaN</td>\n",
       "      <td>2021</td>\n",
       "      <td>1</td>\n",
       "    </tr>\n",
       "  </tbody>\n",
       "</table>\n",
       "<p>5 rows × 27 columns</p>\n",
       "</div>"
      ],
      "text/plain": [
       "   ID_PERIODO DE_TIPO_ADMINISTRADO  CO_ADMIN_DECLA  CO_UGIPRESS  \\\n",
       "0      202101                IAFAS           20007        20007   \n",
       "1      202101                IAFAS           20007        20007   \n",
       "2      202101                IAFAS           20007        20007   \n",
       "3      202101                IAFAS           20007        20007   \n",
       "4      202101                IAFAS           20007        20007   \n",
       "\n",
       "  DE_TIPO_INSTITUCION  CO_ADMIN_SUCE DE_MEDIO_PRESENTACION CO_UNICO_RECLAMO  \\\n",
       "0               IAFAS          20007                Físico        20007-352   \n",
       "1               IAFAS          20007                Físico        20007-360   \n",
       "2               IAFAS          20007                Físico        20007-361   \n",
       "3               IAFAS          20007                Físico        20007-364   \n",
       "4               IAFAS          20007                Físico        20007-365   \n",
       "\n",
       "              DE_MEDIO_RECEPCION FE_PRESEN_RECLA  ...  \\\n",
       "0  Libro de Reclamaciones Físico      2020-11-27  ...   \n",
       "1  Libro de Reclamaciones Físico      2021-01-04  ...   \n",
       "2  Libro de Reclamaciones Físico      2021-01-06  ...   \n",
       "3  Libro de Reclamaciones Físico      2021-01-06  ...   \n",
       "4  Libro de Reclamaciones Físico      2021-01-08  ...   \n",
       "\n",
       "                    DE_ETAPA_RECLAMO DE_TIPO_ADMIN_DERIVA CO_ADMIN_DERIVA  \\\n",
       "0           Resultado y Notificación                    -               -   \n",
       "1           Resultado y Notificación                    -               -   \n",
       "2  Archivo y Custodia del Expediente                    -               -   \n",
       "3  Archivo y Custodia del Expediente                    -               -   \n",
       "4         Evaluación e investigación                    -               -   \n",
       "\n",
       "  DE_RESULTADO DE_MOTIVO_CONCL_ANTIC FE_RESULT_RECL     DE_COMUN_RESULT  \\\n",
       "0    Infundado                     -     2020-12-21  Correo electrónico   \n",
       "1    Infundado                     -     2021-02-18  Correo electrónico   \n",
       "2    Infundado                     -     2021-01-20  Correo electrónico   \n",
       "3    Infundado                     -     2021-01-25  Correo electrónico   \n",
       "4    Pendiente                     -            NaN                   -   \n",
       "\n",
       "  FE_NOTIFI_RESULT   AÑO MES  \n",
       "0              NaN  2020  11  \n",
       "1              NaN  2021   1  \n",
       "2       20210122.0  2021   1  \n",
       "3       20210204.0  2021   1  \n",
       "4              NaN  2021   1  \n",
       "\n",
       "[5 rows x 27 columns]"
      ]
     },
     "execution_count": 99,
     "metadata": {},
     "output_type": "execute_result"
    }
   ],
   "source": [
    "# Mostrar primeras filas\n",
    "df.head()"
   ]
  },
  {
   "cell_type": "code",
   "execution_count": 105,
   "id": "4f1f783b",
   "metadata": {},
   "outputs": [
    {
     "name": "stdout",
     "output_type": "stream",
     "text": [
      "<class 'pandas.core.frame.DataFrame'>\n",
      "RangeIndex: 162639 entries, 0 to 162638\n",
      "Data columns (total 22 columns):\n",
      " #   Column                 Non-Null Count   Dtype \n",
      "---  ------                 --------------   ----- \n",
      " 0   ID_PERIODO             162639 non-null  int64 \n",
      " 1   DE_TIPO_ADMINISTRADO   162639 non-null  object\n",
      " 2   DE_TIPO_INSTITUCION    162639 non-null  object\n",
      " 3   DE_MEDIO_PRESENTACION  162639 non-null  object\n",
      " 4   CO_UNICO_RECLAMO       162639 non-null  object\n",
      " 5   DE_MEDIO_RECEPCION     162639 non-null  object\n",
      " 6   FE_PRESEN_RECLA        162639 non-null  object\n",
      " 7   DE_SERVICIO            162639 non-null  object\n",
      " 8   DE_COMPETENCIA         162639 non-null  object\n",
      " 9   DE_CLASIF_1            162639 non-null  object\n",
      " 10  DE_CLASIF_2            162639 non-null  object\n",
      " 11  DE_CLASIF_3            162639 non-null  object\n",
      " 12  DE_ESTADO_RECLAMO      162639 non-null  object\n",
      " 13  DE_ETAPA_RECLAMO       162639 non-null  object\n",
      " 14  DE_TIPO_ADMIN_DERIVA   162639 non-null  object\n",
      " 15  DE_RESULTADO           162639 non-null  object\n",
      " 16  DE_MOTIVO_CONCL_ANTIC  162639 non-null  object\n",
      " 17  FE_RESULT_RECL         65217 non-null   object\n",
      " 18  DE_COMUN_RESULT        162639 non-null  object\n",
      " 19  FE_NOTIFI_RESULT       57899 non-null   object\n",
      " 20  AÑO                    162639 non-null  int64 \n",
      " 21  MES                    162639 non-null  int64 \n",
      "dtypes: int64(3), object(19)\n",
      "memory usage: 27.3+ MB\n"
     ]
    }
   ],
   "source": [
    "df.info()"
   ]
  },
  {
   "cell_type": "code",
   "execution_count": 101,
   "id": "ae207f03-9d4b-4dc4-a560-14cfdd98607e",
   "metadata": {},
   "outputs": [],
   "source": [
    "# Identificamos columnas irrelevantes para el análisis\n",
    "columns_to_drop = [\"CO_ADMIN_DECLA\", \"CO_UGIPRESS\", \"CO_ADMIN_SUCE\", \n",
    "                   \"CO_RECLAMO_PRIMIG\", \"CO_ADMIN_DERIVA\"]\n",
    "\n",
    "# Eliminamos esas columnas\n",
    "df.drop(columns=columns_to_drop, inplace=True)"
   ]
  },
  {
   "cell_type": "code",
   "execution_count": 106,
   "id": "0bfbfd1d-3f7e-422a-a95e-ce31b7c3443e",
   "metadata": {},
   "outputs": [],
   "source": [
    "# Convertir fechas a formato datetime\n",
    "df[\"FE_PRESEN_RECLA\"] = pd.to_datetime(df[\"FE_PRESEN_RECLA\"], format=\"%Y-%m-%d\", errors=\"coerce\")\n",
    "df[\"FE_RESULT_RECL\"] = pd.to_datetime(df[\"FE_RESULT_RECL\"], format=\"%Y-%m-%d\", errors=\"coerce\")\n",
    "df[\"FE_NOTIFI_RESULT\"] = pd.to_datetime(df[\"FE_NOTIFI_RESULT\"], format=\"%Y-%m-%d\", errors=\"coerce\")"
   ]
  },
  {
   "cell_type": "code",
   "execution_count": 107,
   "id": "4dfb3f3f",
   "metadata": {},
   "outputs": [],
   "source": [
    "# Extraer el año y mes para facilitar análisis\n",
    "df[\"AÑO\"] = df[\"FE_PRESEN_RECLA\"].dt.year\n",
    "df[\"MES\"] = df[\"FE_PRESEN_RECLA\"].dt.month"
   ]
  },
  {
   "cell_type": "code",
   "execution_count": 109,
   "id": "fd1a9205-4caa-4795-b36d-077d24751689",
   "metadata": {},
   "outputs": [],
   "source": [
    "# Ver columnas con valores nulos\n",
    "df.isnull().sum()\n",
    "\n",
    "# Imputar valores nulos en columnas de texto con \"Desconocido\"\n",
    "cols_texto = [\"DE_TIPO_ADMINISTRADO\", \"DE_TIPO_INSTITUCION\", \"DE_MEDIO_PRESENTACION\", \n",
    "              \"DE_MEDIO_RECEPCION\", \"DE_SERVICIO\", \"DE_CLASIF_1\", \"DE_CLASIF_2\", \n",
    "              \"DE_CLASIF_3\", \"DE_ESTADO_RECLAMO\", \"DE_ETAPA_RECLAMO\", \"DE_RESULTADO\"]\n",
    "df[cols_texto] = df[cols_texto].fillna(\"Desconocido\")\n",
    "\n",
    "# Imputar valores nulos en fechas con la fecha mínima\n",
    "df = df.assign(\n",
    "    FE_RESULT_RECL=df[\"FE_RESULT_RECL\"].fillna(df[\"FE_PRESEN_RECLA\"]),\n",
    "    FE_NOTIFI_RESULT=df[\"FE_NOTIFI_RESULT\"].fillna(df[\"FE_RESULT_RECL\"])\n",
    ")"
   ]
  },
  {
   "cell_type": "code",
   "execution_count": 110,
   "id": "851caf00",
   "metadata": {},
   "outputs": [],
   "source": [
    "df['FE_PRESEN_RECLA'] = pd.to_datetime(df['FE_PRESEN_RECLA'])\n",
    "df['FE_RESULT_RECL'] = pd.to_datetime(df['FE_RESULT_RECL'])"
   ]
  },
  {
   "cell_type": "code",
   "execution_count": 111,
   "id": "b26049a7-55d0-40f2-a197-f9a6e32f9130",
   "metadata": {},
   "outputs": [],
   "source": [
    "# Calcular el tiempo de resolución de los reclamos\n",
    "df[\"DURACION_RECLAMO\"] = (df[\"FE_RESULT_RECL\"] - df[\"FE_PRESEN_RECLA\"]).dt.days\n",
    "\n",
    "# Clasificar la duración en categorías\n",
    "df[\"CATEGORIA_DURACION\"] = pd.cut(df[\"DURACION_RECLAMO\"], bins=[-1, 7, 30, 90, 365, np.inf], \n",
    "                                  labels=[\"Corto (0-7 días)\", \"Medio (8-30 días)\", \n",
    "                                          \"Largo (31-90 días)\", \"Muy Largo (91-365 días)\", \n",
    "                                          \"Extremo (>365 días)\"])\n"
   ]
  },
  {
   "cell_type": "code",
   "execution_count": 114,
   "id": "d9c10842-38ce-4ed6-bc80-ecffde85f114",
   "metadata": {},
   "outputs": [
    {
     "ename": "PermissionError",
     "evalue": "[Errno 13] Permission denied: '../data/processed/reclamos_clean_transformed.csv'",
     "output_type": "error",
     "traceback": [
      "\u001b[1;31m---------------------------------------------------------------------------\u001b[0m",
      "\u001b[1;31mPermissionError\u001b[0m                           Traceback (most recent call last)",
      "Cell \u001b[1;32mIn[114], line 2\u001b[0m\n\u001b[0;32m      1\u001b[0m \u001b[38;5;66;03m# Guardamos el nuevo dataset limpio\u001b[39;00m\n\u001b[1;32m----> 2\u001b[0m df\u001b[38;5;241m.\u001b[39mto_csv(\u001b[38;5;124m\"\u001b[39m\u001b[38;5;124m../data/processed/reclamos_clean_transformed.csv\u001b[39m\u001b[38;5;124m\"\u001b[39m, index\u001b[38;5;241m=\u001b[39m\u001b[38;5;28;01mFalse\u001b[39;00m, encoding\u001b[38;5;241m=\u001b[39m\u001b[38;5;124m\"\u001b[39m\u001b[38;5;124mutf-8\u001b[39m\u001b[38;5;124m\"\u001b[39m)\n",
      "File \u001b[1;32mc:\\Users\\harol\\anaconda3\\Lib\\site-packages\\pandas\\util\\_decorators.py:333\u001b[0m, in \u001b[0;36mdeprecate_nonkeyword_arguments.<locals>.decorate.<locals>.wrapper\u001b[1;34m(*args, **kwargs)\u001b[0m\n\u001b[0;32m    327\u001b[0m \u001b[38;5;28;01mif\u001b[39;00m \u001b[38;5;28mlen\u001b[39m(args) \u001b[38;5;241m>\u001b[39m num_allow_args:\n\u001b[0;32m    328\u001b[0m     warnings\u001b[38;5;241m.\u001b[39mwarn(\n\u001b[0;32m    329\u001b[0m         msg\u001b[38;5;241m.\u001b[39mformat(arguments\u001b[38;5;241m=\u001b[39m_format_argument_list(allow_args)),\n\u001b[0;32m    330\u001b[0m         \u001b[38;5;167;01mFutureWarning\u001b[39;00m,\n\u001b[0;32m    331\u001b[0m         stacklevel\u001b[38;5;241m=\u001b[39mfind_stack_level(),\n\u001b[0;32m    332\u001b[0m     )\n\u001b[1;32m--> 333\u001b[0m \u001b[38;5;28;01mreturn\u001b[39;00m func(\u001b[38;5;241m*\u001b[39margs, \u001b[38;5;241m*\u001b[39m\u001b[38;5;241m*\u001b[39mkwargs)\n",
      "File \u001b[1;32mc:\\Users\\harol\\anaconda3\\Lib\\site-packages\\pandas\\core\\generic.py:3967\u001b[0m, in \u001b[0;36mNDFrame.to_csv\u001b[1;34m(self, path_or_buf, sep, na_rep, float_format, columns, header, index, index_label, mode, encoding, compression, quoting, quotechar, lineterminator, chunksize, date_format, doublequote, escapechar, decimal, errors, storage_options)\u001b[0m\n\u001b[0;32m   3956\u001b[0m df \u001b[38;5;241m=\u001b[39m \u001b[38;5;28mself\u001b[39m \u001b[38;5;28;01mif\u001b[39;00m \u001b[38;5;28misinstance\u001b[39m(\u001b[38;5;28mself\u001b[39m, ABCDataFrame) \u001b[38;5;28;01melse\u001b[39;00m \u001b[38;5;28mself\u001b[39m\u001b[38;5;241m.\u001b[39mto_frame()\n\u001b[0;32m   3958\u001b[0m formatter \u001b[38;5;241m=\u001b[39m DataFrameFormatter(\n\u001b[0;32m   3959\u001b[0m     frame\u001b[38;5;241m=\u001b[39mdf,\n\u001b[0;32m   3960\u001b[0m     header\u001b[38;5;241m=\u001b[39mheader,\n\u001b[1;32m   (...)\u001b[0m\n\u001b[0;32m   3964\u001b[0m     decimal\u001b[38;5;241m=\u001b[39mdecimal,\n\u001b[0;32m   3965\u001b[0m )\n\u001b[1;32m-> 3967\u001b[0m \u001b[38;5;28;01mreturn\u001b[39;00m DataFrameRenderer(formatter)\u001b[38;5;241m.\u001b[39mto_csv(\n\u001b[0;32m   3968\u001b[0m     path_or_buf,\n\u001b[0;32m   3969\u001b[0m     lineterminator\u001b[38;5;241m=\u001b[39mlineterminator,\n\u001b[0;32m   3970\u001b[0m     sep\u001b[38;5;241m=\u001b[39msep,\n\u001b[0;32m   3971\u001b[0m     encoding\u001b[38;5;241m=\u001b[39mencoding,\n\u001b[0;32m   3972\u001b[0m     errors\u001b[38;5;241m=\u001b[39merrors,\n\u001b[0;32m   3973\u001b[0m     compression\u001b[38;5;241m=\u001b[39mcompression,\n\u001b[0;32m   3974\u001b[0m     quoting\u001b[38;5;241m=\u001b[39mquoting,\n\u001b[0;32m   3975\u001b[0m     columns\u001b[38;5;241m=\u001b[39mcolumns,\n\u001b[0;32m   3976\u001b[0m     index_label\u001b[38;5;241m=\u001b[39mindex_label,\n\u001b[0;32m   3977\u001b[0m     mode\u001b[38;5;241m=\u001b[39mmode,\n\u001b[0;32m   3978\u001b[0m     chunksize\u001b[38;5;241m=\u001b[39mchunksize,\n\u001b[0;32m   3979\u001b[0m     quotechar\u001b[38;5;241m=\u001b[39mquotechar,\n\u001b[0;32m   3980\u001b[0m     date_format\u001b[38;5;241m=\u001b[39mdate_format,\n\u001b[0;32m   3981\u001b[0m     doublequote\u001b[38;5;241m=\u001b[39mdoublequote,\n\u001b[0;32m   3982\u001b[0m     escapechar\u001b[38;5;241m=\u001b[39mescapechar,\n\u001b[0;32m   3983\u001b[0m     storage_options\u001b[38;5;241m=\u001b[39mstorage_options,\n\u001b[0;32m   3984\u001b[0m )\n",
      "File \u001b[1;32mc:\\Users\\harol\\anaconda3\\Lib\\site-packages\\pandas\\io\\formats\\format.py:1014\u001b[0m, in \u001b[0;36mDataFrameRenderer.to_csv\u001b[1;34m(self, path_or_buf, encoding, sep, columns, index_label, mode, compression, quoting, quotechar, lineterminator, chunksize, date_format, doublequote, escapechar, errors, storage_options)\u001b[0m\n\u001b[0;32m    993\u001b[0m     created_buffer \u001b[38;5;241m=\u001b[39m \u001b[38;5;28;01mFalse\u001b[39;00m\n\u001b[0;32m    995\u001b[0m csv_formatter \u001b[38;5;241m=\u001b[39m CSVFormatter(\n\u001b[0;32m    996\u001b[0m     path_or_buf\u001b[38;5;241m=\u001b[39mpath_or_buf,\n\u001b[0;32m    997\u001b[0m     lineterminator\u001b[38;5;241m=\u001b[39mlineterminator,\n\u001b[1;32m   (...)\u001b[0m\n\u001b[0;32m   1012\u001b[0m     formatter\u001b[38;5;241m=\u001b[39m\u001b[38;5;28mself\u001b[39m\u001b[38;5;241m.\u001b[39mfmt,\n\u001b[0;32m   1013\u001b[0m )\n\u001b[1;32m-> 1014\u001b[0m csv_formatter\u001b[38;5;241m.\u001b[39msave()\n\u001b[0;32m   1016\u001b[0m \u001b[38;5;28;01mif\u001b[39;00m created_buffer:\n\u001b[0;32m   1017\u001b[0m     \u001b[38;5;28;01massert\u001b[39;00m \u001b[38;5;28misinstance\u001b[39m(path_or_buf, StringIO)\n",
      "File \u001b[1;32mc:\\Users\\harol\\anaconda3\\Lib\\site-packages\\pandas\\io\\formats\\csvs.py:251\u001b[0m, in \u001b[0;36mCSVFormatter.save\u001b[1;34m(self)\u001b[0m\n\u001b[0;32m    247\u001b[0m \u001b[38;5;250m\u001b[39m\u001b[38;5;124;03m\"\"\"\u001b[39;00m\n\u001b[0;32m    248\u001b[0m \u001b[38;5;124;03mCreate the writer & save.\u001b[39;00m\n\u001b[0;32m    249\u001b[0m \u001b[38;5;124;03m\"\"\"\u001b[39;00m\n\u001b[0;32m    250\u001b[0m \u001b[38;5;66;03m# apply compression and byte/text conversion\u001b[39;00m\n\u001b[1;32m--> 251\u001b[0m \u001b[38;5;28;01mwith\u001b[39;00m get_handle(\n\u001b[0;32m    252\u001b[0m     \u001b[38;5;28mself\u001b[39m\u001b[38;5;241m.\u001b[39mfilepath_or_buffer,\n\u001b[0;32m    253\u001b[0m     \u001b[38;5;28mself\u001b[39m\u001b[38;5;241m.\u001b[39mmode,\n\u001b[0;32m    254\u001b[0m     encoding\u001b[38;5;241m=\u001b[39m\u001b[38;5;28mself\u001b[39m\u001b[38;5;241m.\u001b[39mencoding,\n\u001b[0;32m    255\u001b[0m     errors\u001b[38;5;241m=\u001b[39m\u001b[38;5;28mself\u001b[39m\u001b[38;5;241m.\u001b[39merrors,\n\u001b[0;32m    256\u001b[0m     compression\u001b[38;5;241m=\u001b[39m\u001b[38;5;28mself\u001b[39m\u001b[38;5;241m.\u001b[39mcompression,\n\u001b[0;32m    257\u001b[0m     storage_options\u001b[38;5;241m=\u001b[39m\u001b[38;5;28mself\u001b[39m\u001b[38;5;241m.\u001b[39mstorage_options,\n\u001b[0;32m    258\u001b[0m ) \u001b[38;5;28;01mas\u001b[39;00m handles:\n\u001b[0;32m    259\u001b[0m     \u001b[38;5;66;03m# Note: self.encoding is irrelevant here\u001b[39;00m\n\u001b[0;32m    260\u001b[0m     \u001b[38;5;28mself\u001b[39m\u001b[38;5;241m.\u001b[39mwriter \u001b[38;5;241m=\u001b[39m csvlib\u001b[38;5;241m.\u001b[39mwriter(\n\u001b[0;32m    261\u001b[0m         handles\u001b[38;5;241m.\u001b[39mhandle,\n\u001b[0;32m    262\u001b[0m         lineterminator\u001b[38;5;241m=\u001b[39m\u001b[38;5;28mself\u001b[39m\u001b[38;5;241m.\u001b[39mlineterminator,\n\u001b[1;32m   (...)\u001b[0m\n\u001b[0;32m    267\u001b[0m         quotechar\u001b[38;5;241m=\u001b[39m\u001b[38;5;28mself\u001b[39m\u001b[38;5;241m.\u001b[39mquotechar,\n\u001b[0;32m    268\u001b[0m     )\n\u001b[0;32m    270\u001b[0m     \u001b[38;5;28mself\u001b[39m\u001b[38;5;241m.\u001b[39m_save()\n",
      "File \u001b[1;32mc:\\Users\\harol\\anaconda3\\Lib\\site-packages\\pandas\\io\\common.py:873\u001b[0m, in \u001b[0;36mget_handle\u001b[1;34m(path_or_buf, mode, encoding, compression, memory_map, is_text, errors, storage_options)\u001b[0m\n\u001b[0;32m    868\u001b[0m \u001b[38;5;28;01melif\u001b[39;00m \u001b[38;5;28misinstance\u001b[39m(handle, \u001b[38;5;28mstr\u001b[39m):\n\u001b[0;32m    869\u001b[0m     \u001b[38;5;66;03m# Check whether the filename is to be opened in binary mode.\u001b[39;00m\n\u001b[0;32m    870\u001b[0m     \u001b[38;5;66;03m# Binary mode does not support 'encoding' and 'newline'.\u001b[39;00m\n\u001b[0;32m    871\u001b[0m     \u001b[38;5;28;01mif\u001b[39;00m ioargs\u001b[38;5;241m.\u001b[39mencoding \u001b[38;5;129;01mand\u001b[39;00m \u001b[38;5;124m\"\u001b[39m\u001b[38;5;124mb\u001b[39m\u001b[38;5;124m\"\u001b[39m \u001b[38;5;129;01mnot\u001b[39;00m \u001b[38;5;129;01min\u001b[39;00m ioargs\u001b[38;5;241m.\u001b[39mmode:\n\u001b[0;32m    872\u001b[0m         \u001b[38;5;66;03m# Encoding\u001b[39;00m\n\u001b[1;32m--> 873\u001b[0m         handle \u001b[38;5;241m=\u001b[39m \u001b[38;5;28mopen\u001b[39m(\n\u001b[0;32m    874\u001b[0m             handle,\n\u001b[0;32m    875\u001b[0m             ioargs\u001b[38;5;241m.\u001b[39mmode,\n\u001b[0;32m    876\u001b[0m             encoding\u001b[38;5;241m=\u001b[39mioargs\u001b[38;5;241m.\u001b[39mencoding,\n\u001b[0;32m    877\u001b[0m             errors\u001b[38;5;241m=\u001b[39merrors,\n\u001b[0;32m    878\u001b[0m             newline\u001b[38;5;241m=\u001b[39m\u001b[38;5;124m\"\u001b[39m\u001b[38;5;124m\"\u001b[39m,\n\u001b[0;32m    879\u001b[0m         )\n\u001b[0;32m    880\u001b[0m     \u001b[38;5;28;01melse\u001b[39;00m:\n\u001b[0;32m    881\u001b[0m         \u001b[38;5;66;03m# Binary mode\u001b[39;00m\n\u001b[0;32m    882\u001b[0m         handle \u001b[38;5;241m=\u001b[39m \u001b[38;5;28mopen\u001b[39m(handle, ioargs\u001b[38;5;241m.\u001b[39mmode)\n",
      "\u001b[1;31mPermissionError\u001b[0m: [Errno 13] Permission denied: '../data/processed/reclamos_clean_transformed.csv'"
     ]
    }
   ],
   "source": [
    "# Guardamos el nuevo dataset limpio\n",
    "df.to_csv(\"../data/processed/reclamos_clean_transformed.csv\", index=False, encoding=\"utf-8\")"
   ]
  }
 ],
 "metadata": {
  "kernelspec": {
   "display_name": "base",
   "language": "python",
   "name": "python3"
  },
  "language_info": {
   "codemirror_mode": {
    "name": "ipython",
    "version": 3
   },
   "file_extension": ".py",
   "mimetype": "text/x-python",
   "name": "python",
   "nbconvert_exporter": "python",
   "pygments_lexer": "ipython3",
   "version": "3.12.7"
  }
 },
 "nbformat": 4,
 "nbformat_minor": 5
}
