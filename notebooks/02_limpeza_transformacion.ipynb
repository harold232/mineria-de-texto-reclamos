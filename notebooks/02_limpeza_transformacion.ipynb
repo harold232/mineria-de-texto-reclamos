{
   "cells": [
      {
         "cell_type": "markdown",
         "id": "57837f98",
         "metadata": {},
         "source": [
            "# Limpieza y transformación"
         ]
      },
      {
         "cell_type": "markdown",
         "id": "8d794b66",
         "metadata": {},
         "source": [
            "##### Integrantes: \n",
            "##### - Harold Aquino Curisinche \n",
            "##### - Rosa Estrada Estrada\n",
            "##### Descripción: Limpieza y transformación del dataset de reclamos de SUSALUD"
         ]
      },
      {
         "cell_type": "markdown",
         "id": "c8af2eb6",
         "metadata": {},
         "source": [
            "## 1. Importación de librerías"
         ]
      },
      {
         "cell_type": "code",
         "execution_count": 5,
         "id": "e5ac8d3a-db74-43f6-a032-7ab6c0cae0e4",
         "metadata": {},
         "outputs": [],
         "source": [
            "import pandas as pd\n",
            "import numpy as np"
         ]
      },
      {
         "cell_type": "markdown",
         "id": "f0008318",
         "metadata": {},
         "source": [
            "### Cargar datos procesados"
         ]
      },
      {
         "cell_type": "code",
         "execution_count": 32,
         "id": "40b41099-2370-443c-bd25-b143203bf53d",
         "metadata": {},
         "outputs": [],
         "source": [
            "df = pd.read_csv(\"../data/processed/reclamos_clean.csv\", low_memory=False)"
         ]
      },
      {
         "cell_type": "code",
         "execution_count": 34,
         "id": "26f67e9d-591d-4266-bbf0-4486bb2b5fff",
         "metadata": {},
         "outputs": [
            {
               "data": {
                  "text/html": [
                     "<div>\n",
                     "<style scoped>\n",
                     "    .dataframe tbody tr th:only-of-type {\n",
                     "        vertical-align: middle;\n",
                     "    }\n",
                     "\n",
                     "    .dataframe tbody tr th {\n",
                     "        vertical-align: top;\n",
                     "    }\n",
                     "\n",
                     "    .dataframe thead th {\n",
                     "        text-align: right;\n",
                     "    }\n",
                     "</style>\n",
                     "<table border=\"1\" class=\"dataframe\">\n",
                     "  <thead>\n",
                     "    <tr style=\"text-align: right;\">\n",
                     "      <th></th>\n",
                     "      <th>ID_PERIODO</th>\n",
                     "      <th>DE_TIPO_ADMINISTRADO</th>\n",
                     "      <th>CO_ADMIN_DECLA</th>\n",
                     "      <th>CO_UGIPRESS</th>\n",
                     "      <th>DE_TIPO_INSTITUCION</th>\n",
                     "      <th>CO_ADMIN_SUCE</th>\n",
                     "      <th>DE_MEDIO_PRESENTACION</th>\n",
                     "      <th>CO_UNICO_RECLAMO</th>\n",
                     "      <th>DE_MEDIO_RECEPCION</th>\n",
                     "      <th>FE_PRESEN_RECLA</th>\n",
                     "      <th>...</th>\n",
                     "      <th>DE_ETAPA_RECLAMO</th>\n",
                     "      <th>DE_TIPO_ADMIN_DERIVA</th>\n",
                     "      <th>CO_ADMIN_DERIVA</th>\n",
                     "      <th>DE_RESULTADO</th>\n",
                     "      <th>DE_MOTIVO_CONCL_ANTIC</th>\n",
                     "      <th>FE_RESULT_RECL</th>\n",
                     "      <th>DE_COMUN_RESULT</th>\n",
                     "      <th>FE_NOTIFI_RESULT</th>\n",
                     "      <th>AÑO</th>\n",
                     "      <th>MES</th>\n",
                     "    </tr>\n",
                     "  </thead>\n",
                     "  <tbody>\n",
                     "    <tr>\n",
                     "      <th>0</th>\n",
                     "      <td>202101</td>\n",
                     "      <td>IAFAS</td>\n",
                     "      <td>20007</td>\n",
                     "      <td>20007</td>\n",
                     "      <td>IAFAS</td>\n",
                     "      <td>20007</td>\n",
                     "      <td>Físico</td>\n",
                     "      <td>20007-352</td>\n",
                     "      <td>Libro de Reclamaciones Físico</td>\n",
                     "      <td>2020-11-27</td>\n",
                     "      <td>...</td>\n",
                     "      <td>Resultado y Notificación</td>\n",
                     "      <td>-</td>\n",
                     "      <td>-</td>\n",
                     "      <td>Infundado</td>\n",
                     "      <td>-</td>\n",
                     "      <td>2020-12-21</td>\n",
                     "      <td>Correo electrónico</td>\n",
                     "      <td>NaN</td>\n",
                     "      <td>2020</td>\n",
                     "      <td>11</td>\n",
                     "    </tr>\n",
                     "    <tr>\n",
                     "      <th>1</th>\n",
                     "      <td>202101</td>\n",
                     "      <td>IAFAS</td>\n",
                     "      <td>20007</td>\n",
                     "      <td>20007</td>\n",
                     "      <td>IAFAS</td>\n",
                     "      <td>20007</td>\n",
                     "      <td>Físico</td>\n",
                     "      <td>20007-360</td>\n",
                     "      <td>Libro de Reclamaciones Físico</td>\n",
                     "      <td>2021-01-04</td>\n",
                     "      <td>...</td>\n",
                     "      <td>Resultado y Notificación</td>\n",
                     "      <td>-</td>\n",
                     "      <td>-</td>\n",
                     "      <td>Infundado</td>\n",
                     "      <td>-</td>\n",
                     "      <td>2021-02-18</td>\n",
                     "      <td>Correo electrónico</td>\n",
                     "      <td>NaN</td>\n",
                     "      <td>2021</td>\n",
                     "      <td>1</td>\n",
                     "    </tr>\n",
                     "    <tr>\n",
                     "      <th>2</th>\n",
                     "      <td>202101</td>\n",
                     "      <td>IAFAS</td>\n",
                     "      <td>20007</td>\n",
                     "      <td>20007</td>\n",
                     "      <td>IAFAS</td>\n",
                     "      <td>20007</td>\n",
                     "      <td>Físico</td>\n",
                     "      <td>20007-361</td>\n",
                     "      <td>Libro de Reclamaciones Físico</td>\n",
                     "      <td>2021-01-06</td>\n",
                     "      <td>...</td>\n",
                     "      <td>Archivo y Custodia del Expediente</td>\n",
                     "      <td>-</td>\n",
                     "      <td>-</td>\n",
                     "      <td>Infundado</td>\n",
                     "      <td>-</td>\n",
                     "      <td>2021-01-20</td>\n",
                     "      <td>Correo electrónico</td>\n",
                     "      <td>20210122.0</td>\n",
                     "      <td>2021</td>\n",
                     "      <td>1</td>\n",
                     "    </tr>\n",
                     "    <tr>\n",
                     "      <th>3</th>\n",
                     "      <td>202101</td>\n",
                     "      <td>IAFAS</td>\n",
                     "      <td>20007</td>\n",
                     "      <td>20007</td>\n",
                     "      <td>IAFAS</td>\n",
                     "      <td>20007</td>\n",
                     "      <td>Físico</td>\n",
                     "      <td>20007-364</td>\n",
                     "      <td>Libro de Reclamaciones Físico</td>\n",
                     "      <td>2021-01-06</td>\n",
                     "      <td>...</td>\n",
                     "      <td>Archivo y Custodia del Expediente</td>\n",
                     "      <td>-</td>\n",
                     "      <td>-</td>\n",
                     "      <td>Infundado</td>\n",
                     "      <td>-</td>\n",
                     "      <td>2021-01-25</td>\n",
                     "      <td>Correo electrónico</td>\n",
                     "      <td>20210204.0</td>\n",
                     "      <td>2021</td>\n",
                     "      <td>1</td>\n",
                     "    </tr>\n",
                     "    <tr>\n",
                     "      <th>4</th>\n",
                     "      <td>202101</td>\n",
                     "      <td>IAFAS</td>\n",
                     "      <td>20007</td>\n",
                     "      <td>20007</td>\n",
                     "      <td>IAFAS</td>\n",
                     "      <td>20007</td>\n",
                     "      <td>Físico</td>\n",
                     "      <td>20007-365</td>\n",
                     "      <td>Libro de Reclamaciones Físico</td>\n",
                     "      <td>2021-01-08</td>\n",
                     "      <td>...</td>\n",
                     "      <td>Evaluación e investigación</td>\n",
                     "      <td>-</td>\n",
                     "      <td>-</td>\n",
                     "      <td>Pendiente</td>\n",
                     "      <td>-</td>\n",
                     "      <td>NaN</td>\n",
                     "      <td>-</td>\n",
                     "      <td>NaN</td>\n",
                     "      <td>2021</td>\n",
                     "      <td>1</td>\n",
                     "    </tr>\n",
                     "  </tbody>\n",
                     "</table>\n",
                     "<p>5 rows × 27 columns</p>\n",
                     "</div>"
                  ],
                  "text/plain": [
                     "   ID_PERIODO DE_TIPO_ADMINISTRADO  CO_ADMIN_DECLA  CO_UGIPRESS  \\\n",
                     "0      202101                IAFAS           20007        20007   \n",
                     "1      202101                IAFAS           20007        20007   \n",
                     "2      202101                IAFAS           20007        20007   \n",
                     "3      202101                IAFAS           20007        20007   \n",
                     "4      202101                IAFAS           20007        20007   \n",
                     "\n",
                     "  DE_TIPO_INSTITUCION  CO_ADMIN_SUCE DE_MEDIO_PRESENTACION CO_UNICO_RECLAMO  \\\n",
                     "0               IAFAS          20007                Físico        20007-352   \n",
                     "1               IAFAS          20007                Físico        20007-360   \n",
                     "2               IAFAS          20007                Físico        20007-361   \n",
                     "3               IAFAS          20007                Físico        20007-364   \n",
                     "4               IAFAS          20007                Físico        20007-365   \n",
                     "\n",
                     "              DE_MEDIO_RECEPCION FE_PRESEN_RECLA  ...  \\\n",
                     "0  Libro de Reclamaciones Físico      2020-11-27  ...   \n",
                     "1  Libro de Reclamaciones Físico      2021-01-04  ...   \n",
                     "2  Libro de Reclamaciones Físico      2021-01-06  ...   \n",
                     "3  Libro de Reclamaciones Físico      2021-01-06  ...   \n",
                     "4  Libro de Reclamaciones Físico      2021-01-08  ...   \n",
                     "\n",
                     "                    DE_ETAPA_RECLAMO DE_TIPO_ADMIN_DERIVA CO_ADMIN_DERIVA  \\\n",
                     "0           Resultado y Notificación                    -               -   \n",
                     "1           Resultado y Notificación                    -               -   \n",
                     "2  Archivo y Custodia del Expediente                    -               -   \n",
                     "3  Archivo y Custodia del Expediente                    -               -   \n",
                     "4         Evaluación e investigación                    -               -   \n",
                     "\n",
                     "  DE_RESULTADO DE_MOTIVO_CONCL_ANTIC FE_RESULT_RECL     DE_COMUN_RESULT  \\\n",
                     "0    Infundado                     -     2020-12-21  Correo electrónico   \n",
                     "1    Infundado                     -     2021-02-18  Correo electrónico   \n",
                     "2    Infundado                     -     2021-01-20  Correo electrónico   \n",
                     "3    Infundado                     -     2021-01-25  Correo electrónico   \n",
                     "4    Pendiente                     -            NaN                   -   \n",
                     "\n",
                     "  FE_NOTIFI_RESULT   AÑO MES  \n",
                     "0              NaN  2020  11  \n",
                     "1              NaN  2021   1  \n",
                     "2       20210122.0  2021   1  \n",
                     "3       20210204.0  2021   1  \n",
                     "4              NaN  2021   1  \n",
                     "\n",
                     "[5 rows x 27 columns]"
                  ]
               },
               "execution_count": 34,
               "metadata": {},
               "output_type": "execute_result"
            }
         ],
         "source": [
            "df.head()"
         ]
      },
      {
         "cell_type": "code",
         "execution_count": 36,
         "id": "4f1f783b",
         "metadata": {},
         "outputs": [
            {
               "name": "stdout",
               "output_type": "stream",
               "text": [
                  "<class 'pandas.core.frame.DataFrame'>\n",
                  "RangeIndex: 162639 entries, 0 to 162638\n",
                  "Data columns (total 27 columns):\n",
                  " #   Column                 Non-Null Count   Dtype \n",
                  "---  ------                 --------------   ----- \n",
                  " 0   ID_PERIODO             162639 non-null  int64 \n",
                  " 1   DE_TIPO_ADMINISTRADO   162639 non-null  object\n",
                  " 2   CO_ADMIN_DECLA         162639 non-null  int64 \n",
                  " 3   CO_UGIPRESS            162639 non-null  int64 \n",
                  " 4   DE_TIPO_INSTITUCION    162639 non-null  object\n",
                  " 5   CO_ADMIN_SUCE          162639 non-null  int64 \n",
                  " 6   DE_MEDIO_PRESENTACION  162639 non-null  object\n",
                  " 7   CO_UNICO_RECLAMO       162639 non-null  object\n",
                  " 8   DE_MEDIO_RECEPCION     162639 non-null  object\n",
                  " 9   FE_PRESEN_RECLA        162639 non-null  object\n",
                  " 10  DE_SERVICIO            162639 non-null  object\n",
                  " 11  DE_COMPETENCIA         162639 non-null  object\n",
                  " 12  DE_CLASIF_1            162639 non-null  object\n",
                  " 13  DE_CLASIF_2            162639 non-null  object\n",
                  " 14  DE_CLASIF_3            162639 non-null  object\n",
                  " 15  DE_ESTADO_RECLAMO      162639 non-null  object\n",
                  " 16  CO_RECLAMO_PRIMIG      162639 non-null  object\n",
                  " 17  DE_ETAPA_RECLAMO       162639 non-null  object\n",
                  " 18  DE_TIPO_ADMIN_DERIVA   162639 non-null  object\n",
                  " 19  CO_ADMIN_DERIVA        162639 non-null  object\n",
                  " 20  DE_RESULTADO           162639 non-null  object\n",
                  " 21  DE_MOTIVO_CONCL_ANTIC  162639 non-null  object\n",
                  " 22  FE_RESULT_RECL         65217 non-null   object\n",
                  " 23  DE_COMUN_RESULT        162639 non-null  object\n",
                  " 24  FE_NOTIFI_RESULT       57899 non-null   object\n",
                  " 25  AÑO                    162639 non-null  int64 \n",
                  " 26  MES                    162639 non-null  int64 \n",
                  "dtypes: int64(6), object(21)\n",
                  "memory usage: 33.5+ MB\n"
               ]
            }
         ],
         "source": [
            "df.info()"
         ]
      },
      {
         "cell_type": "markdown",
         "id": "5b87f8ce-aff7-4ee4-b18d-682f778c871c",
         "metadata": {},
         "source": [
            "### Eliminación de las columnas irrelevantes"
         ]
      },
      {
         "cell_type": "code",
         "execution_count": 39,
         "id": "ae207f03-9d4b-4dc4-a560-14cfdd98607e",
         "metadata": {},
         "outputs": [],
         "source": [
            "columns_to_drop = [\"CO_ADMIN_DECLA\", \"CO_UGIPRESS\", \"CO_ADMIN_SUCE\", \n",
            "                   \"CO_RECLAMO_PRIMIG\", \"CO_ADMIN_DERIVA\"]\n",
            "\n",
            "df.drop(columns=columns_to_drop, inplace=True)"
         ]
      },
      {
         "cell_type": "markdown",
         "id": "cea2ac05-9eb9-4fc6-bb65-cb0e116fca8f",
         "metadata": {},
         "source": [
            "### Convertir fechas a formate datetime"
         ]
      },
      {
         "cell_type": "code",
         "execution_count": 42,
         "id": "0bfbfd1d-3f7e-422a-a95e-ce31b7c3443e",
         "metadata": {},
         "outputs": [],
         "source": [
            "df[\"FE_PRESEN_RECLA\"] = pd.to_datetime(df[\"FE_PRESEN_RECLA\"], format=\"%Y-%m-%d\", errors=\"coerce\")\n",
            "df[\"FE_RESULT_RECL\"] = pd.to_datetime(df[\"FE_RESULT_RECL\"], format=\"%Y-%m-%d\", errors=\"coerce\")\n",
            "df[\"FE_NOTIFI_RESULT\"] = pd.to_datetime(df[\"FE_NOTIFI_RESULT\"], format=\"%Y-%m-%d\", errors=\"coerce\")"
         ]
      },
      {
         "cell_type": "code",
         "execution_count": 44,
         "id": "4dfb3f3f",
         "metadata": {},
         "outputs": [],
         "source": [
            "df[\"AÑO\"] = df[\"FE_PRESEN_RECLA\"].dt.year\n",
            "df[\"MES\"] = df[\"FE_PRESEN_RECLA\"].dt.month"
         ]
      },
      {
         "cell_type": "markdown",
         "id": "0bb5f414-2138-4b6a-a1e4-b631e57a9b25",
         "metadata": {},
         "source": [
            "#### Columnas con valores nulos "
         ]
      },
      {
         "cell_type": "code",
         "execution_count": 47,
         "id": "1c964178-10eb-4de2-bbd5-97d9f4d5f444",
         "metadata": {},
         "outputs": [
            {
               "data": {
                  "text/plain": [
                     "ID_PERIODO                    0\n",
                     "DE_TIPO_ADMINISTRADO          0\n",
                     "DE_TIPO_INSTITUCION           0\n",
                     "DE_MEDIO_PRESENTACION         0\n",
                     "CO_UNICO_RECLAMO              0\n",
                     "DE_MEDIO_RECEPCION            0\n",
                     "FE_PRESEN_RECLA               0\n",
                     "DE_SERVICIO                   0\n",
                     "DE_COMPETENCIA                0\n",
                     "DE_CLASIF_1                   0\n",
                     "DE_CLASIF_2                   0\n",
                     "DE_CLASIF_3                   0\n",
                     "DE_ESTADO_RECLAMO             0\n",
                     "DE_ETAPA_RECLAMO              0\n",
                     "DE_TIPO_ADMIN_DERIVA          0\n",
                     "DE_RESULTADO                  0\n",
                     "DE_MOTIVO_CONCL_ANTIC         0\n",
                     "FE_RESULT_RECL            97422\n",
                     "DE_COMUN_RESULT               0\n",
                     "FE_NOTIFI_RESULT         162639\n",
                     "AÑO                           0\n",
                     "MES                           0\n",
                     "dtype: int64"
                  ]
               },
               "execution_count": 47,
               "metadata": {},
               "output_type": "execute_result"
            }
         ],
         "source": [
            "df.isnull().sum()"
         ]
      },
      {
         "cell_type": "markdown",
         "id": "15a1a048-bf94-4efa-8806-0de24a1bbf35",
         "metadata": {},
         "source": [
            "#### Se reemplaza con valores nulos a columnas con texto \"Desconocido\""
         ]
      },
      {
         "cell_type": "code",
         "execution_count": 50,
         "id": "fd1a9205-4caa-4795-b36d-077d24751689",
         "metadata": {},
         "outputs": [],
         "source": [
            "cols_texto = [\"DE_TIPO_ADMINISTRADO\", \"DE_TIPO_INSTITUCION\", \"DE_MEDIO_PRESENTACION\", \n",
            "              \"DE_MEDIO_RECEPCION\", \"DE_SERVICIO\", \"DE_CLASIF_1\", \"DE_CLASIF_2\", \n",
            "              \"DE_CLASIF_3\", \"DE_ESTADO_RECLAMO\", \"DE_ETAPA_RECLAMO\", \"DE_RESULTADO\"]\n",
            "df[cols_texto] = df[cols_texto].fillna(\"Desconocido\")\n",
            "\n",
            "# Imputar valores nulos en fechas con la fecha mínima\n",
            "df = df.assign(\n",
            "    FE_RESULT_RECL=df[\"FE_RESULT_RECL\"].fillna(df[\"FE_PRESEN_RECLA\"]),\n",
            "    FE_NOTIFI_RESULT=df[\"FE_NOTIFI_RESULT\"].fillna(df[\"FE_RESULT_RECL\"])\n",
            ")"
         ]
      },
      {
         "cell_type": "code",
         "execution_count": 52,
         "id": "851caf00",
         "metadata": {},
         "outputs": [],
         "source": [
            "df['FE_PRESEN_RECLA'] = pd.to_datetime(df['FE_PRESEN_RECLA'])\n",
            "df['FE_RESULT_RECL'] = pd.to_datetime(df['FE_RESULT_RECL'])"
         ]
      },
      {
         "cell_type": "markdown",
         "id": "8fa39504-8ed6-4714-9798-5d237abed3a8",
         "metadata": {},
         "source": [
            "#### Calculo en el tiempo de la resolucion de los reclamos"
         ]
      },
      {
         "cell_type": "code",
         "execution_count": 59,
         "id": "b26049a7-55d0-40f2-a197-f9a6e32f9130",
         "metadata": {},
         "outputs": [],
         "source": [
            "df[\"DURACION_RECLAMO\"] = (df[\"FE_RESULT_RECL\"] - df[\"FE_PRESEN_RECLA\"]).dt.days\n",
            "\n",
            "# Se clasifica la duración en categorías\n",
            "df[\"CATEGORIA_DURACION\"] = pd.cut(df[\"DURACION_RECLAMO\"], bins=[-1, 7, 30, 90, 365, np.inf], \n",
            "                                  labels=[\"Corto (0-7 días)\", \"Medio (8-30 días)\", \n",
            "                                          \"Largo (31-90 días)\", \"Muy Largo (91-365 días)\", \n",
            "                                          \"Extremo (>365 días)\"])\n"
         ]
      },
      {
         "cell_type": "markdown",
         "id": "4cdd9efc-eb85-4550-be47-462f7e36eddc",
         "metadata": {},
         "source": [
            "#### Se guarda los cambios en un dataset limpio"
         ]
      },
      {
         "cell_type": "code",
         "execution_count": 64,
         "id": "d9c10842-38ce-4ed6-bc80-ecffde85f114",
         "metadata": {},
         "outputs": [],
         "source": [
            "df.to_csv(\"../data/processed/reclamos_clean_transformed.csv\", index=False, encoding=\"utf-8\")"
         ]
      }
   ],
   "metadata": {
      "kernelspec": {
         "display_name": "base",
         "language": "python",
         "name": "python3"
      },
      "language_info": {
         "codemirror_mode": {
            "name": "ipython",
            "version": 3
         },
         "file_extension": ".py",
         "mimetype": "text/x-python",
         "name": "python",
         "nbconvert_exporter": "python",
         "pygments_lexer": "ipython3",
         "version": "3.12.7"
      }
   },
   "nbformat": 4,
   "nbformat_minor": 5
}
