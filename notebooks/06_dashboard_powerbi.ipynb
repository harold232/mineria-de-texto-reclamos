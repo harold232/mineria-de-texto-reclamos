{
 "cells": [
  {
   "cell_type": "code",
   "execution_count": null,
   "id": "c86c1901-ca10-4085-87e3-e883cb868410",
   "metadata": {},
   "outputs": [],
   "source": [
    "# Importación de librerías y carga de datos"
   ]
  },
  {
   "cell_type": "code",
   "execution_count": null,
   "id": "30de8aef-731b-46e9-899a-2d02bc80dcac",
   "metadata": {},
   "outputs": [],
   "source": [
    "# 📌 06_dashboard_powerbi.ipynb\n",
    "# Autor: [Tu Nombre]\n",
    "# Descripción: Exportación de datos para visualización en Power BI\n",
    "\n",
    "import pandas as pd\n",
    "\n",
    "# Cargar dataset limpio\n",
    "df = pd.read_csv(\"../data/processed/reclamos_clean_transformed.csv\")\n",
    "\n",
    "# Ver estructura del dataset\n",
    "print(df.head())\n",
    "\n",
    "# Guardar una copia en formato Excel para Power BI\n",
    "df.to_excel(\"../5_Reports/reclamos_powerbi.xlsx\", index=False)\n",
    "\n",
    "print(\"✅ Archivo exportado correctamente: reclamos_powerbi.xlsx\")\n"
   ]
  },
  {
   "cell_type": "code",
   "execution_count": null,
   "id": "81221d88-8212-4f47-a8ad-d28034ab33a2",
   "metadata": {},
   "outputs": [],
   "source": []
  }
 ],
 "metadata": {
  "kernelspec": {
   "display_name": "Python 3 (ipykernel)",
   "language": "python",
   "name": "python3"
  },
  "language_info": {
   "codemirror_mode": {
    "name": "ipython",
    "version": 3
   },
   "file_extension": ".py",
   "mimetype": "text/x-python",
   "name": "python",
   "nbconvert_exporter": "python",
   "pygments_lexer": "ipython3",
   "version": "3.12.7"
  }
 },
 "nbformat": 4,
 "nbformat_minor": 5
}
