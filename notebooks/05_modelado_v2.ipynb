{
 "cells": [
  {
   "cell_type": "markdown",
   "id": "e00a45a8",
   "metadata": {},
   "source": [
    "# Modelado"
   ]
  },
  {
   "cell_type": "code",
   "execution_count": 1,
   "id": "95593d81-701e-49ed-8990-2f6a96934164",
   "metadata": {
    "ExecuteTime": {
     "end_time": "2025-04-07T02:54:30.617462Z",
     "start_time": "2025-04-07T02:54:30.598455Z"
    }
   },
   "outputs": [],
   "source": [
    "import pandas as pd\n",
    "import numpy as np"
   ]
  },
  {
   "cell_type": "code",
   "execution_count": 2,
   "id": "420650e0781524a3",
   "metadata": {
    "ExecuteTime": {
     "end_time": "2025-04-07T02:53:43.826051Z",
     "start_time": "2025-04-07T02:53:43.804249Z"
    }
   },
   "outputs": [],
   "source": [
    "import re\n",
    "import string\n",
    "import nltk"
   ]
  },
  {
   "cell_type": "code",
   "execution_count": 3,
   "id": "11107ccec2c530d4",
   "metadata": {},
   "outputs": [],
   "source": [
    "from nltk.corpus import stopwords\n",
    "from nltk.tokenize import word_tokenize\n",
    "from sklearn.feature_extraction.text import TfidfVectorizer\n",
    "from sklearn.model_selection import train_test_split\n",
    "from sklearn.naive_bayes import MultinomialNB\n",
    "from sklearn.metrics import accuracy_score, classification_report, confusion_matrix"
   ]
  },
  {
   "cell_type": "code",
   "execution_count": 4,
   "id": "a0ea2f5392700d7c",
   "metadata": {},
   "outputs": [],
   "source": [
    "import seaborn as sns\n",
    "import matplotlib.pyplot as plt"
   ]
  },
  {
   "cell_type": "code",
   "execution_count": 5,
   "id": "21fce925-e427-49d2-bf38-1c908d739c4d",
   "metadata": {},
   "outputs": [
    {
     "name": "stderr",
     "output_type": "stream",
     "text": [
      "[nltk_data] Downloading package punkt to\n",
      "[nltk_data]     C:\\Users\\harol\\AppData\\Roaming\\nltk_data...\n",
      "[nltk_data]   Package punkt is already up-to-date!\n",
      "[nltk_data] Downloading package stopwords to\n",
      "[nltk_data]     C:\\Users\\harol\\AppData\\Roaming\\nltk_data...\n",
      "[nltk_data]   Package stopwords is already up-to-date!\n"
     ]
    },
    {
     "data": {
      "text/plain": [
       "True"
      ]
     },
     "execution_count": 5,
     "metadata": {},
     "output_type": "execute_result"
    }
   ],
   "source": [
    "# Descargar recursos de NLTK\n",
    "nltk.download(\"punkt\")\n",
    "nltk.download(\"stopwords\")"
   ]
  },
  {
   "cell_type": "code",
   "execution_count": 90,
   "id": "403c2809-03a8-4572-ad8c-e1916f4ca0f7",
   "metadata": {},
   "outputs": [],
   "source": [
    "# 📌 2. Cargar Datos\n",
    "df = pd.read_csv(\"../data/processed/reclamos_descripciones.csv\")"
   ]
  },
  {
   "cell_type": "markdown",
   "id": "e72ebb83",
   "metadata": {},
   "source": [
    "### PREPARACIÓN DE LOS DATOS"
   ]
  },
  {
   "cell_type": "code",
   "execution_count": 91,
   "id": "d55ab85c-4c10-4ac2-bef5-6ae512122540",
   "metadata": {},
   "outputs": [
    {
     "name": "stdout",
     "output_type": "stream",
     "text": [
      "<class 'pandas.core.frame.DataFrame'>\n",
      "RangeIndex: 162639 entries, 0 to 162638\n",
      "Data columns (total 25 columns):\n",
      " #   Column                 Non-Null Count   Dtype \n",
      "---  ------                 --------------   ----- \n",
      " 0   ID_PERIODO             162639 non-null  int64 \n",
      " 1   DE_TIPO_ADMINISTRADO   162639 non-null  object\n",
      " 2   DE_TIPO_INSTITUCION    162639 non-null  object\n",
      " 3   DE_MEDIO_PRESENTACION  162639 non-null  object\n",
      " 4   CO_UNICO_RECLAMO       162639 non-null  object\n",
      " 5   DE_MEDIO_RECEPCION     162639 non-null  object\n",
      " 6   FE_PRESEN_RECLA        162639 non-null  object\n",
      " 7   DE_SERVICIO            162639 non-null  object\n",
      " 8   DE_COMPETENCIA         162639 non-null  object\n",
      " 9   DE_CLASIF_1            162639 non-null  object\n",
      " 10  DE_CLASIF_2            162639 non-null  object\n",
      " 11  DE_CLASIF_3            162639 non-null  object\n",
      " 12  DE_ESTADO_RECLAMO      162639 non-null  object\n",
      " 13  DE_ETAPA_RECLAMO       162639 non-null  object\n",
      " 14  DE_TIPO_ADMIN_DERIVA   162639 non-null  object\n",
      " 15  DE_RESULTADO           162639 non-null  object\n",
      " 16  DE_MOTIVO_CONCL_ANTIC  162639 non-null  object\n",
      " 17  FE_RESULT_RECL         162639 non-null  object\n",
      " 18  DE_COMUN_RESULT        162639 non-null  object\n",
      " 19  FE_NOTIFI_RESULT       65217 non-null   object\n",
      " 20  AÑO                    162639 non-null  int64 \n",
      " 21  MES                    162639 non-null  int64 \n",
      " 22  DURACION_RECLAMO       162639 non-null  int64 \n",
      " 23  CATEGORIA_DURACION     162618 non-null  object\n",
      " 24  DESCRIPCION            99370 non-null   object\n",
      "dtypes: int64(4), object(21)\n",
      "memory usage: 31.0+ MB\n"
     ]
    }
   ],
   "source": [
    "df.info()"
   ]
  },
  {
   "cell_type": "code",
   "execution_count": null,
   "id": "f1c8ba8a",
   "metadata": {},
   "outputs": [],
   "source": [
    "# Eliminar filas con valores nulos en 'FE_NOTIFI_RESULT' y 'DESCRIPCION'\n",
    "# df = df.dropna(subset=['FE_NOTIFI_RESULT', 'DESCRIPCION'])"
   ]
  },
  {
   "cell_type": "code",
   "execution_count": 92,
   "id": "fa96ffbe",
   "metadata": {},
   "outputs": [
    {
     "name": "stdout",
     "output_type": "stream",
     "text": [
      "63269\n",
      "97422\n"
     ]
    }
   ],
   "source": [
    "print(df['DESCRIPCION'].isnull().sum())\n",
    "print(df['FE_NOTIFI_RESULT'].isnull().sum())"
   ]
  },
  {
   "cell_type": "code",
   "execution_count": null,
   "id": "98761e9a",
   "metadata": {},
   "outputs": [],
   "source": [
    "df['FE_NOTIFI_RESULT'] = df['FE_NOTIFI_RESULT'].fillna('No notificado')\n",
    "df['DESCRIPCION'] = df['DESCRIPCION'].fillna('No disponible')"
   ]
  },
  {
   "cell_type": "code",
   "execution_count": 24,
   "id": "a1464a79",
   "metadata": {},
   "outputs": [],
   "source": [
    "### Eliminación de variables no necesarias"
   ]
  },
  {
   "cell_type": "code",
   "execution_count": 93,
   "id": "156ee3f9",
   "metadata": {},
   "outputs": [],
   "source": [
    "columns_delete = [\n",
    "    'ID_PERIODO',\n",
    "    #'CO_ADMIN_DECLA',\n",
    "    #'CO_UGIPRESS',\n",
    "    #'CO_ADMIN_SUCE',\n",
    "    'DE_CLASIF_2',\n",
    "    'DE_CLASIF_3',\n",
    "    'CO_UNICO_RECLAMO',\n",
    "    #'CO_RECLAMO_PRIMIG',\n",
    "    'DE_MOTIVO_CONCL_ANTIC'\n",
    "]"
   ]
  },
  {
   "cell_type": "code",
   "execution_count": 94,
   "id": "eed23e18",
   "metadata": {},
   "outputs": [],
   "source": [
    "df = df.drop(columns=columns_delete)"
   ]
  },
  {
   "cell_type": "code",
   "execution_count": 95,
   "id": "7ef8164e",
   "metadata": {},
   "outputs": [
    {
     "name": "stdout",
     "output_type": "stream",
     "text": [
      "<class 'pandas.core.frame.DataFrame'>\n",
      "RangeIndex: 162639 entries, 0 to 162638\n",
      "Data columns (total 20 columns):\n",
      " #   Column                 Non-Null Count   Dtype \n",
      "---  ------                 --------------   ----- \n",
      " 0   DE_TIPO_ADMINISTRADO   162639 non-null  object\n",
      " 1   DE_TIPO_INSTITUCION    162639 non-null  object\n",
      " 2   DE_MEDIO_PRESENTACION  162639 non-null  object\n",
      " 3   DE_MEDIO_RECEPCION     162639 non-null  object\n",
      " 4   FE_PRESEN_RECLA        162639 non-null  object\n",
      " 5   DE_SERVICIO            162639 non-null  object\n",
      " 6   DE_COMPETENCIA         162639 non-null  object\n",
      " 7   DE_CLASIF_1            162639 non-null  object\n",
      " 8   DE_ESTADO_RECLAMO      162639 non-null  object\n",
      " 9   DE_ETAPA_RECLAMO       162639 non-null  object\n",
      " 10  DE_TIPO_ADMIN_DERIVA   162639 non-null  object\n",
      " 11  DE_RESULTADO           162639 non-null  object\n",
      " 12  FE_RESULT_RECL         162639 non-null  object\n",
      " 13  DE_COMUN_RESULT        162639 non-null  object\n",
      " 14  FE_NOTIFI_RESULT       65217 non-null   object\n",
      " 15  AÑO                    162639 non-null  int64 \n",
      " 16  MES                    162639 non-null  int64 \n",
      " 17  DURACION_RECLAMO       162639 non-null  int64 \n",
      " 18  CATEGORIA_DURACION     162618 non-null  object\n",
      " 19  DESCRIPCION            99370 non-null   object\n",
      "dtypes: int64(3), object(17)\n",
      "memory usage: 24.8+ MB\n"
     ]
    }
   ],
   "source": [
    "df.info()"
   ]
  },
  {
   "cell_type": "markdown",
   "id": "d1b2d793",
   "metadata": {},
   "source": [
    "### Datos categoricos "
   ]
  },
  {
   "cell_type": "code",
   "execution_count": 96,
   "id": "1d393c61",
   "metadata": {},
   "outputs": [
    {
     "name": "stdout",
     "output_type": "stream",
     "text": [
      "DE_TIPO_ADMINISTRADO     object\n",
      "DE_TIPO_INSTITUCION      object\n",
      "DE_MEDIO_PRESENTACION    object\n",
      "DE_MEDIO_RECEPCION       object\n",
      "FE_PRESEN_RECLA          object\n",
      "DE_SERVICIO              object\n",
      "DE_COMPETENCIA           object\n",
      "DE_CLASIF_1              object\n",
      "DE_ESTADO_RECLAMO        object\n",
      "DE_ETAPA_RECLAMO         object\n",
      "DE_TIPO_ADMIN_DERIVA     object\n",
      "DE_RESULTADO             object\n",
      "FE_RESULT_RECL           object\n",
      "DE_COMUN_RESULT          object\n",
      "FE_NOTIFI_RESULT         object\n",
      "AÑO                       int64\n",
      "MES                       int64\n",
      "DURACION_RECLAMO          int64\n",
      "CATEGORIA_DURACION       object\n",
      "DESCRIPCION              object\n",
      "dtype: object\n"
     ]
    }
   ],
   "source": [
    "print(df.dtypes)"
   ]
  },
  {
   "cell_type": "code",
   "execution_count": 49,
   "id": "40bc3db6",
   "metadata": {},
   "outputs": [
    {
     "data": {
      "text/plain": [
       "dtype('O')"
      ]
     },
     "execution_count": 49,
     "metadata": {},
     "output_type": "execute_result"
    }
   ],
   "source": [
    "df['DE_COMPETENCIA'].dtype"
   ]
  },
  {
   "cell_type": "code",
   "execution_count": null,
   "id": "74fdafe4",
   "metadata": {},
   "outputs": [],
   "source": [
    "pd.get_dummies(df['DE_MEDIO_PRESENTACION'])"
   ]
  },
  {
   "cell_type": "markdown",
   "id": "91208aac",
   "metadata": {},
   "source": [
    "### Categorias para codificarlas"
   ]
  },
  {
   "cell_type": "code",
   "execution_count": 97,
   "id": "7be73fb0",
   "metadata": {},
   "outputs": [],
   "source": [
    "# 1. Identify categorical columns\n",
    "categorical_columns = [\n",
    "    'DE_TIPO_ADMINISTRADO', 'DE_TIPO_INSTITUCION', 'DE_MEDIO_PRESENTACION',\n",
    "    'DE_MEDIO_RECEPCION', 'DE_SERVICIO', 'DE_COMPETENCIA',\n",
    "    'DE_CLASIF_1', 'DE_ESTADO_RECLAMO',\n",
    "    'DE_ETAPA_RECLAMO', 'DE_TIPO_ADMIN_DERIVA', 'DE_RESULTADO',\n",
    "    'DE_COMUN_RESULT'\n",
    "]"
   ]
  },
  {
   "cell_type": "code",
   "execution_count": 98,
   "id": "de28dcce",
   "metadata": {},
   "outputs": [],
   "source": [
    "# 2. Apply one-hot encoding using pandas get_dummies\n",
    "df_encoded = pd.get_dummies(\n",
    "    df,\n",
    "    columns=categorical_columns,\n",
    "    prefix=categorical_columns,\n",
    "    prefix_sep='_',\n",
    "    drop_first=True  # Drop first category to avoid multicollinearity\n",
    ")"
   ]
  },
  {
   "cell_type": "code",
   "execution_count": 99,
   "id": "c110f0a8",
   "metadata": {},
   "outputs": [],
   "source": [
    "# 3. Handle datetime columns separately\n",
    "df_encoded['FE_PRESEN_RECLA'] = pd.to_datetime(df_encoded['FE_PRESEN_RECLA'])\n",
    "df_encoded['FE_RESULT_RECL'] = pd.to_datetime(df_encoded['FE_RESULT_RECL'])\n",
    "df_encoded['FE_NOTIFI_RESULT'] = pd.to_datetime(df_encoded['FE_NOTIFI_RESULT'])\n"
   ]
  },
  {
   "cell_type": "code",
   "execution_count": 100,
   "id": "55ccf248",
   "metadata": {},
   "outputs": [],
   "source": [
    "# Extract useful features from dates\n",
    "for date_col in ['FE_PRESEN_RECLA', 'FE_RESULT_RECL', 'FE_NOTIFI_RESULT']:\n",
    "    df_encoded[f'{date_col}_year'] = df_encoded[date_col].dt.year\n",
    "    df_encoded[f'{date_col}_month'] = df_encoded[date_col].dt.month\n",
    "    df_encoded[f'{date_col}_day'] = df_encoded[date_col].dt.day\n",
    "    df_encoded = df_encoded.drop(columns=[date_col])"
   ]
  },
  {
   "cell_type": "code",
   "execution_count": 101,
   "id": "b4e274a3",
   "metadata": {},
   "outputs": [
    {
     "name": "stdout",
     "output_type": "stream",
     "text": [
      "Shape before encoding: (162639, 20)\n",
      "Shape after encoding: (162639, 81)\n"
     ]
    }
   ],
   "source": [
    "# 4. Print shape before and after encoding\n",
    "print(f\"Shape before encoding: {df.shape}\")\n",
    "print(f\"Shape after encoding: {df_encoded.shape}\")"
   ]
  },
  {
   "cell_type": "code",
   "execution_count": 102,
   "id": "0a76176a",
   "metadata": {},
   "outputs": [
    {
     "name": "stdout",
     "output_type": "stream",
     "text": [
      "\n",
      "Sample of new encoded columns:\n",
      "Index(['AÑO', 'MES', 'DURACION_RECLAMO', 'CATEGORIA_DURACION', 'DESCRIPCION',\n",
      "       'DE_TIPO_INSTITUCION_IPRESS', 'DE_TIPO_INSTITUCION_UGIPRESS',\n",
      "       'DE_MEDIO_PRESENTACION_Teléfonic', 'DE_MEDIO_PRESENTACION_Teléfonico',\n",
      "       'DE_MEDIO_PRESENTACION_Virtual'],\n",
      "      dtype='object')\n"
     ]
    }
   ],
   "source": [
    "# 5. Verify some of the new columns\n",
    "print(\"\\nSample of new encoded columns:\")\n",
    "print(df_encoded.columns[:10])"
   ]
  },
  {
   "cell_type": "code",
   "execution_count": 103,
   "id": "078c8c62",
   "metadata": {},
   "outputs": [],
   "source": [
    "# 6. Save encoded DataFrame if needed\n",
    "df_encoded.to_csv('../data/processed/reclamos_encoded.csv', index=False)"
   ]
  },
  {
   "cell_type": "code",
   "execution_count": 104,
   "id": "1da8620a",
   "metadata": {},
   "outputs": [
    {
     "name": "stdout",
     "output_type": "stream",
     "text": [
      "DE_TIPO_ADMINISTRADO: 1 categories -> 0 encoded columns\n",
      "DE_TIPO_INSTITUCION: 3 categories -> 2 encoded columns\n",
      "DE_MEDIO_PRESENTACION: 4 categories -> 3 encoded columns\n",
      "DE_MEDIO_RECEPCION: 7 categories -> 6 encoded columns\n",
      "DE_SERVICIO: 15 categories -> 14 encoded columns\n",
      "DE_COMPETENCIA: 3 categories -> 2 encoded columns\n",
      "DE_CLASIF_1: 18 categories -> 17 encoded columns\n",
      "DE_ESTADO_RECLAMO: 6 categories -> 5 encoded columns\n",
      "DE_ETAPA_RECLAMO: 5 categories -> 4 encoded columns\n",
      "DE_TIPO_ADMIN_DERIVA: 4 categories -> 3 encoded columns\n",
      "DE_RESULTADO: 7 categories -> 6 encoded columns\n",
      "DE_COMUN_RESULT: 6 categories -> 5 encoded columns\n"
     ]
    }
   ],
   "source": [
    "# Check number of unique categories in original vs encoded data\n",
    "for col in categorical_columns:\n",
    "    n_categories = len(df[col].unique())\n",
    "    n_encoded = sum(1 for c in df_encoded.columns if c.startswith(f\"{col}_\"))\n",
    "    print(f\"{col}: {n_categories} categories -> {n_encoded} encoded columns\")"
   ]
  },
  {
   "cell_type": "markdown",
   "id": "54e66fc5",
   "metadata": {},
   "source": [
    "### Preprocesamiento de datos de texto (DESCRIPCION)"
   ]
  },
  {
   "cell_type": "code",
   "execution_count": 69,
   "id": "398fa4dd",
   "metadata": {},
   "outputs": [],
   "source": [
    "def clean_text(text):\n",
    "    \"\"\"\n",
    "    Clean text by:\n",
    "    1. Converting to lowercase\n",
    "    2. Removing special characters and punctuation\n",
    "    3. Removing stopwords\n",
    "    4. Removing extra whitespace\n",
    "    \"\"\"\n",
    "    if not isinstance(text, str):\n",
    "        return \"\"\n",
    "        \n",
    "    # Convert to lowercase\n",
    "    text = text.lower()\n",
    "    \n",
    "    # Remove special characters and numbers\n",
    "    text = re.sub(r'[^\\w\\s]', ' ', text)\n",
    "    text = re.sub(r'\\d+', ' ', text)\n",
    "    \n",
    "    # Remove stopwords\n",
    "    stop_words = set(stopwords.words('spanish'))\n",
    "    words = text.split()\n",
    "    text = ' '.join([word for word in words if word not in stop_words])\n",
    "    \n",
    "    # Remove extra whitespace\n",
    "    text = re.sub(r'\\s+', ' ', text).strip()\n",
    "    \n",
    "    return text"
   ]
  },
  {
   "cell_type": "code",
   "execution_count": 70,
   "id": "a5131555",
   "metadata": {},
   "outputs": [],
   "source": [
    "# Apply cleaning to DESCRIPCION column\n",
    "df['DESCRIPCION_clean'] = df['DESCRIPCION'].apply(clean_text)"
   ]
  },
  {
   "cell_type": "code",
   "execution_count": 72,
   "id": "d29a02be",
   "metadata": {},
   "outputs": [
    {
     "name": "stdout",
     "output_type": "stream",
     "text": [
      "Muestra de textos originales vs. limpios:\n",
      "\n",
      "Original: Mi solicitud para recibir servicio de salud médico fue retrasada sin una justificación clara.\n",
      "Limpio: solicitud recibir servicio salud médico retrasada justificación clara\n",
      "\n",
      "Original: me cobró por una cirugía de emergencia que, como asegurado, debería estar cubierta.\n",
      "Limpio: cobró cirugía emergencia asegurado debería cubierta\n",
      "\n",
      "Original: Recibí un servicio deficiente de parte de la IAFAS.\n",
      "Limpio: recibí servicio deficiente parte iafas\n",
      "\n",
      "Original: El policlínico de mi zona no cuenta con traumatólogo, pese a ser una especialidad básica.\n",
      "Limpio: policlínico zona cuenta traumatólogo pese ser especialidad básica\n",
      "\n",
      "Original: Recibí un servicio deficiente de parte de la IAFAS.\n",
      "Limpio: recibí servicio deficiente parte iafas\n"
     ]
    }
   ],
   "source": [
    "# Show sample results\n",
    "print(\"Muestra de textos originales vs. limpios:\")\n",
    "for original, limpio in zip(df['DESCRIPCION'].head(), df['DESCRIPCION_clean'].head()):\n",
    "    print(\"\\nOriginal:\", original)\n",
    "    print(\"Limpio:\", limpio)"
   ]
  },
  {
   "cell_type": "code",
   "execution_count": 74,
   "id": "6f424ccd",
   "metadata": {},
   "outputs": [
    {
     "name": "stdout",
     "output_type": "stream",
     "text": [
      "\n",
      "Número de descripciones vacías: 0\n",
      "Longitud promedio (palabras): 3.86\n"
     ]
    }
   ],
   "source": [
    "# Print basic statistics\n",
    "print(f\"\\nNúmero de descripciones vacías: {df['DESCRIPCION_clean'].isna().sum()}\")\n",
    "print(f\"Longitud promedio (palabras): {df['DESCRIPCION_clean'].str.split().str.len().mean():.2f}\")"
   ]
  },
  {
   "cell_type": "markdown",
   "id": "8b72ea0d",
   "metadata": {},
   "source": [
    "### Construcción de la variable de urgencia (PRIORIDAD)"
   ]
  },
  {
   "cell_type": "code",
   "execution_count": 75,
   "id": "e2a24263",
   "metadata": {},
   "outputs": [
    {
     "data": {
      "text/plain": [
       "array(['-', 'Farmacia',\n",
       "       'Oficinas o áreas administrativas de IAFAS o IPRESS o UGIPRESS',\n",
       "       'Servicios Médicos de Apoyo', 'Consulta Externa',\n",
       "       'Hospitalización', 'Atención a domicilio, urgencia o emergencia',\n",
       "       'Atención a domicilio, consulta ambulatoria', 'Emergencia',\n",
       "       'Centro Quirúrgico', 'UCI o UCIN', 'Infraestructura',\n",
       "       'Referencia y Contrareferencia', 'Centro Obstétrico',\n",
       "       'Oficinas o áreas administrativas de IAFAS o IPRESS o UGIPRES'],\n",
       "      dtype=object)"
      ]
     },
     "execution_count": 75,
     "metadata": {},
     "output_type": "execute_result"
    }
   ],
   "source": [
    "df['DE_SERVICIO'].unique()"
   ]
  },
  {
   "cell_type": "code",
   "execution_count": 77,
   "id": "afaca69a",
   "metadata": {},
   "outputs": [],
   "source": [
    "def asignar_prioridad(row):\n",
    "    \"\"\"\n",
    "    Asigna prioridad basada en el servicio y duración del reclamo\n",
    "    Alta: Servicios críticos o reclamos que duran más de 30 días\n",
    "    Media: Servicios de atención directa\n",
    "    Baja: Servicios administrativos y otros\n",
    "    \"\"\"\n",
    "    servicios_alta = [\n",
    "        'UCI o UCIN',\n",
    "        'Emergencia',\n",
    "        'Centro Quirúrgico',\n",
    "        'Centro Obstétrico'\n",
    "    ]\n",
    "    \n",
    "    servicios_media = [\n",
    "        'Hospitalización',\n",
    "        'Atención a domicilio, urgencia o emergencia',\n",
    "        'Consulta Externa',\n",
    "        'Referencia y Contrareferencia',\n",
    "        'Atención a domicilio, consulta ambulatoria'\n",
    "    ]\n",
    "    \n",
    "    if row['DURACION_RECLAMO'] > 30:\n",
    "        return 'Alta'\n",
    "    elif row['DE_SERVICIO'] in servicios_alta:\n",
    "        return 'Alta'\n",
    "    elif row['DE_SERVICIO'] in servicios_media:\n",
    "        return 'Media'\n",
    "    else:\n",
    "        return 'Baja'"
   ]
  },
  {
   "cell_type": "code",
   "execution_count": 78,
   "id": "6cc8fc74",
   "metadata": {},
   "outputs": [],
   "source": [
    "# Aplicar la función y crear nueva columna\n",
    "df['PRIORIDAD'] = df.apply(asignar_prioridad, axis=1)\n"
   ]
  },
  {
   "cell_type": "code",
   "execution_count": 79,
   "id": "ed297f48",
   "metadata": {},
   "outputs": [
    {
     "name": "stdout",
     "output_type": "stream",
     "text": [
      "Distribución de prioridades:\n",
      "PRIORIDAD\n",
      "Baja     139402\n",
      "Alta      19183\n",
      "Media      4054\n",
      "Name: count, dtype: int64\n"
     ]
    }
   ],
   "source": [
    "# Verificar la distribución de prioridades\n",
    "print(\"Distribución de prioridades:\")\n",
    "print(df['PRIORIDAD'].value_counts())"
   ]
  },
  {
   "cell_type": "code",
   "execution_count": 80,
   "id": "33504383",
   "metadata": {},
   "outputs": [
    {
     "name": "stdout",
     "output_type": "stream",
     "text": [
      "\n",
      "Ejemplos de reclamos por prioridad:\n",
      "\n",
      "Prioridad Alta:\n",
      "   DE_SERVICIO  DURACION_RECLAMO PRIORIDAD\n",
      "1            -                45      Alta\n",
      "9            -                45      Alta\n",
      "86           -                31      Alta\n",
      "\n",
      "Prioridad Media:\n",
      "                                      DE_SERVICIO  DURACION_RECLAMO PRIORIDAD\n",
      "1613                             Consulta Externa                 0     Media\n",
      "1614                             Consulta Externa                 0     Media\n",
      "1622  Atención a domicilio, urgencia o emergencia                 0     Media\n",
      "\n",
      "Prioridad Baja:\n",
      "  DE_SERVICIO  DURACION_RECLAMO PRIORIDAD\n",
      "0           -                24      Baja\n",
      "2           -                14      Baja\n",
      "3           -                19      Baja\n"
     ]
    }
   ],
   "source": [
    "# Mostrar ejemplos de cada prioridad\n",
    "print(\"\\nEjemplos de reclamos por prioridad:\")\n",
    "for prioridad in ['Alta', 'Media', 'Baja']:\n",
    "    print(f\"\\nPrioridad {prioridad}:\")\n",
    "    muestra = df[df['PRIORIDAD'] == prioridad][['DE_SERVICIO', 'DURACION_RECLAMO', 'PRIORIDAD']].head(3)\n",
    "    print(muestra.to_string())"
   ]
  },
  {
   "cell_type": "code",
   "execution_count": 50,
   "id": "cb8215d0",
   "metadata": {},
   "outputs": [],
   "source": [
    "####"
   ]
  },
  {
   "cell_type": "code",
   "execution_count": 4,
   "id": "f3fe4c51-fdee-4b8f-85cf-3c1390ee42a7",
   "metadata": {},
   "outputs": [],
   "source": [
    "# 📌 3. Preprocesamiento de Texto\n",
    "def limpiar_texto(texto):\n",
    "    texto = texto.lower()  # Minúsculas\n",
    "    texto = re.sub(r'\\d+', '', texto)  # Eliminar números\n",
    "    texto = texto.translate(str.maketrans('', '', string.punctuation))  # Eliminar puntuación\n",
    "    tokens = word_tokenize(texto)  # Tokenización\n",
    "    tokens = [word for word in tokens if word not in stopwords.words(\"spanish\")]  # Eliminar stopwords\n",
    "    return \" \".join(tokens)"
   ]
  },
  {
   "cell_type": "code",
   "execution_count": 5,
   "id": "e549a862-a4b5-4b97-8264-e3e7c8a6f85e",
   "metadata": {},
   "outputs": [],
   "source": [
    "df[\"texto_limpio\"] = df[\"DESCRIPCION\"].dropna().apply(limpiar_texto)"
   ]
  },
  {
   "cell_type": "code",
   "execution_count": 12,
   "id": "1375fc51",
   "metadata": {},
   "outputs": [
    {
     "name": "stdout",
     "output_type": "stream",
     "text": [
      "Number of NaN values: 0\n"
     ]
    }
   ],
   "source": [
    "# Clean NaN values and convert to string\n",
    "df[\"texto_limpio\"] = df[\"texto_limpio\"].fillna(\"\")\n",
    "\n",
    "# Verify there are no NaN values\n",
    "print(\"Number of NaN values:\", df[\"texto_limpio\"].isna().sum())\n",
    "\n",
    "# 📌 4. Convert text to TF-IDF vectors\n",
    "vectorizer = TfidfVectorizer(max_features=5000)\n",
    "X = vectorizer.fit_transform(df[\"texto_limpio\"])"
   ]
  },
  {
   "cell_type": "code",
   "execution_count": 13,
   "id": "729557b2-15da-478e-91cb-d998cabdb6a1",
   "metadata": {},
   "outputs": [],
   "source": [
    "# 📌 4. Convertir texto a vectores TF-IDF\n",
    "vectorizer = TfidfVectorizer(max_features=5000)\n",
    "X = vectorizer.fit_transform(df[\"texto_limpio\"])"
   ]
  },
  {
   "cell_type": "code",
   "execution_count": 14,
   "id": "5db8a664-371f-44b8-8937-5f72feb1d77b",
   "metadata": {},
   "outputs": [],
   "source": [
    "# 📌 5. Definir la variable objetivo (Clasificador)\n",
    "y = df[\"DE_CLASIF_1\"]  # Asegúrate de que esta columna existe"
   ]
  },
  {
   "cell_type": "code",
   "execution_count": 15,
   "id": "6123a9f4-beed-4a70-b910-d7fc9d6e1a79",
   "metadata": {},
   "outputs": [],
   "source": [
    "# 📌 6. Dividir en conjunto de entrenamiento y prueba\n",
    "X_train, X_test, y_train, y_test = train_test_split(X, y, test_size=0.2, random_state=42)"
   ]
  },
  {
   "cell_type": "code",
   "execution_count": 16,
   "id": "5abc4df4-2d21-49bd-b0e7-5fa6e23b7def",
   "metadata": {},
   "outputs": [
    {
     "data": {
      "text/html": [
       "<style>#sk-container-id-1 {\n",
       "  /* Definition of color scheme common for light and dark mode */\n",
       "  --sklearn-color-text: black;\n",
       "  --sklearn-color-line: gray;\n",
       "  /* Definition of color scheme for unfitted estimators */\n",
       "  --sklearn-color-unfitted-level-0: #fff5e6;\n",
       "  --sklearn-color-unfitted-level-1: #f6e4d2;\n",
       "  --sklearn-color-unfitted-level-2: #ffe0b3;\n",
       "  --sklearn-color-unfitted-level-3: chocolate;\n",
       "  /* Definition of color scheme for fitted estimators */\n",
       "  --sklearn-color-fitted-level-0: #f0f8ff;\n",
       "  --sklearn-color-fitted-level-1: #d4ebff;\n",
       "  --sklearn-color-fitted-level-2: #b3dbfd;\n",
       "  --sklearn-color-fitted-level-3: cornflowerblue;\n",
       "\n",
       "  /* Specific color for light theme */\n",
       "  --sklearn-color-text-on-default-background: var(--sg-text-color, var(--theme-code-foreground, var(--jp-content-font-color1, black)));\n",
       "  --sklearn-color-background: var(--sg-background-color, var(--theme-background, var(--jp-layout-color0, white)));\n",
       "  --sklearn-color-border-box: var(--sg-text-color, var(--theme-code-foreground, var(--jp-content-font-color1, black)));\n",
       "  --sklearn-color-icon: #696969;\n",
       "\n",
       "  @media (prefers-color-scheme: dark) {\n",
       "    /* Redefinition of color scheme for dark theme */\n",
       "    --sklearn-color-text-on-default-background: var(--sg-text-color, var(--theme-code-foreground, var(--jp-content-font-color1, white)));\n",
       "    --sklearn-color-background: var(--sg-background-color, var(--theme-background, var(--jp-layout-color0, #111)));\n",
       "    --sklearn-color-border-box: var(--sg-text-color, var(--theme-code-foreground, var(--jp-content-font-color1, white)));\n",
       "    --sklearn-color-icon: #878787;\n",
       "  }\n",
       "}\n",
       "\n",
       "#sk-container-id-1 {\n",
       "  color: var(--sklearn-color-text);\n",
       "}\n",
       "\n",
       "#sk-container-id-1 pre {\n",
       "  padding: 0;\n",
       "}\n",
       "\n",
       "#sk-container-id-1 input.sk-hidden--visually {\n",
       "  border: 0;\n",
       "  clip: rect(1px 1px 1px 1px);\n",
       "  clip: rect(1px, 1px, 1px, 1px);\n",
       "  height: 1px;\n",
       "  margin: -1px;\n",
       "  overflow: hidden;\n",
       "  padding: 0;\n",
       "  position: absolute;\n",
       "  width: 1px;\n",
       "}\n",
       "\n",
       "#sk-container-id-1 div.sk-dashed-wrapped {\n",
       "  border: 1px dashed var(--sklearn-color-line);\n",
       "  margin: 0 0.4em 0.5em 0.4em;\n",
       "  box-sizing: border-box;\n",
       "  padding-bottom: 0.4em;\n",
       "  background-color: var(--sklearn-color-background);\n",
       "}\n",
       "\n",
       "#sk-container-id-1 div.sk-container {\n",
       "  /* jupyter's `normalize.less` sets `[hidden] { display: none; }`\n",
       "     but bootstrap.min.css set `[hidden] { display: none !important; }`\n",
       "     so we also need the `!important` here to be able to override the\n",
       "     default hidden behavior on the sphinx rendered scikit-learn.org.\n",
       "     See: https://github.com/scikit-learn/scikit-learn/issues/21755 */\n",
       "  display: inline-block !important;\n",
       "  position: relative;\n",
       "}\n",
       "\n",
       "#sk-container-id-1 div.sk-text-repr-fallback {\n",
       "  display: none;\n",
       "}\n",
       "\n",
       "div.sk-parallel-item,\n",
       "div.sk-serial,\n",
       "div.sk-item {\n",
       "  /* draw centered vertical line to link estimators */\n",
       "  background-image: linear-gradient(var(--sklearn-color-text-on-default-background), var(--sklearn-color-text-on-default-background));\n",
       "  background-size: 2px 100%;\n",
       "  background-repeat: no-repeat;\n",
       "  background-position: center center;\n",
       "}\n",
       "\n",
       "/* Parallel-specific style estimator block */\n",
       "\n",
       "#sk-container-id-1 div.sk-parallel-item::after {\n",
       "  content: \"\";\n",
       "  width: 100%;\n",
       "  border-bottom: 2px solid var(--sklearn-color-text-on-default-background);\n",
       "  flex-grow: 1;\n",
       "}\n",
       "\n",
       "#sk-container-id-1 div.sk-parallel {\n",
       "  display: flex;\n",
       "  align-items: stretch;\n",
       "  justify-content: center;\n",
       "  background-color: var(--sklearn-color-background);\n",
       "  position: relative;\n",
       "}\n",
       "\n",
       "#sk-container-id-1 div.sk-parallel-item {\n",
       "  display: flex;\n",
       "  flex-direction: column;\n",
       "}\n",
       "\n",
       "#sk-container-id-1 div.sk-parallel-item:first-child::after {\n",
       "  align-self: flex-end;\n",
       "  width: 50%;\n",
       "}\n",
       "\n",
       "#sk-container-id-1 div.sk-parallel-item:last-child::after {\n",
       "  align-self: flex-start;\n",
       "  width: 50%;\n",
       "}\n",
       "\n",
       "#sk-container-id-1 div.sk-parallel-item:only-child::after {\n",
       "  width: 0;\n",
       "}\n",
       "\n",
       "/* Serial-specific style estimator block */\n",
       "\n",
       "#sk-container-id-1 div.sk-serial {\n",
       "  display: flex;\n",
       "  flex-direction: column;\n",
       "  align-items: center;\n",
       "  background-color: var(--sklearn-color-background);\n",
       "  padding-right: 1em;\n",
       "  padding-left: 1em;\n",
       "}\n",
       "\n",
       "\n",
       "/* Toggleable style: style used for estimator/Pipeline/ColumnTransformer box that is\n",
       "clickable and can be expanded/collapsed.\n",
       "- Pipeline and ColumnTransformer use this feature and define the default style\n",
       "- Estimators will overwrite some part of the style using the `sk-estimator` class\n",
       "*/\n",
       "\n",
       "/* Pipeline and ColumnTransformer style (default) */\n",
       "\n",
       "#sk-container-id-1 div.sk-toggleable {\n",
       "  /* Default theme specific background. It is overwritten whether we have a\n",
       "  specific estimator or a Pipeline/ColumnTransformer */\n",
       "  background-color: var(--sklearn-color-background);\n",
       "}\n",
       "\n",
       "/* Toggleable label */\n",
       "#sk-container-id-1 label.sk-toggleable__label {\n",
       "  cursor: pointer;\n",
       "  display: block;\n",
       "  width: 100%;\n",
       "  margin-bottom: 0;\n",
       "  padding: 0.5em;\n",
       "  box-sizing: border-box;\n",
       "  text-align: center;\n",
       "}\n",
       "\n",
       "#sk-container-id-1 label.sk-toggleable__label-arrow:before {\n",
       "  /* Arrow on the left of the label */\n",
       "  content: \"▸\";\n",
       "  float: left;\n",
       "  margin-right: 0.25em;\n",
       "  color: var(--sklearn-color-icon);\n",
       "}\n",
       "\n",
       "#sk-container-id-1 label.sk-toggleable__label-arrow:hover:before {\n",
       "  color: var(--sklearn-color-text);\n",
       "}\n",
       "\n",
       "/* Toggleable content - dropdown */\n",
       "\n",
       "#sk-container-id-1 div.sk-toggleable__content {\n",
       "  max-height: 0;\n",
       "  max-width: 0;\n",
       "  overflow: hidden;\n",
       "  text-align: left;\n",
       "  /* unfitted */\n",
       "  background-color: var(--sklearn-color-unfitted-level-0);\n",
       "}\n",
       "\n",
       "#sk-container-id-1 div.sk-toggleable__content.fitted {\n",
       "  /* fitted */\n",
       "  background-color: var(--sklearn-color-fitted-level-0);\n",
       "}\n",
       "\n",
       "#sk-container-id-1 div.sk-toggleable__content pre {\n",
       "  margin: 0.2em;\n",
       "  border-radius: 0.25em;\n",
       "  color: var(--sklearn-color-text);\n",
       "  /* unfitted */\n",
       "  background-color: var(--sklearn-color-unfitted-level-0);\n",
       "}\n",
       "\n",
       "#sk-container-id-1 div.sk-toggleable__content.fitted pre {\n",
       "  /* unfitted */\n",
       "  background-color: var(--sklearn-color-fitted-level-0);\n",
       "}\n",
       "\n",
       "#sk-container-id-1 input.sk-toggleable__control:checked~div.sk-toggleable__content {\n",
       "  /* Expand drop-down */\n",
       "  max-height: 200px;\n",
       "  max-width: 100%;\n",
       "  overflow: auto;\n",
       "}\n",
       "\n",
       "#sk-container-id-1 input.sk-toggleable__control:checked~label.sk-toggleable__label-arrow:before {\n",
       "  content: \"▾\";\n",
       "}\n",
       "\n",
       "/* Pipeline/ColumnTransformer-specific style */\n",
       "\n",
       "#sk-container-id-1 div.sk-label input.sk-toggleable__control:checked~label.sk-toggleable__label {\n",
       "  color: var(--sklearn-color-text);\n",
       "  background-color: var(--sklearn-color-unfitted-level-2);\n",
       "}\n",
       "\n",
       "#sk-container-id-1 div.sk-label.fitted input.sk-toggleable__control:checked~label.sk-toggleable__label {\n",
       "  background-color: var(--sklearn-color-fitted-level-2);\n",
       "}\n",
       "\n",
       "/* Estimator-specific style */\n",
       "\n",
       "/* Colorize estimator box */\n",
       "#sk-container-id-1 div.sk-estimator input.sk-toggleable__control:checked~label.sk-toggleable__label {\n",
       "  /* unfitted */\n",
       "  background-color: var(--sklearn-color-unfitted-level-2);\n",
       "}\n",
       "\n",
       "#sk-container-id-1 div.sk-estimator.fitted input.sk-toggleable__control:checked~label.sk-toggleable__label {\n",
       "  /* fitted */\n",
       "  background-color: var(--sklearn-color-fitted-level-2);\n",
       "}\n",
       "\n",
       "#sk-container-id-1 div.sk-label label.sk-toggleable__label,\n",
       "#sk-container-id-1 div.sk-label label {\n",
       "  /* The background is the default theme color */\n",
       "  color: var(--sklearn-color-text-on-default-background);\n",
       "}\n",
       "\n",
       "/* On hover, darken the color of the background */\n",
       "#sk-container-id-1 div.sk-label:hover label.sk-toggleable__label {\n",
       "  color: var(--sklearn-color-text);\n",
       "  background-color: var(--sklearn-color-unfitted-level-2);\n",
       "}\n",
       "\n",
       "/* Label box, darken color on hover, fitted */\n",
       "#sk-container-id-1 div.sk-label.fitted:hover label.sk-toggleable__label.fitted {\n",
       "  color: var(--sklearn-color-text);\n",
       "  background-color: var(--sklearn-color-fitted-level-2);\n",
       "}\n",
       "\n",
       "/* Estimator label */\n",
       "\n",
       "#sk-container-id-1 div.sk-label label {\n",
       "  font-family: monospace;\n",
       "  font-weight: bold;\n",
       "  display: inline-block;\n",
       "  line-height: 1.2em;\n",
       "}\n",
       "\n",
       "#sk-container-id-1 div.sk-label-container {\n",
       "  text-align: center;\n",
       "}\n",
       "\n",
       "/* Estimator-specific */\n",
       "#sk-container-id-1 div.sk-estimator {\n",
       "  font-family: monospace;\n",
       "  border: 1px dotted var(--sklearn-color-border-box);\n",
       "  border-radius: 0.25em;\n",
       "  box-sizing: border-box;\n",
       "  margin-bottom: 0.5em;\n",
       "  /* unfitted */\n",
       "  background-color: var(--sklearn-color-unfitted-level-0);\n",
       "}\n",
       "\n",
       "#sk-container-id-1 div.sk-estimator.fitted {\n",
       "  /* fitted */\n",
       "  background-color: var(--sklearn-color-fitted-level-0);\n",
       "}\n",
       "\n",
       "/* on hover */\n",
       "#sk-container-id-1 div.sk-estimator:hover {\n",
       "  /* unfitted */\n",
       "  background-color: var(--sklearn-color-unfitted-level-2);\n",
       "}\n",
       "\n",
       "#sk-container-id-1 div.sk-estimator.fitted:hover {\n",
       "  /* fitted */\n",
       "  background-color: var(--sklearn-color-fitted-level-2);\n",
       "}\n",
       "\n",
       "/* Specification for estimator info (e.g. \"i\" and \"?\") */\n",
       "\n",
       "/* Common style for \"i\" and \"?\" */\n",
       "\n",
       ".sk-estimator-doc-link,\n",
       "a:link.sk-estimator-doc-link,\n",
       "a:visited.sk-estimator-doc-link {\n",
       "  float: right;\n",
       "  font-size: smaller;\n",
       "  line-height: 1em;\n",
       "  font-family: monospace;\n",
       "  background-color: var(--sklearn-color-background);\n",
       "  border-radius: 1em;\n",
       "  height: 1em;\n",
       "  width: 1em;\n",
       "  text-decoration: none !important;\n",
       "  margin-left: 1ex;\n",
       "  /* unfitted */\n",
       "  border: var(--sklearn-color-unfitted-level-1) 1pt solid;\n",
       "  color: var(--sklearn-color-unfitted-level-1);\n",
       "}\n",
       "\n",
       ".sk-estimator-doc-link.fitted,\n",
       "a:link.sk-estimator-doc-link.fitted,\n",
       "a:visited.sk-estimator-doc-link.fitted {\n",
       "  /* fitted */\n",
       "  border: var(--sklearn-color-fitted-level-1) 1pt solid;\n",
       "  color: var(--sklearn-color-fitted-level-1);\n",
       "}\n",
       "\n",
       "/* On hover */\n",
       "div.sk-estimator:hover .sk-estimator-doc-link:hover,\n",
       ".sk-estimator-doc-link:hover,\n",
       "div.sk-label-container:hover .sk-estimator-doc-link:hover,\n",
       ".sk-estimator-doc-link:hover {\n",
       "  /* unfitted */\n",
       "  background-color: var(--sklearn-color-unfitted-level-3);\n",
       "  color: var(--sklearn-color-background);\n",
       "  text-decoration: none;\n",
       "}\n",
       "\n",
       "div.sk-estimator.fitted:hover .sk-estimator-doc-link.fitted:hover,\n",
       ".sk-estimator-doc-link.fitted:hover,\n",
       "div.sk-label-container:hover .sk-estimator-doc-link.fitted:hover,\n",
       ".sk-estimator-doc-link.fitted:hover {\n",
       "  /* fitted */\n",
       "  background-color: var(--sklearn-color-fitted-level-3);\n",
       "  color: var(--sklearn-color-background);\n",
       "  text-decoration: none;\n",
       "}\n",
       "\n",
       "/* Span, style for the box shown on hovering the info icon */\n",
       ".sk-estimator-doc-link span {\n",
       "  display: none;\n",
       "  z-index: 9999;\n",
       "  position: relative;\n",
       "  font-weight: normal;\n",
       "  right: .2ex;\n",
       "  padding: .5ex;\n",
       "  margin: .5ex;\n",
       "  width: min-content;\n",
       "  min-width: 20ex;\n",
       "  max-width: 50ex;\n",
       "  color: var(--sklearn-color-text);\n",
       "  box-shadow: 2pt 2pt 4pt #999;\n",
       "  /* unfitted */\n",
       "  background: var(--sklearn-color-unfitted-level-0);\n",
       "  border: .5pt solid var(--sklearn-color-unfitted-level-3);\n",
       "}\n",
       "\n",
       ".sk-estimator-doc-link.fitted span {\n",
       "  /* fitted */\n",
       "  background: var(--sklearn-color-fitted-level-0);\n",
       "  border: var(--sklearn-color-fitted-level-3);\n",
       "}\n",
       "\n",
       ".sk-estimator-doc-link:hover span {\n",
       "  display: block;\n",
       "}\n",
       "\n",
       "/* \"?\"-specific style due to the `<a>` HTML tag */\n",
       "\n",
       "#sk-container-id-1 a.estimator_doc_link {\n",
       "  float: right;\n",
       "  font-size: 1rem;\n",
       "  line-height: 1em;\n",
       "  font-family: monospace;\n",
       "  background-color: var(--sklearn-color-background);\n",
       "  border-radius: 1rem;\n",
       "  height: 1rem;\n",
       "  width: 1rem;\n",
       "  text-decoration: none;\n",
       "  /* unfitted */\n",
       "  color: var(--sklearn-color-unfitted-level-1);\n",
       "  border: var(--sklearn-color-unfitted-level-1) 1pt solid;\n",
       "}\n",
       "\n",
       "#sk-container-id-1 a.estimator_doc_link.fitted {\n",
       "  /* fitted */\n",
       "  border: var(--sklearn-color-fitted-level-1) 1pt solid;\n",
       "  color: var(--sklearn-color-fitted-level-1);\n",
       "}\n",
       "\n",
       "/* On hover */\n",
       "#sk-container-id-1 a.estimator_doc_link:hover {\n",
       "  /* unfitted */\n",
       "  background-color: var(--sklearn-color-unfitted-level-3);\n",
       "  color: var(--sklearn-color-background);\n",
       "  text-decoration: none;\n",
       "}\n",
       "\n",
       "#sk-container-id-1 a.estimator_doc_link.fitted:hover {\n",
       "  /* fitted */\n",
       "  background-color: var(--sklearn-color-fitted-level-3);\n",
       "}\n",
       "</style><div id=\"sk-container-id-1\" class=\"sk-top-container\"><div class=\"sk-text-repr-fallback\"><pre>MultinomialNB()</pre><b>In a Jupyter environment, please rerun this cell to show the HTML representation or trust the notebook. <br />On GitHub, the HTML representation is unable to render, please try loading this page with nbviewer.org.</b></div><div class=\"sk-container\" hidden><div class=\"sk-item\"><div class=\"sk-estimator fitted sk-toggleable\"><input class=\"sk-toggleable__control sk-hidden--visually\" id=\"sk-estimator-id-1\" type=\"checkbox\" checked><label for=\"sk-estimator-id-1\" class=\"sk-toggleable__label fitted sk-toggleable__label-arrow fitted\">&nbsp;&nbsp;MultinomialNB<a class=\"sk-estimator-doc-link fitted\" rel=\"noreferrer\" target=\"_blank\" href=\"https://scikit-learn.org/1.5/modules/generated/sklearn.naive_bayes.MultinomialNB.html\">?<span>Documentation for MultinomialNB</span></a><span class=\"sk-estimator-doc-link fitted\">i<span>Fitted</span></span></label><div class=\"sk-toggleable__content fitted\"><pre>MultinomialNB()</pre></div> </div></div></div></div>"
      ],
      "text/plain": [
       "MultinomialNB()"
      ]
     },
     "execution_count": 16,
     "metadata": {},
     "output_type": "execute_result"
    }
   ],
   "source": [
    "# 📌 7. Entrenar modelo Naïve Bayes\n",
    "modelo = MultinomialNB()\n",
    "modelo.fit(X_train, y_train)"
   ]
  },
  {
   "cell_type": "code",
   "execution_count": 17,
   "id": "e9fc3c29-c3e1-4e81-b0cc-9daf762fcac8",
   "metadata": {},
   "outputs": [],
   "source": [
    "# 📌 8. Evaluar Modelo\n",
    "y_pred = modelo.predict(X_test)"
   ]
  },
  {
   "cell_type": "code",
   "execution_count": 18,
   "id": "439a63ed-7af2-49b8-a649-8cf73b6e82cc",
   "metadata": {},
   "outputs": [
    {
     "name": "stdout",
     "output_type": "stream",
     "text": [
      "Exactitud (Accuracy): 0.9661214953271028\n"
     ]
    },
    {
     "name": "stderr",
     "output_type": "stream",
     "text": [
      "c:\\Users\\harol\\anaconda3\\Lib\\site-packages\\sklearn\\metrics\\_classification.py:1531: UndefinedMetricWarning: Precision is ill-defined and being set to 0.0 in labels with no predicted samples. Use `zero_division` parameter to control this behavior.\n",
      "  _warn_prf(average, modifier, f\"{metric.capitalize()} is\", len(result))\n",
      "c:\\Users\\harol\\anaconda3\\Lib\\site-packages\\sklearn\\metrics\\_classification.py:1531: UndefinedMetricWarning: Precision is ill-defined and being set to 0.0 in labels with no predicted samples. Use `zero_division` parameter to control this behavior.\n",
      "  _warn_prf(average, modifier, f\"{metric.capitalize()} is\", len(result))\n"
     ]
    },
    {
     "name": "stdout",
     "output_type": "stream",
     "text": [
      "Reporte de Clasificación:\n",
      "                                                                                   precision    recall  f1-score   support\n",
      "\n",
      "                                                                               -       0.99      1.00      1.00     12640\n",
      "                                                            Cobrar indebidamente       1.00      1.00      1.00      2107\n",
      "                      Demorar la gestión de la carta de garantía y/o reembolsos.       0.00      0.00      0.00      1030\n",
      "                       Negar atención para el trámite de registro o acreditación       1.00      1.00      1.00       196\n",
      "                     Negar el otorgamiento de prestaciones económicas o sociales       1.00      0.61      0.76        49\n",
      "                                     Negar la acreditación de usuario asegurado.       0.68      1.00      0.81      2173\n",
      "                                                 Negar la afiliación del usuario       1.00      0.90      0.95        60\n",
      "                         Negar la cobertura de emergencia en periodo de carencia       0.00      0.00      0.00        10\n",
      "                                       Negar la cobertura en periodo de latencia       0.99      0.97      0.98       104\n",
      "                                 Negar o demora en otorgar la cobertura en salud       1.00      0.99      1.00      1859\n",
      "                                      Negar o demorar en la atención en la IAFAS       1.00      0.98      0.99       406\n",
      "               No brindar atención con respeto de parte del personal de la IAFAS       1.00      1.00      1.00       114\n",
      "     No brindar atención según la ley de atención preferencial y de discapacidad       0.00      0.00      0.00         5\n",
      "                              No brindar información sobre sus derechos en salud       1.00      1.00      1.00      1202\n",
      "                No cumplir con la disposición de libro de reclamaciones en salud       0.00      0.00      0.00        11\n",
      "No cumplir con las disposiciones de la PAUS de acuerdo a la normatividad vigente       1.00      1.00      1.00       110\n",
      "   No permitir al usuario la libre elección de IPRESS de acuerdo a lo contratado       1.00      1.00      1.00      1745\n",
      "                                                     Otros relativos a las IAFAS       1.00      1.00      1.00      8707\n",
      "\n",
      "                                                                        accuracy                           0.97     32528\n",
      "                                                                       macro avg       0.76      0.75      0.75     32528\n",
      "                                                                    weighted avg       0.94      0.97      0.95     32528\n",
      "\n"
     ]
    },
    {
     "name": "stderr",
     "output_type": "stream",
     "text": [
      "c:\\Users\\harol\\anaconda3\\Lib\\site-packages\\sklearn\\metrics\\_classification.py:1531: UndefinedMetricWarning: Precision is ill-defined and being set to 0.0 in labels with no predicted samples. Use `zero_division` parameter to control this behavior.\n",
      "  _warn_prf(average, modifier, f\"{metric.capitalize()} is\", len(result))\n"
     ]
    }
   ],
   "source": [
    "# 📌 9. Métricas de evaluación\n",
    "print(\"Exactitud (Accuracy):\", accuracy_score(y_test, y_pred))\n",
    "print(\"Reporte de Clasificación:\\n\", classification_report(y_test, y_pred))"
   ]
  },
  {
   "cell_type": "code",
   "execution_count": 19,
   "id": "cf70369e-cf7c-4fcf-8f7d-c965101d5d03",
   "metadata": {},
   "outputs": [
    {
     "data": {
      "image/png": "[encoded data removed]",
      "text/plain": [
       "<Figure size 800x600 with 2 Axes>"
      ]
     },
     "metadata": {},
     "output_type": "display_data"
    }
   ],
   "source": [
    "# 📌 10. Matriz de Confusión\n",
    "plt.figure(figsize=(8,6))\n",
    "sns.heatmap(confusion_matrix(y_test, y_pred), annot=True, fmt=\"d\", cmap=\"Blues\")\n",
    "plt.xlabel(\"Predicción\")\n",
    "plt.ylabel(\"Real\")\n",
    "plt.title(\"Matriz de Confusión\")\n",
    "plt.show()\n"
   ]
  },
  {
   "cell_type": "code",
   "execution_count": 20,
   "id": "f6926ef6-8716-49dc-ae82-62f3e12e2a00",
   "metadata": {},
   "outputs": [],
   "source": [
    "# 📌 11. Función para clasificar nuevos reclamos\n",
    "def predecir_clasificacion(texto):\n",
    "    texto_procesado = limpiar_texto(texto)\n",
    "    texto_vectorizado = vectorizer.transform([texto_procesado])\n",
    "    return modelo.predict(texto_vectorizado)[0]"
   ]
  },
  {
   "cell_type": "code",
   "execution_count": 42,
   "id": "2392c7e2-c999-4485-8835-911f59e701ab",
   "metadata": {},
   "outputs": [
    {
     "name": "stdout",
     "output_type": "stream",
     "text": [
      "Clasificación Predicha: Cobrar indebidamente\n"
     ]
    }
   ],
   "source": [
    "# 📌 12. Probar con un reclamo nuevo\n",
    "nuevo_reclamo = \"Cobro en farmacia\"\n",
    "print(\"Clasificación Predicha:\", predecir_clasificacion(nuevo_reclamo))"
   ]
  }
 ],
 "metadata": {
  "kernelspec": {
   "display_name": "base",
   "language": "python",
   "name": "python3"
  },
  "language_info": {
   "codemirror_mode": {
    "name": "ipython",
    "version": 3
   },
   "file_extension": ".py",
   "mimetype": "text/x-python",
   "name": "python",
   "nbconvert_exporter": "python",
   "pygments_lexer": "ipython3",
   "version": "3.12.7"
  }
 },
 "nbformat": 4,
 "nbformat_minor": 5
}
