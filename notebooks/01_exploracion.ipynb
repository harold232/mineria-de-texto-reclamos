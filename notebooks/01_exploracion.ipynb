{
 "cells": [
  {
   "cell_type": "markdown",
   "id": "55376503-300f-426f-84e5-f357853c07b6",
   "metadata": {},
   "source": [
    "# Importacion de librerias\n"
   ]
  },
  {
   "cell_type": "code",
   "execution_count": 1,
   "id": "83c1f292-0522-4608-8490-6468d53f9457",
   "metadata": {},
   "outputs": [],
   "source": [
    "import pandas as pd\n",
    "import matplotlib.pyplot as plt\n",
    "import seaborn as sns"
   ]
  },
  {
   "cell_type": "markdown",
   "id": "0ce33910-fb27-45d2-a897-9b21343d9e05",
   "metadata": {},
   "source": [
    "# Cargar datos procesados"
   ]
  },
  {
   "cell_type": "code",
   "execution_count": 2,
   "id": "5c9c83e1-fa42-4801-9f5a-55db4685a01b",
   "metadata": {},
   "outputs": [],
   "source": [
    "df = pd.read_csv(\"../data/processed/reclamos_clean.csv\", low_memory=False)"
   ]
  },
  {
   "cell_type": "code",
   "execution_count": 3,
   "id": "578df8da-1f88-42e1-86de-a859491b1d3e",
   "metadata": {},
   "outputs": [
    {
     "name": "stdout",
     "output_type": "stream",
     "text": [
      "<class 'pandas.core.frame.DataFrame'>\n",
      "RangeIndex: 162639 entries, 0 to 162638\n",
      "Data columns (total 27 columns):\n",
      " #   Column                 Non-Null Count   Dtype \n",
      "---  ------                 --------------   ----- \n",
      " 0   ID_PERIODO             162639 non-null  int64 \n",
      " 1   DE_TIPO_ADMINISTRADO   162639 non-null  object\n",
      " 2   CO_ADMIN_DECLA         162639 non-null  int64 \n",
      " 3   CO_UGIPRESS            162639 non-null  int64 \n",
      " 4   DE_TIPO_INSTITUCION    162639 non-null  object\n",
      " 5   CO_ADMIN_SUCE          162639 non-null  int64 \n",
      " 6   DE_MEDIO_PRESENTACION  162639 non-null  object\n",
      " 7   CO_UNICO_RECLAMO       162639 non-null  object\n",
      " 8   DE_MEDIO_RECEPCION     162639 non-null  object\n",
      " 9   FE_PRESEN_RECLA        162639 non-null  object\n",
      " 10  DE_SERVICIO            162639 non-null  object\n",
      " 11  DE_COMPETENCIA         162639 non-null  object\n",
      " 12  DE_CLASIF_1            162639 non-null  object\n",
      " 13  DE_CLASIF_2            162639 non-null  object\n",
      " 14  DE_CLASIF_3            162639 non-null  object\n",
      " 15  DE_ESTADO_RECLAMO      162639 non-null  object\n",
      " 16  CO_RECLAMO_PRIMIG      162639 non-null  object\n",
      " 17  DE_ETAPA_RECLAMO       162639 non-null  object\n",
      " 18  DE_TIPO_ADMIN_DERIVA   162639 non-null  object\n",
      " 19  CO_ADMIN_DERIVA        162639 non-null  object\n",
      " 20  DE_RESULTADO           162639 non-null  object\n",
      " 21  DE_MOTIVO_CONCL_ANTIC  162639 non-null  object\n",
      " 22  FE_RESULT_RECL         65217 non-null   object\n",
      " 23  DE_COMUN_RESULT        162639 non-null  object\n",
      " 24  FE_NOTIFI_RESULT       57899 non-null   object\n",
      " 25  AÑO                    162639 non-null  int64 \n",
      " 26  MES                    162639 non-null  int64 \n",
      "dtypes: int64(6), object(21)\n",
      "memory usage: 33.5+ MB\n"
     ]
    }
   ],
   "source": [
    "df.info()"
   ]
  },
  {
   "cell_type": "code",
   "execution_count": 4,
   "id": "074a3920-48cf-4bef-9bbd-979dbeb820a9",
   "metadata": {},
   "outputs": [
    {
     "data": {
      "text/html": [
       "<div>\n",
       "<style scoped>\n",
       "    .dataframe tbody tr th:only-of-type {\n",
       "        vertical-align: middle;\n",
       "    }\n",
       "\n",
       "    .dataframe tbody tr th {\n",
       "        vertical-align: top;\n",
       "    }\n",
       "\n",
       "    .dataframe thead th {\n",
       "        text-align: right;\n",
       "    }\n",
       "</style>\n",
       "<table border=\"1\" class=\"dataframe\">\n",
       "  <thead>\n",
       "    <tr style=\"text-align: right;\">\n",
       "      <th></th>\n",
       "      <th>ID_PERIODO</th>\n",
       "      <th>DE_TIPO_ADMINISTRADO</th>\n",
       "      <th>CO_ADMIN_DECLA</th>\n",
       "      <th>CO_UGIPRESS</th>\n",
       "      <th>DE_TIPO_INSTITUCION</th>\n",
       "      <th>CO_ADMIN_SUCE</th>\n",
       "      <th>DE_MEDIO_PRESENTACION</th>\n",
       "      <th>CO_UNICO_RECLAMO</th>\n",
       "      <th>DE_MEDIO_RECEPCION</th>\n",
       "      <th>FE_PRESEN_RECLA</th>\n",
       "      <th>...</th>\n",
       "      <th>DE_ETAPA_RECLAMO</th>\n",
       "      <th>DE_TIPO_ADMIN_DERIVA</th>\n",
       "      <th>CO_ADMIN_DERIVA</th>\n",
       "      <th>DE_RESULTADO</th>\n",
       "      <th>DE_MOTIVO_CONCL_ANTIC</th>\n",
       "      <th>FE_RESULT_RECL</th>\n",
       "      <th>DE_COMUN_RESULT</th>\n",
       "      <th>FE_NOTIFI_RESULT</th>\n",
       "      <th>AÑO</th>\n",
       "      <th>MES</th>\n",
       "    </tr>\n",
       "  </thead>\n",
       "  <tbody>\n",
       "    <tr>\n",
       "      <th>0</th>\n",
       "      <td>202101</td>\n",
       "      <td>IAFAS</td>\n",
       "      <td>20007</td>\n",
       "      <td>20007</td>\n",
       "      <td>IAFAS</td>\n",
       "      <td>20007</td>\n",
       "      <td>Físico</td>\n",
       "      <td>20007-352</td>\n",
       "      <td>Libro de Reclamaciones Físico</td>\n",
       "      <td>2020-11-27</td>\n",
       "      <td>...</td>\n",
       "      <td>Resultado y Notificación</td>\n",
       "      <td>-</td>\n",
       "      <td>-</td>\n",
       "      <td>Infundado</td>\n",
       "      <td>-</td>\n",
       "      <td>2020-12-21</td>\n",
       "      <td>Correo electrónico</td>\n",
       "      <td>NaN</td>\n",
       "      <td>2020</td>\n",
       "      <td>11</td>\n",
       "    </tr>\n",
       "    <tr>\n",
       "      <th>1</th>\n",
       "      <td>202101</td>\n",
       "      <td>IAFAS</td>\n",
       "      <td>20007</td>\n",
       "      <td>20007</td>\n",
       "      <td>IAFAS</td>\n",
       "      <td>20007</td>\n",
       "      <td>Físico</td>\n",
       "      <td>20007-360</td>\n",
       "      <td>Libro de Reclamaciones Físico</td>\n",
       "      <td>2021-01-04</td>\n",
       "      <td>...</td>\n",
       "      <td>Resultado y Notificación</td>\n",
       "      <td>-</td>\n",
       "      <td>-</td>\n",
       "      <td>Infundado</td>\n",
       "      <td>-</td>\n",
       "      <td>2021-02-18</td>\n",
       "      <td>Correo electrónico</td>\n",
       "      <td>NaN</td>\n",
       "      <td>2021</td>\n",
       "      <td>1</td>\n",
       "    </tr>\n",
       "    <tr>\n",
       "      <th>2</th>\n",
       "      <td>202101</td>\n",
       "      <td>IAFAS</td>\n",
       "      <td>20007</td>\n",
       "      <td>20007</td>\n",
       "      <td>IAFAS</td>\n",
       "      <td>20007</td>\n",
       "      <td>Físico</td>\n",
       "      <td>20007-361</td>\n",
       "      <td>Libro de Reclamaciones Físico</td>\n",
       "      <td>2021-01-06</td>\n",
       "      <td>...</td>\n",
       "      <td>Archivo y Custodia del Expediente</td>\n",
       "      <td>-</td>\n",
       "      <td>-</td>\n",
       "      <td>Infundado</td>\n",
       "      <td>-</td>\n",
       "      <td>2021-01-20</td>\n",
       "      <td>Correo electrónico</td>\n",
       "      <td>20210122.0</td>\n",
       "      <td>2021</td>\n",
       "      <td>1</td>\n",
       "    </tr>\n",
       "    <tr>\n",
       "      <th>3</th>\n",
       "      <td>202101</td>\n",
       "      <td>IAFAS</td>\n",
       "      <td>20007</td>\n",
       "      <td>20007</td>\n",
       "      <td>IAFAS</td>\n",
       "      <td>20007</td>\n",
       "      <td>Físico</td>\n",
       "      <td>20007-364</td>\n",
       "      <td>Libro de Reclamaciones Físico</td>\n",
       "      <td>2021-01-06</td>\n",
       "      <td>...</td>\n",
       "      <td>Archivo y Custodia del Expediente</td>\n",
       "      <td>-</td>\n",
       "      <td>-</td>\n",
       "      <td>Infundado</td>\n",
       "      <td>-</td>\n",
       "      <td>2021-01-25</td>\n",
       "      <td>Correo electrónico</td>\n",
       "      <td>20210204.0</td>\n",
       "      <td>2021</td>\n",
       "      <td>1</td>\n",
       "    </tr>\n",
       "    <tr>\n",
       "      <th>4</th>\n",
       "      <td>202101</td>\n",
       "      <td>IAFAS</td>\n",
       "      <td>20007</td>\n",
       "      <td>20007</td>\n",
       "      <td>IAFAS</td>\n",
       "      <td>20007</td>\n",
       "      <td>Físico</td>\n",
       "      <td>20007-365</td>\n",
       "      <td>Libro de Reclamaciones Físico</td>\n",
       "      <td>2021-01-08</td>\n",
       "      <td>...</td>\n",
       "      <td>Evaluación e investigación</td>\n",
       "      <td>-</td>\n",
       "      <td>-</td>\n",
       "      <td>Pendiente</td>\n",
       "      <td>-</td>\n",
       "      <td>NaN</td>\n",
       "      <td>-</td>\n",
       "      <td>NaN</td>\n",
       "      <td>2021</td>\n",
       "      <td>1</td>\n",
       "    </tr>\n",
       "  </tbody>\n",
       "</table>\n",
       "<p>5 rows × 27 columns</p>\n",
       "</div>"
      ],
      "text/plain": [
       "   ID_PERIODO DE_TIPO_ADMINISTRADO  CO_ADMIN_DECLA  CO_UGIPRESS  \\\n",
       "0      202101                IAFAS           20007        20007   \n",
       "1      202101                IAFAS           20007        20007   \n",
       "2      202101                IAFAS           20007        20007   \n",
       "3      202101                IAFAS           20007        20007   \n",
       "4      202101                IAFAS           20007        20007   \n",
       "\n",
       "  DE_TIPO_INSTITUCION  CO_ADMIN_SUCE DE_MEDIO_PRESENTACION CO_UNICO_RECLAMO  \\\n",
       "0               IAFAS          20007                Físico        20007-352   \n",
       "1               IAFAS          20007                Físico        20007-360   \n",
       "2               IAFAS          20007                Físico        20007-361   \n",
       "3               IAFAS          20007                Físico        20007-364   \n",
       "4               IAFAS          20007                Físico        20007-365   \n",
       "\n",
       "              DE_MEDIO_RECEPCION FE_PRESEN_RECLA  ...  \\\n",
       "0  Libro de Reclamaciones Físico      2020-11-27  ...   \n",
       "1  Libro de Reclamaciones Físico      2021-01-04  ...   \n",
       "2  Libro de Reclamaciones Físico      2021-01-06  ...   \n",
       "3  Libro de Reclamaciones Físico      2021-01-06  ...   \n",
       "4  Libro de Reclamaciones Físico      2021-01-08  ...   \n",
       "\n",
       "                    DE_ETAPA_RECLAMO DE_TIPO_ADMIN_DERIVA CO_ADMIN_DERIVA  \\\n",
       "0           Resultado y Notificación                    -               -   \n",
       "1           Resultado y Notificación                    -               -   \n",
       "2  Archivo y Custodia del Expediente                    -               -   \n",
       "3  Archivo y Custodia del Expediente                    -               -   \n",
       "4         Evaluación e investigación                    -               -   \n",
       "\n",
       "  DE_RESULTADO DE_MOTIVO_CONCL_ANTIC FE_RESULT_RECL     DE_COMUN_RESULT  \\\n",
       "0    Infundado                     -     2020-12-21  Correo electrónico   \n",
       "1    Infundado                     -     2021-02-18  Correo electrónico   \n",
       "2    Infundado                     -     2021-01-20  Correo electrónico   \n",
       "3    Infundado                     -     2021-01-25  Correo electrónico   \n",
       "4    Pendiente                     -            NaN                   -   \n",
       "\n",
       "  FE_NOTIFI_RESULT   AÑO MES  \n",
       "0              NaN  2020  11  \n",
       "1              NaN  2021   1  \n",
       "2       20210122.0  2021   1  \n",
       "3       20210204.0  2021   1  \n",
       "4              NaN  2021   1  \n",
       "\n",
       "[5 rows x 27 columns]"
      ]
     },
     "execution_count": 4,
     "metadata": {},
     "output_type": "execute_result"
    }
   ],
   "source": [
    "df.head()"
   ]
  },
  {
   "cell_type": "code",
   "execution_count": 5,
   "id": "0f9b7612-dd2a-4952-af91-1ae193de133f",
   "metadata": {},
   "outputs": [
    {
     "data": {
      "text/plain": [
       "162639"
      ]
     },
     "execution_count": 5,
     "metadata": {},
     "output_type": "execute_result"
    }
   ],
   "source": [
    "len(df)"
   ]
  },
  {
   "cell_type": "code",
   "execution_count": 6,
   "id": "61b3e0c9-0b31-4260-ae50-277bb8510d34",
   "metadata": {},
   "outputs": [
    {
     "name": "stderr",
     "output_type": "stream",
     "text": [
      "C:\\Users\\harol\\AppData\\Local\\Temp\\ipykernel_9360\\202710691.py:3: FutureWarning: \n",
      "\n",
      "Passing `palette` without assigning `hue` is deprecated and will be removed in v0.14.0. Assign the `x` variable to `hue` and set `legend=False` for the same effect.\n",
      "\n",
      "  sns.countplot(x=df[\"AÑO\"], palette=\"coolwarm\")\n"
     ]
    },
    {
     "data": {
      "image/png": "[encoded data removed]",
      "text/plain": [
       "<Figure size 800x400 with 1 Axes>"
      ]
     },
     "metadata": {},
     "output_type": "display_data"
    }
   ],
   "source": [
    "# Distribución de reclamos por año\n",
    "plt.figure(figsize=(8,4))\n",
    "sns.countplot(x=df[\"AÑO\"], palette=\"coolwarm\")\n",
    "plt.title(\"Distribución de Reclamos por Año\")\n",
    "plt.xlabel(\"Año\")\n",
    "plt.ylabel(\"Cantidad de Reclamos\")\n",
    "plt.show()"
   ]
  }
 ],
 "metadata": {
  "kernelspec": {
   "display_name": "base",
   "language": "python",
   "name": "python3"
  },
  "language_info": {
   "codemirror_mode": {
    "name": "ipython",
    "version": 3
   },
   "file_extension": ".py",
   "mimetype": "text/x-python",
   "name": "python",
   "nbconvert_exporter": "python",
   "pygments_lexer": "ipython3",
   "version": "3.12.7"
  }
 },
 "nbformat": 4,
 "nbformat_minor": 5
}
