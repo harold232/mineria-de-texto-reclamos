{
 "cells": [
  {
   "cell_type": "markdown",
   "id": "c6a0751d-d655-41ee-b870-fe4568e06b10",
   "metadata": {},
   "source": [
    "# Limpieza y transformación"
   ]
  },
  {
   "cell_type": "markdown",
   "id": "8d794b66",
   "metadata": {},
   "source": [
    "##### Integrantes: \n",
    "##### - Harold Aquino Curisinche \n",
    "##### - Rosa Estrada Estrada\n",
    "##### Descripción: Limpieza y transformación del dataset de reclamos de SUSALUD"
   ]
  },
  {
   "cell_type": "markdown",
   "id": "c8af2eb6",
   "metadata": {},
   "source": [
    "## 1. Importación de librerías"
   ]
  },
  {
   "cell_type": "code",
   "execution_count": 5,
   "id": "e5ac8d3a-db74-43f6-a032-7ab6c0cae0e4",
   "metadata": {
    "ExecuteTime": {
     "end_time": "2025-04-27T04:44:36.055791Z",
     "start_time": "2025-04-27T04:44:36.046696Z"
    }
   },
   "outputs": [],
   "source": [
    "import pandas as pd\n",
    "import numpy as np"
   ]
  },
  {
   "cell_type": "markdown",
   "id": "f0008318",
   "metadata": {},
   "source": [
    "### Cargar datos procesados"
   ]
  },
  {
   "cell_type": "code",
   "execution_count": 7,
   "id": "40b41099-2370-443c-bd25-b143203bf53d",
   "metadata": {
    "ExecuteTime": {
     "end_time": "2025-04-27T04:44:37.322652Z",
     "start_time": "2025-04-27T04:44:36.164368Z"
    }
   },
   "outputs": [],
   "source": [
    "df = pd.read_csv(\"../data/processed/reclamos_descripcionesv2.csv\", low_memory=False)"
   ]
  },
  {
   "cell_type": "code",
   "execution_count": 8,
   "id": "26f67e9d-591d-4266-bbf0-4486bb2b5fff",
   "metadata": {
    "ExecuteTime": {
     "end_time": "2025-04-27T04:44:37.466989Z",
     "start_time": "2025-04-27T04:44:37.441185Z"
    }
   },
   "outputs": [
    {
     "data": {
      "text/html": [
       "<div>\n",
       "<style scoped>\n",
       "    .dataframe tbody tr th:only-of-type {\n",
       "        vertical-align: middle;\n",
       "    }\n",
       "\n",
       "    .dataframe tbody tr th {\n",
       "        vertical-align: top;\n",
       "    }\n",
       "\n",
       "    .dataframe thead th {\n",
       "        text-align: right;\n",
       "    }\n",
       "</style>\n",
       "<table border=\"1\" class=\"dataframe\">\n",
       "  <thead>\n",
       "    <tr style=\"text-align: right;\">\n",
       "      <th></th>\n",
       "      <th>ID_PERIODO</th>\n",
       "      <th>DE_TIPO_ADMINISTRADO</th>\n",
       "      <th>CO_ADMIN_DECLA</th>\n",
       "      <th>CO_UGIPRESS</th>\n",
       "      <th>DE_TIPO_INSTITUCION</th>\n",
       "      <th>CO_ADMIN_SUCE</th>\n",
       "      <th>DE_MEDIO_PRESENTACION</th>\n",
       "      <th>CO_UNICO_RECLAMO</th>\n",
       "      <th>DE_MEDIO_RECEPCION</th>\n",
       "      <th>FE_PRESEN_RECLA</th>\n",
       "      <th>...</th>\n",
       "      <th>CO_RECLAMO_PRIMIG</th>\n",
       "      <th>DE_ETAPA_RECLAMO</th>\n",
       "      <th>DE_TIPO_ADMIN_DERIVA</th>\n",
       "      <th>CO_ADMIN_DERIVA</th>\n",
       "      <th>DE_RESULTADO</th>\n",
       "      <th>DE_MOTIVO_CONCL_ANTIC</th>\n",
       "      <th>FE_RESULT_RECL</th>\n",
       "      <th>DE_COMUN_RESULT</th>\n",
       "      <th>FE_NOTIFI_RESULT</th>\n",
       "      <th>DESCRIPCION</th>\n",
       "    </tr>\n",
       "  </thead>\n",
       "  <tbody>\n",
       "    <tr>\n",
       "      <th>0</th>\n",
       "      <td>202101</td>\n",
       "      <td>IAFAS</td>\n",
       "      <td>20007</td>\n",
       "      <td>20007</td>\n",
       "      <td>IAFAS</td>\n",
       "      <td>20007</td>\n",
       "      <td>Físico</td>\n",
       "      <td>20007-352</td>\n",
       "      <td>Libro de Reclamaciones Físico</td>\n",
       "      <td>11/27/2020</td>\n",
       "      <td>...</td>\n",
       "      <td>-</td>\n",
       "      <td>Resultado y Notificación</td>\n",
       "      <td>-</td>\n",
       "      <td>-</td>\n",
       "      <td>Infundado</td>\n",
       "      <td>-</td>\n",
       "      <td>12/21/2020</td>\n",
       "      <td>Correo electrónico</td>\n",
       "      <td>NaN</td>\n",
       "      <td>-</td>\n",
       "    </tr>\n",
       "    <tr>\n",
       "      <th>1</th>\n",
       "      <td>202101</td>\n",
       "      <td>IAFAS</td>\n",
       "      <td>20007</td>\n",
       "      <td>20007</td>\n",
       "      <td>IAFAS</td>\n",
       "      <td>20007</td>\n",
       "      <td>Físico</td>\n",
       "      <td>20007-360</td>\n",
       "      <td>Libro de Reclamaciones Físico</td>\n",
       "      <td>1/4/2021</td>\n",
       "      <td>...</td>\n",
       "      <td>-</td>\n",
       "      <td>Resultado y Notificación</td>\n",
       "      <td>-</td>\n",
       "      <td>-</td>\n",
       "      <td>Infundado</td>\n",
       "      <td>-</td>\n",
       "      <td>2/18/2021</td>\n",
       "      <td>Correo electrónico</td>\n",
       "      <td>NaN</td>\n",
       "      <td>Me cobraron por una vacuna que estaba incluida...</td>\n",
       "    </tr>\n",
       "    <tr>\n",
       "      <th>2</th>\n",
       "      <td>202101</td>\n",
       "      <td>IAFAS</td>\n",
       "      <td>20007</td>\n",
       "      <td>20007</td>\n",
       "      <td>IAFAS</td>\n",
       "      <td>20007</td>\n",
       "      <td>Físico</td>\n",
       "      <td>20007-361</td>\n",
       "      <td>Libro de Reclamaciones Físico</td>\n",
       "      <td>1/6/2021</td>\n",
       "      <td>...</td>\n",
       "      <td>-</td>\n",
       "      <td>Archivo y Custodia del Expediente</td>\n",
       "      <td>-</td>\n",
       "      <td>-</td>\n",
       "      <td>Infundado</td>\n",
       "      <td>-</td>\n",
       "      <td>1/20/2021</td>\n",
       "      <td>Correo electrónico</td>\n",
       "      <td>20210122</td>\n",
       "      <td>Las ambulancias de EsSalud no llegaron a tiemp...</td>\n",
       "    </tr>\n",
       "    <tr>\n",
       "      <th>3</th>\n",
       "      <td>202101</td>\n",
       "      <td>IAFAS</td>\n",
       "      <td>20007</td>\n",
       "      <td>20007</td>\n",
       "      <td>IAFAS</td>\n",
       "      <td>20007</td>\n",
       "      <td>Físico</td>\n",
       "      <td>20007-364</td>\n",
       "      <td>Libro de Reclamaciones Físico</td>\n",
       "      <td>1/6/2021</td>\n",
       "      <td>...</td>\n",
       "      <td>-</td>\n",
       "      <td>Archivo y Custodia del Expediente</td>\n",
       "      <td>-</td>\n",
       "      <td>-</td>\n",
       "      <td>Infundado</td>\n",
       "      <td>-</td>\n",
       "      <td>1/25/2021</td>\n",
       "      <td>Correo electrónico</td>\n",
       "      <td>20210204</td>\n",
       "      <td>La atención que brindan las IAFAS no ha sido d...</td>\n",
       "    </tr>\n",
       "    <tr>\n",
       "      <th>4</th>\n",
       "      <td>202101</td>\n",
       "      <td>IAFAS</td>\n",
       "      <td>20007</td>\n",
       "      <td>20007</td>\n",
       "      <td>IAFAS</td>\n",
       "      <td>20007</td>\n",
       "      <td>Físico</td>\n",
       "      <td>20007-365</td>\n",
       "      <td>Libro de Reclamaciones Físico</td>\n",
       "      <td>1/8/2021</td>\n",
       "      <td>...</td>\n",
       "      <td>-</td>\n",
       "      <td>Evaluación e investigación</td>\n",
       "      <td>-</td>\n",
       "      <td>-</td>\n",
       "      <td>Pendiente</td>\n",
       "      <td>-</td>\n",
       "      <td>NaN</td>\n",
       "      <td>-</td>\n",
       "      <td>NaN</td>\n",
       "      <td>He tenido problemas para acceder a mis servici...</td>\n",
       "    </tr>\n",
       "  </tbody>\n",
       "</table>\n",
       "<p>5 rows × 26 columns</p>\n",
       "</div>"
      ],
      "text/plain": [
       "   ID_PERIODO DE_TIPO_ADMINISTRADO  CO_ADMIN_DECLA  CO_UGIPRESS  \\\n",
       "0      202101                IAFAS           20007        20007   \n",
       "1      202101                IAFAS           20007        20007   \n",
       "2      202101                IAFAS           20007        20007   \n",
       "3      202101                IAFAS           20007        20007   \n",
       "4      202101                IAFAS           20007        20007   \n",
       "\n",
       "  DE_TIPO_INSTITUCION  CO_ADMIN_SUCE DE_MEDIO_PRESENTACION CO_UNICO_RECLAMO  \\\n",
       "0               IAFAS          20007                Físico        20007-352   \n",
       "1               IAFAS          20007                Físico        20007-360   \n",
       "2               IAFAS          20007                Físico        20007-361   \n",
       "3               IAFAS          20007                Físico        20007-364   \n",
       "4               IAFAS          20007                Físico        20007-365   \n",
       "\n",
       "              DE_MEDIO_RECEPCION FE_PRESEN_RECLA  ... CO_RECLAMO_PRIMIG  \\\n",
       "0  Libro de Reclamaciones Físico      11/27/2020  ...                 -   \n",
       "1  Libro de Reclamaciones Físico        1/4/2021  ...                 -   \n",
       "2  Libro de Reclamaciones Físico        1/6/2021  ...                 -   \n",
       "3  Libro de Reclamaciones Físico        1/6/2021  ...                 -   \n",
       "4  Libro de Reclamaciones Físico        1/8/2021  ...                 -   \n",
       "\n",
       "                    DE_ETAPA_RECLAMO DE_TIPO_ADMIN_DERIVA CO_ADMIN_DERIVA  \\\n",
       "0           Resultado y Notificación                    -               -   \n",
       "1           Resultado y Notificación                    -               -   \n",
       "2  Archivo y Custodia del Expediente                    -               -   \n",
       "3  Archivo y Custodia del Expediente                    -               -   \n",
       "4         Evaluación e investigación                    -               -   \n",
       "\n",
       "  DE_RESULTADO DE_MOTIVO_CONCL_ANTIC FE_RESULT_RECL     DE_COMUN_RESULT  \\\n",
       "0    Infundado                     -     12/21/2020  Correo electrónico   \n",
       "1    Infundado                     -      2/18/2021  Correo electrónico   \n",
       "2    Infundado                     -      1/20/2021  Correo electrónico   \n",
       "3    Infundado                     -      1/25/2021  Correo electrónico   \n",
       "4    Pendiente                     -            NaN                   -   \n",
       "\n",
       "  FE_NOTIFI_RESULT                                        DESCRIPCION  \n",
       "0              NaN                                                  -  \n",
       "1              NaN  Me cobraron por una vacuna que estaba incluida...  \n",
       "2         20210122  Las ambulancias de EsSalud no llegaron a tiemp...  \n",
       "3         20210204  La atención que brindan las IAFAS no ha sido d...  \n",
       "4              NaN  He tenido problemas para acceder a mis servici...  \n",
       "\n",
       "[5 rows x 26 columns]"
      ]
     },
     "execution_count": 8,
     "metadata": {},
     "output_type": "execute_result"
    }
   ],
   "source": [
    "df.head()"
   ]
  },
  {
   "cell_type": "markdown",
   "id": "dee6e178-d4c4-4068-ba1d-4d39d6697b8c",
   "metadata": {},
   "source": [
    "### Limpiar y validar el dataset"
   ]
  },
  {
   "cell_type": "code",
   "execution_count": 10,
   "id": "4f1f783b",
   "metadata": {
    "ExecuteTime": {
     "end_time": "2025-04-27T04:44:37.769227Z",
     "start_time": "2025-04-27T04:44:37.607749Z"
    }
   },
   "outputs": [
    {
     "name": "stdout",
     "output_type": "stream",
     "text": [
      "<class 'pandas.core.frame.DataFrame'>\n",
      "RangeIndex: 162639 entries, 0 to 162638\n",
      "Data columns (total 26 columns):\n",
      " #   Column                 Non-Null Count   Dtype \n",
      "---  ------                 --------------   ----- \n",
      " 0   ID_PERIODO             162639 non-null  int64 \n",
      " 1   DE_TIPO_ADMINISTRADO   162639 non-null  object\n",
      " 2   CO_ADMIN_DECLA         162639 non-null  int64 \n",
      " 3   CO_UGIPRESS            162639 non-null  int64 \n",
      " 4   DE_TIPO_INSTITUCION    162639 non-null  object\n",
      " 5   CO_ADMIN_SUCE          162639 non-null  int64 \n",
      " 6   DE_MEDIO_PRESENTACION  162639 non-null  object\n",
      " 7   CO_UNICO_RECLAMO       162639 non-null  object\n",
      " 8   DE_MEDIO_RECEPCION     162639 non-null  object\n",
      " 9   FE_PRESEN_RECLA        162639 non-null  object\n",
      " 10  DE_SERVICIO            162639 non-null  object\n",
      " 11  DE_COMPETENCIA         162639 non-null  object\n",
      " 12  DE_CLASIF_1            162639 non-null  object\n",
      " 13  DE_CLASIF_2            162639 non-null  object\n",
      " 14  DE_CLASIF_3            162639 non-null  object\n",
      " 15  DE_ESTADO_RECLAMO      162639 non-null  object\n",
      " 16  CO_RECLAMO_PRIMIG      162639 non-null  object\n",
      " 17  DE_ETAPA_RECLAMO       162639 non-null  object\n",
      " 18  DE_TIPO_ADMIN_DERIVA   162639 non-null  object\n",
      " 19  CO_ADMIN_DERIVA        162639 non-null  object\n",
      " 20  DE_RESULTADO           162639 non-null  object\n",
      " 21  DE_MOTIVO_CONCL_ANTIC  162639 non-null  object\n",
      " 22  FE_RESULT_RECL         65217 non-null   object\n",
      " 23  DE_COMUN_RESULT        162639 non-null  object\n",
      " 24  FE_NOTIFI_RESULT       57899 non-null   object\n",
      " 25  DESCRIPCION            162639 non-null  object\n",
      "dtypes: int64(4), object(22)\n",
      "memory usage: 32.3+ MB\n"
     ]
    }
   ],
   "source": [
    "df.info()"
   ]
  },
  {
   "cell_type": "code",
   "execution_count": 11,
   "id": "8d6616df-acc6-4815-9371-4ad660159608",
   "metadata": {
    "ExecuteTime": {
     "end_time": "2025-04-27T04:44:37.852861Z",
     "start_time": "2025-04-27T04:44:37.843964Z"
    }
   },
   "outputs": [
    {
     "name": "stdout",
     "output_type": "stream",
     "text": [
      "Dimensiones del dataset: (162639, 26)\n"
     ]
    }
   ],
   "source": [
    "print(f\"Dimensiones del dataset: {df.shape}\")"
   ]
  },
  {
   "cell_type": "code",
   "execution_count": 12,
   "id": "b81b14a7-d4ba-4c2f-99e8-9797e4b5e948",
   "metadata": {
    "ExecuteTime": {
     "end_time": "2025-04-27T04:44:38.208096Z",
     "start_time": "2025-04-27T04:44:38.195744Z"
    }
   },
   "outputs": [
    {
     "name": "stdout",
     "output_type": "stream",
     "text": [
      "\n",
      "Columnas:\n"
     ]
    },
    {
     "data": {
      "text/plain": [
       "['ID_PERIODO',\n",
       " 'DE_TIPO_ADMINISTRADO',\n",
       " 'CO_ADMIN_DECLA',\n",
       " 'CO_UGIPRESS',\n",
       " 'DE_TIPO_INSTITUCION',\n",
       " 'CO_ADMIN_SUCE',\n",
       " 'DE_MEDIO_PRESENTACION',\n",
       " 'CO_UNICO_RECLAMO',\n",
       " 'DE_MEDIO_RECEPCION',\n",
       " 'FE_PRESEN_RECLA',\n",
       " 'DE_SERVICIO',\n",
       " 'DE_COMPETENCIA',\n",
       " 'DE_CLASIF_1',\n",
       " 'DE_CLASIF_2',\n",
       " 'DE_CLASIF_3',\n",
       " 'DE_ESTADO_RECLAMO',\n",
       " 'CO_RECLAMO_PRIMIG',\n",
       " 'DE_ETAPA_RECLAMO',\n",
       " 'DE_TIPO_ADMIN_DERIVA',\n",
       " 'CO_ADMIN_DERIVA',\n",
       " 'DE_RESULTADO',\n",
       " 'DE_MOTIVO_CONCL_ANTIC',\n",
       " 'FE_RESULT_RECL',\n",
       " 'DE_COMUN_RESULT',\n",
       " 'FE_NOTIFI_RESULT',\n",
       " 'DESCRIPCION']"
      ]
     },
     "execution_count": 12,
     "metadata": {},
     "output_type": "execute_result"
    }
   ],
   "source": [
    "print(\"\\nColumnas:\")\n",
    "df.columns.tolist()"
   ]
  },
  {
   "cell_type": "code",
   "execution_count": 13,
   "id": "85c3e0b8-9703-473e-a815-e57d5b0e4670",
   "metadata": {
    "ExecuteTime": {
     "end_time": "2025-04-27T04:44:38.391944Z",
     "start_time": "2025-04-27T04:44:38.339335Z"
    }
   },
   "outputs": [
    {
     "data": {
      "text/html": [
       "<div>\n",
       "<style scoped>\n",
       "    .dataframe tbody tr th:only-of-type {\n",
       "        vertical-align: middle;\n",
       "    }\n",
       "\n",
       "    .dataframe tbody tr th {\n",
       "        vertical-align: top;\n",
       "    }\n",
       "\n",
       "    .dataframe thead th {\n",
       "        text-align: right;\n",
       "    }\n",
       "</style>\n",
       "<table border=\"1\" class=\"dataframe\">\n",
       "  <thead>\n",
       "    <tr style=\"text-align: right;\">\n",
       "      <th></th>\n",
       "      <th>ID_PERIODO</th>\n",
       "      <th>CO_ADMIN_DECLA</th>\n",
       "      <th>CO_UGIPRESS</th>\n",
       "      <th>CO_ADMIN_SUCE</th>\n",
       "    </tr>\n",
       "  </thead>\n",
       "  <tbody>\n",
       "    <tr>\n",
       "      <th>count</th>\n",
       "      <td>162639.000000</td>\n",
       "      <td>162639.000000</td>\n",
       "      <td>162639.000000</td>\n",
       "      <td>1.626390e+05</td>\n",
       "    </tr>\n",
       "    <tr>\n",
       "      <th>mean</th>\n",
       "      <td>202259.912702</td>\n",
       "      <td>13605.485917</td>\n",
       "      <td>13605.485917</td>\n",
       "      <td>8.740303e+04</td>\n",
       "    </tr>\n",
       "    <tr>\n",
       "      <th>std</th>\n",
       "      <td>96.781974</td>\n",
       "      <td>4820.730579</td>\n",
       "      <td>4820.730579</td>\n",
       "      <td>8.550039e+05</td>\n",
       "    </tr>\n",
       "    <tr>\n",
       "      <th>min</th>\n",
       "      <td>202101.000000</td>\n",
       "      <td>10001.000000</td>\n",
       "      <td>10001.000000</td>\n",
       "      <td>1.000000e+00</td>\n",
       "    </tr>\n",
       "    <tr>\n",
       "      <th>25%</th>\n",
       "      <td>202204.000000</td>\n",
       "      <td>10001.000000</td>\n",
       "      <td>10001.000000</td>\n",
       "      <td>1.000100e+04</td>\n",
       "    </tr>\n",
       "    <tr>\n",
       "      <th>50%</th>\n",
       "      <td>202301.000000</td>\n",
       "      <td>10002.000000</td>\n",
       "      <td>10002.000000</td>\n",
       "      <td>1.000200e+04</td>\n",
       "    </tr>\n",
       "    <tr>\n",
       "      <th>75%</th>\n",
       "      <td>202310.000000</td>\n",
       "      <td>20004.000000</td>\n",
       "      <td>20004.000000</td>\n",
       "      <td>2.000500e+04</td>\n",
       "    </tr>\n",
       "    <tr>\n",
       "      <th>max</th>\n",
       "      <td>202406.000000</td>\n",
       "      <td>50025.000000</td>\n",
       "      <td>50025.000000</td>\n",
       "      <td>1.000014e+07</td>\n",
       "    </tr>\n",
       "  </tbody>\n",
       "</table>\n",
       "</div>"
      ],
      "text/plain": [
       "          ID_PERIODO  CO_ADMIN_DECLA    CO_UGIPRESS  CO_ADMIN_SUCE\n",
       "count  162639.000000   162639.000000  162639.000000   1.626390e+05\n",
       "mean   202259.912702    13605.485917   13605.485917   8.740303e+04\n",
       "std        96.781974     4820.730579    4820.730579   8.550039e+05\n",
       "min    202101.000000    10001.000000   10001.000000   1.000000e+00\n",
       "25%    202204.000000    10001.000000   10001.000000   1.000100e+04\n",
       "50%    202301.000000    10002.000000   10002.000000   1.000200e+04\n",
       "75%    202310.000000    20004.000000   20004.000000   2.000500e+04\n",
       "max    202406.000000    50025.000000   50025.000000   1.000014e+07"
      ]
     },
     "execution_count": 13,
     "metadata": {},
     "output_type": "execute_result"
    }
   ],
   "source": [
    "df.describe()"
   ]
  },
  {
   "cell_type": "code",
   "execution_count": 14,
   "id": "a60f0e94-98c7-4247-b109-f203febb7219",
   "metadata": {
    "ExecuteTime": {
     "end_time": "2025-04-27T04:44:38.707493Z",
     "start_time": "2025-04-27T04:44:38.546361Z"
    }
   },
   "outputs": [
    {
     "data": {
      "text/plain": [
       "ID_PERIODO                    0\n",
       "DE_TIPO_ADMINISTRADO          0\n",
       "CO_ADMIN_DECLA                0\n",
       "CO_UGIPRESS                   0\n",
       "DE_TIPO_INSTITUCION           0\n",
       "CO_ADMIN_SUCE                 0\n",
       "DE_MEDIO_PRESENTACION         0\n",
       "CO_UNICO_RECLAMO              0\n",
       "DE_MEDIO_RECEPCION            0\n",
       "FE_PRESEN_RECLA               0\n",
       "DE_SERVICIO                   0\n",
       "DE_COMPETENCIA                0\n",
       "DE_CLASIF_1                   0\n",
       "DE_CLASIF_2                   0\n",
       "DE_CLASIF_3                   0\n",
       "DE_ESTADO_RECLAMO             0\n",
       "CO_RECLAMO_PRIMIG             0\n",
       "DE_ETAPA_RECLAMO              0\n",
       "DE_TIPO_ADMIN_DERIVA          0\n",
       "CO_ADMIN_DERIVA               0\n",
       "DE_RESULTADO                  0\n",
       "DE_MOTIVO_CONCL_ANTIC         0\n",
       "FE_RESULT_RECL            97422\n",
       "DE_COMUN_RESULT               0\n",
       "FE_NOTIFI_RESULT         104740\n",
       "DESCRIPCION                   0\n",
       "dtype: int64"
      ]
     },
     "execution_count": 14,
     "metadata": {},
     "output_type": "execute_result"
    }
   ],
   "source": [
    "df.isnull().sum()"
   ]
  },
  {
   "cell_type": "code",
   "execution_count": 15,
   "id": "e6da8a67-0681-41c5-83cf-72eb9545c572",
   "metadata": {
    "ExecuteTime": {
     "end_time": "2025-04-27T04:44:39.095734Z",
     "start_time": "2025-04-27T04:44:38.828317Z"
    }
   },
   "outputs": [
    {
     "data": {
      "text/plain": [
       "ID_PERIODO                    0\n",
       "DE_TIPO_ADMINISTRADO          0\n",
       "CO_ADMIN_DECLA                0\n",
       "CO_UGIPRESS                   0\n",
       "DE_TIPO_INSTITUCION           0\n",
       "CO_ADMIN_SUCE                 0\n",
       "DE_MEDIO_PRESENTACION         0\n",
       "CO_UNICO_RECLAMO              0\n",
       "DE_MEDIO_RECEPCION            0\n",
       "FE_PRESEN_RECLA               0\n",
       "DE_SERVICIO              133478\n",
       "DE_COMPETENCIA                0\n",
       "DE_CLASIF_1               63269\n",
       "DE_CLASIF_2              157363\n",
       "DE_CLASIF_3              157927\n",
       "DE_ESTADO_RECLAMO             0\n",
       "CO_RECLAMO_PRIMIG        154547\n",
       "DE_ETAPA_RECLAMO          19966\n",
       "DE_TIPO_ADMIN_DERIVA     130227\n",
       "CO_ADMIN_DERIVA          130227\n",
       "DE_RESULTADO               3242\n",
       "DE_MOTIVO_CONCL_ANTIC    161014\n",
       "FE_RESULT_RECL                0\n",
       "DE_COMUN_RESULT           41352\n",
       "FE_NOTIFI_RESULT              0\n",
       "DESCRIPCION               35200\n",
       "dtype: int64"
      ]
     },
     "execution_count": 15,
     "metadata": {},
     "output_type": "execute_result"
    }
   ],
   "source": [
    "(df == '-').sum()"
   ]
  },
  {
   "cell_type": "code",
   "execution_count": 16,
   "id": "5a32a142-fe0d-446a-b3c7-cf6d6abf4f7f",
   "metadata": {
    "ExecuteTime": {
     "end_time": "2025-04-27T04:44:39.355372Z",
     "start_time": "2025-04-27T04:44:39.335911Z"
    }
   },
   "outputs": [
    {
     "name": "stdout",
     "output_type": "stream",
     "text": [
      "\n",
      "Distribución de la variable objetivo:\n"
     ]
    },
    {
     "data": {
      "text/plain": [
       "DE_CLASIF_1\n",
       "-                                                                                   0.389015\n",
       "Otros relativos a las IAFAS                                                         0.271091\n",
       "Negar la acreditación de usuario asegurado.                                         0.065206\n",
       "Cobrar indebidamente                                                                0.065138\n",
       "Negar  o demora en otorgar la cobertura en salud                                    0.055971\n",
       "No permitir al usuario la libre elección de IPRESS de acuerdo a lo contratado       0.051703\n",
       "No brindar información sobre sus derechos en salud                                  0.036805\n",
       "Demorar la gestión de la carta de garantía y/o reembolsos.                          0.032428\n",
       "Negar o demorar en la atención en la IAFAS                                          0.012469\n",
       "Negar atención para el trámite de registro o acreditación                           0.005810\n",
       "No brindar atención con respeto de parte del personal de la IAFAS                   0.003806\n",
       "Negar la cobertura en periodo de latencia                                           0.003517\n",
       "No cumplir con las disposiciones de la PAUS de acuerdo a la normatividad vigente    0.003019\n",
       "Negar la afiliación del usuario                                                     0.001869\n",
       "Negar el otorgamiento de prestaciones económicas o sociales                         0.001463\n",
       "Negar la cobertura de emergencia en periodo de carencia                             0.000289\n",
       "No cumplir con la disposición de libro de reclamaciones en salud                    0.000283\n",
       "No brindar atención según la ley de atención preferencial y de discapacidad         0.000117\n",
       "Name: proportion, dtype: float64"
      ]
     },
     "execution_count": 16,
     "metadata": {},
     "output_type": "execute_result"
    }
   ],
   "source": [
    "print(\"\\nDistribución de la variable objetivo:\")\n",
    "df['DE_CLASIF_1'].value_counts(normalize=True)"
   ]
  },
  {
   "cell_type": "code",
   "execution_count": 17,
   "id": "519069f8-373c-44a7-ae35-b9366958851b",
   "metadata": {
    "ExecuteTime": {
     "end_time": "2025-04-27T04:44:39.981023Z",
     "start_time": "2025-04-27T04:44:39.601492Z"
    }
   },
   "outputs": [
    {
     "name": "stdout",
     "output_type": "stream",
     "text": [
      "\n",
      "Filas duplicadas: 0\n"
     ]
    }
   ],
   "source": [
    "duplicados = df.duplicated().sum()\n",
    "print(f\"\\nFilas duplicadas: {duplicados}\")"
   ]
  },
  {
   "cell_type": "code",
   "execution_count": 18,
   "id": "e5ba4d7b-3902-4f98-a7b6-c95afeeaf543",
   "metadata": {
    "ExecuteTime": {
     "end_time": "2025-04-27T04:44:40.258042Z",
     "start_time": "2025-04-27T04:44:40.230242Z"
    }
   },
   "outputs": [],
   "source": [
    "df_clean = df.copy()"
   ]
  },
  {
   "cell_type": "code",
   "execution_count": 19,
   "id": "1bf05a1c-621e-4a26-aef5-5c70a579b90e",
   "metadata": {
    "ExecuteTime": {
     "end_time": "2025-04-27T04:44:40.521125Z",
     "start_time": "2025-04-27T04:44:40.490645Z"
    }
   },
   "outputs": [
    {
     "name": "stdout",
     "output_type": "stream",
     "text": [
      "Valores con '-' en DESCRIPCION: 35200\n"
     ]
    }
   ],
   "source": [
    "print(f\"Valores con '-' en DESCRIPCION: {(df_clean['DESCRIPCION'] == '-').sum()}\")"
   ]
  },
  {
   "cell_type": "code",
   "execution_count": 20,
   "id": "83dd1c4d-bd4e-4039-8794-d39b18f59a31",
   "metadata": {
    "ExecuteTime": {
     "end_time": "2025-04-27T04:44:40.680440Z",
     "start_time": "2025-04-27T04:44:40.646088Z"
    }
   },
   "outputs": [],
   "source": [
    "#df_clean['DESCRIPCION'] = df_clean['DESCRIPCION'].fillna(\"Sin descripción\")\n",
    "df_clean['DESCRIPCION'] = df_clean['DESCRIPCION'].replace('-', np.nan).fillna(\"Sin descripción\")"
   ]
  },
  {
   "cell_type": "code",
   "execution_count": 21,
   "id": "3514cfa1-3a5c-4987-99fb-e0ae9ce8cc18",
   "metadata": {
    "ExecuteTime": {
     "end_time": "2025-04-27T04:44:40.893035Z",
     "start_time": "2025-04-27T04:44:40.877164Z"
    }
   },
   "outputs": [
    {
     "data": {
      "text/plain": [
       "0                                           Sin descripción\n",
       "1         Me cobraron por una vacuna que estaba incluida...\n",
       "2         Las ambulancias de EsSalud no llegaron a tiemp...\n",
       "3         La atención que brindan las IAFAS no ha sido d...\n",
       "4         He tenido problemas para acceder a mis servici...\n",
       "                                ...                        \n",
       "162634    El médico que debía atenderme no se presentó y...\n",
       "162635    La atención que brindan las IAFAS no ha sido d...\n",
       "162636    No estoy seguro de qué tipo de reclamo es este...\n",
       "162637    La atención que brindan las IAFAS no ha sido d...\n",
       "162638                                      Sin descripción\n",
       "Name: DESCRIPCION, Length: 162639, dtype: object"
      ]
     },
     "execution_count": 21,
     "metadata": {},
     "output_type": "execute_result"
    }
   ],
   "source": [
    "df_clean['DESCRIPCION']"
   ]
  },
  {
   "cell_type": "markdown",
   "id": "6c090ed3-0a1f-4609-ba18-40b152048c41",
   "metadata": {},
   "source": [
    "#### Se elimina duplicados"
   ]
  },
  {
   "cell_type": "code",
   "execution_count": 23,
   "id": "7786a699-271c-4143-bba8-9d2372984517",
   "metadata": {
    "ExecuteTime": {
     "end_time": "2025-04-27T04:44:41.440742Z",
     "start_time": "2025-04-27T04:44:41.088910Z"
    }
   },
   "outputs": [],
   "source": [
    "n_duplicados = df_clean.duplicated().sum()\n",
    "if n_duplicados > 0:\n",
    "    print(f\"Eliminando {n_duplicados} filas duplicadas\")\n",
    "    df_clean = df_clean.drop_duplicates()"
   ]
  },
  {
   "cell_type": "markdown",
   "id": "5b87f8ce-aff7-4ee4-b18d-682f778c871c",
   "metadata": {},
   "source": [
    "### Eliminación de las columnas irrelevantes para el modelado"
   ]
  },
  {
   "cell_type": "code",
   "execution_count": 25,
   "id": "a0ca0d6f-1ef8-46b2-99da-3ebf9bd54987",
   "metadata": {
    "ExecuteTime": {
     "end_time": "2025-04-27T04:44:41.694647Z",
     "start_time": "2025-04-27T04:44:41.682975Z"
    }
   },
   "outputs": [],
   "source": [
    "colums_to_drop = ['DE_TIPO_ADMINISTRADO', 'CO_ADMIN_DECLA', 'CO_UGIPRESS', 'CO_ADMIN_SUCE', 'CO_UNICO_RECLAMO', 'DE_CLASIF_2', 'DE_CLASIF_3', 'CO_RECLAMO_PRIMIG', 'DE_TIPO_ADMIN_DERIVA', 'CO_ADMIN_DERIVA', 'DE_RESULTADO', 'DE_MOTIVO_CONCL_ANTIC', 'FE_RESULT_RECL', 'DE_COMUN_RESULT', 'FE_NOTIFI_RESULT', 'DE_ESTADO_RECLAMO', 'DE_ETAPA_RECLAMO', 'DE_COMPETENCIA']"
   ]
  },
  {
   "cell_type": "code",
   "execution_count": 26,
   "id": "4eb3da4798c83b67",
   "metadata": {
    "ExecuteTime": {
     "end_time": "2025-04-27T04:44:41.872354Z",
     "start_time": "2025-04-27T04:44:41.862163Z"
    }
   },
   "outputs": [
    {
     "data": {
      "text/plain": [
       "18"
      ]
     },
     "execution_count": 26,
     "metadata": {},
     "output_type": "execute_result"
    }
   ],
   "source": [
    "len(colums_to_drop)"
   ]
  },
  {
   "cell_type": "code",
   "execution_count": 27,
   "id": "d8f24ace-1f02-4292-bc1b-1be84d59da24",
   "metadata": {
    "ExecuteTime": {
     "end_time": "2025-04-27T04:44:41.936412Z",
     "start_time": "2025-04-27T04:44:41.927834Z"
    }
   },
   "outputs": [],
   "source": [
    "columnas_existentes = [col for col in colums_to_drop if col in df.columns]"
   ]
  },
  {
   "cell_type": "code",
   "execution_count": 28,
   "id": "928f8c7b-cbf2-46c4-a67b-07e7c9d5dae8",
   "metadata": {
    "ExecuteTime": {
     "end_time": "2025-04-27T04:44:42.053749Z",
     "start_time": "2025-04-27T04:44:42.013606Z"
    }
   },
   "outputs": [
    {
     "name": "stdout",
     "output_type": "stream",
     "text": [
      "Eliminando columnas por data leakage: ['DE_TIPO_ADMINISTRADO', 'CO_ADMIN_DECLA', 'CO_UGIPRESS', 'CO_ADMIN_SUCE', 'CO_UNICO_RECLAMO', 'DE_CLASIF_2', 'DE_CLASIF_3', 'CO_RECLAMO_PRIMIG', 'DE_TIPO_ADMIN_DERIVA', 'CO_ADMIN_DERIVA', 'DE_RESULTADO', 'DE_MOTIVO_CONCL_ANTIC', 'FE_RESULT_RECL', 'DE_COMUN_RESULT', 'FE_NOTIFI_RESULT', 'DE_ESTADO_RECLAMO', 'DE_ETAPA_RECLAMO', 'DE_COMPETENCIA']\n"
     ]
    }
   ],
   "source": [
    "if columnas_existentes:\n",
    "    print(f\"Eliminando columnas por data leakage: {columnas_existentes}\")\n",
    "    df_clean = df_clean.drop(columns=columnas_existentes)"
   ]
  },
  {
   "cell_type": "code",
   "execution_count": 29,
   "id": "ae207f03-9d4b-4dc4-a560-14cfdd98607e",
   "metadata": {
    "ExecuteTime": {
     "end_time": "2025-04-27T04:44:42.106088Z",
     "start_time": "2025-04-27T04:44:42.099663Z"
    }
   },
   "outputs": [],
   "source": [
    "#columns_to_drop = [\"CO_ADMIN_DECLA\", \"CO_UGIPRESS\", \"CO_ADMIN_SUCE\", \"CO_RECLAMO_PRIMIG\", \"CO_ADMIN_DERIVA\"]\n",
    "#df.drop(columns=columns_to_drop, inplace=True)"
   ]
  },
  {
   "cell_type": "markdown",
   "id": "da0fc0ed4690cbe9",
   "metadata": {},
   "source": [
    "### Variables de fecha"
   ]
  },
  {
   "cell_type": "markdown",
   "id": "cea2ac05-9eb9-4fc6-bb65-cb0e116fca8f",
   "metadata": {},
   "source": [
    "##### Convertir fechas a formate datetime"
   ]
  },
  {
   "cell_type": "code",
   "execution_count": 32,
   "id": "323ae1ab-e3bf-4aa0-a7f7-49e70e47b172",
   "metadata": {
    "ExecuteTime": {
     "end_time": "2025-04-27T04:44:42.163176Z",
     "start_time": "2025-04-27T04:44:42.148311Z"
    }
   },
   "outputs": [
    {
     "data": {
      "text/plain": [
       "0         11/27/2020\n",
       "1           1/4/2021\n",
       "2           1/6/2021\n",
       "3           1/6/2021\n",
       "4           1/8/2021\n",
       "             ...    \n",
       "162634     6/29/2024\n",
       "162635     6/14/2024\n",
       "162636     6/17/2024\n",
       "162637     6/14/2024\n",
       "162638     6/17/2024\n",
       "Name: FE_PRESEN_RECLA, Length: 162639, dtype: object"
      ]
     },
     "execution_count": 32,
     "metadata": {},
     "output_type": "execute_result"
    }
   ],
   "source": [
    "df_clean[\"FE_PRESEN_RECLA\"]"
   ]
  },
  {
   "cell_type": "code",
   "execution_count": 33,
   "id": "0bfbfd1d-3f7e-422a-a95e-ce31b7c3443e",
   "metadata": {
    "ExecuteTime": {
     "end_time": "2025-04-27T04:44:42.262318Z",
     "start_time": "2025-04-27T04:44:42.253989Z"
    }
   },
   "outputs": [],
   "source": [
    "#df_clean[\"FE_PRESEN_RECLA\"] = pd.to_datetime(df[\"FE_PRESEN_RECLA\"], format=\"%m/%d/%Y\", errors=\"coerce\")\n",
    "#df[\"FE_RESULT_RECL\"] = pd.to_datetime(df[\"FE_RESULT_RECL\"], format=\"%Y-%m-%d\", errors=\"coerce\")\n",
    "#df[\"FE_NOTIFI_RESULT\"] = pd.to_datetime(df[\"FE_NOTIFI_RESULT\"], format=\"%Y-%m-%d\", errors=\"coerce\")"
   ]
  },
  {
   "cell_type": "code",
   "execution_count": 34,
   "id": "4dfb3f3f",
   "metadata": {
    "ExecuteTime": {
     "end_time": "2025-04-27T04:44:42.341479Z",
     "start_time": "2025-04-27T04:44:42.332962Z"
    }
   },
   "outputs": [],
   "source": [
    "#df_clean[\"AÑO\"] = df_clean[\"FE_PRESEN_RECLA\"].dt.year\n",
    "#df_clean[\"MES\"] = df_clean[\"FE_PRESEN_RECLA\"].dt.month"
   ]
  },
  {
   "cell_type": "code",
   "execution_count": 35,
   "id": "8eda7a9a89c71e12",
   "metadata": {
    "ExecuteTime": {
     "end_time": "2025-04-27T04:44:42.654297Z",
     "start_time": "2025-04-27T04:44:42.526953Z"
    }
   },
   "outputs": [],
   "source": [
    "if 'FE_PRESEN_RECLA' in df_clean.columns:\n",
    "    df_clean['FE_PRESEN_RECLA'] = pd.to_datetime(df_clean['FE_PRESEN_RECLA'], format='%m/%d/%Y', errors='coerce')\n",
    "    df_clean['MES'] = df_clean['FE_PRESEN_RECLA'].dt.month\n",
    "    df_clean['DIA_SEMANA'] = df_clean['FE_PRESEN_RECLA'].dt.dayofweek\n",
    "    df_clean['AÑO'] = df_clean['FE_PRESEN_RECLA'].dt.year\n",
    "    df_clean['DIA_MES'] = df_clean['FE_PRESEN_RECLA'].dt.day\n",
    "    df_clean['ES_FIN_SEMANA'] = df_clean['DIA_SEMANA'].apply(lambda x: 1 if x >=5 else 0)\n",
    "    registros_invalidos = df_clean['FE_PRESEN_RECLA'].isnull().sum()\n",
    "    if registros_invalidos > 0:\n",
    "        print(f\"Se encontraron {registros_invalidos} registros con fechas inválidas\")"
   ]
  },
  {
   "cell_type": "code",
   "execution_count": 36,
   "id": "51f4d09f64b9e2fb",
   "metadata": {
    "ExecuteTime": {
     "end_time": "2025-04-27T04:44:42.694394Z",
     "start_time": "2025-04-27T04:44:42.682479Z"
    }
   },
   "outputs": [
    {
     "data": {
      "text/plain": [
       "dtype('<M8[ns]')"
      ]
     },
     "execution_count": 36,
     "metadata": {},
     "output_type": "execute_result"
    }
   ],
   "source": [
    "df_clean[\"FE_PRESEN_RECLA\"].dtype"
   ]
  },
  {
   "cell_type": "markdown",
   "id": "b42dba08ceab0827",
   "metadata": {},
   "source": [
    "##### Tratamos la variable ID_PERIODO"
   ]
  },
  {
   "cell_type": "code",
   "execution_count": 38,
   "id": "2cbea4690e5571dd",
   "metadata": {
    "ExecuteTime": {
     "end_time": "2025-04-27T04:44:42.947960Z",
     "start_time": "2025-04-27T04:44:42.733400Z"
    }
   },
   "outputs": [],
   "source": [
    "#df_clean['AÑO_ID_PERIODO'] = df_clean['ID_PERIODO'].astype(str).str[:4].astype(int)\n",
    "#df_clean['MES_ID_PERIODO'] = df_clean['ID_PERIODO'].astype(str).str[4:6].astype(int)"
   ]
  },
  {
   "cell_type": "markdown",
   "id": "bb45b23f26c2bc14",
   "metadata": {},
   "source": [
    "##### Rellenamos las variables vacias"
   ]
  },
  {
   "cell_type": "code",
   "execution_count": 41,
   "id": "e19f8e695d701ad8",
   "metadata": {
    "ExecuteTime": {
     "end_time": "2025-04-27T04:44:43.047677Z",
     "start_time": "2025-04-27T04:44:42.982430Z"
    }
   },
   "outputs": [],
   "source": [
    "df_clean['DE_SERVICIO'] = df_clean['DE_SERVICIO'].replace('-', np.nan).fillna('Desconocido')\n",
    "#df_clean['DE_ETAPA_RECLAMO'] = df_clean['DE_ETAPA_RECLAMO'].replace('-', np.nan).fillna('Descsonocido')"
   ]
  },
  {
   "cell_type": "markdown",
   "id": "9aaa5c8fff4caa40",
   "metadata": {},
   "source": [
    "### Exportación de la data transformada"
   ]
  },
  {
   "cell_type": "code",
   "execution_count": 45,
   "id": "93a49a9fcef36a54",
   "metadata": {
    "ExecuteTime": {
     "end_time": "2025-04-27T04:44:44.703578Z",
     "start_time": "2025-04-27T04:44:43.074154Z"
    }
   },
   "outputs": [],
   "source": [
    "df_clean.to_csv('../data/processed/reclamos_clean.csv', index=False)"
   ]
  },
  {
   "cell_type": "markdown",
   "id": "ea8fffcb-2f00-46e8-b553-541ba16768ed",
   "metadata": {},
   "source": [
    "#### Calculo en el tiempo de la resolucion de los reclamos"
   ]
  },
  {
   "cell_type": "code",
   "execution_count": null,
   "id": "b26049a7-55d0-40f2-a197-f9a6e32f9130",
   "metadata": {
    "ExecuteTime": {
     "end_time": "2025-04-27T04:44:44.957876Z",
     "start_time": "2025-04-27T04:44:44.951019Z"
    }
   },
   "outputs": [],
   "source": [
    "#df[\"DURACION_RECLAMO\"] = (df[\"FE_RESULT_RECL\"] - df[\"FE_PRESEN_RECLA\"]).dt.days\n",
    "\n",
    "# Se clasifica la duración en categorías\n",
    "#df[\"CATEGORIA_DURACION\"] = pd.cut(df[\"DURACION_RECLAMO\"], bins=[-1, 7, 30, 90, 365, np.inf],\n",
    "                     #             labels=[\"Corto (0-7 días)\", \"Medio (8-30 días)\",\n",
    "          #                                \"Largo (31-90 días)\", \"Muy Largo (91-365 días)\",\n",
    "                                   #       \"Extremo (>365 días)\"])\n"
   ]
  }
 ],
 "metadata": {
  "kernelspec": {
   "display_name": "Python 3 (ipykernel)",
   "language": "python",
   "name": "python3"
  },
  "language_info": {
   "codemirror_mode": {
    "name": "ipython",
    "version": 3
   },
   "file_extension": ".py",
   "mimetype": "text/x-python",
   "name": "python",
   "nbconvert_exporter": "python",
   "pygments_lexer": "ipython3",
   "version": "3.12.7"
  }
 },
 "nbformat": 4,
 "nbformat_minor": 5
}
