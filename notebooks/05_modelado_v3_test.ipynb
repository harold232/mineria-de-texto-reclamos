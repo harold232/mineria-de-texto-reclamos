{
 "cells": [
  {
   "cell_type": "markdown",
   "id": "e00a45a8",
   "metadata": {},
   "source": [
    "# Modelado"
   ]
  },
  {
   "cell_type": "code",
   "execution_count": 3,
   "id": "95593d81-701e-49ed-8990-2f6a96934164",
   "metadata": {
    "ExecuteTime": {
     "end_time": "2025-04-07T02:54:30.617462Z",
     "start_time": "2025-04-07T02:54:30.598455Z"
    }
   },
   "outputs": [],
   "source": [
    "import pandas as pd\n",
    "import numpy as np"
   ]
  },
  {
   "cell_type": "code",
   "execution_count": 5,
   "id": "420650e0781524a3",
   "metadata": {
    "ExecuteTime": {
     "end_time": "2025-04-07T02:53:43.826051Z",
     "start_time": "2025-04-07T02:53:43.804249Z"
    }
   },
   "outputs": [],
   "source": [
    "import re\n",
    "import string\n",
    "import nltk"
   ]
  },
  {
   "cell_type": "code",
   "execution_count": 7,
   "id": "11107ccec2c530d4",
   "metadata": {},
   "outputs": [],
   "source": [
    "from nltk.corpus import stopwords\n",
    "from nltk.tokenize import word_tokenize\n",
    "from sklearn.feature_extraction.text import TfidfVectorizer\n",
    "from sklearn.model_selection import train_test_split\n",
    "from sklearn.naive_bayes import MultinomialNB\n",
    "from sklearn.metrics import accuracy_score, classification_report, confusion_matrix"
   ]
  },
  {
   "cell_type": "code",
   "execution_count": 9,
   "id": "a0ea2f5392700d7c",
   "metadata": {},
   "outputs": [],
   "source": [
    "import seaborn as sns\n",
    "import matplotlib.pyplot as plt"
   ]
  },
  {
   "cell_type": "code",
   "execution_count": 11,
   "id": "94023f90",
   "metadata": {},
   "outputs": [],
   "source": [
    "from sklearn.preprocessing import OneHotEncoder\n",
    "from sklearn.compose import ColumnTransformer\n",
    "from sklearn.pipeline import Pipeline\n",
    "from xgboost import XGBClassifier"
   ]
  },
  {
   "cell_type": "markdown",
   "id": "01ce7ce2",
   "metadata": {},
   "source": [
    "##### Carga del dataset"
   ]
  },
  {
   "cell_type": "code",
   "execution_count": 13,
   "id": "fc2612f4",
   "metadata": {},
   "outputs": [],
   "source": [
    "df = pd.read_csv(\"../data/processed/reclamos_descripcionesv2.csv\", low_memory=False)"
   ]
  },
  {
   "cell_type": "code",
   "execution_count": 15,
   "id": "b206c0f4",
   "metadata": {},
   "outputs": [
    {
     "data": {
      "text/plain": [
       "ID_PERIODO                    0\n",
       "DE_TIPO_ADMINISTRADO          0\n",
       "CO_ADMIN_DECLA                0\n",
       "CO_UGIPRESS                   0\n",
       "DE_TIPO_INSTITUCION           0\n",
       "CO_ADMIN_SUCE                 0\n",
       "DE_MEDIO_PRESENTACION         0\n",
       "CO_UNICO_RECLAMO              0\n",
       "DE_MEDIO_RECEPCION            0\n",
       "FE_PRESEN_RECLA               0\n",
       "DE_SERVICIO                   0\n",
       "DE_COMPETENCIA                0\n",
       "DE_CLASIF_1                   0\n",
       "DE_CLASIF_2                   0\n",
       "DE_CLASIF_3                   0\n",
       "DE_ESTADO_RECLAMO             0\n",
       "CO_RECLAMO_PRIMIG             0\n",
       "DE_ETAPA_RECLAMO              0\n",
       "DE_TIPO_ADMIN_DERIVA          0\n",
       "CO_ADMIN_DERIVA               0\n",
       "DE_RESULTADO                  0\n",
       "DE_MOTIVO_CONCL_ANTIC         0\n",
       "FE_RESULT_RECL            97422\n",
       "DE_COMUN_RESULT               0\n",
       "FE_NOTIFI_RESULT         104740\n",
       "AÑO                           0\n",
       "MES                           0\n",
       "DESCRIPCION                   0\n",
       "dtype: int64"
      ]
     },
     "execution_count": 15,
     "metadata": {},
     "output_type": "execute_result"
    }
   ],
   "source": [
    "df.isnull().sum()"
   ]
  },
  {
   "cell_type": "code",
   "execution_count": 17,
   "id": "4f10b6a6",
   "metadata": {},
   "outputs": [
    {
     "name": "stdout",
     "output_type": "stream",
     "text": [
      "Porcentaje de descripciones vacías: 21.64%\n"
     ]
    }
   ],
   "source": [
    "# Reemplazar '-' en la columna DESCRIPCION con NaN\n",
    "df['DESCRIPCION'] = df['DESCRIPCION'].replace('-', np.nan)\n",
    "\n",
    "# Calcular el porcentaje de descripciones vacías\n",
    "porcentaje_vacios = df['DESCRIPCION'].isna().mean() * 100\n",
    "print(f\"Porcentaje de descripciones vacías: {porcentaje_vacios:.2f}%\")"
   ]
  },
  {
   "cell_type": "code",
   "execution_count": 19,
   "id": "95314519",
   "metadata": {},
   "outputs": [
    {
     "name": "stdout",
     "output_type": "stream",
     "text": [
      "Distribución en registros CON descripción:\n",
      "DE_CLASIF_1\n",
      "Otros relativos a las IAFAS                                                         0.345969\n",
      "-                                                                                   0.298951\n",
      "Cobrar indebidamente                                                                0.083130\n",
      "No permitir al usuario la libre elección de IPRESS de acuerdo a lo contratado       0.065985\n",
      "Negar la acreditación de usuario asegurado.                                         0.050212\n",
      "No brindar información sobre sus derechos en salud                                  0.046971\n",
      "Negar  o demora en otorgar la cobertura en salud                                    0.042530\n",
      "Demorar la gestión de la carta de garantía y/o reembolsos.                          0.024592\n",
      "Negar o demorar en la atención en la IAFAS                                          0.015913\n",
      "Negar atención para el trámite de registro o acreditación                           0.007415\n",
      "No brindar atención con respeto de parte del personal de la IAFAS                   0.004857\n",
      "Negar la cobertura en periodo de latencia                                           0.004488\n",
      "No cumplir con las disposiciones de la PAUS de acuerdo a la normatividad vigente    0.003853\n",
      "Negar la afiliación del usuario                                                     0.002385\n",
      "Negar el otorgamiento de prestaciones económicas o sociales                         0.001868\n",
      "Negar la cobertura de emergencia en periodo de carencia                             0.000369\n",
      "No cumplir con la disposición de libro de reclamaciones en salud                    0.000361\n",
      "No brindar atención según la ley de atención preferencial y de discapacidad         0.000149\n",
      "Name: proportion, dtype: float64\n",
      "\n",
      "Distribución en registros SIN descripción:\n",
      "DE_CLASIF_1\n",
      "-                                                             0.715085\n",
      "Negar la acreditación de usuario asegurado.                   0.119489\n",
      "Negar  o demora en otorgar la cobertura en salud              0.104631\n",
      "Demorar la gestión de la carta de garantía y/o reembolsos.    0.060795\n",
      "Name: proportion, dtype: float64\n",
      "\n",
      "Diferencias (positivo = más común en registros sin descripción):\n",
      "DE_CLASIF_1\n",
      "-                                                                                   0.416134\n",
      "Negar la acreditación de usuario asegurado.                                         0.069276\n",
      "Negar  o demora en otorgar la cobertura en salud                                    0.062101\n",
      "Demorar la gestión de la carta de garantía y/o reembolsos.                          0.036203\n",
      "Cobrar indebidamente                                                                     NaN\n",
      "Negar atención para el trámite de registro o acreditación                                NaN\n",
      "Negar el otorgamiento de prestaciones económicas o sociales                              NaN\n",
      "Negar la afiliación del usuario                                                          NaN\n",
      "Negar la cobertura de emergencia en periodo de carencia                                  NaN\n",
      "Negar la cobertura en periodo de latencia                                                NaN\n",
      "Negar o demorar en la atención en la IAFAS                                               NaN\n",
      "No brindar atención con respeto de parte del personal de la IAFAS                        NaN\n",
      "No brindar atención según la ley de atención preferencial y de discapacidad              NaN\n",
      "No brindar información sobre sus derechos en salud                                       NaN\n",
      "No cumplir con la disposición de libro de reclamaciones en salud                         NaN\n",
      "No cumplir con las disposiciones de la PAUS de acuerdo a la normatividad vigente         NaN\n",
      "No permitir al usuario la libre elección de IPRESS de acuerdo a lo contratado            NaN\n",
      "Otros relativos a las IAFAS                                                              NaN\n",
      "Name: proportion, dtype: float64\n"
     ]
    }
   ],
   "source": [
    "# Comparar distribución de clases entre registros con y sin descripción\n",
    "con_descripcion = df[df['DESCRIPCION'].notna()]['DE_CLASIF_1'].value_counts(normalize=True)\n",
    "sin_descripcion = df[df['DESCRIPCION'].isna()]['DE_CLASIF_1'].value_counts(normalize=True)\n",
    "\n",
    "# Mostrar diferencias\n",
    "print(\"Distribución en registros CON descripción:\")\n",
    "print(con_descripcion)\n",
    "print(\"\\nDistribución en registros SIN descripción:\")\n",
    "print(sin_descripcion)\n",
    "\n",
    "# Verificar si hay categorías sobrerrepresentadas en los datos sin descripción\n",
    "diff = sin_descripcion - con_descripcion\n",
    "print(\"\\nDiferencias (positivo = más común en registros sin descripción):\")\n",
    "print(diff.sort_values(ascending=False))"
   ]
  },
  {
   "cell_type": "code",
   "execution_count": 21,
   "id": "c2c4c35d",
   "metadata": {},
   "outputs": [],
   "source": [
    "# Objetivo\n",
    "y = df[\"DE_CLASIF_1\"]"
   ]
  },
  {
   "cell_type": "code",
   "execution_count": 23,
   "id": "0b352a4b",
   "metadata": {},
   "outputs": [
    {
     "name": "stdout",
     "output_type": "stream",
     "text": [
      "DE_CLASIF_1\n",
      "-                                                                                   0.389015\n",
      "Otros relativos a las IAFAS                                                         0.271091\n",
      "Negar la acreditación de usuario asegurado.                                         0.065206\n",
      "Cobrar indebidamente                                                                0.065138\n",
      "Negar  o demora en otorgar la cobertura en salud                                    0.055971\n",
      "No permitir al usuario la libre elección de IPRESS de acuerdo a lo contratado       0.051703\n",
      "No brindar información sobre sus derechos en salud                                  0.036805\n",
      "Demorar la gestión de la carta de garantía y/o reembolsos.                          0.032428\n",
      "Negar o demorar en la atención en la IAFAS                                          0.012469\n",
      "Negar atención para el trámite de registro o acreditación                           0.005810\n",
      "No brindar atención con respeto de parte del personal de la IAFAS                   0.003806\n",
      "Negar la cobertura en periodo de latencia                                           0.003517\n",
      "No cumplir con las disposiciones de la PAUS de acuerdo a la normatividad vigente    0.003019\n",
      "Negar la afiliación del usuario                                                     0.001869\n",
      "Negar el otorgamiento de prestaciones económicas o sociales                         0.001463\n",
      "Negar la cobertura de emergencia en periodo de carencia                             0.000289\n",
      "No cumplir con la disposición de libro de reclamaciones en salud                    0.000283\n",
      "No brindar atención según la ley de atención preferencial y de discapacidad         0.000117\n",
      "Name: proportion, dtype: float64\n"
     ]
    }
   ],
   "source": [
    "print(y.value_counts(normalize=True))"
   ]
  },
  {
   "cell_type": "code",
   "execution_count": 25,
   "id": "27f53db4",
   "metadata": {},
   "outputs": [],
   "source": [
    "# Variables a eliminar\n",
    "cols_to_drop = [\n",
    "    \"DE_CLASIF_2\", \"DE_CLASIF_3\", \"DE_ESTADO_RECLAMO\", \"CO_RECLAMO_PRIMIG\", \"DE_ETAPA_RECLAMO\", \"DE_TIPO_ADMIN_DERIVA\",\n",
    "    \"CO_ADMIN_DERIVA\", \"DE_RESULTADO\", \"DE_MOTIVO_CONCL_ANTIC\", \"FE_RESULT_RECL\",\n",
    "    \"DE_COMUN_RESULT\", \"FE_NOTIFI_RESULT\", \"DE_TIPO_ADMINISTRADO\"\n",
    "]"
   ]
  },
  {
   "cell_type": "code",
   "execution_count": 27,
   "id": "2a750188",
   "metadata": {},
   "outputs": [],
   "source": [
    "df = df.drop(columns=cols_to_drop)"
   ]
  },
  {
   "cell_type": "code",
   "execution_count": 7,
   "id": "8dfcb342",
   "metadata": {},
   "outputs": [],
   "source": [
    "# Extraer mes y año como numéricos si quieres\n",
    "#df[\"AÑO\"] = df[\"ID_PERIODO\"].astype(str).str[:4].astype(int)\n",
    "#df[\"MES\"] = df[\"ID_PERIODO\"].astype(str).str[4:6].astype(int)\n",
    "#df = df.drop(columns=[\"ID_PERIODO\", \"FE_PRESEN_RECLA\"])  # ya extraído"
   ]
  },
  {
   "cell_type": "code",
   "execution_count": 29,
   "id": "23e4ade7-ec34-4b18-97a1-36fad1519b25",
   "metadata": {},
   "outputs": [],
   "source": [
    "df['FE_PRESEN_RECLA'] = pd.to_datetime(df['FE_PRESEN_RECLA'], format='%Y%m%d', errors='coerce')\n",
    "df['MES'] = df['FE_PRESEN_RECLA'].dt.month\n",
    "df['DIA_SEMANA'] = df['FE_PRESEN_RECLA'].dt.dayofweek"
   ]
  },
  {
   "cell_type": "code",
   "execution_count": 8,
   "id": "d63ce68b",
   "metadata": {},
   "outputs": [],
   "source": [
    "# Definir texto + estructuradas\n",
    "text_column = \"DESCRIPCION\""
   ]
  },
  {
   "cell_type": "code",
   "execution_count": 35,
   "id": "ccee3427-f254-4828-9ac3-12ae924aa6e1",
   "metadata": {},
   "outputs": [
    {
     "name": "stdout",
     "output_type": "stream",
     "text": [
      "Collecting sentence_transformers\n",
      "  Downloading sentence_transformers-4.1.0-py3-none-any.whl.metadata (13 kB)\n",
      "Requirement already satisfied: transformers<5.0.0,>=4.41.0 in c:\\users\\harol\\anaconda3\\lib\\site-packages (from sentence_transformers) (4.50.3)\n",
      "Requirement already satisfied: tqdm in c:\\users\\harol\\anaconda3\\lib\\site-packages (from sentence_transformers) (4.66.5)\n",
      "Requirement already satisfied: torch>=1.11.0 in c:\\users\\harol\\anaconda3\\lib\\site-packages (from sentence_transformers) (2.6.0)\n",
      "Requirement already satisfied: scikit-learn in c:\\users\\harol\\anaconda3\\lib\\site-packages (from sentence_transformers) (1.5.1)\n",
      "Requirement already satisfied: scipy in c:\\users\\harol\\anaconda3\\lib\\site-packages (from sentence_transformers) (1.13.1)\n",
      "Requirement already satisfied: huggingface-hub>=0.20.0 in c:\\users\\harol\\anaconda3\\lib\\site-packages (from sentence_transformers) (0.30.1)\n",
      "Requirement already satisfied: Pillow in c:\\users\\harol\\anaconda3\\lib\\site-packages (from sentence_transformers) (10.4.0)\n",
      "Requirement already satisfied: typing_extensions>=4.5.0 in c:\\users\\harol\\anaconda3\\lib\\site-packages (from sentence_transformers) (4.13.2)\n",
      "Requirement already satisfied: filelock in c:\\users\\harol\\anaconda3\\lib\\site-packages (from huggingface-hub>=0.20.0->sentence_transformers) (3.13.1)\n",
      "Requirement already satisfied: fsspec>=2023.5.0 in c:\\users\\harol\\anaconda3\\lib\\site-packages (from huggingface-hub>=0.20.0->sentence_transformers) (2024.6.1)\n",
      "Requirement already satisfied: packaging>=20.9 in c:\\users\\harol\\anaconda3\\lib\\site-packages (from huggingface-hub>=0.20.0->sentence_transformers) (24.1)\n",
      "Requirement already satisfied: pyyaml>=5.1 in c:\\users\\harol\\anaconda3\\lib\\site-packages (from huggingface-hub>=0.20.0->sentence_transformers) (6.0.1)\n",
      "Requirement already satisfied: requests in c:\\users\\harol\\anaconda3\\lib\\site-packages (from huggingface-hub>=0.20.0->sentence_transformers) (2.32.3)\n",
      "Requirement already satisfied: networkx in c:\\users\\harol\\anaconda3\\lib\\site-packages (from torch>=1.11.0->sentence_transformers) (3.3)\n",
      "Requirement already satisfied: jinja2 in c:\\users\\harol\\anaconda3\\lib\\site-packages (from torch>=1.11.0->sentence_transformers) (3.1.4)\n",
      "Requirement already satisfied: setuptools in c:\\users\\harol\\anaconda3\\lib\\site-packages (from torch>=1.11.0->sentence_transformers) (75.1.0)\n",
      "Requirement already satisfied: sympy==1.13.1 in c:\\users\\harol\\anaconda3\\lib\\site-packages (from torch>=1.11.0->sentence_transformers) (1.13.1)\n",
      "Requirement already satisfied: mpmath<1.4,>=1.1.0 in c:\\users\\harol\\anaconda3\\lib\\site-packages (from sympy==1.13.1->torch>=1.11.0->sentence_transformers) (1.3.0)\n",
      "Requirement already satisfied: colorama in c:\\users\\harol\\anaconda3\\lib\\site-packages (from tqdm->sentence_transformers) (0.4.6)\n",
      "Requirement already satisfied: numpy>=1.17 in c:\\users\\harol\\anaconda3\\lib\\site-packages (from transformers<5.0.0,>=4.41.0->sentence_transformers) (1.26.4)\n",
      "Requirement already satisfied: regex!=2019.12.17 in c:\\users\\harol\\anaconda3\\lib\\site-packages (from transformers<5.0.0,>=4.41.0->sentence_transformers) (2024.9.11)\n",
      "Requirement already satisfied: tokenizers<0.22,>=0.21 in c:\\users\\harol\\anaconda3\\lib\\site-packages (from transformers<5.0.0,>=4.41.0->sentence_transformers) (0.21.1)\n",
      "Requirement already satisfied: safetensors>=0.4.3 in c:\\users\\harol\\anaconda3\\lib\\site-packages (from transformers<5.0.0,>=4.41.0->sentence_transformers) (0.5.3)\n",
      "Requirement already satisfied: joblib>=1.2.0 in c:\\users\\harol\\anaconda3\\lib\\site-packages (from scikit-learn->sentence_transformers) (1.4.2)\n",
      "Requirement already satisfied: threadpoolctl>=3.1.0 in c:\\users\\harol\\anaconda3\\lib\\site-packages (from scikit-learn->sentence_transformers) (3.5.0)\n",
      "Requirement already satisfied: MarkupSafe>=2.0 in c:\\users\\harol\\anaconda3\\lib\\site-packages (from jinja2->torch>=1.11.0->sentence_transformers) (2.1.3)\n",
      "Requirement already satisfied: charset-normalizer<4,>=2 in c:\\users\\harol\\anaconda3\\lib\\site-packages (from requests->huggingface-hub>=0.20.0->sentence_transformers) (3.3.2)\n",
      "Requirement already satisfied: idna<4,>=2.5 in c:\\users\\harol\\anaconda3\\lib\\site-packages (from requests->huggingface-hub>=0.20.0->sentence_transformers) (3.7)\n",
      "Requirement already satisfied: urllib3<3,>=1.21.1 in c:\\users\\harol\\anaconda3\\lib\\site-packages (from requests->huggingface-hub>=0.20.0->sentence_transformers) (2.2.3)\n",
      "Requirement already satisfied: certifi>=2017.4.17 in c:\\users\\harol\\anaconda3\\lib\\site-packages (from requests->huggingface-hub>=0.20.0->sentence_transformers) (2024.8.30)\n",
      "Downloading sentence_transformers-4.1.0-py3-none-any.whl (345 kB)\n",
      "Installing collected packages: sentence_transformers\n",
      "Successfully installed sentence_transformers-4.1.0\n"
     ]
    }
   ],
   "source": [
    "!pip install sentence_transformers"
   ]
  },
  {
   "cell_type": "code",
   "execution_count": 37,
   "id": "1953e92a-b93b-463e-bf5c-daf761b102dd",
   "metadata": {},
   "outputs": [],
   "source": [
    "from sentence_transformers import SentenceTransformer"
   ]
  },
  {
   "cell_type": "code",
   "execution_count": 39,
   "id": "bd55f16b-6605-44da-9ddb-e370713bea3f",
   "metadata": {},
   "outputs": [
    {
     "data": {
      "application/vnd.jupyter.widget-view+json": {
       "model_id": "ed11ecb9286746ae93593bd964d6f292",
       "version_major": 2,
       "version_minor": 0
      },
      "text/plain": [
       "modules.json:   0%|          | 0.00/341 [00:00<?, ?B/s]"
      ]
     },
     "metadata": {},
     "output_type": "display_data"
    },
    {
     "data": {
      "application/vnd.jupyter.widget-view+json": {
       "model_id": "e845b2f1acf04c228a1dc526323262e7",
       "version_major": 2,
       "version_minor": 0
      },
      "text/plain": [
       "config_sentence_transformers.json:   0%|          | 0.00/122 [00:00<?, ?B/s]"
      ]
     },
     "metadata": {},
     "output_type": "display_data"
    },
    {
     "data": {
      "application/vnd.jupyter.widget-view+json": {
       "model_id": "8a227cc835a146f69a27e11f17c34f49",
       "version_major": 2,
       "version_minor": 0
      },
      "text/plain": [
       "README.md:   0%|          | 0.00/2.46k [00:00<?, ?B/s]"
      ]
     },
     "metadata": {},
     "output_type": "display_data"
    },
    {
     "data": {
      "application/vnd.jupyter.widget-view+json": {
       "model_id": "fb8aaaf60dd741169f9197219bce5282",
       "version_major": 2,
       "version_minor": 0
      },
      "text/plain": [
       "sentence_bert_config.json:   0%|          | 0.00/53.0 [00:00<?, ?B/s]"
      ]
     },
     "metadata": {},
     "output_type": "display_data"
    },
    {
     "data": {
      "application/vnd.jupyter.widget-view+json": {
       "model_id": "5b46f9866301404ebf43415fd409dd9c",
       "version_major": 2,
       "version_minor": 0
      },
      "text/plain": [
       "config.json:   0%|          | 0.00/610 [00:00<?, ?B/s]"
      ]
     },
     "metadata": {},
     "output_type": "display_data"
    },
    {
     "name": "stderr",
     "output_type": "stream",
     "text": [
      "Xet Storage is enabled for this repo, but the 'hf_xet' package is not installed. Falling back to regular HTTP download. For better performance, install the package with: `pip install huggingface_hub[hf_xet]` or `pip install hf_xet`\n"
     ]
    },
    {
     "data": {
      "application/vnd.jupyter.widget-view+json": {
       "model_id": "e1fc89dbdd9b45aa8a22a6f2d4104e77",
       "version_major": 2,
       "version_minor": 0
      },
      "text/plain": [
       "model.safetensors:   0%|          | 0.00/539M [00:00<?, ?B/s]"
      ]
     },
     "metadata": {},
     "output_type": "display_data"
    },
    {
     "data": {
      "application/vnd.jupyter.widget-view+json": {
       "model_id": "059a86ae9ff54633b36d86da2992bab9",
       "version_major": 2,
       "version_minor": 0
      },
      "text/plain": [
       "tokenizer_config.json:   0%|          | 0.00/531 [00:00<?, ?B/s]"
      ]
     },
     "metadata": {},
     "output_type": "display_data"
    },
    {
     "data": {
      "application/vnd.jupyter.widget-view+json": {
       "model_id": "c94b82a4fd214a1e8a4fc1d25898969c",
       "version_major": 2,
       "version_minor": 0
      },
      "text/plain": [
       "vocab.txt:   0%|          | 0.00/996k [00:00<?, ?B/s]"
      ]
     },
     "metadata": {},
     "output_type": "display_data"
    },
    {
     "data": {
      "application/vnd.jupyter.widget-view+json": {
       "model_id": "1d5ba8405bc144e89317715a170f6617",
       "version_major": 2,
       "version_minor": 0
      },
      "text/plain": [
       "tokenizer.json:   0%|          | 0.00/1.96M [00:00<?, ?B/s]"
      ]
     },
     "metadata": {},
     "output_type": "display_data"
    },
    {
     "data": {
      "application/vnd.jupyter.widget-view+json": {
       "model_id": "8781a589023344b3b6e992a7033149e9",
       "version_major": 2,
       "version_minor": 0
      },
      "text/plain": [
       "special_tokens_map.json:   0%|          | 0.00/112 [00:00<?, ?B/s]"
      ]
     },
     "metadata": {},
     "output_type": "display_data"
    },
    {
     "data": {
      "application/vnd.jupyter.widget-view+json": {
       "model_id": "44cd7f83896645e1af30c2f67659841a",
       "version_major": 2,
       "version_minor": 0
      },
      "text/plain": [
       "config.json:   0%|          | 0.00/190 [00:00<?, ?B/s]"
      ]
     },
     "metadata": {},
     "output_type": "display_data"
    },
    {
     "name": "stderr",
     "output_type": "stream",
     "text": [
      "Xet Storage is enabled for this repo, but the 'hf_xet' package is not installed. Falling back to regular HTTP download. For better performance, install the package with: `pip install huggingface_hub[hf_xet]` or `pip install hf_xet`\n",
      "Xet Storage is enabled for this repo, but the 'hf_xet' package is not installed. Falling back to regular HTTP download. For better performance, install the package with: `pip install huggingface_hub[hf_xet]` or `pip install hf_xet`\n"
     ]
    },
    {
     "data": {
      "application/vnd.jupyter.widget-view+json": {
       "model_id": "130c8d692402431fb455541bb8156cae",
       "version_major": 2,
       "version_minor": 0
      },
      "text/plain": [
       "config.json:   0%|          | 0.00/114 [00:00<?, ?B/s]"
      ]
     },
     "metadata": {},
     "output_type": "display_data"
    },
    {
     "data": {
      "application/vnd.jupyter.widget-view+json": {
       "model_id": "a50c71c0c17942d3a9fb5a0c151c4a2f",
       "version_major": 2,
       "version_minor": 0
      },
      "text/plain": [
       "pytorch_model.bin:   0%|          | 0.00/1.58M [00:00<?, ?B/s]"
      ]
     },
     "metadata": {},
     "output_type": "display_data"
    },
    {
     "data": {
      "application/vnd.jupyter.widget-view+json": {
       "model_id": "4f936f2056744d6b83c1e7c56ec3ea4f",
       "version_major": 2,
       "version_minor": 0
      },
      "text/plain": [
       "model.safetensors:   0%|          | 0.00/1.58M [00:00<?, ?B/s]"
      ]
     },
     "metadata": {},
     "output_type": "display_data"
    }
   ],
   "source": [
    "model = SentenceTransformer('distiluse-base-multilingual-cased-v2')\n",
    "df['DESCRIPCION_EMB'] = list(model.encode(df['DESCRIPCION'].astype(str)))"
   ]
  },
  {
   "cell_type": "code",
   "execution_count": 40,
   "id": "68e431f4-23d8-4d91-b6f8-90da1619fd3e",
   "metadata": {},
   "outputs": [
    {
     "ename": "TypeError",
     "evalue": "OneHotEncoder.__init__() got an unexpected keyword argument 'sparse'",
     "output_type": "error",
     "traceback": [
      "\u001b[1;31m---------------------------------------------------------------------------\u001b[0m",
      "\u001b[1;31mTypeError\u001b[0m                                 Traceback (most recent call last)",
      "Cell \u001b[1;32mIn[40], line 1\u001b[0m\n\u001b[1;32m----> 1\u001b[0m encoder \u001b[38;5;241m=\u001b[39m OneHotEncoder(sparse\u001b[38;5;241m=\u001b[39m\u001b[38;5;28;01mFalse\u001b[39;00m, drop\u001b[38;5;241m=\u001b[39m\u001b[38;5;124m'\u001b[39m\u001b[38;5;124mfirst\u001b[39m\u001b[38;5;124m'\u001b[39m, handle_unknown\u001b[38;5;241m=\u001b[39m\u001b[38;5;124m'\u001b[39m\u001b[38;5;124mignore\u001b[39m\u001b[38;5;124m'\u001b[39m)\n",
      "\u001b[1;31mTypeError\u001b[0m: OneHotEncoder.__init__() got an unexpected keyword argument 'sparse'"
     ]
    }
   ],
   "source": [
    "encoder = OneHotEncoder(sparse=False, drop='first', handle_unknown='ignore')"
   ]
  },
  {
   "cell_type": "code",
   "execution_count": null,
   "id": "ac4af70e-b4b0-430d-91fd-fd51192a7cfb",
   "metadata": {},
   "outputs": [],
   "source": [
    "# Columns to encode\n",
    "columns_to_encode = [\n",
    "    'DE_TIPO_INSTITUCION',\n",
    "    'DE_MEDIO_PRESENTACION',\n",
    "    'DE_MEDIO_RECEPCION',\n",
    "    'DE_SERVICIO',\n",
    "    'DE_COMPETENCIA'\n",
    "]"
   ]
  },
  {
   "cell_type": "code",
   "execution_count": null,
   "id": "6ff0672e-33c1-48ea-b7f3-65add3fc7dda",
   "metadata": {},
   "outputs": [],
   "source": [
    "# Fit and transform the selected columns\n",
    "encoded_data = encoder.fit_transform(df[columns_to_encode])"
   ]
  },
  {
   "cell_type": "code",
   "execution_count": null,
   "id": "3a22f353-aef5-430f-aec6-1b61fdba2b42",
   "metadata": {},
   "outputs": [],
   "source": [
    "# Create DataFrame with encoded column names\n",
    "encoded_df = pd.DataFrame(\n",
    "    encoded_data,\n",
    "    columns=encoder.get_feature_names_out(columns_to_encode)\n",
    ")"
   ]
  },
  {
   "cell_type": "code",
   "execution_count": null,
   "id": "27ecb46b-7f37-499c-a3fe-a07e84534e37",
   "metadata": {},
   "outputs": [],
   "source": [
    "# Reset index to ensure proper concatenation\n",
    "encoded_df.index = df.index"
   ]
  },
  {
   "cell_type": "code",
   "execution_count": null,
   "id": "96058570-7682-4442-bdc1-f0a92716d028",
   "metadata": {},
   "outputs": [],
   "source": [
    "# Drop original columns and concatenate the encoded ones\n",
    "df = df.drop(columns=columns_to_encode)\n",
    "df = pd.concat([df, encoded_df], axis=1)"
   ]
  },
  {
   "cell_type": "code",
   "execution_count": null,
   "id": "5eb8e231-09ea-4b35-b6b0-7364087cbb51",
   "metadata": {},
   "outputs": [],
   "source": [
    "# Display the first few rows of the transformed DataFrame\n",
    "df.head()"
   ]
  },
  {
   "cell_type": "code",
   "execution_count": 9,
   "id": "bb18ddf6",
   "metadata": {},
   "outputs": [],
   "source": [
    "categorical_features = [\n",
    "    \"DE_TIPO_ADMINISTRADO\", \"DE_TIPO_INSTITUCION\",\n",
    "    \"DE_MEDIO_PRESENTACION\", \"DE_MEDIO_RECEPCION\",\n",
    "    \"DE_SERVICIO\", \"DE_COMPETENCIA\", \"DE_ETAPA_RECLAMO\", \"DE_TIPO_ADMIN_DERIVA\"\n",
    "]"
   ]
  },
  {
   "cell_type": "code",
   "execution_count": 10,
   "id": "3f4a05dc",
   "metadata": {},
   "outputs": [],
   "source": [
    "numeric_features = [\"AÑO\", \"MES\"]"
   ]
  },
  {
   "cell_type": "code",
   "execution_count": 11,
   "id": "95b00c37",
   "metadata": {},
   "outputs": [],
   "source": [
    "X = df.drop(columns=[\"DE_CLASIF_1\"])"
   ]
  },
  {
   "cell_type": "code",
   "execution_count": 24,
   "id": "139a541f",
   "metadata": {},
   "outputs": [],
   "source": [
    "# Reemplazar valores nulos en la columna de texto con una cadena vacía\n",
    "df['DESCRIPCION'] = df['DESCRIPCION'].fillna('')"
   ]
  },
  {
   "cell_type": "code",
   "execution_count": 25,
   "id": "0bc5e4d3",
   "metadata": {},
   "outputs": [],
   "source": [
    "# Procesadores individuales\n",
    "text_preprocessor = Pipeline([\n",
    "    (\"tfidf\", TfidfVectorizer(max_features=5000, ngram_range=(1,2)))\n",
    "])"
   ]
  },
  {
   "cell_type": "code",
   "execution_count": 26,
   "id": "dae9f942",
   "metadata": {},
   "outputs": [],
   "source": [
    "categorical_preprocessor = Pipeline([\n",
    "    (\"onehot\", OneHotEncoder(handle_unknown=\"ignore\", sparse_output=False))\n",
    "])"
   ]
  },
  {
   "cell_type": "code",
   "execution_count": 27,
   "id": "f6053c9f",
   "metadata": {},
   "outputs": [],
   "source": [
    "# Ensamblaje de todo\n",
    "preprocessor = ColumnTransformer([\n",
    "    (\"text\", text_preprocessor, text_column),\n",
    "    (\"cat\", categorical_preprocessor, categorical_features),\n",
    "    (\"num\", \"passthrough\", numeric_features)\n",
    "])"
   ]
  },
  {
   "cell_type": "code",
   "execution_count": 28,
   "id": "54bc22b0",
   "metadata": {},
   "outputs": [],
   "source": [
    "# Modelo completo\n",
    "model = Pipeline([\n",
    "    (\"preprocessing\", preprocessor),\n",
    "    (\"classifier\", XGBClassifier(\n",
    "    objective=\"multi:softprob\",  # Devuelve probabilidades por clase\n",
    "    num_class=18,                # Muy importante\n",
    "    n_estimators=100,\n",
    "    max_depth=6,\n",
    "    learning_rate=0.1,\n",
    "    use_label_encoder=False,\n",
    "    eval_metric=\"mlogloss\"\n",
    ")\n",
    ")\n",
    "])"
   ]
  },
  {
   "cell_type": "code",
   "execution_count": 29,
   "id": "46799ce7",
   "metadata": {},
   "outputs": [],
   "source": [
    "X_train, X_test, y_train, y_test = train_test_split(X, y, stratify=y, test_size=0.2, random_state=42)"
   ]
  },
  {
   "cell_type": "code",
   "execution_count": 34,
   "id": "36f4704e",
   "metadata": {},
   "outputs": [
    {
     "name": "stderr",
     "output_type": "stream",
     "text": [
      "c:\\Users\\harol\\anaconda3\\Lib\\site-packages\\xgboost\\core.py:158: UserWarning: [23:23:20] WARNING: C:\\buildkite-agent\\builds\\buildkite-windows-cpu-autoscaling-group-i-08cbc0333d8d4aae1-1\\xgboost\\xgboost-ci-windows\\src\\learner.cc:740: \n",
      "Parameters: { \"use_label_encoder\" } are not used.\n",
      "\n",
      "  warnings.warn(smsg, UserWarning)\n"
     ]
    },
    {
     "data": {
      "text/html": [
       "<style>#sk-container-id-1 {\n",
       "  /* Definition of color scheme common for light and dark mode */\n",
       "  --sklearn-color-text: black;\n",
       "  --sklearn-color-line: gray;\n",
       "  /* Definition of color scheme for unfitted estimators */\n",
       "  --sklearn-color-unfitted-level-0: #fff5e6;\n",
       "  --sklearn-color-unfitted-level-1: #f6e4d2;\n",
       "  --sklearn-color-unfitted-level-2: #ffe0b3;\n",
       "  --sklearn-color-unfitted-level-3: chocolate;\n",
       "  /* Definition of color scheme for fitted estimators */\n",
       "  --sklearn-color-fitted-level-0: #f0f8ff;\n",
       "  --sklearn-color-fitted-level-1: #d4ebff;\n",
       "  --sklearn-color-fitted-level-2: #b3dbfd;\n",
       "  --sklearn-color-fitted-level-3: cornflowerblue;\n",
       "\n",
       "  /* Specific color for light theme */\n",
       "  --sklearn-color-text-on-default-background: var(--sg-text-color, var(--theme-code-foreground, var(--jp-content-font-color1, black)));\n",
       "  --sklearn-color-background: var(--sg-background-color, var(--theme-background, var(--jp-layout-color0, white)));\n",
       "  --sklearn-color-border-box: var(--sg-text-color, var(--theme-code-foreground, var(--jp-content-font-color1, black)));\n",
       "  --sklearn-color-icon: #696969;\n",
       "\n",
       "  @media (prefers-color-scheme: dark) {\n",
       "    /* Redefinition of color scheme for dark theme */\n",
       "    --sklearn-color-text-on-default-background: var(--sg-text-color, var(--theme-code-foreground, var(--jp-content-font-color1, white)));\n",
       "    --sklearn-color-background: var(--sg-background-color, var(--theme-background, var(--jp-layout-color0, #111)));\n",
       "    --sklearn-color-border-box: var(--sg-text-color, var(--theme-code-foreground, var(--jp-content-font-color1, white)));\n",
       "    --sklearn-color-icon: #878787;\n",
       "  }\n",
       "}\n",
       "\n",
       "#sk-container-id-1 {\n",
       "  color: var(--sklearn-color-text);\n",
       "}\n",
       "\n",
       "#sk-container-id-1 pre {\n",
       "  padding: 0;\n",
       "}\n",
       "\n",
       "#sk-container-id-1 input.sk-hidden--visually {\n",
       "  border: 0;\n",
       "  clip: rect(1px 1px 1px 1px);\n",
       "  clip: rect(1px, 1px, 1px, 1px);\n",
       "  height: 1px;\n",
       "  margin: -1px;\n",
       "  overflow: hidden;\n",
       "  padding: 0;\n",
       "  position: absolute;\n",
       "  width: 1px;\n",
       "}\n",
       "\n",
       "#sk-container-id-1 div.sk-dashed-wrapped {\n",
       "  border: 1px dashed var(--sklearn-color-line);\n",
       "  margin: 0 0.4em 0.5em 0.4em;\n",
       "  box-sizing: border-box;\n",
       "  padding-bottom: 0.4em;\n",
       "  background-color: var(--sklearn-color-background);\n",
       "}\n",
       "\n",
       "#sk-container-id-1 div.sk-container {\n",
       "  /* jupyter's `normalize.less` sets `[hidden] { display: none; }`\n",
       "     but bootstrap.min.css set `[hidden] { display: none !important; }`\n",
       "     so we also need the `!important` here to be able to override the\n",
       "     default hidden behavior on the sphinx rendered scikit-learn.org.\n",
       "     See: https://github.com/scikit-learn/scikit-learn/issues/21755 */\n",
       "  display: inline-block !important;\n",
       "  position: relative;\n",
       "}\n",
       "\n",
       "#sk-container-id-1 div.sk-text-repr-fallback {\n",
       "  display: none;\n",
       "}\n",
       "\n",
       "div.sk-parallel-item,\n",
       "div.sk-serial,\n",
       "div.sk-item {\n",
       "  /* draw centered vertical line to link estimators */\n",
       "  background-image: linear-gradient(var(--sklearn-color-text-on-default-background), var(--sklearn-color-text-on-default-background));\n",
       "  background-size: 2px 100%;\n",
       "  background-repeat: no-repeat;\n",
       "  background-position: center center;\n",
       "}\n",
       "\n",
       "/* Parallel-specific style estimator block */\n",
       "\n",
       "#sk-container-id-1 div.sk-parallel-item::after {\n",
       "  content: \"\";\n",
       "  width: 100%;\n",
       "  border-bottom: 2px solid var(--sklearn-color-text-on-default-background);\n",
       "  flex-grow: 1;\n",
       "}\n",
       "\n",
       "#sk-container-id-1 div.sk-parallel {\n",
       "  display: flex;\n",
       "  align-items: stretch;\n",
       "  justify-content: center;\n",
       "  background-color: var(--sklearn-color-background);\n",
       "  position: relative;\n",
       "}\n",
       "\n",
       "#sk-container-id-1 div.sk-parallel-item {\n",
       "  display: flex;\n",
       "  flex-direction: column;\n",
       "}\n",
       "\n",
       "#sk-container-id-1 div.sk-parallel-item:first-child::after {\n",
       "  align-self: flex-end;\n",
       "  width: 50%;\n",
       "}\n",
       "\n",
       "#sk-container-id-1 div.sk-parallel-item:last-child::after {\n",
       "  align-self: flex-start;\n",
       "  width: 50%;\n",
       "}\n",
       "\n",
       "#sk-container-id-1 div.sk-parallel-item:only-child::after {\n",
       "  width: 0;\n",
       "}\n",
       "\n",
       "/* Serial-specific style estimator block */\n",
       "\n",
       "#sk-container-id-1 div.sk-serial {\n",
       "  display: flex;\n",
       "  flex-direction: column;\n",
       "  align-items: center;\n",
       "  background-color: var(--sklearn-color-background);\n",
       "  padding-right: 1em;\n",
       "  padding-left: 1em;\n",
       "}\n",
       "\n",
       "\n",
       "/* Toggleable style: style used for estimator/Pipeline/ColumnTransformer box that is\n",
       "clickable and can be expanded/collapsed.\n",
       "- Pipeline and ColumnTransformer use this feature and define the default style\n",
       "- Estimators will overwrite some part of the style using the `sk-estimator` class\n",
       "*/\n",
       "\n",
       "/* Pipeline and ColumnTransformer style (default) */\n",
       "\n",
       "#sk-container-id-1 div.sk-toggleable {\n",
       "  /* Default theme specific background. It is overwritten whether we have a\n",
       "  specific estimator or a Pipeline/ColumnTransformer */\n",
       "  background-color: var(--sklearn-color-background);\n",
       "}\n",
       "\n",
       "/* Toggleable label */\n",
       "#sk-container-id-1 label.sk-toggleable__label {\n",
       "  cursor: pointer;\n",
       "  display: block;\n",
       "  width: 100%;\n",
       "  margin-bottom: 0;\n",
       "  padding: 0.5em;\n",
       "  box-sizing: border-box;\n",
       "  text-align: center;\n",
       "}\n",
       "\n",
       "#sk-container-id-1 label.sk-toggleable__label-arrow:before {\n",
       "  /* Arrow on the left of the label */\n",
       "  content: \"▸\";\n",
       "  float: left;\n",
       "  margin-right: 0.25em;\n",
       "  color: var(--sklearn-color-icon);\n",
       "}\n",
       "\n",
       "#sk-container-id-1 label.sk-toggleable__label-arrow:hover:before {\n",
       "  color: var(--sklearn-color-text);\n",
       "}\n",
       "\n",
       "/* Toggleable content - dropdown */\n",
       "\n",
       "#sk-container-id-1 div.sk-toggleable__content {\n",
       "  max-height: 0;\n",
       "  max-width: 0;\n",
       "  overflow: hidden;\n",
       "  text-align: left;\n",
       "  /* unfitted */\n",
       "  background-color: var(--sklearn-color-unfitted-level-0);\n",
       "}\n",
       "\n",
       "#sk-container-id-1 div.sk-toggleable__content.fitted {\n",
       "  /* fitted */\n",
       "  background-color: var(--sklearn-color-fitted-level-0);\n",
       "}\n",
       "\n",
       "#sk-container-id-1 div.sk-toggleable__content pre {\n",
       "  margin: 0.2em;\n",
       "  border-radius: 0.25em;\n",
       "  color: var(--sklearn-color-text);\n",
       "  /* unfitted */\n",
       "  background-color: var(--sklearn-color-unfitted-level-0);\n",
       "}\n",
       "\n",
       "#sk-container-id-1 div.sk-toggleable__content.fitted pre {\n",
       "  /* unfitted */\n",
       "  background-color: var(--sklearn-color-fitted-level-0);\n",
       "}\n",
       "\n",
       "#sk-container-id-1 input.sk-toggleable__control:checked~div.sk-toggleable__content {\n",
       "  /* Expand drop-down */\n",
       "  max-height: 200px;\n",
       "  max-width: 100%;\n",
       "  overflow: auto;\n",
       "}\n",
       "\n",
       "#sk-container-id-1 input.sk-toggleable__control:checked~label.sk-toggleable__label-arrow:before {\n",
       "  content: \"▾\";\n",
       "}\n",
       "\n",
       "/* Pipeline/ColumnTransformer-specific style */\n",
       "\n",
       "#sk-container-id-1 div.sk-label input.sk-toggleable__control:checked~label.sk-toggleable__label {\n",
       "  color: var(--sklearn-color-text);\n",
       "  background-color: var(--sklearn-color-unfitted-level-2);\n",
       "}\n",
       "\n",
       "#sk-container-id-1 div.sk-label.fitted input.sk-toggleable__control:checked~label.sk-toggleable__label {\n",
       "  background-color: var(--sklearn-color-fitted-level-2);\n",
       "}\n",
       "\n",
       "/* Estimator-specific style */\n",
       "\n",
       "/* Colorize estimator box */\n",
       "#sk-container-id-1 div.sk-estimator input.sk-toggleable__control:checked~label.sk-toggleable__label {\n",
       "  /* unfitted */\n",
       "  background-color: var(--sklearn-color-unfitted-level-2);\n",
       "}\n",
       "\n",
       "#sk-container-id-1 div.sk-estimator.fitted input.sk-toggleable__control:checked~label.sk-toggleable__label {\n",
       "  /* fitted */\n",
       "  background-color: var(--sklearn-color-fitted-level-2);\n",
       "}\n",
       "\n",
       "#sk-container-id-1 div.sk-label label.sk-toggleable__label,\n",
       "#sk-container-id-1 div.sk-label label {\n",
       "  /* The background is the default theme color */\n",
       "  color: var(--sklearn-color-text-on-default-background);\n",
       "}\n",
       "\n",
       "/* On hover, darken the color of the background */\n",
       "#sk-container-id-1 div.sk-label:hover label.sk-toggleable__label {\n",
       "  color: var(--sklearn-color-text);\n",
       "  background-color: var(--sklearn-color-unfitted-level-2);\n",
       "}\n",
       "\n",
       "/* Label box, darken color on hover, fitted */\n",
       "#sk-container-id-1 div.sk-label.fitted:hover label.sk-toggleable__label.fitted {\n",
       "  color: var(--sklearn-color-text);\n",
       "  background-color: var(--sklearn-color-fitted-level-2);\n",
       "}\n",
       "\n",
       "/* Estimator label */\n",
       "\n",
       "#sk-container-id-1 div.sk-label label {\n",
       "  font-family: monospace;\n",
       "  font-weight: bold;\n",
       "  display: inline-block;\n",
       "  line-height: 1.2em;\n",
       "}\n",
       "\n",
       "#sk-container-id-1 div.sk-label-container {\n",
       "  text-align: center;\n",
       "}\n",
       "\n",
       "/* Estimator-specific */\n",
       "#sk-container-id-1 div.sk-estimator {\n",
       "  font-family: monospace;\n",
       "  border: 1px dotted var(--sklearn-color-border-box);\n",
       "  border-radius: 0.25em;\n",
       "  box-sizing: border-box;\n",
       "  margin-bottom: 0.5em;\n",
       "  /* unfitted */\n",
       "  background-color: var(--sklearn-color-unfitted-level-0);\n",
       "}\n",
       "\n",
       "#sk-container-id-1 div.sk-estimator.fitted {\n",
       "  /* fitted */\n",
       "  background-color: var(--sklearn-color-fitted-level-0);\n",
       "}\n",
       "\n",
       "/* on hover */\n",
       "#sk-container-id-1 div.sk-estimator:hover {\n",
       "  /* unfitted */\n",
       "  background-color: var(--sklearn-color-unfitted-level-2);\n",
       "}\n",
       "\n",
       "#sk-container-id-1 div.sk-estimator.fitted:hover {\n",
       "  /* fitted */\n",
       "  background-color: var(--sklearn-color-fitted-level-2);\n",
       "}\n",
       "\n",
       "/* Specification for estimator info (e.g. \"i\" and \"?\") */\n",
       "\n",
       "/* Common style for \"i\" and \"?\" */\n",
       "\n",
       ".sk-estimator-doc-link,\n",
       "a:link.sk-estimator-doc-link,\n",
       "a:visited.sk-estimator-doc-link {\n",
       "  float: right;\n",
       "  font-size: smaller;\n",
       "  line-height: 1em;\n",
       "  font-family: monospace;\n",
       "  background-color: var(--sklearn-color-background);\n",
       "  border-radius: 1em;\n",
       "  height: 1em;\n",
       "  width: 1em;\n",
       "  text-decoration: none !important;\n",
       "  margin-left: 1ex;\n",
       "  /* unfitted */\n",
       "  border: var(--sklearn-color-unfitted-level-1) 1pt solid;\n",
       "  color: var(--sklearn-color-unfitted-level-1);\n",
       "}\n",
       "\n",
       ".sk-estimator-doc-link.fitted,\n",
       "a:link.sk-estimator-doc-link.fitted,\n",
       "a:visited.sk-estimator-doc-link.fitted {\n",
       "  /* fitted */\n",
       "  border: var(--sklearn-color-fitted-level-1) 1pt solid;\n",
       "  color: var(--sklearn-color-fitted-level-1);\n",
       "}\n",
       "\n",
       "/* On hover */\n",
       "div.sk-estimator:hover .sk-estimator-doc-link:hover,\n",
       ".sk-estimator-doc-link:hover,\n",
       "div.sk-label-container:hover .sk-estimator-doc-link:hover,\n",
       ".sk-estimator-doc-link:hover {\n",
       "  /* unfitted */\n",
       "  background-color: var(--sklearn-color-unfitted-level-3);\n",
       "  color: var(--sklearn-color-background);\n",
       "  text-decoration: none;\n",
       "}\n",
       "\n",
       "div.sk-estimator.fitted:hover .sk-estimator-doc-link.fitted:hover,\n",
       ".sk-estimator-doc-link.fitted:hover,\n",
       "div.sk-label-container:hover .sk-estimator-doc-link.fitted:hover,\n",
       ".sk-estimator-doc-link.fitted:hover {\n",
       "  /* fitted */\n",
       "  background-color: var(--sklearn-color-fitted-level-3);\n",
       "  color: var(--sklearn-color-background);\n",
       "  text-decoration: none;\n",
       "}\n",
       "\n",
       "/* Span, style for the box shown on hovering the info icon */\n",
       ".sk-estimator-doc-link span {\n",
       "  display: none;\n",
       "  z-index: 9999;\n",
       "  position: relative;\n",
       "  font-weight: normal;\n",
       "  right: .2ex;\n",
       "  padding: .5ex;\n",
       "  margin: .5ex;\n",
       "  width: min-content;\n",
       "  min-width: 20ex;\n",
       "  max-width: 50ex;\n",
       "  color: var(--sklearn-color-text);\n",
       "  box-shadow: 2pt 2pt 4pt #999;\n",
       "  /* unfitted */\n",
       "  background: var(--sklearn-color-unfitted-level-0);\n",
       "  border: .5pt solid var(--sklearn-color-unfitted-level-3);\n",
       "}\n",
       "\n",
       ".sk-estimator-doc-link.fitted span {\n",
       "  /* fitted */\n",
       "  background: var(--sklearn-color-fitted-level-0);\n",
       "  border: var(--sklearn-color-fitted-level-3);\n",
       "}\n",
       "\n",
       ".sk-estimator-doc-link:hover span {\n",
       "  display: block;\n",
       "}\n",
       "\n",
       "/* \"?\"-specific style due to the `<a>` HTML tag */\n",
       "\n",
       "#sk-container-id-1 a.estimator_doc_link {\n",
       "  float: right;\n",
       "  font-size: 1rem;\n",
       "  line-height: 1em;\n",
       "  font-family: monospace;\n",
       "  background-color: var(--sklearn-color-background);\n",
       "  border-radius: 1rem;\n",
       "  height: 1rem;\n",
       "  width: 1rem;\n",
       "  text-decoration: none;\n",
       "  /* unfitted */\n",
       "  color: var(--sklearn-color-unfitted-level-1);\n",
       "  border: var(--sklearn-color-unfitted-level-1) 1pt solid;\n",
       "}\n",
       "\n",
       "#sk-container-id-1 a.estimator_doc_link.fitted {\n",
       "  /* fitted */\n",
       "  border: var(--sklearn-color-fitted-level-1) 1pt solid;\n",
       "  color: var(--sklearn-color-fitted-level-1);\n",
       "}\n",
       "\n",
       "/* On hover */\n",
       "#sk-container-id-1 a.estimator_doc_link:hover {\n",
       "  /* unfitted */\n",
       "  background-color: var(--sklearn-color-unfitted-level-3);\n",
       "  color: var(--sklearn-color-background);\n",
       "  text-decoration: none;\n",
       "}\n",
       "\n",
       "#sk-container-id-1 a.estimator_doc_link.fitted:hover {\n",
       "  /* fitted */\n",
       "  background-color: var(--sklearn-color-fitted-level-3);\n",
       "}\n",
       "</style><div id=\"sk-container-id-1\" class=\"sk-top-container\"><div class=\"sk-text-repr-fallback\"><pre>Pipeline(steps=[(&#x27;preprocessing&#x27;,\n",
       "                 ColumnTransformer(transformers=[(&#x27;text&#x27;,\n",
       "                                                  Pipeline(steps=[(&#x27;tfidf&#x27;,\n",
       "                                                                   TfidfVectorizer(max_features=5000,\n",
       "                                                                                   ngram_range=(1,\n",
       "                                                                                                2)))]),\n",
       "                                                  &#x27;DESCRIPCION&#x27;),\n",
       "                                                 (&#x27;cat&#x27;,\n",
       "                                                  Pipeline(steps=[(&#x27;onehot&#x27;,\n",
       "                                                                   OneHotEncoder(handle_unknown=&#x27;ignore&#x27;,\n",
       "                                                                                 sparse_output=False))]),\n",
       "                                                  [&#x27;DE_TIPO_ADMINISTRADO&#x27;,\n",
       "                                                   &#x27;DE_TIPO_INSTITUCION&#x27;,\n",
       "                                                   &#x27;DE_MEDIO_PRESENTACION&#x27;,\n",
       "                                                   &#x27;DE_MEDIO_RECEPC...\n",
       "                               feature_types=None, gamma=None, grow_policy=None,\n",
       "                               importance_type=None,\n",
       "                               interaction_constraints=None, learning_rate=0.1,\n",
       "                               max_bin=None, max_cat_threshold=None,\n",
       "                               max_cat_to_onehot=None, max_delta_step=None,\n",
       "                               max_depth=6, max_leaves=None,\n",
       "                               min_child_weight=None, missing=nan,\n",
       "                               monotone_constraints=None, multi_strategy=None,\n",
       "                               n_estimators=100, n_jobs=None, num_class=18,\n",
       "                               num_parallel_tree=None, ...))])</pre><b>In a Jupyter environment, please rerun this cell to show the HTML representation or trust the notebook. <br />On GitHub, the HTML representation is unable to render, please try loading this page with nbviewer.org.</b></div><div class=\"sk-container\" hidden><div class=\"sk-item sk-dashed-wrapped\"><div class=\"sk-label-container\"><div class=\"sk-label fitted sk-toggleable\"><input class=\"sk-toggleable__control sk-hidden--visually\" id=\"sk-estimator-id-1\" type=\"checkbox\" ><label for=\"sk-estimator-id-1\" class=\"sk-toggleable__label fitted sk-toggleable__label-arrow fitted\">&nbsp;&nbsp;Pipeline<a class=\"sk-estimator-doc-link fitted\" rel=\"noreferrer\" target=\"_blank\" href=\"https://scikit-learn.org/1.5/modules/generated/sklearn.pipeline.Pipeline.html\">?<span>Documentation for Pipeline</span></a><span class=\"sk-estimator-doc-link fitted\">i<span>Fitted</span></span></label><div class=\"sk-toggleable__content fitted\"><pre>Pipeline(steps=[(&#x27;preprocessing&#x27;,\n",
       "                 ColumnTransformer(transformers=[(&#x27;text&#x27;,\n",
       "                                                  Pipeline(steps=[(&#x27;tfidf&#x27;,\n",
       "                                                                   TfidfVectorizer(max_features=5000,\n",
       "                                                                                   ngram_range=(1,\n",
       "                                                                                                2)))]),\n",
       "                                                  &#x27;DESCRIPCION&#x27;),\n",
       "                                                 (&#x27;cat&#x27;,\n",
       "                                                  Pipeline(steps=[(&#x27;onehot&#x27;,\n",
       "                                                                   OneHotEncoder(handle_unknown=&#x27;ignore&#x27;,\n",
       "                                                                                 sparse_output=False))]),\n",
       "                                                  [&#x27;DE_TIPO_ADMINISTRADO&#x27;,\n",
       "                                                   &#x27;DE_TIPO_INSTITUCION&#x27;,\n",
       "                                                   &#x27;DE_MEDIO_PRESENTACION&#x27;,\n",
       "                                                   &#x27;DE_MEDIO_RECEPC...\n",
       "                               feature_types=None, gamma=None, grow_policy=None,\n",
       "                               importance_type=None,\n",
       "                               interaction_constraints=None, learning_rate=0.1,\n",
       "                               max_bin=None, max_cat_threshold=None,\n",
       "                               max_cat_to_onehot=None, max_delta_step=None,\n",
       "                               max_depth=6, max_leaves=None,\n",
       "                               min_child_weight=None, missing=nan,\n",
       "                               monotone_constraints=None, multi_strategy=None,\n",
       "                               n_estimators=100, n_jobs=None, num_class=18,\n",
       "                               num_parallel_tree=None, ...))])</pre></div> </div></div><div class=\"sk-serial\"><div class=\"sk-item sk-dashed-wrapped\"><div class=\"sk-label-container\"><div class=\"sk-label fitted sk-toggleable\"><input class=\"sk-toggleable__control sk-hidden--visually\" id=\"sk-estimator-id-2\" type=\"checkbox\" ><label for=\"sk-estimator-id-2\" class=\"sk-toggleable__label fitted sk-toggleable__label-arrow fitted\">&nbsp;preprocessing: ColumnTransformer<a class=\"sk-estimator-doc-link fitted\" rel=\"noreferrer\" target=\"_blank\" href=\"https://scikit-learn.org/1.5/modules/generated/sklearn.compose.ColumnTransformer.html\">?<span>Documentation for preprocessing: ColumnTransformer</span></a></label><div class=\"sk-toggleable__content fitted\"><pre>ColumnTransformer(transformers=[(&#x27;text&#x27;,\n",
       "                                 Pipeline(steps=[(&#x27;tfidf&#x27;,\n",
       "                                                  TfidfVectorizer(max_features=5000,\n",
       "                                                                  ngram_range=(1,\n",
       "                                                                               2)))]),\n",
       "                                 &#x27;DESCRIPCION&#x27;),\n",
       "                                (&#x27;cat&#x27;,\n",
       "                                 Pipeline(steps=[(&#x27;onehot&#x27;,\n",
       "                                                  OneHotEncoder(handle_unknown=&#x27;ignore&#x27;,\n",
       "                                                                sparse_output=False))]),\n",
       "                                 [&#x27;DE_TIPO_ADMINISTRADO&#x27;, &#x27;DE_TIPO_INSTITUCION&#x27;,\n",
       "                                  &#x27;DE_MEDIO_PRESENTACION&#x27;, &#x27;DE_MEDIO_RECEPCION&#x27;,\n",
       "                                  &#x27;DE_SERVICIO&#x27;, &#x27;DE_COMPETENCIA&#x27;,\n",
       "                                  &#x27;DE_ETAPA_RECLAMO&#x27;, &#x27;DE_TIPO_ADMIN_DERIVA&#x27;]),\n",
       "                                (&#x27;num&#x27;, &#x27;passthrough&#x27;, [&#x27;AÑO&#x27;, &#x27;MES&#x27;])])</pre></div> </div></div><div class=\"sk-parallel\"><div class=\"sk-parallel-item\"><div class=\"sk-item\"><div class=\"sk-label-container\"><div class=\"sk-label fitted sk-toggleable\"><input class=\"sk-toggleable__control sk-hidden--visually\" id=\"sk-estimator-id-3\" type=\"checkbox\" ><label for=\"sk-estimator-id-3\" class=\"sk-toggleable__label fitted sk-toggleable__label-arrow fitted\">text</label><div class=\"sk-toggleable__content fitted\"><pre>DESCRIPCION</pre></div> </div></div><div class=\"sk-serial\"><div class=\"sk-item\"><div class=\"sk-serial\"><div class=\"sk-item\"><div class=\"sk-estimator fitted sk-toggleable\"><input class=\"sk-toggleable__control sk-hidden--visually\" id=\"sk-estimator-id-4\" type=\"checkbox\" ><label for=\"sk-estimator-id-4\" class=\"sk-toggleable__label fitted sk-toggleable__label-arrow fitted\">&nbsp;TfidfVectorizer<a class=\"sk-estimator-doc-link fitted\" rel=\"noreferrer\" target=\"_blank\" href=\"https://scikit-learn.org/1.5/modules/generated/sklearn.feature_extraction.text.TfidfVectorizer.html\">?<span>Documentation for TfidfVectorizer</span></a></label><div class=\"sk-toggleable__content fitted\"><pre>TfidfVectorizer(max_features=5000, ngram_range=(1, 2))</pre></div> </div></div></div></div></div></div></div><div class=\"sk-parallel-item\"><div class=\"sk-item\"><div class=\"sk-label-container\"><div class=\"sk-label fitted sk-toggleable\"><input class=\"sk-toggleable__control sk-hidden--visually\" id=\"sk-estimator-id-5\" type=\"checkbox\" ><label for=\"sk-estimator-id-5\" class=\"sk-toggleable__label fitted sk-toggleable__label-arrow fitted\">cat</label><div class=\"sk-toggleable__content fitted\"><pre>[&#x27;DE_TIPO_ADMINISTRADO&#x27;, &#x27;DE_TIPO_INSTITUCION&#x27;, &#x27;DE_MEDIO_PRESENTACION&#x27;, &#x27;DE_MEDIO_RECEPCION&#x27;, &#x27;DE_SERVICIO&#x27;, &#x27;DE_COMPETENCIA&#x27;, &#x27;DE_ETAPA_RECLAMO&#x27;, &#x27;DE_TIPO_ADMIN_DERIVA&#x27;]</pre></div> </div></div><div class=\"sk-serial\"><div class=\"sk-item\"><div class=\"sk-serial\"><div class=\"sk-item\"><div class=\"sk-estimator fitted sk-toggleable\"><input class=\"sk-toggleable__control sk-hidden--visually\" id=\"sk-estimator-id-6\" type=\"checkbox\" ><label for=\"sk-estimator-id-6\" class=\"sk-toggleable__label fitted sk-toggleable__label-arrow fitted\">&nbsp;OneHotEncoder<a class=\"sk-estimator-doc-link fitted\" rel=\"noreferrer\" target=\"_blank\" href=\"https://scikit-learn.org/1.5/modules/generated/sklearn.preprocessing.OneHotEncoder.html\">?<span>Documentation for OneHotEncoder</span></a></label><div class=\"sk-toggleable__content fitted\"><pre>OneHotEncoder(handle_unknown=&#x27;ignore&#x27;, sparse_output=False)</pre></div> </div></div></div></div></div></div></div><div class=\"sk-parallel-item\"><div class=\"sk-item\"><div class=\"sk-label-container\"><div class=\"sk-label fitted sk-toggleable\"><input class=\"sk-toggleable__control sk-hidden--visually\" id=\"sk-estimator-id-7\" type=\"checkbox\" ><label for=\"sk-estimator-id-7\" class=\"sk-toggleable__label fitted sk-toggleable__label-arrow fitted\">num</label><div class=\"sk-toggleable__content fitted\"><pre>[&#x27;AÑO&#x27;, &#x27;MES&#x27;]</pre></div> </div></div><div class=\"sk-serial\"><div class=\"sk-item\"><div class=\"sk-estimator fitted sk-toggleable\"><input class=\"sk-toggleable__control sk-hidden--visually\" id=\"sk-estimator-id-8\" type=\"checkbox\" ><label for=\"sk-estimator-id-8\" class=\"sk-toggleable__label fitted sk-toggleable__label-arrow fitted\">passthrough</label><div class=\"sk-toggleable__content fitted\"><pre>passthrough</pre></div> </div></div></div></div></div></div></div><div class=\"sk-item\"><div class=\"sk-estimator fitted sk-toggleable\"><input class=\"sk-toggleable__control sk-hidden--visually\" id=\"sk-estimator-id-9\" type=\"checkbox\" ><label for=\"sk-estimator-id-9\" class=\"sk-toggleable__label fitted sk-toggleable__label-arrow fitted\">XGBClassifier</label><div class=\"sk-toggleable__content fitted\"><pre>XGBClassifier(base_score=None, booster=None, callbacks=None,\n",
       "              colsample_bylevel=None, colsample_bynode=None,\n",
       "              colsample_bytree=None, device=None, early_stopping_rounds=None,\n",
       "              enable_categorical=False, eval_metric=&#x27;mlogloss&#x27;,\n",
       "              feature_types=None, gamma=None, grow_policy=None,\n",
       "              importance_type=None, interaction_constraints=None,\n",
       "              learning_rate=0.1, max_bin=None, max_cat_threshold=None,\n",
       "              max_cat_to_onehot=None, max_delta_step=None, max_depth=6,\n",
       "              max_leaves=None, min_child_weight=None, missing=nan,\n",
       "              monotone_constraints=None, multi_strategy=None, n_estimators=100,\n",
       "              n_jobs=None, num_class=18, num_parallel_tree=None, ...)</pre></div> </div></div></div></div></div></div>"
      ],
      "text/plain": [
       "Pipeline(steps=[('preprocessing',\n",
       "                 ColumnTransformer(transformers=[('text',\n",
       "                                                  Pipeline(steps=[('tfidf',\n",
       "                                                                   TfidfVectorizer(max_features=5000,\n",
       "                                                                                   ngram_range=(1,\n",
       "                                                                                                2)))]),\n",
       "                                                  'DESCRIPCION'),\n",
       "                                                 ('cat',\n",
       "                                                  Pipeline(steps=[('onehot',\n",
       "                                                                   OneHotEncoder(handle_unknown='ignore',\n",
       "                                                                                 sparse_output=False))]),\n",
       "                                                  ['DE_TIPO_ADMINISTRADO',\n",
       "                                                   'DE_TIPO_INSTITUCION',\n",
       "                                                   'DE_MEDIO_PRESENTACION',\n",
       "                                                   'DE_MEDIO_RECEPC...\n",
       "                               feature_types=None, gamma=None, grow_policy=None,\n",
       "                               importance_type=None,\n",
       "                               interaction_constraints=None, learning_rate=0.1,\n",
       "                               max_bin=None, max_cat_threshold=None,\n",
       "                               max_cat_to_onehot=None, max_delta_step=None,\n",
       "                               max_depth=6, max_leaves=None,\n",
       "                               min_child_weight=None, missing=nan,\n",
       "                               monotone_constraints=None, multi_strategy=None,\n",
       "                               n_estimators=100, n_jobs=None, num_class=18,\n",
       "                               num_parallel_tree=None, ...))])"
      ]
     },
     "execution_count": 34,
     "metadata": {},
     "output_type": "execute_result"
    }
   ],
   "source": [
    "from sklearn.preprocessing import LabelEncoder\n",
    "\n",
    "# Reemplazar valores nulos en la columna de texto con una cadena vacía\n",
    "df['DESCRIPCION'] = df['DESCRIPCION'].fillna('')\n",
    "\n",
    "# Asegurarse de que X_train no tenga valores nulos en la columna de texto\n",
    "X_train['DESCRIPCION'] = X_train['DESCRIPCION'].fillna('')\n",
    "\n",
    "# Codificar las etiquetas de y, y_train y y_test\n",
    "label_encoder = LabelEncoder()\n",
    "y_train_encoded = label_encoder.fit_transform(y_train)\n",
    "y_test_encoded = label_encoder.transform(y_test)\n",
    "\n",
    "# Ahora puedes entrenar el modelo sin problemas\n",
    "model.fit(X_train, y_train_encoded)"
   ]
  },
  {
   "cell_type": "code",
   "execution_count": 36,
   "id": "c7ac92df",
   "metadata": {},
   "outputs": [],
   "source": [
    "# Replace NaN values in the DESCRIPCION column with an empty string\n",
    "X_test['DESCRIPCION'] = X_test['DESCRIPCION'].fillna('')\n",
    "\n",
    "# Make predictions\n",
    "y_pred = model.predict(X_test)"
   ]
  },
  {
   "cell_type": "code",
   "execution_count": 38,
   "id": "043b6c1c",
   "metadata": {},
   "outputs": [
    {
     "name": "stdout",
     "output_type": "stream",
     "text": [
      "              precision    recall  f1-score   support\n",
      "\n",
      "           0       1.00      1.00      1.00     12654\n",
      "           1       1.00      1.00      1.00      2119\n",
      "           2       0.72      0.66      0.69      1055\n",
      "           3       0.75      0.68      0.71      1821\n",
      "           4       1.00      1.00      1.00       189\n",
      "           5       1.00      1.00      1.00        47\n",
      "           6       0.77      0.85      0.81      2121\n",
      "           7       1.00      1.00      1.00        61\n",
      "           8       1.00      0.89      0.94         9\n",
      "           9       1.00      1.00      1.00       114\n",
      "          10       1.00      1.00      1.00       406\n",
      "          11       1.00      1.00      1.00       124\n",
      "          12       1.00      0.50      0.67         4\n",
      "          13       1.00      1.00      1.00      1197\n",
      "          14       1.00      1.00      1.00         9\n",
      "          15       1.00      1.00      1.00        98\n",
      "          16       1.00      1.00      1.00      1682\n",
      "          17       1.00      1.00      1.00      8818\n",
      "\n",
      "    accuracy                           0.96     32528\n",
      "   macro avg       0.96      0.92      0.93     32528\n",
      "weighted avg       0.96      0.96      0.96     32528\n",
      "\n"
     ]
    }
   ],
   "source": [
    "# Ensure y_test is encoded to match y_pred\n",
    "y_test_encoded = label_encoder.transform(y_test)\n",
    "\n",
    "# Print the classification report\n",
    "print(classification_report(y_test_encoded, y_pred))"
   ]
  },
  {
   "cell_type": "code",
   "execution_count": 43,
   "id": "4a7d8e5e",
   "metadata": {},
   "outputs": [],
   "source": [
    "from sklearn.metrics import classification_report, f1_score"
   ]
  },
  {
   "cell_type": "code",
   "execution_count": 44,
   "id": "33878c20",
   "metadata": {},
   "outputs": [
    {
     "name": "stdout",
     "output_type": "stream",
     "text": [
      "              precision    recall  f1-score   support\n",
      "\n",
      "           0      0.998     1.000     0.999     12654\n",
      "           1      1.000     1.000     1.000      2119\n",
      "           2      0.723     0.664     0.692      1055\n",
      "           3      0.747     0.681     0.713      1821\n",
      "           4      1.000     1.000     1.000       189\n",
      "           5      1.000     1.000     1.000        47\n",
      "           6      0.770     0.847     0.807      2121\n",
      "           7      1.000     1.000     1.000        61\n",
      "           8      1.000     0.889     0.941         9\n",
      "           9      1.000     1.000     1.000       114\n",
      "          10      1.000     1.000     1.000       406\n",
      "          11      1.000     1.000     1.000       124\n",
      "          12      1.000     0.500     0.667         4\n",
      "          13      1.000     1.000     1.000      1197\n",
      "          14      1.000     1.000     1.000         9\n",
      "          15      1.000     1.000     1.000        98\n",
      "          16      0.999     1.000     1.000      1682\n",
      "          17      1.000     1.000     1.000      8818\n",
      "\n",
      "    accuracy                          0.961     32528\n",
      "   macro avg      0.958     0.921     0.934     32528\n",
      "weighted avg      0.961     0.961     0.961     32528\n",
      "\n",
      "F1 macro: 0.9343195163737104\n"
     ]
    }
   ],
   "source": [
    "print(classification_report(y_test_encoded, y_pred, digits=3))\n",
    "print(\"F1 macro:\", f1_score(y_test_encoded, y_pred, average='macro'))\n"
   ]
  },
  {
   "cell_type": "code",
   "execution_count": null,
   "id": "d9a188fa",
   "metadata": {},
   "outputs": [
    {
     "ename": "ValueError",
     "evalue": "X has 5044 features, but ColumnTransformer is expecting 14 features as input.",
     "output_type": "error",
     "traceback": [
      "\u001b[1;31m---------------------------------------------------------------------------\u001b[0m",
      "\u001b[1;31mValueError\u001b[0m                                Traceback (most recent call last)",
      "Cell \u001b[1;32mIn[46], line 29\u001b[0m\n\u001b[0;32m     27\u001b[0m \u001b[38;5;66;03m# Preprocesar el ejemplo\u001b[39;00m\n\u001b[0;32m     28\u001b[0m example_encoded \u001b[38;5;241m=\u001b[39m preprocessor\u001b[38;5;241m.\u001b[39mtransform(example)  \u001b[38;5;66;03m# Preprocesar el ejemplo\u001b[39;00m\n\u001b[1;32m---> 29\u001b[0m example_prediction \u001b[38;5;241m=\u001b[39m model\u001b[38;5;241m.\u001b[39mpredict(example_encoded)  \u001b[38;5;66;03m# Realizar la predicción\u001b[39;00m\n\u001b[0;32m     31\u001b[0m \u001b[38;5;66;03m# Decodificar la predicción\u001b[39;00m\n\u001b[0;32m     32\u001b[0m predicted_label \u001b[38;5;241m=\u001b[39m label_encoder\u001b[38;5;241m.\u001b[39minverse_transform(example_prediction)\n",
      "File \u001b[1;32mc:\\Users\\harol\\anaconda3\\Lib\\site-packages\\sklearn\\pipeline.py:600\u001b[0m, in \u001b[0;36mPipeline.predict\u001b[1;34m(self, X, **params)\u001b[0m\n\u001b[0;32m    598\u001b[0m \u001b[38;5;28;01mif\u001b[39;00m \u001b[38;5;129;01mnot\u001b[39;00m _routing_enabled():\n\u001b[0;32m    599\u001b[0m     \u001b[38;5;28;01mfor\u001b[39;00m _, name, transform \u001b[38;5;129;01min\u001b[39;00m \u001b[38;5;28mself\u001b[39m\u001b[38;5;241m.\u001b[39m_iter(with_final\u001b[38;5;241m=\u001b[39m\u001b[38;5;28;01mFalse\u001b[39;00m):\n\u001b[1;32m--> 600\u001b[0m         Xt \u001b[38;5;241m=\u001b[39m transform\u001b[38;5;241m.\u001b[39mtransform(Xt)\n\u001b[0;32m    601\u001b[0m     \u001b[38;5;28;01mreturn\u001b[39;00m \u001b[38;5;28mself\u001b[39m\u001b[38;5;241m.\u001b[39msteps[\u001b[38;5;241m-\u001b[39m\u001b[38;5;241m1\u001b[39m][\u001b[38;5;241m1\u001b[39m]\u001b[38;5;241m.\u001b[39mpredict(Xt, \u001b[38;5;241m*\u001b[39m\u001b[38;5;241m*\u001b[39mparams)\n\u001b[0;32m    603\u001b[0m \u001b[38;5;66;03m# metadata routing enabled\u001b[39;00m\n",
      "File \u001b[1;32mc:\\Users\\harol\\anaconda3\\Lib\\site-packages\\sklearn\\utils\\_set_output.py:313\u001b[0m, in \u001b[0;36m_wrap_method_output.<locals>.wrapped\u001b[1;34m(self, X, *args, **kwargs)\u001b[0m\n\u001b[0;32m    311\u001b[0m \u001b[38;5;129m@wraps\u001b[39m(f)\n\u001b[0;32m    312\u001b[0m \u001b[38;5;28;01mdef\u001b[39;00m \u001b[38;5;21mwrapped\u001b[39m(\u001b[38;5;28mself\u001b[39m, X, \u001b[38;5;241m*\u001b[39margs, \u001b[38;5;241m*\u001b[39m\u001b[38;5;241m*\u001b[39mkwargs):\n\u001b[1;32m--> 313\u001b[0m     data_to_wrap \u001b[38;5;241m=\u001b[39m f(\u001b[38;5;28mself\u001b[39m, X, \u001b[38;5;241m*\u001b[39margs, \u001b[38;5;241m*\u001b[39m\u001b[38;5;241m*\u001b[39mkwargs)\n\u001b[0;32m    314\u001b[0m     \u001b[38;5;28;01mif\u001b[39;00m \u001b[38;5;28misinstance\u001b[39m(data_to_wrap, \u001b[38;5;28mtuple\u001b[39m):\n\u001b[0;32m    315\u001b[0m         \u001b[38;5;66;03m# only wrap the first output for cross decomposition\u001b[39;00m\n\u001b[0;32m    316\u001b[0m         return_tuple \u001b[38;5;241m=\u001b[39m (\n\u001b[0;32m    317\u001b[0m             _wrap_data_with_container(method, data_to_wrap[\u001b[38;5;241m0\u001b[39m], X, \u001b[38;5;28mself\u001b[39m),\n\u001b[0;32m    318\u001b[0m             \u001b[38;5;241m*\u001b[39mdata_to_wrap[\u001b[38;5;241m1\u001b[39m:],\n\u001b[0;32m    319\u001b[0m         )\n",
      "File \u001b[1;32mc:\\Users\\harol\\anaconda3\\Lib\\site-packages\\sklearn\\compose\\_column_transformer.py:1069\u001b[0m, in \u001b[0;36mColumnTransformer.transform\u001b[1;34m(self, X, **params)\u001b[0m\n\u001b[0;32m   1065\u001b[0m         \u001b[38;5;28;01mraise\u001b[39;00m \u001b[38;5;167;01mValueError\u001b[39;00m(\u001b[38;5;124mf\u001b[39m\u001b[38;5;124m\"\u001b[39m\u001b[38;5;124mcolumns are missing: \u001b[39m\u001b[38;5;132;01m{\u001b[39;00mdiff\u001b[38;5;132;01m}\u001b[39;00m\u001b[38;5;124m\"\u001b[39m)\n\u001b[0;32m   1066\u001b[0m \u001b[38;5;28;01melse\u001b[39;00m:\n\u001b[0;32m   1067\u001b[0m     \u001b[38;5;66;03m# ndarray was used for fitting or transforming, thus we only\u001b[39;00m\n\u001b[0;32m   1068\u001b[0m     \u001b[38;5;66;03m# check that n_features_in_ is consistent\u001b[39;00m\n\u001b[1;32m-> 1069\u001b[0m     \u001b[38;5;28mself\u001b[39m\u001b[38;5;241m.\u001b[39m_check_n_features(X, reset\u001b[38;5;241m=\u001b[39m\u001b[38;5;28;01mFalse\u001b[39;00m)\n\u001b[0;32m   1071\u001b[0m \u001b[38;5;28;01mif\u001b[39;00m _routing_enabled():\n\u001b[0;32m   1072\u001b[0m     routed_params \u001b[38;5;241m=\u001b[39m process_routing(\u001b[38;5;28mself\u001b[39m, \u001b[38;5;124m\"\u001b[39m\u001b[38;5;124mtransform\u001b[39m\u001b[38;5;124m\"\u001b[39m, \u001b[38;5;241m*\u001b[39m\u001b[38;5;241m*\u001b[39mparams)\n",
      "File \u001b[1;32mc:\\Users\\harol\\anaconda3\\Lib\\site-packages\\sklearn\\base.py:443\u001b[0m, in \u001b[0;36mBaseEstimator._check_n_features\u001b[1;34m(self, X, reset)\u001b[0m\n\u001b[0;32m    440\u001b[0m     \u001b[38;5;28;01mreturn\u001b[39;00m\n\u001b[0;32m    442\u001b[0m \u001b[38;5;28;01mif\u001b[39;00m n_features \u001b[38;5;241m!=\u001b[39m \u001b[38;5;28mself\u001b[39m\u001b[38;5;241m.\u001b[39mn_features_in_:\n\u001b[1;32m--> 443\u001b[0m     \u001b[38;5;28;01mraise\u001b[39;00m \u001b[38;5;167;01mValueError\u001b[39;00m(\n\u001b[0;32m    444\u001b[0m         \u001b[38;5;124mf\u001b[39m\u001b[38;5;124m\"\u001b[39m\u001b[38;5;124mX has \u001b[39m\u001b[38;5;132;01m{\u001b[39;00mn_features\u001b[38;5;132;01m}\u001b[39;00m\u001b[38;5;124m features, but \u001b[39m\u001b[38;5;132;01m{\u001b[39;00m\u001b[38;5;28mself\u001b[39m\u001b[38;5;241m.\u001b[39m\u001b[38;5;18m__class__\u001b[39m\u001b[38;5;241m.\u001b[39m\u001b[38;5;18m__name__\u001b[39m\u001b[38;5;132;01m}\u001b[39;00m\u001b[38;5;124m \u001b[39m\u001b[38;5;124m\"\u001b[39m\n\u001b[0;32m    445\u001b[0m         \u001b[38;5;124mf\u001b[39m\u001b[38;5;124m\"\u001b[39m\u001b[38;5;124mis expecting \u001b[39m\u001b[38;5;132;01m{\u001b[39;00m\u001b[38;5;28mself\u001b[39m\u001b[38;5;241m.\u001b[39mn_features_in_\u001b[38;5;132;01m}\u001b[39;00m\u001b[38;5;124m features as input.\u001b[39m\u001b[38;5;124m\"\u001b[39m\n\u001b[0;32m    446\u001b[0m     )\n",
      "\u001b[1;31mValueError\u001b[0m: X has 5044 features, but ColumnTransformer is expecting 14 features as input."
     ]
    }
   ],
   "source": [
    "# Crear un ejemplo de entrada\n",
    "example = pd.DataFrame({\n",
    "    'DE_TIPO_ADMINISTRADO': ['IAFAS'],\n",
    "    'DE_TIPO_INSTITUCION': ['IAFAS'],\n",
    "    'DE_MEDIO_PRESENTACION': ['Virtual'],\n",
    "    'DE_MEDIO_RECEPCION': ['Libro de Reclamaciones Virtual'],\n",
    "    'DE_SERVICIO': ['Consulta Externa'],\n",
    "    'DE_COMPETENCIA': ['Si'],\n",
    "    'DE_ETAPA_RECLAMO': ['Evaluación e investigación'],\n",
    "    'DE_TIPO_ADMIN_DERIVA': ['-'],\n",
    "    'AÑO': [2023],\n",
    "    'MES': [5],\n",
    "    'DESCRIPCION': ['El servicio de atención médica fue deficiente y tardaron en atenderme.']\n",
    "})\n",
    "\n",
    "# Realizar la predicción\n",
    "example['DESCRIPCION'] = example['DESCRIPCION'].fillna('')  # Asegurarse de que no haya valores nulos\n",
    "example_encoded = preprocessor.transform(example)  # Preprocesar el ejemplo\n",
    "example_prediction = model.predict(example_encoded)  # Realizar la predicción\n",
    "\n",
    "# Decodificar la predicción\n",
    "predicted_label = label_encoder.inverse_transform(example_prediction)\n",
    "print(f\"Predicción: {predicted_label[0]}\")"
   ]
  },
  {
   "cell_type": "code",
   "execution_count": null,
   "id": "63f41716",
   "metadata": {},
   "outputs": [],
   "source": []
  },
  {
   "cell_type": "markdown",
   "id": "e72ebb83",
   "metadata": {},
   "source": [
    "### PREPARACIÓN DE LOS DATOS"
   ]
  },
  {
   "cell_type": "code",
   "execution_count": 19,
   "id": "4d53b542",
   "metadata": {},
   "outputs": [
    {
     "data": {
      "text/plain": [
       "Index(['ID_PERIODO', 'DE_TIPO_ADMINISTRADO', 'CO_ADMIN_DECLA', 'CO_UGIPRESS',\n",
       "       'DE_TIPO_INSTITUCION', 'CO_ADMIN_SUCE', 'DE_MEDIO_PRESENTACION',\n",
       "       'CO_UNICO_RECLAMO', 'DE_MEDIO_RECEPCION', 'FE_PRESEN_RECLA',\n",
       "       'DE_SERVICIO', 'DE_COMPETENCIA', 'DE_CLASIF_1', 'DE_CLASIF_2',\n",
       "       'DE_CLASIF_3', 'DE_ESTADO_RECLAMO', 'CO_RECLAMO_PRIMIG',\n",
       "       'DE_ETAPA_RECLAMO', 'DE_TIPO_ADMIN_DERIVA', 'CO_ADMIN_DERIVA',\n",
       "       'DE_RESULTADO', 'DE_MOTIVO_CONCL_ANTIC', 'FE_RESULT_RECL',\n",
       "       'DE_COMUN_RESULT', 'FE_NOTIFI_RESULT', 'AÑO', 'MES', 'DESCRIPCION'],\n",
       "      dtype='object')"
      ]
     },
     "execution_count": 19,
     "metadata": {},
     "output_type": "execute_result"
    }
   ],
   "source": [
    "df.columns"
   ]
  },
  {
   "cell_type": "code",
   "execution_count": 17,
   "id": "d55ab85c-4c10-4ac2-bef5-6ae512122540",
   "metadata": {},
   "outputs": [
    {
     "name": "stdout",
     "output_type": "stream",
     "text": [
      "<class 'pandas.core.frame.DataFrame'>\n",
      "RangeIndex: 162639 entries, 0 to 162638\n",
      "Data columns (total 28 columns):\n",
      " #   Column                 Non-Null Count   Dtype \n",
      "---  ------                 --------------   ----- \n",
      " 0   ID_PERIODO             162639 non-null  int64 \n",
      " 1   DE_TIPO_ADMINISTRADO   162639 non-null  object\n",
      " 2   CO_ADMIN_DECLA         162639 non-null  int64 \n",
      " 3   CO_UGIPRESS            162639 non-null  int64 \n",
      " 4   DE_TIPO_INSTITUCION    162639 non-null  object\n",
      " 5   CO_ADMIN_SUCE          162639 non-null  int64 \n",
      " 6   DE_MEDIO_PRESENTACION  162639 non-null  object\n",
      " 7   CO_UNICO_RECLAMO       162639 non-null  object\n",
      " 8   DE_MEDIO_RECEPCION     162639 non-null  object\n",
      " 9   FE_PRESEN_RECLA        162639 non-null  object\n",
      " 10  DE_SERVICIO            162639 non-null  object\n",
      " 11  DE_COMPETENCIA         162639 non-null  object\n",
      " 12  DE_CLASIF_1            162639 non-null  object\n",
      " 13  DE_CLASIF_2            162639 non-null  object\n",
      " 14  DE_CLASIF_3            162639 non-null  object\n",
      " 15  DE_ESTADO_RECLAMO      162639 non-null  object\n",
      " 16  CO_RECLAMO_PRIMIG      162639 non-null  object\n",
      " 17  DE_ETAPA_RECLAMO       162639 non-null  object\n",
      " 18  DE_TIPO_ADMIN_DERIVA   162639 non-null  object\n",
      " 19  CO_ADMIN_DERIVA        162639 non-null  object\n",
      " 20  DE_RESULTADO           162639 non-null  object\n",
      " 21  DE_MOTIVO_CONCL_ANTIC  162639 non-null  object\n",
      " 22  FE_RESULT_RECL         65217 non-null   object\n",
      " 23  DE_COMUN_RESULT        162639 non-null  object\n",
      " 24  FE_NOTIFI_RESULT       57899 non-null   object\n",
      " 25  AÑO                    162639 non-null  int64 \n",
      " 26  MES                    162639 non-null  int64 \n",
      " 27  DESCRIPCION            99370 non-null   object\n",
      "dtypes: int64(6), object(22)\n",
      "memory usage: 34.7+ MB\n"
     ]
    }
   ],
   "source": [
    "df.info()"
   ]
  },
  {
   "cell_type": "code",
   "execution_count": 9,
   "id": "f1c8ba8a",
   "metadata": {},
   "outputs": [],
   "source": [
    "# Eliminar filas con valores nulos en 'FE_NOTIFI_RESULT' y 'DESCRIPCION'\n",
    "# df = df.dropna(subset=['FE_NOTIFI_RESULT', 'DESCRIPCION'])"
   ]
  },
  {
   "cell_type": "code",
   "execution_count": 18,
   "id": "fa96ffbe",
   "metadata": {},
   "outputs": [
    {
     "name": "stdout",
     "output_type": "stream",
     "text": [
      "63269\n",
      "104740\n"
     ]
    }
   ],
   "source": [
    "print(df['DESCRIPCION'].isnull().sum())\n",
    "print(df['FE_NOTIFI_RESULT'].isnull().sum())"
   ]
  },
  {
   "cell_type": "code",
   "execution_count": null,
   "id": "98761e9a",
   "metadata": {},
   "outputs": [],
   "source": [
    "#df['FE_NOTIFI_RESULT'] = df['FE_NOTIFI_RESULT'].fillna('No notificado')\n",
    "#df['DESCRIPCION'] = df['DESCRIPCION'].fillna('No disponible')"
   ]
  },
  {
   "cell_type": "code",
   "execution_count": 12,
   "id": "a1464a79",
   "metadata": {},
   "outputs": [],
   "source": [
    "### Eliminación de variables no necesarias"
   ]
  },
  {
   "cell_type": "code",
   "execution_count": 22,
   "id": "156ee3f9",
   "metadata": {},
   "outputs": [],
   "source": [
    "columns_delete = [\n",
    "    'ID_PERIODO',\n",
    "    'CO_ADMIN_DECLA',\n",
    "    'CO_UGIPRESS',\n",
    "    'CO_ADMIN_SUCE',\n",
    "    'DE_CLASIF_2',\n",
    "    'DE_CLASIF_3',\n",
    "    'CO_UNICO_RECLAMO',\n",
    "    'CO_RECLAMO_PRIMIG',\n",
    "    'DE_MOTIVO_CONCL_ANTIC',\n",
    "    'CO_ADMIN_DERIVA',\n",
    "    'DE_MOTIVO_CONCL_ANTIC'\n",
    "]"
   ]
  },
  {
   "cell_type": "code",
   "execution_count": 23,
   "id": "eed23e18",
   "metadata": {},
   "outputs": [],
   "source": [
    "df = df.drop(columns=columns_delete)"
   ]
  },
  {
   "cell_type": "code",
   "execution_count": 24,
   "id": "7ef8164e",
   "metadata": {},
   "outputs": [
    {
     "name": "stdout",
     "output_type": "stream",
     "text": [
      "<class 'pandas.core.frame.DataFrame'>\n",
      "RangeIndex: 162639 entries, 0 to 162638\n",
      "Data columns (total 18 columns):\n",
      " #   Column                 Non-Null Count   Dtype \n",
      "---  ------                 --------------   ----- \n",
      " 0   DE_TIPO_ADMINISTRADO   162639 non-null  object\n",
      " 1   DE_TIPO_INSTITUCION    162639 non-null  object\n",
      " 2   DE_MEDIO_PRESENTACION  162639 non-null  object\n",
      " 3   DE_MEDIO_RECEPCION     162639 non-null  object\n",
      " 4   FE_PRESEN_RECLA        162639 non-null  object\n",
      " 5   DE_SERVICIO            162639 non-null  object\n",
      " 6   DE_COMPETENCIA         162639 non-null  object\n",
      " 7   DE_CLASIF_1            162639 non-null  object\n",
      " 8   DE_ESTADO_RECLAMO      162639 non-null  object\n",
      " 9   DE_ETAPA_RECLAMO       162639 non-null  object\n",
      " 10  DE_TIPO_ADMIN_DERIVA   162639 non-null  object\n",
      " 11  DE_RESULTADO           162639 non-null  object\n",
      " 12  FE_RESULT_RECL         65217 non-null   object\n",
      " 13  DE_COMUN_RESULT        162639 non-null  object\n",
      " 14  FE_NOTIFI_RESULT       57899 non-null   object\n",
      " 15  AÑO                    162639 non-null  int64 \n",
      " 16  MES                    162639 non-null  int64 \n",
      " 17  DESCRIPCION            99370 non-null   object\n",
      "dtypes: int64(2), object(16)\n",
      "memory usage: 22.3+ MB\n"
     ]
    }
   ],
   "source": [
    "df.info()"
   ]
  },
  {
   "cell_type": "markdown",
   "id": "d1b2d793",
   "metadata": {},
   "source": [
    "### Datos categoricos "
   ]
  },
  {
   "cell_type": "code",
   "execution_count": 25,
   "id": "1d393c61",
   "metadata": {},
   "outputs": [
    {
     "name": "stdout",
     "output_type": "stream",
     "text": [
      "DE_TIPO_ADMINISTRADO     object\n",
      "DE_TIPO_INSTITUCION      object\n",
      "DE_MEDIO_PRESENTACION    object\n",
      "DE_MEDIO_RECEPCION       object\n",
      "FE_PRESEN_RECLA          object\n",
      "DE_SERVICIO              object\n",
      "DE_COMPETENCIA           object\n",
      "DE_CLASIF_1              object\n",
      "DE_ESTADO_RECLAMO        object\n",
      "DE_ETAPA_RECLAMO         object\n",
      "DE_TIPO_ADMIN_DERIVA     object\n",
      "DE_RESULTADO             object\n",
      "FE_RESULT_RECL           object\n",
      "DE_COMUN_RESULT          object\n",
      "FE_NOTIFI_RESULT         object\n",
      "AÑO                       int64\n",
      "MES                       int64\n",
      "DESCRIPCION              object\n",
      "dtype: object\n"
     ]
    }
   ],
   "source": [
    "print(df.dtypes)"
   ]
  },
  {
   "cell_type": "code",
   "execution_count": 26,
   "id": "40bc3db6",
   "metadata": {},
   "outputs": [
    {
     "data": {
      "text/plain": [
       "dtype('O')"
      ]
     },
     "execution_count": 26,
     "metadata": {},
     "output_type": "execute_result"
    }
   ],
   "source": [
    "df['DE_COMPETENCIA'].dtype"
   ]
  },
  {
   "cell_type": "code",
   "execution_count": 27,
   "id": "74fdafe4",
   "metadata": {},
   "outputs": [],
   "source": [
    "#pd.get_dummies(df['DE_MEDIO_PRESENTACION'])"
   ]
  },
  {
   "cell_type": "markdown",
   "id": "91208aac",
   "metadata": {},
   "source": [
    "### Categorias para codificarlas"
   ]
  },
  {
   "cell_type": "code",
   "execution_count": 28,
   "id": "7be73fb0",
   "metadata": {},
   "outputs": [],
   "source": [
    "# 1. Identify categorical columns 'DE_CLASIF_1'\n",
    "categorical_columns = [\n",
    "    'DE_TIPO_ADMINISTRADO', 'DE_TIPO_INSTITUCION', 'DE_MEDIO_PRESENTACION',\n",
    "    'DE_MEDIO_RECEPCION', 'DE_SERVICIO', 'DE_COMPETENCIA',\n",
    "    'DE_ESTADO_RECLAMO',\n",
    "    'DE_ETAPA_RECLAMO', 'DE_TIPO_ADMIN_DERIVA', 'DE_RESULTADO',\n",
    "    'DE_COMUN_RESULT'\n",
    "]"
   ]
  },
  {
   "cell_type": "code",
   "execution_count": 29,
   "id": "9da4b25f",
   "metadata": {},
   "outputs": [],
   "source": [
    "# Preservar DE_CLASIF_1 original antes de one-hot encoding\n",
    "y = df['DE_CLASIF_1'].copy()"
   ]
  },
  {
   "cell_type": "code",
   "execution_count": 32,
   "id": "de28dcce",
   "metadata": {},
   "outputs": [],
   "source": [
    "# 2. Apply one-hot encoding using pandas get_dummies\n",
    "df_encoded = pd.get_dummies(\n",
    "    df,\n",
    "    columns=categorical_columns,\n",
    "    prefix=categorical_columns,\n",
    "    prefix_sep='_',\n",
    "    drop_first=True  # Drop first category to avoid multicollinearity\n",
    ")"
   ]
  },
  {
   "cell_type": "code",
   "execution_count": 30,
   "id": "bcfbe602",
   "metadata": {},
   "outputs": [],
   "source": [
    "# Aplicar one-hot encoding a las demás variables categóricas\n",
    "df_encoded = pd.get_dummies(\n",
    "    df.drop(columns=['DE_CLASIF_1']),  # Excluir DE_CLASIF_1 del encoding\n",
    "    columns=categorical_columns,\n",
    "    prefix=categorical_columns,\n",
    "    prefix_sep='_',\n",
    "    drop_first=True\n",
    ")"
   ]
  },
  {
   "cell_type": "code",
   "execution_count": null,
   "id": "c110f0a8",
   "metadata": {},
   "outputs": [
    {
     "ename": "ValueError",
     "evalue": "time data \"\"\" doesn't match format \"%Y%m%d\", at position 592. You might want to try:\n    - passing `format` if your strings have a consistent format;\n    - passing `format='ISO8601'` if your strings are all ISO8601 but not necessarily in exactly the same format;\n    - passing `format='mixed'`, and the format will be inferred for each element individually. You might want to use `dayfirst` alongside this.",
     "output_type": "error",
     "traceback": [
      "\u001b[1;31m---------------------------------------------------------------------------\u001b[0m",
      "\u001b[1;31mValueError\u001b[0m                                Traceback (most recent call last)",
      "Cell \u001b[1;32mIn[35], line 4\u001b[0m\n\u001b[0;32m      1\u001b[0m \u001b[38;5;66;03m# 3. Handle datetime columns separately\u001b[39;00m\n\u001b[0;32m      2\u001b[0m \u001b[38;5;66;03m#df_encoded['FE_PRESEN_RECLA'] = pd.to_datetime(df_encoded['FE_PRESEN_RECLA'])\u001b[39;00m\n\u001b[0;32m      3\u001b[0m \u001b[38;5;66;03m#df_encoded['FE_RESULT_RECL'] = pd.to_datetime(df_encoded['FE_RESULT_RECL'])\u001b[39;00m\n\u001b[1;32m----> 4\u001b[0m df_encoded[\u001b[38;5;124m'\u001b[39m\u001b[38;5;124mFE_NOTIFI_RESULT\u001b[39m\u001b[38;5;124m'\u001b[39m] \u001b[38;5;241m=\u001b[39m pd\u001b[38;5;241m.\u001b[39mto_datetime(df_encoded[\u001b[38;5;124m'\u001b[39m\u001b[38;5;124mFE_NOTIFI_RESULT\u001b[39m\u001b[38;5;124m'\u001b[39m])\n",
      "File \u001b[1;32mc:\\Users\\harol\\anaconda3\\Lib\\site-packages\\pandas\\core\\tools\\datetimes.py:1063\u001b[0m, in \u001b[0;36mto_datetime\u001b[1;34m(arg, errors, dayfirst, yearfirst, utc, format, exact, unit, infer_datetime_format, origin, cache)\u001b[0m\n\u001b[0;32m   1061\u001b[0m             result \u001b[38;5;241m=\u001b[39m arg\u001b[38;5;241m.\u001b[39mtz_localize(\u001b[38;5;124m\"\u001b[39m\u001b[38;5;124mutc\u001b[39m\u001b[38;5;124m\"\u001b[39m)\n\u001b[0;32m   1062\u001b[0m \u001b[38;5;28;01melif\u001b[39;00m \u001b[38;5;28misinstance\u001b[39m(arg, ABCSeries):\n\u001b[1;32m-> 1063\u001b[0m     cache_array \u001b[38;5;241m=\u001b[39m _maybe_cache(arg, \u001b[38;5;28mformat\u001b[39m, cache, convert_listlike)\n\u001b[0;32m   1064\u001b[0m     \u001b[38;5;28;01mif\u001b[39;00m \u001b[38;5;129;01mnot\u001b[39;00m cache_array\u001b[38;5;241m.\u001b[39mempty:\n\u001b[0;32m   1065\u001b[0m         result \u001b[38;5;241m=\u001b[39m arg\u001b[38;5;241m.\u001b[39mmap(cache_array)\n",
      "File \u001b[1;32mc:\\Users\\harol\\anaconda3\\Lib\\site-packages\\pandas\\core\\tools\\datetimes.py:247\u001b[0m, in \u001b[0;36m_maybe_cache\u001b[1;34m(arg, format, cache, convert_listlike)\u001b[0m\n\u001b[0;32m    245\u001b[0m unique_dates \u001b[38;5;241m=\u001b[39m unique(arg)\n\u001b[0;32m    246\u001b[0m \u001b[38;5;28;01mif\u001b[39;00m \u001b[38;5;28mlen\u001b[39m(unique_dates) \u001b[38;5;241m<\u001b[39m \u001b[38;5;28mlen\u001b[39m(arg):\n\u001b[1;32m--> 247\u001b[0m     cache_dates \u001b[38;5;241m=\u001b[39m convert_listlike(unique_dates, \u001b[38;5;28mformat\u001b[39m)\n\u001b[0;32m    248\u001b[0m     \u001b[38;5;66;03m# GH#45319\u001b[39;00m\n\u001b[0;32m    249\u001b[0m     \u001b[38;5;28;01mtry\u001b[39;00m:\n",
      "File \u001b[1;32mc:\\Users\\harol\\anaconda3\\Lib\\site-packages\\pandas\\core\\tools\\datetimes.py:433\u001b[0m, in \u001b[0;36m_convert_listlike_datetimes\u001b[1;34m(arg, format, name, utc, unit, errors, dayfirst, yearfirst, exact)\u001b[0m\n\u001b[0;32m    431\u001b[0m \u001b[38;5;66;03m# `format` could be inferred, or user didn't ask for mixed-format parsing.\u001b[39;00m\n\u001b[0;32m    432\u001b[0m \u001b[38;5;28;01mif\u001b[39;00m \u001b[38;5;28mformat\u001b[39m \u001b[38;5;129;01mis\u001b[39;00m \u001b[38;5;129;01mnot\u001b[39;00m \u001b[38;5;28;01mNone\u001b[39;00m \u001b[38;5;129;01mand\u001b[39;00m \u001b[38;5;28mformat\u001b[39m \u001b[38;5;241m!=\u001b[39m \u001b[38;5;124m\"\u001b[39m\u001b[38;5;124mmixed\u001b[39m\u001b[38;5;124m\"\u001b[39m:\n\u001b[1;32m--> 433\u001b[0m     \u001b[38;5;28;01mreturn\u001b[39;00m _array_strptime_with_fallback(arg, name, utc, \u001b[38;5;28mformat\u001b[39m, exact, errors)\n\u001b[0;32m    435\u001b[0m result, tz_parsed \u001b[38;5;241m=\u001b[39m objects_to_datetime64(\n\u001b[0;32m    436\u001b[0m     arg,\n\u001b[0;32m    437\u001b[0m     dayfirst\u001b[38;5;241m=\u001b[39mdayfirst,\n\u001b[1;32m   (...)\u001b[0m\n\u001b[0;32m    441\u001b[0m     allow_object\u001b[38;5;241m=\u001b[39m\u001b[38;5;28;01mTrue\u001b[39;00m,\n\u001b[0;32m    442\u001b[0m )\n\u001b[0;32m    444\u001b[0m \u001b[38;5;28;01mif\u001b[39;00m tz_parsed \u001b[38;5;129;01mis\u001b[39;00m \u001b[38;5;129;01mnot\u001b[39;00m \u001b[38;5;28;01mNone\u001b[39;00m:\n\u001b[0;32m    445\u001b[0m     \u001b[38;5;66;03m# We can take a shortcut since the datetime64 numpy array\u001b[39;00m\n\u001b[0;32m    446\u001b[0m     \u001b[38;5;66;03m# is in UTC\u001b[39;00m\n",
      "File \u001b[1;32mc:\\Users\\harol\\anaconda3\\Lib\\site-packages\\pandas\\core\\tools\\datetimes.py:467\u001b[0m, in \u001b[0;36m_array_strptime_with_fallback\u001b[1;34m(arg, name, utc, fmt, exact, errors)\u001b[0m\n\u001b[0;32m    456\u001b[0m \u001b[38;5;28;01mdef\u001b[39;00m \u001b[38;5;21m_array_strptime_with_fallback\u001b[39m(\n\u001b[0;32m    457\u001b[0m     arg,\n\u001b[0;32m    458\u001b[0m     name,\n\u001b[1;32m   (...)\u001b[0m\n\u001b[0;32m    462\u001b[0m     errors: \u001b[38;5;28mstr\u001b[39m,\n\u001b[0;32m    463\u001b[0m ) \u001b[38;5;241m-\u001b[39m\u001b[38;5;241m>\u001b[39m Index:\n\u001b[0;32m    464\u001b[0m \u001b[38;5;250m    \u001b[39m\u001b[38;5;124;03m\"\"\"\u001b[39;00m\n\u001b[0;32m    465\u001b[0m \u001b[38;5;124;03m    Call array_strptime, with fallback behavior depending on 'errors'.\u001b[39;00m\n\u001b[0;32m    466\u001b[0m \u001b[38;5;124;03m    \"\"\"\u001b[39;00m\n\u001b[1;32m--> 467\u001b[0m     result, tz_out \u001b[38;5;241m=\u001b[39m array_strptime(arg, fmt, exact\u001b[38;5;241m=\u001b[39mexact, errors\u001b[38;5;241m=\u001b[39merrors, utc\u001b[38;5;241m=\u001b[39mutc)\n\u001b[0;32m    468\u001b[0m     \u001b[38;5;28;01mif\u001b[39;00m tz_out \u001b[38;5;129;01mis\u001b[39;00m \u001b[38;5;129;01mnot\u001b[39;00m \u001b[38;5;28;01mNone\u001b[39;00m:\n\u001b[0;32m    469\u001b[0m         unit \u001b[38;5;241m=\u001b[39m np\u001b[38;5;241m.\u001b[39mdatetime_data(result\u001b[38;5;241m.\u001b[39mdtype)[\u001b[38;5;241m0\u001b[39m]\n",
      "File \u001b[1;32mstrptime.pyx:501\u001b[0m, in \u001b[0;36mpandas._libs.tslibs.strptime.array_strptime\u001b[1;34m()\u001b[0m\n",
      "File \u001b[1;32mstrptime.pyx:451\u001b[0m, in \u001b[0;36mpandas._libs.tslibs.strptime.array_strptime\u001b[1;34m()\u001b[0m\n",
      "File \u001b[1;32mstrptime.pyx:583\u001b[0m, in \u001b[0;36mpandas._libs.tslibs.strptime._parse_with_format\u001b[1;34m()\u001b[0m\n",
      "\u001b[1;31mValueError\u001b[0m: time data \"\"\" doesn't match format \"%Y%m%d\", at position 592. You might want to try:\n    - passing `format` if your strings have a consistent format;\n    - passing `format='ISO8601'` if your strings are all ISO8601 but not necessarily in exactly the same format;\n    - passing `format='mixed'`, and the format will be inferred for each element individually. You might want to use `dayfirst` alongside this."
     ]
    }
   ],
   "source": [
    "# 3. Handle datetime columns separately\n",
    "df_encoded['FE_PRESEN_RECLA'] = pd.to_datetime(df_encoded['FE_PRESEN_RECLA'])\n",
    "df_encoded['FE_RESULT_RECL'] = pd.to_datetime(df_encoded['FE_RESULT_RECL'])\n",
    "df_encoded['FE_NOTIFI_RESULT'] = pd.to_datetime(df_encoded['FE_NOTIFI_RESULT'])\n"
   ]
  },
  {
   "cell_type": "code",
   "execution_count": 36,
   "id": "15532f36",
   "metadata": {},
   "outputs": [],
   "source": [
    "df_encoded['FE_NOTIFI_RESULT'] = pd.to_datetime(df_encoded['FE_NOTIFI_RESULT'], errors='coerce', format='%Y%m%d')"
   ]
  },
  {
   "cell_type": "code",
   "execution_count": 37,
   "id": "55ccf248",
   "metadata": {},
   "outputs": [
    {
     "ename": "KeyError",
     "evalue": "'FE_PRESEN_RECLA'",
     "output_type": "error",
     "traceback": [
      "\u001b[1;31m---------------------------------------------------------------------------\u001b[0m",
      "\u001b[1;31mKeyError\u001b[0m                                  Traceback (most recent call last)",
      "File \u001b[1;32mc:\\Users\\harol\\anaconda3\\Lib\\site-packages\\pandas\\core\\indexes\\base.py:3805\u001b[0m, in \u001b[0;36mIndex.get_loc\u001b[1;34m(self, key)\u001b[0m\n\u001b[0;32m   3804\u001b[0m \u001b[38;5;28;01mtry\u001b[39;00m:\n\u001b[1;32m-> 3805\u001b[0m     \u001b[38;5;28;01mreturn\u001b[39;00m \u001b[38;5;28mself\u001b[39m\u001b[38;5;241m.\u001b[39m_engine\u001b[38;5;241m.\u001b[39mget_loc(casted_key)\n\u001b[0;32m   3806\u001b[0m \u001b[38;5;28;01mexcept\u001b[39;00m \u001b[38;5;167;01mKeyError\u001b[39;00m \u001b[38;5;28;01mas\u001b[39;00m err:\n",
      "File \u001b[1;32mindex.pyx:167\u001b[0m, in \u001b[0;36mpandas._libs.index.IndexEngine.get_loc\u001b[1;34m()\u001b[0m\n",
      "File \u001b[1;32mindex.pyx:196\u001b[0m, in \u001b[0;36mpandas._libs.index.IndexEngine.get_loc\u001b[1;34m()\u001b[0m\n",
      "File \u001b[1;32mpandas\\\\_libs\\\\hashtable_class_helper.pxi:7081\u001b[0m, in \u001b[0;36mpandas._libs.hashtable.PyObjectHashTable.get_item\u001b[1;34m()\u001b[0m\n",
      "File \u001b[1;32mpandas\\\\_libs\\\\hashtable_class_helper.pxi:7089\u001b[0m, in \u001b[0;36mpandas._libs.hashtable.PyObjectHashTable.get_item\u001b[1;34m()\u001b[0m\n",
      "\u001b[1;31mKeyError\u001b[0m: 'FE_PRESEN_RECLA'",
      "\nThe above exception was the direct cause of the following exception:\n",
      "\u001b[1;31mKeyError\u001b[0m                                  Traceback (most recent call last)",
      "Cell \u001b[1;32mIn[37], line 3\u001b[0m\n\u001b[0;32m      1\u001b[0m \u001b[38;5;66;03m# Extract useful features from dates\u001b[39;00m\n\u001b[0;32m      2\u001b[0m \u001b[38;5;28;01mfor\u001b[39;00m date_col \u001b[38;5;129;01min\u001b[39;00m [\u001b[38;5;124m'\u001b[39m\u001b[38;5;124mFE_PRESEN_RECLA\u001b[39m\u001b[38;5;124m'\u001b[39m, \u001b[38;5;124m'\u001b[39m\u001b[38;5;124mFE_RESULT_RECL\u001b[39m\u001b[38;5;124m'\u001b[39m, \u001b[38;5;124m'\u001b[39m\u001b[38;5;124mFE_NOTIFI_RESULT\u001b[39m\u001b[38;5;124m'\u001b[39m]:\n\u001b[1;32m----> 3\u001b[0m     df_encoded[\u001b[38;5;124mf\u001b[39m\u001b[38;5;124m'\u001b[39m\u001b[38;5;132;01m{\u001b[39;00mdate_col\u001b[38;5;132;01m}\u001b[39;00m\u001b[38;5;124m_year\u001b[39m\u001b[38;5;124m'\u001b[39m] \u001b[38;5;241m=\u001b[39m df_encoded[date_col]\u001b[38;5;241m.\u001b[39mdt\u001b[38;5;241m.\u001b[39myear\n\u001b[0;32m      4\u001b[0m     df_encoded[\u001b[38;5;124mf\u001b[39m\u001b[38;5;124m'\u001b[39m\u001b[38;5;132;01m{\u001b[39;00mdate_col\u001b[38;5;132;01m}\u001b[39;00m\u001b[38;5;124m_month\u001b[39m\u001b[38;5;124m'\u001b[39m] \u001b[38;5;241m=\u001b[39m df_encoded[date_col]\u001b[38;5;241m.\u001b[39mdt\u001b[38;5;241m.\u001b[39mmonth\n\u001b[0;32m      5\u001b[0m     df_encoded[\u001b[38;5;124mf\u001b[39m\u001b[38;5;124m'\u001b[39m\u001b[38;5;132;01m{\u001b[39;00mdate_col\u001b[38;5;132;01m}\u001b[39;00m\u001b[38;5;124m_day\u001b[39m\u001b[38;5;124m'\u001b[39m] \u001b[38;5;241m=\u001b[39m df_encoded[date_col]\u001b[38;5;241m.\u001b[39mdt\u001b[38;5;241m.\u001b[39mday\n",
      "File \u001b[1;32mc:\\Users\\harol\\anaconda3\\Lib\\site-packages\\pandas\\core\\frame.py:4102\u001b[0m, in \u001b[0;36mDataFrame.__getitem__\u001b[1;34m(self, key)\u001b[0m\n\u001b[0;32m   4100\u001b[0m \u001b[38;5;28;01mif\u001b[39;00m \u001b[38;5;28mself\u001b[39m\u001b[38;5;241m.\u001b[39mcolumns\u001b[38;5;241m.\u001b[39mnlevels \u001b[38;5;241m>\u001b[39m \u001b[38;5;241m1\u001b[39m:\n\u001b[0;32m   4101\u001b[0m     \u001b[38;5;28;01mreturn\u001b[39;00m \u001b[38;5;28mself\u001b[39m\u001b[38;5;241m.\u001b[39m_getitem_multilevel(key)\n\u001b[1;32m-> 4102\u001b[0m indexer \u001b[38;5;241m=\u001b[39m \u001b[38;5;28mself\u001b[39m\u001b[38;5;241m.\u001b[39mcolumns\u001b[38;5;241m.\u001b[39mget_loc(key)\n\u001b[0;32m   4103\u001b[0m \u001b[38;5;28;01mif\u001b[39;00m is_integer(indexer):\n\u001b[0;32m   4104\u001b[0m     indexer \u001b[38;5;241m=\u001b[39m [indexer]\n",
      "File \u001b[1;32mc:\\Users\\harol\\anaconda3\\Lib\\site-packages\\pandas\\core\\indexes\\base.py:3812\u001b[0m, in \u001b[0;36mIndex.get_loc\u001b[1;34m(self, key)\u001b[0m\n\u001b[0;32m   3807\u001b[0m     \u001b[38;5;28;01mif\u001b[39;00m \u001b[38;5;28misinstance\u001b[39m(casted_key, \u001b[38;5;28mslice\u001b[39m) \u001b[38;5;129;01mor\u001b[39;00m (\n\u001b[0;32m   3808\u001b[0m         \u001b[38;5;28misinstance\u001b[39m(casted_key, abc\u001b[38;5;241m.\u001b[39mIterable)\n\u001b[0;32m   3809\u001b[0m         \u001b[38;5;129;01mand\u001b[39;00m \u001b[38;5;28many\u001b[39m(\u001b[38;5;28misinstance\u001b[39m(x, \u001b[38;5;28mslice\u001b[39m) \u001b[38;5;28;01mfor\u001b[39;00m x \u001b[38;5;129;01min\u001b[39;00m casted_key)\n\u001b[0;32m   3810\u001b[0m     ):\n\u001b[0;32m   3811\u001b[0m         \u001b[38;5;28;01mraise\u001b[39;00m InvalidIndexError(key)\n\u001b[1;32m-> 3812\u001b[0m     \u001b[38;5;28;01mraise\u001b[39;00m \u001b[38;5;167;01mKeyError\u001b[39;00m(key) \u001b[38;5;28;01mfrom\u001b[39;00m \u001b[38;5;21;01merr\u001b[39;00m\n\u001b[0;32m   3813\u001b[0m \u001b[38;5;28;01mexcept\u001b[39;00m \u001b[38;5;167;01mTypeError\u001b[39;00m:\n\u001b[0;32m   3814\u001b[0m     \u001b[38;5;66;03m# If we have a listlike key, _check_indexing_error will raise\u001b[39;00m\n\u001b[0;32m   3815\u001b[0m     \u001b[38;5;66;03m#  InvalidIndexError. Otherwise we fall through and re-raise\u001b[39;00m\n\u001b[0;32m   3816\u001b[0m     \u001b[38;5;66;03m#  the TypeError.\u001b[39;00m\n\u001b[0;32m   3817\u001b[0m     \u001b[38;5;28mself\u001b[39m\u001b[38;5;241m.\u001b[39m_check_indexing_error(key)\n",
      "\u001b[1;31mKeyError\u001b[0m: 'FE_PRESEN_RECLA'"
     ]
    }
   ],
   "source": [
    "# Extract useful features from dates\n",
    "for date_col in ['FE_PRESEN_RECLA', 'FE_RESULT_RECL', 'FE_NOTIFI_RESULT']:\n",
    "    df_encoded[f'{date_col}_year'] = df_encoded[date_col].dt.year\n",
    "    df_encoded[f'{date_col}_month'] = df_encoded[date_col].dt.month\n",
    "    df_encoded[f'{date_col}_day'] = df_encoded[date_col].dt.day\n",
    "    df_encoded = df_encoded.drop(columns=[date_col])"
   ]
  },
  {
   "cell_type": "code",
   "execution_count": 35,
   "id": "b4e274a3",
   "metadata": {},
   "outputs": [
    {
     "name": "stdout",
     "output_type": "stream",
     "text": [
      "Shape before encoding: (162639, 20)\n",
      "Shape after encoding: (162639, 81)\n"
     ]
    }
   ],
   "source": [
    "# 4. Print shape before and after encoding\n",
    "print(f\"Shape before encoding: {df.shape}\")\n",
    "print(f\"Shape after encoding: {df_encoded.shape}\")"
   ]
  },
  {
   "cell_type": "code",
   "execution_count": 36,
   "id": "0a76176a",
   "metadata": {},
   "outputs": [
    {
     "name": "stdout",
     "output_type": "stream",
     "text": [
      "\n",
      "Sample of new encoded columns:\n",
      "Index(['AÑO', 'MES', 'DURACION_RECLAMO', 'CATEGORIA_DURACION', 'DESCRIPCION',\n",
      "       'DE_TIPO_INSTITUCION_IPRESS', 'DE_TIPO_INSTITUCION_UGIPRESS',\n",
      "       'DE_MEDIO_PRESENTACION_Teléfonic', 'DE_MEDIO_PRESENTACION_Teléfonico',\n",
      "       'DE_MEDIO_PRESENTACION_Virtual'],\n",
      "      dtype='object')\n"
     ]
    }
   ],
   "source": [
    "# 5. Verify some of the new columns\n",
    "print(\"\\nSample of new encoded columns:\")\n",
    "print(df_encoded.columns[:10])"
   ]
  },
  {
   "cell_type": "code",
   "execution_count": null,
   "id": "078c8c62",
   "metadata": {},
   "outputs": [
    {
     "ename": "KeyboardInterrupt",
     "evalue": "",
     "output_type": "error",
     "traceback": [
      "\u001b[1;31m---------------------------------------------------------------------------\u001b[0m",
      "\u001b[1;31mKeyboardInterrupt\u001b[0m                         Traceback (most recent call last)",
      "Cell \u001b[1;32mIn[39], line 2\u001b[0m\n\u001b[0;32m      1\u001b[0m \u001b[38;5;66;03m# 6. Save encoded DataFrame if needed\u001b[39;00m\n\u001b[1;32m----> 2\u001b[0m df_encoded\u001b[38;5;241m.\u001b[39mto_csv(\u001b[38;5;124m'\u001b[39m\u001b[38;5;124m../data/processed/reclamos_encoded.csv\u001b[39m\u001b[38;5;124m'\u001b[39m, index\u001b[38;5;241m=\u001b[39m\u001b[38;5;28;01mFalse\u001b[39;00m)\n",
      "File \u001b[1;32mc:\\Users\\harol\\anaconda3\\Lib\\site-packages\\pandas\\util\\_decorators.py:333\u001b[0m, in \u001b[0;36mdeprecate_nonkeyword_arguments.<locals>.decorate.<locals>.wrapper\u001b[1;34m(*args, **kwargs)\u001b[0m\n\u001b[0;32m    327\u001b[0m \u001b[38;5;28;01mif\u001b[39;00m \u001b[38;5;28mlen\u001b[39m(args) \u001b[38;5;241m>\u001b[39m num_allow_args:\n\u001b[0;32m    328\u001b[0m     warnings\u001b[38;5;241m.\u001b[39mwarn(\n\u001b[0;32m    329\u001b[0m         msg\u001b[38;5;241m.\u001b[39mformat(arguments\u001b[38;5;241m=\u001b[39m_format_argument_list(allow_args)),\n\u001b[0;32m    330\u001b[0m         \u001b[38;5;167;01mFutureWarning\u001b[39;00m,\n\u001b[0;32m    331\u001b[0m         stacklevel\u001b[38;5;241m=\u001b[39mfind_stack_level(),\n\u001b[0;32m    332\u001b[0m     )\n\u001b[1;32m--> 333\u001b[0m \u001b[38;5;28;01mreturn\u001b[39;00m func(\u001b[38;5;241m*\u001b[39margs, \u001b[38;5;241m*\u001b[39m\u001b[38;5;241m*\u001b[39mkwargs)\n",
      "File \u001b[1;32mc:\\Users\\harol\\anaconda3\\Lib\\site-packages\\pandas\\core\\generic.py:3967\u001b[0m, in \u001b[0;36mNDFrame.to_csv\u001b[1;34m(self, path_or_buf, sep, na_rep, float_format, columns, header, index, index_label, mode, encoding, compression, quoting, quotechar, lineterminator, chunksize, date_format, doublequote, escapechar, decimal, errors, storage_options)\u001b[0m\n\u001b[0;32m   3956\u001b[0m df \u001b[38;5;241m=\u001b[39m \u001b[38;5;28mself\u001b[39m \u001b[38;5;28;01mif\u001b[39;00m \u001b[38;5;28misinstance\u001b[39m(\u001b[38;5;28mself\u001b[39m, ABCDataFrame) \u001b[38;5;28;01melse\u001b[39;00m \u001b[38;5;28mself\u001b[39m\u001b[38;5;241m.\u001b[39mto_frame()\n\u001b[0;32m   3958\u001b[0m formatter \u001b[38;5;241m=\u001b[39m DataFrameFormatter(\n\u001b[0;32m   3959\u001b[0m     frame\u001b[38;5;241m=\u001b[39mdf,\n\u001b[0;32m   3960\u001b[0m     header\u001b[38;5;241m=\u001b[39mheader,\n\u001b[1;32m   (...)\u001b[0m\n\u001b[0;32m   3964\u001b[0m     decimal\u001b[38;5;241m=\u001b[39mdecimal,\n\u001b[0;32m   3965\u001b[0m )\n\u001b[1;32m-> 3967\u001b[0m \u001b[38;5;28;01mreturn\u001b[39;00m DataFrameRenderer(formatter)\u001b[38;5;241m.\u001b[39mto_csv(\n\u001b[0;32m   3968\u001b[0m     path_or_buf,\n\u001b[0;32m   3969\u001b[0m     lineterminator\u001b[38;5;241m=\u001b[39mlineterminator,\n\u001b[0;32m   3970\u001b[0m     sep\u001b[38;5;241m=\u001b[39msep,\n\u001b[0;32m   3971\u001b[0m     encoding\u001b[38;5;241m=\u001b[39mencoding,\n\u001b[0;32m   3972\u001b[0m     errors\u001b[38;5;241m=\u001b[39merrors,\n\u001b[0;32m   3973\u001b[0m     compression\u001b[38;5;241m=\u001b[39mcompression,\n\u001b[0;32m   3974\u001b[0m     quoting\u001b[38;5;241m=\u001b[39mquoting,\n\u001b[0;32m   3975\u001b[0m     columns\u001b[38;5;241m=\u001b[39mcolumns,\n\u001b[0;32m   3976\u001b[0m     index_label\u001b[38;5;241m=\u001b[39mindex_label,\n\u001b[0;32m   3977\u001b[0m     mode\u001b[38;5;241m=\u001b[39mmode,\n\u001b[0;32m   3978\u001b[0m     chunksize\u001b[38;5;241m=\u001b[39mchunksize,\n\u001b[0;32m   3979\u001b[0m     quotechar\u001b[38;5;241m=\u001b[39mquotechar,\n\u001b[0;32m   3980\u001b[0m     date_format\u001b[38;5;241m=\u001b[39mdate_format,\n\u001b[0;32m   3981\u001b[0m     doublequote\u001b[38;5;241m=\u001b[39mdoublequote,\n\u001b[0;32m   3982\u001b[0m     escapechar\u001b[38;5;241m=\u001b[39mescapechar,\n\u001b[0;32m   3983\u001b[0m     storage_options\u001b[38;5;241m=\u001b[39mstorage_options,\n\u001b[0;32m   3984\u001b[0m )\n",
      "File \u001b[1;32mc:\\Users\\harol\\anaconda3\\Lib\\site-packages\\pandas\\io\\formats\\format.py:1014\u001b[0m, in \u001b[0;36mDataFrameRenderer.to_csv\u001b[1;34m(self, path_or_buf, encoding, sep, columns, index_label, mode, compression, quoting, quotechar, lineterminator, chunksize, date_format, doublequote, escapechar, errors, storage_options)\u001b[0m\n\u001b[0;32m    993\u001b[0m     created_buffer \u001b[38;5;241m=\u001b[39m \u001b[38;5;28;01mFalse\u001b[39;00m\n\u001b[0;32m    995\u001b[0m csv_formatter \u001b[38;5;241m=\u001b[39m CSVFormatter(\n\u001b[0;32m    996\u001b[0m     path_or_buf\u001b[38;5;241m=\u001b[39mpath_or_buf,\n\u001b[0;32m    997\u001b[0m     lineterminator\u001b[38;5;241m=\u001b[39mlineterminator,\n\u001b[1;32m   (...)\u001b[0m\n\u001b[0;32m   1012\u001b[0m     formatter\u001b[38;5;241m=\u001b[39m\u001b[38;5;28mself\u001b[39m\u001b[38;5;241m.\u001b[39mfmt,\n\u001b[0;32m   1013\u001b[0m )\n\u001b[1;32m-> 1014\u001b[0m csv_formatter\u001b[38;5;241m.\u001b[39msave()\n\u001b[0;32m   1016\u001b[0m \u001b[38;5;28;01mif\u001b[39;00m created_buffer:\n\u001b[0;32m   1017\u001b[0m     \u001b[38;5;28;01massert\u001b[39;00m \u001b[38;5;28misinstance\u001b[39m(path_or_buf, StringIO)\n",
      "File \u001b[1;32mc:\\Users\\harol\\anaconda3\\Lib\\site-packages\\pandas\\io\\formats\\csvs.py:270\u001b[0m, in \u001b[0;36mCSVFormatter.save\u001b[1;34m(self)\u001b[0m\n\u001b[0;32m    251\u001b[0m \u001b[38;5;28;01mwith\u001b[39;00m get_handle(\n\u001b[0;32m    252\u001b[0m     \u001b[38;5;28mself\u001b[39m\u001b[38;5;241m.\u001b[39mfilepath_or_buffer,\n\u001b[0;32m    253\u001b[0m     \u001b[38;5;28mself\u001b[39m\u001b[38;5;241m.\u001b[39mmode,\n\u001b[1;32m   (...)\u001b[0m\n\u001b[0;32m    258\u001b[0m ) \u001b[38;5;28;01mas\u001b[39;00m handles:\n\u001b[0;32m    259\u001b[0m     \u001b[38;5;66;03m# Note: self.encoding is irrelevant here\u001b[39;00m\n\u001b[0;32m    260\u001b[0m     \u001b[38;5;28mself\u001b[39m\u001b[38;5;241m.\u001b[39mwriter \u001b[38;5;241m=\u001b[39m csvlib\u001b[38;5;241m.\u001b[39mwriter(\n\u001b[0;32m    261\u001b[0m         handles\u001b[38;5;241m.\u001b[39mhandle,\n\u001b[0;32m    262\u001b[0m         lineterminator\u001b[38;5;241m=\u001b[39m\u001b[38;5;28mself\u001b[39m\u001b[38;5;241m.\u001b[39mlineterminator,\n\u001b[1;32m   (...)\u001b[0m\n\u001b[0;32m    267\u001b[0m         quotechar\u001b[38;5;241m=\u001b[39m\u001b[38;5;28mself\u001b[39m\u001b[38;5;241m.\u001b[39mquotechar,\n\u001b[0;32m    268\u001b[0m     )\n\u001b[1;32m--> 270\u001b[0m     \u001b[38;5;28mself\u001b[39m\u001b[38;5;241m.\u001b[39m_save()\n",
      "File \u001b[1;32mc:\\Users\\harol\\anaconda3\\Lib\\site-packages\\pandas\\io\\formats\\csvs.py:275\u001b[0m, in \u001b[0;36mCSVFormatter._save\u001b[1;34m(self)\u001b[0m\n\u001b[0;32m    273\u001b[0m \u001b[38;5;28;01mif\u001b[39;00m \u001b[38;5;28mself\u001b[39m\u001b[38;5;241m.\u001b[39m_need_to_save_header:\n\u001b[0;32m    274\u001b[0m     \u001b[38;5;28mself\u001b[39m\u001b[38;5;241m.\u001b[39m_save_header()\n\u001b[1;32m--> 275\u001b[0m \u001b[38;5;28mself\u001b[39m\u001b[38;5;241m.\u001b[39m_save_body()\n",
      "File \u001b[1;32mc:\\Users\\harol\\anaconda3\\Lib\\site-packages\\pandas\\io\\formats\\csvs.py:313\u001b[0m, in \u001b[0;36mCSVFormatter._save_body\u001b[1;34m(self)\u001b[0m\n\u001b[0;32m    311\u001b[0m \u001b[38;5;28;01mif\u001b[39;00m start_i \u001b[38;5;241m>\u001b[39m\u001b[38;5;241m=\u001b[39m end_i:\n\u001b[0;32m    312\u001b[0m     \u001b[38;5;28;01mbreak\u001b[39;00m\n\u001b[1;32m--> 313\u001b[0m \u001b[38;5;28mself\u001b[39m\u001b[38;5;241m.\u001b[39m_save_chunk(start_i, end_i)\n",
      "File \u001b[1;32mc:\\Users\\harol\\anaconda3\\Lib\\site-packages\\pandas\\io\\formats\\csvs.py:324\u001b[0m, in \u001b[0;36mCSVFormatter._save_chunk\u001b[1;34m(self, start_i, end_i)\u001b[0m\n\u001b[0;32m    321\u001b[0m data \u001b[38;5;241m=\u001b[39m \u001b[38;5;28mlist\u001b[39m(res\u001b[38;5;241m.\u001b[39m_iter_column_arrays())\n\u001b[0;32m    323\u001b[0m ix \u001b[38;5;241m=\u001b[39m \u001b[38;5;28mself\u001b[39m\u001b[38;5;241m.\u001b[39mdata_index[slicer]\u001b[38;5;241m.\u001b[39m_get_values_for_csv(\u001b[38;5;241m*\u001b[39m\u001b[38;5;241m*\u001b[39m\u001b[38;5;28mself\u001b[39m\u001b[38;5;241m.\u001b[39m_number_format)\n\u001b[1;32m--> 324\u001b[0m libwriters\u001b[38;5;241m.\u001b[39mwrite_csv_rows(\n\u001b[0;32m    325\u001b[0m     data,\n\u001b[0;32m    326\u001b[0m     ix,\n\u001b[0;32m    327\u001b[0m     \u001b[38;5;28mself\u001b[39m\u001b[38;5;241m.\u001b[39mnlevels,\n\u001b[0;32m    328\u001b[0m     \u001b[38;5;28mself\u001b[39m\u001b[38;5;241m.\u001b[39mcols,\n\u001b[0;32m    329\u001b[0m     \u001b[38;5;28mself\u001b[39m\u001b[38;5;241m.\u001b[39mwriter,\n\u001b[0;32m    330\u001b[0m )\n",
      "File \u001b[1;32mwriters.pyx:73\u001b[0m, in \u001b[0;36mpandas._libs.writers.write_csv_rows\u001b[1;34m()\u001b[0m\n",
      "\u001b[1;31mKeyboardInterrupt\u001b[0m: "
     ]
    }
   ],
   "source": [
    "# 6. Save encoded DataFrame if needed\n",
    "#df_encoded.to_csv('../data/processed/reclamos_encoded.csv', index=False)"
   ]
  },
  {
   "cell_type": "code",
   "execution_count": 40,
   "id": "1da8620a",
   "metadata": {},
   "outputs": [
    {
     "name": "stdout",
     "output_type": "stream",
     "text": [
      "DE_TIPO_ADMINISTRADO: 1 categories -> 0 encoded columns\n",
      "DE_TIPO_INSTITUCION: 3 categories -> 2 encoded columns\n",
      "DE_MEDIO_PRESENTACION: 4 categories -> 3 encoded columns\n",
      "DE_MEDIO_RECEPCION: 7 categories -> 6 encoded columns\n",
      "DE_SERVICIO: 15 categories -> 14 encoded columns\n",
      "DE_COMPETENCIA: 3 categories -> 2 encoded columns\n",
      "DE_CLASIF_1: 18 categories -> 17 encoded columns\n",
      "DE_ESTADO_RECLAMO: 6 categories -> 5 encoded columns\n",
      "DE_ETAPA_RECLAMO: 5 categories -> 4 encoded columns\n",
      "DE_TIPO_ADMIN_DERIVA: 4 categories -> 3 encoded columns\n",
      "DE_RESULTADO: 7 categories -> 6 encoded columns\n",
      "DE_COMUN_RESULT: 6 categories -> 5 encoded columns\n"
     ]
    }
   ],
   "source": [
    "# Check number of unique categories in original vs encoded data\n",
    "for col in categorical_columns:\n",
    "    n_categories = len(df[col].unique())\n",
    "    n_encoded = sum(1 for c in df_encoded.columns if c.startswith(f\"{col}_\"))\n",
    "    print(f\"{col}: {n_categories} categories -> {n_encoded} encoded columns\")"
   ]
  },
  {
   "cell_type": "markdown",
   "id": "54e66fc5",
   "metadata": {},
   "source": [
    "### Preprocesamiento de datos de texto (DESCRIPCION)"
   ]
  },
  {
   "cell_type": "code",
   "execution_count": 41,
   "id": "398fa4dd",
   "metadata": {},
   "outputs": [],
   "source": [
    "def clean_text(text):\n",
    "    \"\"\"\n",
    "    Clean text by:\n",
    "    1. Converting to lowercase\n",
    "    2. Removing special characters and punctuation\n",
    "    3. Removing stopwords\n",
    "    4. Removing extra whitespace\n",
    "    \"\"\"\n",
    "    if not isinstance(text, str):\n",
    "        return \"\"\n",
    "        \n",
    "    # Convert to lowercase\n",
    "    text = text.lower()\n",
    "    \n",
    "    # Remove special characters and numbers\n",
    "    text = re.sub(r'[^\\w\\s]', ' ', text)\n",
    "    text = re.sub(r'\\d+', ' ', text)\n",
    "    \n",
    "    # Remove stopwords\n",
    "    stop_words = set(stopwords.words('spanish'))\n",
    "    words = text.split()\n",
    "    text = ' '.join([word for word in words if word not in stop_words])\n",
    "    \n",
    "    # Remove extra whitespace\n",
    "    text = re.sub(r'\\s+', ' ', text).strip()\n",
    "    \n",
    "    return text"
   ]
  },
  {
   "cell_type": "code",
   "execution_count": 42,
   "id": "a5131555",
   "metadata": {},
   "outputs": [],
   "source": [
    "# Apply cleaning to DESCRIPCION column\n",
    "df['DESCRIPCION_clean'] = df['DESCRIPCION'].apply(clean_text)"
   ]
  },
  {
   "cell_type": "code",
   "execution_count": 43,
   "id": "d29a02be",
   "metadata": {},
   "outputs": [
    {
     "name": "stdout",
     "output_type": "stream",
     "text": [
      "Muestra de textos originales vs. limpios:\n",
      "\n",
      "Original: Mi solicitud para recibir servicio de salud médico fue retrasada sin una justificación clara.\n",
      "Limpio: solicitud recibir servicio salud médico retrasada justificación clara\n",
      "\n",
      "Original: me cobró por una cirugía de emergencia que, como asegurado, debería estar cubierta.\n",
      "Limpio: cobró cirugía emergencia asegurado debería cubierta\n",
      "\n",
      "Original: Recibí un servicio deficiente de parte de la IAFAS.\n",
      "Limpio: recibí servicio deficiente parte iafas\n",
      "\n",
      "Original: El policlínico de mi zona no cuenta con traumatólogo, pese a ser una especialidad básica.\n",
      "Limpio: policlínico zona cuenta traumatólogo pese ser especialidad básica\n",
      "\n",
      "Original: Recibí un servicio deficiente de parte de la IAFAS.\n",
      "Limpio: recibí servicio deficiente parte iafas\n"
     ]
    }
   ],
   "source": [
    "# Show sample results\n",
    "print(\"Muestra de textos originales vs. limpios:\")\n",
    "for original, limpio in zip(df['DESCRIPCION'].head(), df['DESCRIPCION_clean'].head()):\n",
    "    print(\"\\nOriginal:\", original)\n",
    "    print(\"Limpio:\", limpio)"
   ]
  },
  {
   "cell_type": "code",
   "execution_count": 44,
   "id": "6f424ccd",
   "metadata": {},
   "outputs": [
    {
     "name": "stdout",
     "output_type": "stream",
     "text": [
      "\n",
      "Número de descripciones vacías: 0\n",
      "Longitud promedio (palabras): 3.86\n"
     ]
    }
   ],
   "source": [
    "# Print basic statistics\n",
    "print(f\"\\nNúmero de descripciones vacías: {df['DESCRIPCION_clean'].isna().sum()}\")\n",
    "print(f\"Longitud promedio (palabras): {df['DESCRIPCION_clean'].str.split().str.len().mean():.2f}\")"
   ]
  },
  {
   "cell_type": "markdown",
   "id": "8b72ea0d",
   "metadata": {},
   "source": [
    "### Construcción de la variable de urgencia (PRIORIDAD)"
   ]
  },
  {
   "cell_type": "code",
   "execution_count": 45,
   "id": "e2a24263",
   "metadata": {},
   "outputs": [
    {
     "data": {
      "text/plain": [
       "array(['-', 'Farmacia',\n",
       "       'Oficinas o áreas administrativas de IAFAS o IPRESS o UGIPRESS',\n",
       "       'Servicios Médicos de Apoyo', 'Consulta Externa',\n",
       "       'Hospitalización', 'Atención a domicilio, urgencia o emergencia',\n",
       "       'Atención a domicilio, consulta ambulatoria', 'Emergencia',\n",
       "       'Centro Quirúrgico', 'UCI o UCIN', 'Infraestructura',\n",
       "       'Referencia y Contrareferencia', 'Centro Obstétrico',\n",
       "       'Oficinas o áreas administrativas de IAFAS o IPRESS o UGIPRES'],\n",
       "      dtype=object)"
      ]
     },
     "execution_count": 45,
     "metadata": {},
     "output_type": "execute_result"
    }
   ],
   "source": [
    "df['DE_SERVICIO'].unique()"
   ]
  },
  {
   "cell_type": "code",
   "execution_count": 46,
   "id": "afaca69a",
   "metadata": {},
   "outputs": [],
   "source": [
    "def asignar_prioridad(row):\n",
    "    \"\"\"\n",
    "    Asigna prioridad basada en el servicio y duración del reclamo\n",
    "    Alta: Servicios críticos o reclamos que duran más de 30 días\n",
    "    Media: Servicios de atención directa\n",
    "    Baja: Servicios administrativos y otros\n",
    "    \"\"\"\n",
    "    servicios_alta = [\n",
    "        'UCI o UCIN',\n",
    "        'Emergencia',\n",
    "        'Centro Quirúrgico',\n",
    "        'Centro Obstétrico'\n",
    "    ]\n",
    "    \n",
    "    servicios_media = [\n",
    "        'Hospitalización',\n",
    "        'Atención a domicilio, urgencia o emergencia',\n",
    "        'Consulta Externa',\n",
    "        'Referencia y Contrareferencia',\n",
    "        'Atención a domicilio, consulta ambulatoria'\n",
    "    ]\n",
    "    \n",
    "    if row['DURACION_RECLAMO'] > 30:\n",
    "        return 'Alta'\n",
    "    elif row['DE_SERVICIO'] in servicios_alta:\n",
    "        return 'Alta'\n",
    "    elif row['DE_SERVICIO'] in servicios_media:\n",
    "        return 'Media'\n",
    "    else:\n",
    "        return 'Baja'"
   ]
  },
  {
   "cell_type": "code",
   "execution_count": 47,
   "id": "6cc8fc74",
   "metadata": {},
   "outputs": [],
   "source": [
    "# Aplicar la función y crear nueva columna\n",
    "df['PRIORIDAD'] = df.apply(asignar_prioridad, axis=1)"
   ]
  },
  {
   "cell_type": "code",
   "execution_count": 48,
   "id": "ed297f48",
   "metadata": {},
   "outputs": [
    {
     "name": "stdout",
     "output_type": "stream",
     "text": [
      "Distribución de prioridades:\n",
      "PRIORIDAD\n",
      "Baja     139402\n",
      "Alta      19183\n",
      "Media      4054\n",
      "Name: count, dtype: int64\n"
     ]
    }
   ],
   "source": [
    "# Verificar la distribución de prioridades\n",
    "print(\"Distribución de prioridades:\")\n",
    "print(df['PRIORIDAD'].value_counts())"
   ]
  },
  {
   "cell_type": "code",
   "execution_count": 49,
   "id": "33504383",
   "metadata": {},
   "outputs": [
    {
     "name": "stdout",
     "output_type": "stream",
     "text": [
      "\n",
      "Ejemplos de reclamos por prioridad:\n",
      "\n",
      "Prioridad Alta:\n",
      "   DE_SERVICIO  DURACION_RECLAMO PRIORIDAD\n",
      "1            -                45      Alta\n",
      "9            -                45      Alta\n",
      "86           -                31      Alta\n",
      "\n",
      "Prioridad Media:\n",
      "                                      DE_SERVICIO  DURACION_RECLAMO PRIORIDAD\n",
      "1613                             Consulta Externa                 0     Media\n",
      "1614                             Consulta Externa                 0     Media\n",
      "1622  Atención a domicilio, urgencia o emergencia                 0     Media\n",
      "\n",
      "Prioridad Baja:\n",
      "  DE_SERVICIO  DURACION_RECLAMO PRIORIDAD\n",
      "0           -                24      Baja\n",
      "2           -                14      Baja\n",
      "3           -                19      Baja\n"
     ]
    }
   ],
   "source": [
    "# Mostrar ejemplos de cada prioridad\n",
    "print(\"\\nEjemplos de reclamos por prioridad:\")\n",
    "for prioridad in ['Alta', 'Media', 'Baja']:\n",
    "    print(f\"\\nPrioridad {prioridad}:\")\n",
    "    muestra = df[df['PRIORIDAD'] == prioridad][['DE_SERVICIO', 'DURACION_RECLAMO', 'PRIORIDAD']].head(3)\n",
    "    print(muestra.to_string())"
   ]
  },
  {
   "cell_type": "code",
   "execution_count": null,
   "id": "a83ba48b",
   "metadata": {},
   "outputs": [],
   "source": [
    "####"
   ]
  },
  {
   "cell_type": "code",
   "execution_count": null,
   "id": "7f387742",
   "metadata": {},
   "outputs": [],
   "source": [
    "#### Vectorizar (NLP) la columna descripcion "
   ]
  },
  {
   "cell_type": "code",
   "execution_count": 50,
   "id": "097fa413",
   "metadata": {},
   "outputs": [],
   "source": [
    "from sklearn.feature_extraction.text import TfidfVectorizer"
   ]
  },
  {
   "cell_type": "code",
   "execution_count": 51,
   "id": "cb8215d0",
   "metadata": {},
   "outputs": [],
   "source": [
    "# Vectorizar las descripciones con TF-IDF\n",
    "spanish_stopwords = stopwords.words('spanish')\n",
    "tfidf = TfidfVectorizer(stop_words=spanish_stopwords, max_features=5000)\n",
    "X_text = tfidf.fit_transform(df['DESCRIPCION_clean'])  # Usamos la columna limpia"
   ]
  },
  {
   "cell_type": "code",
   "execution_count": 52,
   "id": "3b0c9e0a",
   "metadata": {},
   "outputs": [],
   "source": [
    "# Convertir a un DataFrame para concatenar más fácilmente\n",
    "X_text_df = pd.DataFrame(X_text.toarray(), columns=tfidf.get_feature_names_out())"
   ]
  },
  {
   "cell_type": "code",
   "execution_count": 53,
   "id": "4f8fb9ee",
   "metadata": {},
   "outputs": [
    {
     "name": "stdout",
     "output_type": "stream",
     "text": [
      "Dimensiones de la matriz TF-IDF: (162639, 2472)\n"
     ]
    }
   ],
   "source": [
    "# Mostrar las dimensiones del DataFrame resultante\n",
    "print(f\"Dimensiones de la matriz TF-IDF: {X_text_df.shape}\")"
   ]
  },
  {
   "cell_type": "code",
   "execution_count": 54,
   "id": "226ad6a1",
   "metadata": {},
   "outputs": [
    {
     "name": "stdout",
     "output_type": "stream",
     "text": [
      "\n",
      "Primeras 5 filas y 10 columnas:\n",
      "   aarón   ab  abad  abascal  abel  abella  abellán  abigaíl  abilio  abraham\n",
      "0    0.0  0.0   0.0      0.0   0.0     0.0      0.0      0.0     0.0      0.0\n",
      "1    0.0  0.0   0.0      0.0   0.0     0.0      0.0      0.0     0.0      0.0\n",
      "2    0.0  0.0   0.0      0.0   0.0     0.0      0.0      0.0     0.0      0.0\n",
      "3    0.0  0.0   0.0      0.0   0.0     0.0      0.0      0.0     0.0      0.0\n",
      "4    0.0  0.0   0.0      0.0   0.0     0.0      0.0      0.0     0.0      0.0\n"
     ]
    }
   ],
   "source": [
    "# Mostrar las primeras filas y columnas\n",
    "print(\"\\nPrimeras 5 filas y 10 columnas:\")\n",
    "print(X_text_df.iloc[:5, :10])"
   ]
  },
  {
   "cell_type": "code",
   "execution_count": 55,
   "id": "bd18711c",
   "metadata": {},
   "outputs": [
    {
     "name": "stdout",
     "output_type": "stream",
     "text": [
      "\n",
      "Palabras más relevantes según TF-IDF:\n",
      "iafas             7636.780959\n",
      "servicio          6262.311892\n",
      "atención          5405.216310\n",
      "policlínico       3385.964489\n",
      "essalud           3228.561815\n",
      "recibí            2843.023130\n",
      "administración    2611.646128\n",
      "inconvenientes    2611.646128\n",
      "sido              2596.347695\n",
      "parte             2451.806393\n",
      "médica            2403.752091\n",
      "tiempo            2394.101532\n",
      "acceder           2332.875303\n",
      "deficiente        2286.092990\n",
      "brindan           2267.689662\n",
      "calidad           2267.689662\n",
      "establecidos      2254.133591\n",
      "hospital          2253.071591\n",
      "tiempos           2241.679272\n",
      "cumplen           2241.679272\n",
      "dtype: float64\n"
     ]
    }
   ],
   "source": [
    "# Mostrar las palabras más relevantes (suma de los valores TF-IDF por columna)\n",
    "feature_importance = X_text_df.sum().sort_values(ascending=False)\n",
    "print(\"\\nPalabras más relevantes según TF-IDF:\")\n",
    "print(feature_importance.head(20))"
   ]
  },
  {
   "cell_type": "code",
   "execution_count": null,
   "id": "c8abaed6",
   "metadata": {},
   "outputs": [],
   "source": [
    "### Combinamos los datos estructurados y el texto"
   ]
  },
  {
   "cell_type": "code",
   "execution_count": 56,
   "id": "03a27774",
   "metadata": {},
   "outputs": [
    {
     "name": "stdout",
     "output_type": "stream",
     "text": [
      "Índices de df_encoded: 162639\n",
      "Índices de X_text_df: 162639\n"
     ]
    }
   ],
   "source": [
    "# Verificar que los índices coincidan (deberían ser los mismos, pero asegurémonos)\n",
    "print(f\"Índices de df_encoded: {len(df_encoded.index)}\")\n",
    "print(f\"Índices de X_text_df: {len(X_text_df.index)}\")"
   ]
  },
  {
   "cell_type": "code",
   "execution_count": 57,
   "id": "76ef7aae",
   "metadata": {},
   "outputs": [],
   "source": [
    "# Eliminar las columnas de texto del dataframe codificado antes de la concatenación\n",
    "columns_to_drop = ['DESCRIPCION', 'DESCRIPCION_clean', 'texto_limpio'] \n",
    "df_encoded_no_text = df_encoded.drop(columns=[col for col in columns_to_drop if col in df_encoded.columns])"
   ]
  },
  {
   "cell_type": "code",
   "execution_count": 58,
   "id": "3054aa06",
   "metadata": {},
   "outputs": [],
   "source": [
    "# Combinar datos estructurados con características de texto\n",
    "X_combined = pd.concat([df_encoded_no_text, X_text_df], axis=1)"
   ]
  },
  {
   "cell_type": "code",
   "execution_count": 59,
   "id": "fc26b254",
   "metadata": {},
   "outputs": [
    {
     "name": "stdout",
     "output_type": "stream",
     "text": [
      "Dimensiones de df_encoded sin texto: (162639, 80)\n",
      "Dimensiones de X_text_df: (162639, 2472)\n",
      "Dimensiones de X_combined: (162639, 2552)\n"
     ]
    }
   ],
   "source": [
    "# Verificar las dimensiones del DataFrame combinado\n",
    "print(f\"Dimensiones de df_encoded sin texto: {df_encoded_no_text.shape}\")\n",
    "print(f\"Dimensiones de X_text_df: {X_text_df.shape}\")\n",
    "print(f\"Dimensiones de X_combined: {X_combined.shape}\")"
   ]
  },
  {
   "cell_type": "code",
   "execution_count": null,
   "id": "bc62a684",
   "metadata": {},
   "outputs": [],
   "source": [
    "# Guardar el DataFrame combinado si es necesario\n",
    "#X_combined.to_csv('../data/processed/reclamos_combined_features.csv', index=False)"
   ]
  },
  {
   "cell_type": "code",
   "execution_count": null,
   "id": "cd09a868",
   "metadata": {},
   "outputs": [],
   "source": [
    "###"
   ]
  },
  {
   "cell_type": "code",
   "execution_count": 60,
   "id": "3730129f",
   "metadata": {},
   "outputs": [
    {
     "name": "stdout",
     "output_type": "stream",
     "text": [
      "Columnas categóricas no codificadas: Index(['CATEGORIA_DURACION'], dtype='object')\n"
     ]
    }
   ],
   "source": [
    "# Opción 1: Verificar columnas categóricas en X_combined\n",
    "categorical_cols = X_combined.select_dtypes(include=['object']).columns\n",
    "print(f\"Columnas categóricas no codificadas: {categorical_cols}\")"
   ]
  },
  {
   "cell_type": "code",
   "execution_count": 61,
   "id": "1cf72ac7",
   "metadata": {},
   "outputs": [
    {
     "name": "stdout",
     "output_type": "stream",
     "text": [
      "Forma después de codificar columnas adicionales: (162639, 2555)\n"
     ]
    }
   ],
   "source": [
    "# Si hay columnas categóricas, codificarlas\n",
    "if len(categorical_cols) > 0:\n",
    "    # Usar one-hot encoding para las columnas encontradas\n",
    "    X_combined = pd.get_dummies(X_combined, columns=categorical_cols, drop_first=True)\n",
    "    print(f\"Forma después de codificar columnas adicionales: {X_combined.shape}\")"
   ]
  },
  {
   "cell_type": "code",
   "execution_count": null,
   "id": "f9bfea2c",
   "metadata": {},
   "outputs": [],
   "source": [
    "###"
   ]
  },
  {
   "cell_type": "code",
   "execution_count": 62,
   "id": "6438157b",
   "metadata": {},
   "outputs": [
    {
     "name": "stdout",
     "output_type": "stream",
     "text": [
      "Removiendo 17 columnas relacionadas con DE_CLASIF_1: ['DE_CLASIF_1_Cobrar indebidamente', 'DE_CLASIF_1_Demorar la gestión de la carta de garantía y/o reembolsos.', 'DE_CLASIF_1_Negar atención para el trámite de registro o acreditación', 'DE_CLASIF_1_Negar el otorgamiento de prestaciones económicas o sociales', 'DE_CLASIF_1_Negar la acreditación de usuario asegurado.']...\n"
     ]
    }
   ],
   "source": [
    "# Identificar columnas relacionadas con la variable objetivo (DE_CLASIF_1)\n",
    "clasif_columns = [col for col in X_combined.columns if 'DE_CLASIF_1_' in col]\n",
    "print(f\"Removiendo {len(clasif_columns)} columnas relacionadas con DE_CLASIF_1: {clasif_columns[:5]}...\")"
   ]
  },
  {
   "cell_type": "code",
   "execution_count": 63,
   "id": "346c394e",
   "metadata": {},
   "outputs": [
    {
     "name": "stdout",
     "output_type": "stream",
     "text": [
      "Forma de X_combined después de eliminar columnas de fuga: (162639, 2538)\n"
     ]
    }
   ],
   "source": [
    "# Eliminar estas columnas de X_combined\n",
    "X_combined_clean = X_combined.drop(columns=clasif_columns)\n",
    "print(f\"Forma de X_combined después de eliminar columnas de fuga: {X_combined_clean.shape}\")"
   ]
  },
  {
   "cell_type": "code",
   "execution_count": null,
   "id": "988ddae5",
   "metadata": {},
   "outputs": [],
   "source": [
    "##"
   ]
  },
  {
   "cell_type": "code",
   "execution_count": 64,
   "id": "fcb1af6d",
   "metadata": {},
   "outputs": [],
   "source": [
    "# Entrenar un modelo de Random Forest con características combinadas\n",
    "from sklearn.ensemble import RandomForestClassifier\n",
    "from sklearn.model_selection import train_test_split\n",
    "from sklearn.metrics import accuracy_score, classification_report"
   ]
  },
  {
   "cell_type": "code",
   "execution_count": null,
   "id": "d2eb225f",
   "metadata": {},
   "outputs": [],
   "source": [
    "# Dividir el conjunto de datos combinado en entrenamiento y prueba\n",
    "#X_train, X_test, y_train, y_test = train_test_split(X_combined, df['DE_CLASIF_1'], test_size=0.2, random_state=42)"
   ]
  },
  {
   "cell_type": "code",
   "execution_count": 65,
   "id": "376eb253",
   "metadata": {},
   "outputs": [],
   "source": [
    "# Dividir el conjunto de datos LIMPIO en entrenamiento y prueba\n",
    "X_train, X_test, y_train, y_test = train_test_split(\n",
    "    X_combined_clean,  # Usar el dataset limpio que ya has creado \n",
    "    df['DE_CLASIF_1'], \n",
    "    test_size=0.2, \n",
    "    random_state=42\n",
    ")"
   ]
  },
  {
   "cell_type": "code",
   "execution_count": 66,
   "id": "8348f38d",
   "metadata": {},
   "outputs": [
    {
     "data": {
      "text/html": [
       "<style>#sk-container-id-1 {\n",
       "  /* Definition of color scheme common for light and dark mode */\n",
       "  --sklearn-color-text: black;\n",
       "  --sklearn-color-line: gray;\n",
       "  /* Definition of color scheme for unfitted estimators */\n",
       "  --sklearn-color-unfitted-level-0: #fff5e6;\n",
       "  --sklearn-color-unfitted-level-1: #f6e4d2;\n",
       "  --sklearn-color-unfitted-level-2: #ffe0b3;\n",
       "  --sklearn-color-unfitted-level-3: chocolate;\n",
       "  /* Definition of color scheme for fitted estimators */\n",
       "  --sklearn-color-fitted-level-0: #f0f8ff;\n",
       "  --sklearn-color-fitted-level-1: #d4ebff;\n",
       "  --sklearn-color-fitted-level-2: #b3dbfd;\n",
       "  --sklearn-color-fitted-level-3: cornflowerblue;\n",
       "\n",
       "  /* Specific color for light theme */\n",
       "  --sklearn-color-text-on-default-background: var(--sg-text-color, var(--theme-code-foreground, var(--jp-content-font-color1, black)));\n",
       "  --sklearn-color-background: var(--sg-background-color, var(--theme-background, var(--jp-layout-color0, white)));\n",
       "  --sklearn-color-border-box: var(--sg-text-color, var(--theme-code-foreground, var(--jp-content-font-color1, black)));\n",
       "  --sklearn-color-icon: #696969;\n",
       "\n",
       "  @media (prefers-color-scheme: dark) {\n",
       "    /* Redefinition of color scheme for dark theme */\n",
       "    --sklearn-color-text-on-default-background: var(--sg-text-color, var(--theme-code-foreground, var(--jp-content-font-color1, white)));\n",
       "    --sklearn-color-background: var(--sg-background-color, var(--theme-background, var(--jp-layout-color0, #111)));\n",
       "    --sklearn-color-border-box: var(--sg-text-color, var(--theme-code-foreground, var(--jp-content-font-color1, white)));\n",
       "    --sklearn-color-icon: #878787;\n",
       "  }\n",
       "}\n",
       "\n",
       "#sk-container-id-1 {\n",
       "  color: var(--sklearn-color-text);\n",
       "}\n",
       "\n",
       "#sk-container-id-1 pre {\n",
       "  padding: 0;\n",
       "}\n",
       "\n",
       "#sk-container-id-1 input.sk-hidden--visually {\n",
       "  border: 0;\n",
       "  clip: rect(1px 1px 1px 1px);\n",
       "  clip: rect(1px, 1px, 1px, 1px);\n",
       "  height: 1px;\n",
       "  margin: -1px;\n",
       "  overflow: hidden;\n",
       "  padding: 0;\n",
       "  position: absolute;\n",
       "  width: 1px;\n",
       "}\n",
       "\n",
       "#sk-container-id-1 div.sk-dashed-wrapped {\n",
       "  border: 1px dashed var(--sklearn-color-line);\n",
       "  margin: 0 0.4em 0.5em 0.4em;\n",
       "  box-sizing: border-box;\n",
       "  padding-bottom: 0.4em;\n",
       "  background-color: var(--sklearn-color-background);\n",
       "}\n",
       "\n",
       "#sk-container-id-1 div.sk-container {\n",
       "  /* jupyter's `normalize.less` sets `[hidden] { display: none; }`\n",
       "     but bootstrap.min.css set `[hidden] { display: none !important; }`\n",
       "     so we also need the `!important` here to be able to override the\n",
       "     default hidden behavior on the sphinx rendered scikit-learn.org.\n",
       "     See: https://github.com/scikit-learn/scikit-learn/issues/21755 */\n",
       "  display: inline-block !important;\n",
       "  position: relative;\n",
       "}\n",
       "\n",
       "#sk-container-id-1 div.sk-text-repr-fallback {\n",
       "  display: none;\n",
       "}\n",
       "\n",
       "div.sk-parallel-item,\n",
       "div.sk-serial,\n",
       "div.sk-item {\n",
       "  /* draw centered vertical line to link estimators */\n",
       "  background-image: linear-gradient(var(--sklearn-color-text-on-default-background), var(--sklearn-color-text-on-default-background));\n",
       "  background-size: 2px 100%;\n",
       "  background-repeat: no-repeat;\n",
       "  background-position: center center;\n",
       "}\n",
       "\n",
       "/* Parallel-specific style estimator block */\n",
       "\n",
       "#sk-container-id-1 div.sk-parallel-item::after {\n",
       "  content: \"\";\n",
       "  width: 100%;\n",
       "  border-bottom: 2px solid var(--sklearn-color-text-on-default-background);\n",
       "  flex-grow: 1;\n",
       "}\n",
       "\n",
       "#sk-container-id-1 div.sk-parallel {\n",
       "  display: flex;\n",
       "  align-items: stretch;\n",
       "  justify-content: center;\n",
       "  background-color: var(--sklearn-color-background);\n",
       "  position: relative;\n",
       "}\n",
       "\n",
       "#sk-container-id-1 div.sk-parallel-item {\n",
       "  display: flex;\n",
       "  flex-direction: column;\n",
       "}\n",
       "\n",
       "#sk-container-id-1 div.sk-parallel-item:first-child::after {\n",
       "  align-self: flex-end;\n",
       "  width: 50%;\n",
       "}\n",
       "\n",
       "#sk-container-id-1 div.sk-parallel-item:last-child::after {\n",
       "  align-self: flex-start;\n",
       "  width: 50%;\n",
       "}\n",
       "\n",
       "#sk-container-id-1 div.sk-parallel-item:only-child::after {\n",
       "  width: 0;\n",
       "}\n",
       "\n",
       "/* Serial-specific style estimator block */\n",
       "\n",
       "#sk-container-id-1 div.sk-serial {\n",
       "  display: flex;\n",
       "  flex-direction: column;\n",
       "  align-items: center;\n",
       "  background-color: var(--sklearn-color-background);\n",
       "  padding-right: 1em;\n",
       "  padding-left: 1em;\n",
       "}\n",
       "\n",
       "\n",
       "/* Toggleable style: style used for estimator/Pipeline/ColumnTransformer box that is\n",
       "clickable and can be expanded/collapsed.\n",
       "- Pipeline and ColumnTransformer use this feature and define the default style\n",
       "- Estimators will overwrite some part of the style using the `sk-estimator` class\n",
       "*/\n",
       "\n",
       "/* Pipeline and ColumnTransformer style (default) */\n",
       "\n",
       "#sk-container-id-1 div.sk-toggleable {\n",
       "  /* Default theme specific background. It is overwritten whether we have a\n",
       "  specific estimator or a Pipeline/ColumnTransformer */\n",
       "  background-color: var(--sklearn-color-background);\n",
       "}\n",
       "\n",
       "/* Toggleable label */\n",
       "#sk-container-id-1 label.sk-toggleable__label {\n",
       "  cursor: pointer;\n",
       "  display: block;\n",
       "  width: 100%;\n",
       "  margin-bottom: 0;\n",
       "  padding: 0.5em;\n",
       "  box-sizing: border-box;\n",
       "  text-align: center;\n",
       "}\n",
       "\n",
       "#sk-container-id-1 label.sk-toggleable__label-arrow:before {\n",
       "  /* Arrow on the left of the label */\n",
       "  content: \"▸\";\n",
       "  float: left;\n",
       "  margin-right: 0.25em;\n",
       "  color: var(--sklearn-color-icon);\n",
       "}\n",
       "\n",
       "#sk-container-id-1 label.sk-toggleable__label-arrow:hover:before {\n",
       "  color: var(--sklearn-color-text);\n",
       "}\n",
       "\n",
       "/* Toggleable content - dropdown */\n",
       "\n",
       "#sk-container-id-1 div.sk-toggleable__content {\n",
       "  max-height: 0;\n",
       "  max-width: 0;\n",
       "  overflow: hidden;\n",
       "  text-align: left;\n",
       "  /* unfitted */\n",
       "  background-color: var(--sklearn-color-unfitted-level-0);\n",
       "}\n",
       "\n",
       "#sk-container-id-1 div.sk-toggleable__content.fitted {\n",
       "  /* fitted */\n",
       "  background-color: var(--sklearn-color-fitted-level-0);\n",
       "}\n",
       "\n",
       "#sk-container-id-1 div.sk-toggleable__content pre {\n",
       "  margin: 0.2em;\n",
       "  border-radius: 0.25em;\n",
       "  color: var(--sklearn-color-text);\n",
       "  /* unfitted */\n",
       "  background-color: var(--sklearn-color-unfitted-level-0);\n",
       "}\n",
       "\n",
       "#sk-container-id-1 div.sk-toggleable__content.fitted pre {\n",
       "  /* unfitted */\n",
       "  background-color: var(--sklearn-color-fitted-level-0);\n",
       "}\n",
       "\n",
       "#sk-container-id-1 input.sk-toggleable__control:checked~div.sk-toggleable__content {\n",
       "  /* Expand drop-down */\n",
       "  max-height: 200px;\n",
       "  max-width: 100%;\n",
       "  overflow: auto;\n",
       "}\n",
       "\n",
       "#sk-container-id-1 input.sk-toggleable__control:checked~label.sk-toggleable__label-arrow:before {\n",
       "  content: \"▾\";\n",
       "}\n",
       "\n",
       "/* Pipeline/ColumnTransformer-specific style */\n",
       "\n",
       "#sk-container-id-1 div.sk-label input.sk-toggleable__control:checked~label.sk-toggleable__label {\n",
       "  color: var(--sklearn-color-text);\n",
       "  background-color: var(--sklearn-color-unfitted-level-2);\n",
       "}\n",
       "\n",
       "#sk-container-id-1 div.sk-label.fitted input.sk-toggleable__control:checked~label.sk-toggleable__label {\n",
       "  background-color: var(--sklearn-color-fitted-level-2);\n",
       "}\n",
       "\n",
       "/* Estimator-specific style */\n",
       "\n",
       "/* Colorize estimator box */\n",
       "#sk-container-id-1 div.sk-estimator input.sk-toggleable__control:checked~label.sk-toggleable__label {\n",
       "  /* unfitted */\n",
       "  background-color: var(--sklearn-color-unfitted-level-2);\n",
       "}\n",
       "\n",
       "#sk-container-id-1 div.sk-estimator.fitted input.sk-toggleable__control:checked~label.sk-toggleable__label {\n",
       "  /* fitted */\n",
       "  background-color: var(--sklearn-color-fitted-level-2);\n",
       "}\n",
       "\n",
       "#sk-container-id-1 div.sk-label label.sk-toggleable__label,\n",
       "#sk-container-id-1 div.sk-label label {\n",
       "  /* The background is the default theme color */\n",
       "  color: var(--sklearn-color-text-on-default-background);\n",
       "}\n",
       "\n",
       "/* On hover, darken the color of the background */\n",
       "#sk-container-id-1 div.sk-label:hover label.sk-toggleable__label {\n",
       "  color: var(--sklearn-color-text);\n",
       "  background-color: var(--sklearn-color-unfitted-level-2);\n",
       "}\n",
       "\n",
       "/* Label box, darken color on hover, fitted */\n",
       "#sk-container-id-1 div.sk-label.fitted:hover label.sk-toggleable__label.fitted {\n",
       "  color: var(--sklearn-color-text);\n",
       "  background-color: var(--sklearn-color-fitted-level-2);\n",
       "}\n",
       "\n",
       "/* Estimator label */\n",
       "\n",
       "#sk-container-id-1 div.sk-label label {\n",
       "  font-family: monospace;\n",
       "  font-weight: bold;\n",
       "  display: inline-block;\n",
       "  line-height: 1.2em;\n",
       "}\n",
       "\n",
       "#sk-container-id-1 div.sk-label-container {\n",
       "  text-align: center;\n",
       "}\n",
       "\n",
       "/* Estimator-specific */\n",
       "#sk-container-id-1 div.sk-estimator {\n",
       "  font-family: monospace;\n",
       "  border: 1px dotted var(--sklearn-color-border-box);\n",
       "  border-radius: 0.25em;\n",
       "  box-sizing: border-box;\n",
       "  margin-bottom: 0.5em;\n",
       "  /* unfitted */\n",
       "  background-color: var(--sklearn-color-unfitted-level-0);\n",
       "}\n",
       "\n",
       "#sk-container-id-1 div.sk-estimator.fitted {\n",
       "  /* fitted */\n",
       "  background-color: var(--sklearn-color-fitted-level-0);\n",
       "}\n",
       "\n",
       "/* on hover */\n",
       "#sk-container-id-1 div.sk-estimator:hover {\n",
       "  /* unfitted */\n",
       "  background-color: var(--sklearn-color-unfitted-level-2);\n",
       "}\n",
       "\n",
       "#sk-container-id-1 div.sk-estimator.fitted:hover {\n",
       "  /* fitted */\n",
       "  background-color: var(--sklearn-color-fitted-level-2);\n",
       "}\n",
       "\n",
       "/* Specification for estimator info (e.g. \"i\" and \"?\") */\n",
       "\n",
       "/* Common style for \"i\" and \"?\" */\n",
       "\n",
       ".sk-estimator-doc-link,\n",
       "a:link.sk-estimator-doc-link,\n",
       "a:visited.sk-estimator-doc-link {\n",
       "  float: right;\n",
       "  font-size: smaller;\n",
       "  line-height: 1em;\n",
       "  font-family: monospace;\n",
       "  background-color: var(--sklearn-color-background);\n",
       "  border-radius: 1em;\n",
       "  height: 1em;\n",
       "  width: 1em;\n",
       "  text-decoration: none !important;\n",
       "  margin-left: 1ex;\n",
       "  /* unfitted */\n",
       "  border: var(--sklearn-color-unfitted-level-1) 1pt solid;\n",
       "  color: var(--sklearn-color-unfitted-level-1);\n",
       "}\n",
       "\n",
       ".sk-estimator-doc-link.fitted,\n",
       "a:link.sk-estimator-doc-link.fitted,\n",
       "a:visited.sk-estimator-doc-link.fitted {\n",
       "  /* fitted */\n",
       "  border: var(--sklearn-color-fitted-level-1) 1pt solid;\n",
       "  color: var(--sklearn-color-fitted-level-1);\n",
       "}\n",
       "\n",
       "/* On hover */\n",
       "div.sk-estimator:hover .sk-estimator-doc-link:hover,\n",
       ".sk-estimator-doc-link:hover,\n",
       "div.sk-label-container:hover .sk-estimator-doc-link:hover,\n",
       ".sk-estimator-doc-link:hover {\n",
       "  /* unfitted */\n",
       "  background-color: var(--sklearn-color-unfitted-level-3);\n",
       "  color: var(--sklearn-color-background);\n",
       "  text-decoration: none;\n",
       "}\n",
       "\n",
       "div.sk-estimator.fitted:hover .sk-estimator-doc-link.fitted:hover,\n",
       ".sk-estimator-doc-link.fitted:hover,\n",
       "div.sk-label-container:hover .sk-estimator-doc-link.fitted:hover,\n",
       ".sk-estimator-doc-link.fitted:hover {\n",
       "  /* fitted */\n",
       "  background-color: var(--sklearn-color-fitted-level-3);\n",
       "  color: var(--sklearn-color-background);\n",
       "  text-decoration: none;\n",
       "}\n",
       "\n",
       "/* Span, style for the box shown on hovering the info icon */\n",
       ".sk-estimator-doc-link span {\n",
       "  display: none;\n",
       "  z-index: 9999;\n",
       "  position: relative;\n",
       "  font-weight: normal;\n",
       "  right: .2ex;\n",
       "  padding: .5ex;\n",
       "  margin: .5ex;\n",
       "  width: min-content;\n",
       "  min-width: 20ex;\n",
       "  max-width: 50ex;\n",
       "  color: var(--sklearn-color-text);\n",
       "  box-shadow: 2pt 2pt 4pt #999;\n",
       "  /* unfitted */\n",
       "  background: var(--sklearn-color-unfitted-level-0);\n",
       "  border: .5pt solid var(--sklearn-color-unfitted-level-3);\n",
       "}\n",
       "\n",
       ".sk-estimator-doc-link.fitted span {\n",
       "  /* fitted */\n",
       "  background: var(--sklearn-color-fitted-level-0);\n",
       "  border: var(--sklearn-color-fitted-level-3);\n",
       "}\n",
       "\n",
       ".sk-estimator-doc-link:hover span {\n",
       "  display: block;\n",
       "}\n",
       "\n",
       "/* \"?\"-specific style due to the `<a>` HTML tag */\n",
       "\n",
       "#sk-container-id-1 a.estimator_doc_link {\n",
       "  float: right;\n",
       "  font-size: 1rem;\n",
       "  line-height: 1em;\n",
       "  font-family: monospace;\n",
       "  background-color: var(--sklearn-color-background);\n",
       "  border-radius: 1rem;\n",
       "  height: 1rem;\n",
       "  width: 1rem;\n",
       "  text-decoration: none;\n",
       "  /* unfitted */\n",
       "  color: var(--sklearn-color-unfitted-level-1);\n",
       "  border: var(--sklearn-color-unfitted-level-1) 1pt solid;\n",
       "}\n",
       "\n",
       "#sk-container-id-1 a.estimator_doc_link.fitted {\n",
       "  /* fitted */\n",
       "  border: var(--sklearn-color-fitted-level-1) 1pt solid;\n",
       "  color: var(--sklearn-color-fitted-level-1);\n",
       "}\n",
       "\n",
       "/* On hover */\n",
       "#sk-container-id-1 a.estimator_doc_link:hover {\n",
       "  /* unfitted */\n",
       "  background-color: var(--sklearn-color-unfitted-level-3);\n",
       "  color: var(--sklearn-color-background);\n",
       "  text-decoration: none;\n",
       "}\n",
       "\n",
       "#sk-container-id-1 a.estimator_doc_link.fitted:hover {\n",
       "  /* fitted */\n",
       "  background-color: var(--sklearn-color-fitted-level-3);\n",
       "}\n",
       "</style><div id=\"sk-container-id-1\" class=\"sk-top-container\"><div class=\"sk-text-repr-fallback\"><pre>RandomForestClassifier(random_state=42)</pre><b>In a Jupyter environment, please rerun this cell to show the HTML representation or trust the notebook. <br />On GitHub, the HTML representation is unable to render, please try loading this page with nbviewer.org.</b></div><div class=\"sk-container\" hidden><div class=\"sk-item\"><div class=\"sk-estimator fitted sk-toggleable\"><input class=\"sk-toggleable__control sk-hidden--visually\" id=\"sk-estimator-id-1\" type=\"checkbox\" checked><label for=\"sk-estimator-id-1\" class=\"sk-toggleable__label fitted sk-toggleable__label-arrow fitted\">&nbsp;&nbsp;RandomForestClassifier<a class=\"sk-estimator-doc-link fitted\" rel=\"noreferrer\" target=\"_blank\" href=\"https://scikit-learn.org/1.5/modules/generated/sklearn.ensemble.RandomForestClassifier.html\">?<span>Documentation for RandomForestClassifier</span></a><span class=\"sk-estimator-doc-link fitted\">i<span>Fitted</span></span></label><div class=\"sk-toggleable__content fitted\"><pre>RandomForestClassifier(random_state=42)</pre></div> </div></div></div></div>"
      ],
      "text/plain": [
       "RandomForestClassifier(random_state=42)"
      ]
     },
     "execution_count": 66,
     "metadata": {},
     "output_type": "execute_result"
    }
   ],
   "source": [
    "# Inicializar y entrenar el modelo\n",
    "model = RandomForestClassifier(n_estimators=100, random_state=42)\n",
    "model.fit(X_train, y_train)"
   ]
  },
  {
   "cell_type": "code",
   "execution_count": 67,
   "id": "5915c4b1",
   "metadata": {},
   "outputs": [],
   "source": [
    "# Realizar predicciones\n",
    "y_pred = model.predict(X_test)"
   ]
  },
  {
   "cell_type": "code",
   "execution_count": 68,
   "id": "a6c777fa",
   "metadata": {},
   "outputs": [
    {
     "name": "stdout",
     "output_type": "stream",
     "text": [
      "Accuracy: 0.9914227742252828\n"
     ]
    },
    {
     "name": "stderr",
     "output_type": "stream",
     "text": [
      "c:\\Users\\harol\\anaconda3\\Lib\\site-packages\\sklearn\\metrics\\_classification.py:1531: UndefinedMetricWarning: Precision is ill-defined and being set to 0.0 in labels with no predicted samples. Use `zero_division` parameter to control this behavior.\n",
      "  _warn_prf(average, modifier, f\"{metric.capitalize()} is\", len(result))\n"
     ]
    },
    {
     "name": "stdout",
     "output_type": "stream",
     "text": [
      "\n",
      "Reporte de clasificación:\n",
      "                                                                                  precision    recall  f1-score   support\n",
      "\n",
      "                                                                               -       1.00      1.00      1.00     12640\n",
      "                                                            Cobrar indebidamente       1.00      1.00      1.00      2107\n",
      "                      Demorar la gestión de la carta de garantía y/o reembolsos.       0.85      0.94      0.90      1030\n",
      "                       Negar atención para el trámite de registro o acreditación       1.00      0.99      1.00       196\n",
      "                     Negar el otorgamiento de prestaciones económicas o sociales       1.00      0.92      0.96        49\n",
      "                                     Negar la acreditación de usuario asegurado.       0.96      0.94      0.95      2173\n",
      "                                                 Negar la afiliación del usuario       1.00      0.62      0.76        60\n",
      "                         Negar la cobertura de emergencia en periodo de carencia       1.00      0.10      0.18        10\n",
      "                                       Negar la cobertura en periodo de latencia       0.96      0.91      0.94       104\n",
      "                                 Negar o demora en otorgar la cobertura en salud       1.00      1.00      1.00      1859\n",
      "                                      Negar o demorar en la atención en la IAFAS       1.00      1.00      1.00       406\n",
      "               No brindar atención con respeto de parte del personal de la IAFAS       0.99      0.86      0.92       114\n",
      "     No brindar atención según la ley de atención preferencial y de discapacidad       0.00      0.00      0.00         5\n",
      "                              No brindar información sobre sus derechos en salud       1.00      1.00      1.00      1202\n",
      "                No cumplir con la disposición de libro de reclamaciones en salud       1.00      0.27      0.43        11\n",
      "No cumplir con las disposiciones de la PAUS de acuerdo a la normatividad vigente       1.00      0.94      0.97       110\n",
      "   No permitir al usuario la libre elección de IPRESS de acuerdo a lo contratado       1.00      1.00      1.00      1745\n",
      "                                                     Otros relativos a las IAFAS       1.00      1.00      1.00      8707\n",
      "\n",
      "                                                                        accuracy                           0.99     32528\n",
      "                                                                       macro avg       0.93      0.80      0.83     32528\n",
      "                                                                    weighted avg       0.99      0.99      0.99     32528\n",
      "\n"
     ]
    },
    {
     "name": "stderr",
     "output_type": "stream",
     "text": [
      "c:\\Users\\harol\\anaconda3\\Lib\\site-packages\\sklearn\\metrics\\_classification.py:1531: UndefinedMetricWarning: Precision is ill-defined and being set to 0.0 in labels with no predicted samples. Use `zero_division` parameter to control this behavior.\n",
      "  _warn_prf(average, modifier, f\"{metric.capitalize()} is\", len(result))\n",
      "c:\\Users\\harol\\anaconda3\\Lib\\site-packages\\sklearn\\metrics\\_classification.py:1531: UndefinedMetricWarning: Precision is ill-defined and being set to 0.0 in labels with no predicted samples. Use `zero_division` parameter to control this behavior.\n",
      "  _warn_prf(average, modifier, f\"{metric.capitalize()} is\", len(result))\n"
     ]
    }
   ],
   "source": [
    "# Evaluar el rendimiento\n",
    "print(f'Accuracy: {accuracy_score(y_test, y_pred)}')\n",
    "print(f'\\nReporte de clasificación:\\n{classification_report(y_test, y_pred)}')"
   ]
  },
  {
   "cell_type": "code",
   "execution_count": 70,
   "id": "3e791d0e",
   "metadata": {},
   "outputs": [
    {
     "name": "stdout",
     "output_type": "stream",
     "text": [
      "\n",
      "Top 20 características más importantes (datos limpios):\n",
      "                                                feature  importance\n",
      "28                                    DE_COMPETENCIA_No    0.072991\n",
      "29                                    DE_COMPETENCIA_Si    0.058248\n",
      "1219                                              iafas    0.040804\n",
      "2230                                           servicio    0.030453\n",
      "49                   DE_COMUN_RESULT_Correo electrónico    0.021566\n",
      "294                                            atención    0.019682\n",
      "48                                   DE_COMUN_RESULT_-     0.018784\n",
      "38            DE_ETAPA_RECLAMO_Resultado y Notificación    0.016832\n",
      "9     DE_MEDIO_RECEPCION_Libro de Reclamaciones Virtual    0.015031\n",
      "10                DE_MEDIO_RECEPCION_Llamada teléfonica    0.014598\n",
      "1886                                        policlínico    0.014451\n",
      "37          DE_ETAPA_RECLAMO_Evaluación e investigación    0.014345\n",
      "923                                             essalud    0.012417\n",
      "31                          DE_ESTADO_RECLAMO_Concluido    0.011314\n",
      "1261                                             ipress    0.010193\n",
      "2                                      DURACION_RECLAMO    0.009779\n",
      "1634                                             médica    0.009600\n",
      "36    DE_ETAPA_RECLAMO_Archivo y Custodia del Expedi...    0.009444\n",
      "1635                                             médico    0.009367\n",
      "767                                            derechos    0.009224\n"
     ]
    }
   ],
   "source": [
    "# Corregir para usar X_combined_clean en lugar de X_combined\n",
    "feature_importances_clean = pd.DataFrame({\n",
    "    'feature': X_combined_clean.columns,\n",
    "    'importance': model.feature_importances_\n",
    "}).sort_values('importance', ascending=False)\n",
    "\n",
    "print(\"\\nTop 20 características más importantes (datos limpios):\")\n",
    "print(feature_importances_clean.head(20))"
   ]
  },
  {
   "cell_type": "code",
   "execution_count": 72,
   "id": "431059d8",
   "metadata": {},
   "outputs": [
    {
     "name": "stdout",
     "output_type": "stream",
     "text": [
      "Eliminando 11 columnas adicionales con potencial fuga\n",
      "Nueva accuracy: 0.9908386620757501\n"
     ]
    }
   ],
   "source": [
    "# Identificar y eliminar columnas adicionales con fuga potencial\n",
    "additional_leakage = [col for col in X_combined_clean.columns \n",
    "                     if 'DE_RESULTADO_' in col or 'DE_ESTADO_RECLAMO_' in col]\n",
    "\n",
    "print(f\"Eliminando {len(additional_leakage)} columnas adicionales con potencial fuga\")\n",
    "X_combined_cleaner = X_combined_clean.drop(columns=additional_leakage)\n",
    "\n",
    "# Reentrenar con datos más limpios\n",
    "X_train_cleaner, X_test_cleaner, y_train, y_test = train_test_split(\n",
    "    X_combined_cleaner, df['DE_CLASIF_1'], test_size=0.2, random_state=42\n",
    ")\n",
    "\n",
    "model_cleaner = RandomForestClassifier(n_estimators=100, random_state=42)\n",
    "model_cleaner.fit(X_train_cleaner, y_train)\n",
    "y_pred_cleaner = model_cleaner.predict(X_test_cleaner)\n",
    "\n",
    "print(f'Nueva accuracy: {accuracy_score(y_test, y_pred_cleaner)}')"
   ]
  },
  {
   "cell_type": "code",
   "execution_count": 73,
   "id": "8c20f1f6",
   "metadata": {},
   "outputs": [
    {
     "name": "stdout",
     "output_type": "stream",
     "text": [
      "CV Accuracy: 0.9735 ± 0.0131\n"
     ]
    }
   ],
   "source": [
    "from sklearn.model_selection import cross_val_score\n",
    "\n",
    "# Validación cruzada con 5-fold\n",
    "cv_scores = cross_val_score(\n",
    "    RandomForestClassifier(n_estimators=100, random_state=42),\n",
    "    X_combined_cleaner, df['DE_CLASIF_1'], \n",
    "    cv=5\n",
    ")\n",
    "print(f\"CV Accuracy: {cv_scores.mean():.4f} ± {cv_scores.std():.4f}\")"
   ]
  },
  {
   "cell_type": "code",
   "execution_count": 74,
   "id": "876f131a",
   "metadata": {},
   "outputs": [
    {
     "name": "stdout",
     "output_type": "stream",
     "text": [
      "Eliminando 15 columnas con información posterior a la clasificación\n",
      "CV Accuracy realmente limpia: 0.9793 ± 0.0106\n"
     ]
    }
   ],
   "source": [
    "# Eliminar TODAS las variables posteriores a la clasificación\n",
    "post_classification_cols = [col for col in X_combined_cleaner.columns \n",
    "                           if any(substring in col for substring in [\n",
    "                               'DE_RESULTADO_', \n",
    "                               'DE_ESTADO_RECLAMO_',\n",
    "                               'DE_ETAPA_RECLAMO_',\n",
    "                               'DE_COMUN_RESULT_',\n",
    "                               'FE_RESULT_RECL_',\n",
    "                               'FE_NOTIFI_RESULT_'\n",
    "                           ])]\n",
    "\n",
    "print(f\"Eliminando {len(post_classification_cols)} columnas con información posterior a la clasificación\")\n",
    "X_combined_truly_clean = X_combined_cleaner.drop(columns=post_classification_cols)\n",
    "\n",
    "# Validación cruzada con el conjunto realmente limpio\n",
    "cv_scores_clean = cross_val_score(\n",
    "    RandomForestClassifier(n_estimators=100, random_state=42),\n",
    "    X_combined_truly_clean, df['DE_CLASIF_1'], \n",
    "    cv=5\n",
    ")\n",
    "print(f\"CV Accuracy realmente limpia: {cv_scores_clean.mean():.4f} ± {cv_scores_clean.std():.4f}\")"
   ]
  },
  {
   "cell_type": "code",
   "execution_count": 78,
   "id": "23478e9e",
   "metadata": {},
   "outputs": [
    {
     "ename": "NameError",
     "evalue": "name 'feature_importances' is not defined",
     "output_type": "error",
     "traceback": [
      "\u001b[1;31m---------------------------------------------------------------------------\u001b[0m",
      "\u001b[1;31mNameError\u001b[0m                                 Traceback (most recent call last)",
      "Cell \u001b[1;32mIn[78], line 2\u001b[0m\n\u001b[0;32m      1\u001b[0m \u001b[38;5;66;03m# Verificar si estás incluyendo alguna variable que tenga información directa del resultado\u001b[39;00m\n\u001b[1;32m----> 2\u001b[0m \u001b[38;5;28mprint\u001b[39m(feature_importances\u001b[38;5;241m.\u001b[39mhead(\u001b[38;5;241m20\u001b[39m))\n",
      "\u001b[1;31mNameError\u001b[0m: name 'feature_importances' is not defined"
     ]
    }
   ],
   "source": [
    "# Verificar si estás incluyendo alguna variable que tenga información directa del resultado\n",
    "print(feature_importances.head(20))"
   ]
  },
  {
   "cell_type": "code",
   "execution_count": null,
   "id": "a93158b5",
   "metadata": {},
   "outputs": [],
   "source": [
    "# Matriz de confusión\n",
    "from sklearn.metrics import confusion_matrix, ConfusionMatrixDisplay"
   ]
  },
  {
   "cell_type": "code",
   "execution_count": null,
   "id": "adaa8b8b",
   "metadata": {},
   "outputs": [
    {
     "data": {
      "text/plain": [
       "<Figure size 1000x1000 with 0 Axes>"
      ]
     },
     "metadata": {},
     "output_type": "display_data"
    },
    {
     "data": {
      "image/png": "[encoded data removed]",
      "text/plain": [
       "<Figure size 640x480 with 2 Axes>"
      ]
     },
     "metadata": {},
     "output_type": "display_data"
    }
   ],
   "source": [
    "cm = confusion_matrix(y_test, y_pred)\n",
    "disp = ConfusionMatrixDisplay(confusion_matrix=cm, display_labels=model.classes_)\n",
    "plt.figure(figsize=(10, 10))\n",
    "disp.plot(cmap='Blues')\n",
    "plt.xticks(rotation=90)\n",
    "plt.title('Matriz de Confusión')\n",
    "plt.show()"
   ]
  },
  {
   "cell_type": "code",
   "execution_count": null,
   "id": "34f739ca",
   "metadata": {},
   "outputs": [
    {
     "name": "stdout",
     "output_type": "stream",
     "text": [
      "Distribución de clases en el conjunto de prueba:\n",
      "DE_RESULTADO\n",
      "Pendiente                    0.618083\n",
      "Infundado                    0.153714\n",
      "Fundado                      0.141909\n",
      "Fundado Parcial              0.029513\n",
      "Improcedente                 0.026316\n",
      "-                            0.020229\n",
      "Concluido anticipadamente    0.010237\n",
      "Name: proportion, dtype: float64\n"
     ]
    }
   ],
   "source": [
    "# Ver distribución de clases en el conjunto de prueba\n",
    "print(\"Distribución de clases en el conjunto de prueba:\")\n",
    "print(y_test.value_counts(normalize=True))\n"
   ]
  },
  {
   "cell_type": "code",
   "execution_count": null,
   "id": "5985e352",
   "metadata": {},
   "outputs": [
    {
     "name": "stdout",
     "output_type": "stream",
     "text": [
      "\n",
      "Top 20 características más importantes:\n",
      "                                                feature  importance\n",
      "63                               DE_RESULTADO_Infundado    0.116272\n",
      "60                                 DE_RESULTADO_Fundado    0.110432\n",
      "53    DE_ETAPA_RECLAMO_Archivo y Custodia del Expedi...    0.069610\n",
      "78                                 FE_NOTIFI_RESULT_day    0.067789\n",
      "2                                      DURACION_RECLAMO    0.060794\n",
      "64                               DE_RESULTADO_Pendiente    0.048359\n",
      "76                                FE_NOTIFI_RESULT_year    0.047134\n",
      "48                          DE_ESTADO_RECLAMO_Concluido    0.046104\n",
      "77                               FE_NOTIFI_RESULT_month    0.042632\n",
      "61                         DE_RESULTADO_Fundado Parcial    0.038074\n",
      "66                   DE_COMUN_RESULT_Correo electrónico    0.037771\n",
      "49                         DE_ESTADO_RECLAMO_En trámite    0.033640\n",
      "62                            DE_RESULTADO_Improcedente    0.029845\n",
      "29                                    DE_COMPETENCIA_Si    0.014859\n",
      "54          DE_ETAPA_RECLAMO_Evaluación e investigación    0.014113\n",
      "47           DE_ESTADO_RECLAMO_Archivado por duplicidad    0.013607\n",
      "67    DE_COMUN_RESULT_Domicilio consignado en el Lib...    0.012357\n",
      "59               DE_RESULTADO_Concluido anticipadamente    0.011505\n",
      "2553               CATEGORIA_DURACION_Medio (8-30 días)    0.010020\n",
      "57                          DE_TIPO_ADMIN_DERIVA_IPRESS    0.009269\n"
     ]
    }
   ],
   "source": [
    "# Ver características más importantes\n",
    "feature_importances = pd.DataFrame({\n",
    "    'feature': X_combined.columns,\n",
    "    'importance': model.feature_importances_\n",
    "}).sort_values('importance', ascending=False)\n",
    "print(\"\\nTop 20 características más importantes:\")\n",
    "print(feature_importances.head(20))"
   ]
  },
  {
   "cell_type": "code",
   "execution_count": 76,
   "id": "e12d317e",
   "metadata": {},
   "outputs": [
    {
     "name": "stdout",
     "output_type": "stream",
     "text": [
      "Columnas con potencial fuga temporal: ['DURACION_RECLAMO']\n",
      "Columnas derivadas de fechas: ['FE_PRESEN_RECLA_year', 'FE_PRESEN_RECLA_month', 'FE_PRESEN_RECLA_day']\n",
      "CV Accuracy final: 0.9793 ± 0.0112\n"
     ]
    }
   ],
   "source": [
    "# Identifica todas las variables que podrían contener información posterior a la clasificación\n",
    "# Observa variables de duración o aquellas derivadas de la fecha de presentación vs resultado\n",
    "temporal_leakage_cols = [col for col in X_combined_truly_clean.columns \n",
    "                         if 'DURACION_RECLAMO' in col]\n",
    "\n",
    "print(f\"Columnas con potencial fuga temporal: {temporal_leakage_cols}\")\n",
    "\n",
    "# También inspecciona columnas calculadas en base a fechas posteriores a la clasificación\n",
    "date_derived_cols = [col for col in X_combined_truly_clean.columns \n",
    "                    if any(substring in col for substring in ['_year', '_month', '_day'])]\n",
    "print(f\"Columnas derivadas de fechas: {date_derived_cols}\")\n",
    "\n",
    "# Eliminar todas las columnas identificadas como problemáticas\n",
    "X_combined_final_clean = X_combined_truly_clean.drop(columns=temporal_leakage_cols)\n",
    "\n",
    "# Validación cruzada con conjunto completamente limpio\n",
    "from sklearn.model_selection import cross_val_score\n",
    "cv_scores_final = cross_val_score(\n",
    "    RandomForestClassifier(n_estimators=100, random_state=42),\n",
    "    X_combined_final_clean, df['DE_CLASIF_1'], \n",
    "    cv=5\n",
    ")\n",
    "print(f\"CV Accuracy final: {cv_scores_final.mean():.4f} ± {cv_scores_final.std():.4f}\")"
   ]
  },
  {
   "cell_type": "code",
   "execution_count": 77,
   "id": "2ea7f921",
   "metadata": {},
   "outputs": [
    {
     "name": "stdout",
     "output_type": "stream",
     "text": [
      "Columnas restantes:\n",
      "- AÑO\n",
      "- MES\n",
      "- DE_TIPO_INSTITUCION_IPRESS\n",
      "- DE_TIPO_INSTITUCION_UGIPRESS\n",
      "- DE_MEDIO_PRESENTACION_Teléfonic\n",
      "- DE_MEDIO_PRESENTACION_Teléfonico\n",
      "- DE_MEDIO_PRESENTACION_Virtual\n",
      "- DE_MEDIO_RECEPCION_Libro de Reclamaciones Físico\n",
      "- DE_MEDIO_RECEPCION_Libro de Reclamaciones Virtual\n",
      "- DE_MEDIO_RECEPCION_Llamada teléfonica\n",
      "- DE_MEDIO_RECEPCION_Reclamo coparticipado con otra administrada\n",
      "- DE_MEDIO_RECEPCION_Reclamo presencial\n",
      "- DE_MEDIO_RECEPCION_Reclamo trasladado de otra administrada\n",
      "- DE_SERVICIO_Atención a domicilio, consulta ambulatoria\n",
      "- DE_SERVICIO_Atención a domicilio, urgencia o emergencia\n",
      "- DE_SERVICIO_Centro Obstétrico\n",
      "- DE_SERVICIO_Centro Quirúrgico\n",
      "- DE_SERVICIO_Consulta Externa\n",
      "- DE_SERVICIO_Emergencia\n",
      "- DE_SERVICIO_Farmacia\n",
      "- DE_SERVICIO_Hospitalización\n",
      "- DE_SERVICIO_Infraestructura\n",
      "- DE_SERVICIO_Oficinas o áreas administrativas de IAFAS o IPRESS o UGIPRES\n",
      "- DE_SERVICIO_Oficinas o áreas administrativas de IAFAS o IPRESS o UGIPRESS\n",
      "- DE_SERVICIO_Referencia y Contrareferencia\n",
      "- DE_SERVICIO_Servicios Médicos de Apoyo\n",
      "- DE_SERVICIO_UCI o UCIN\n",
      "- DE_COMPETENCIA_No\n",
      "- DE_COMPETENCIA_Si\n",
      "- DE_TIPO_ADMIN_DERIVA_IAFAS\n",
      "...y 2481 columnas más\n",
      "Posibles columnas problemáticas restantes: ['tiempo', 'tiempos', 'CATEGORIA_DURACION_Extremo (>365 días)', 'CATEGORIA_DURACION_Largo (31-90 días)', 'CATEGORIA_DURACION_Medio (8-30 días)', 'CATEGORIA_DURACION_Muy Largo (91-365 días)']\n"
     ]
    }
   ],
   "source": [
    "# Examina exactamente qué columnas quedan en tu conjunto de datos final\n",
    "print(\"Columnas restantes:\")\n",
    "for col in X_combined_final_clean.columns[:30]:  # Mostrar las primeras 30\n",
    "    print(f\"- {col}\")\n",
    "print(f\"...y {len(X_combined_final_clean.columns) - 30} columnas más\")\n",
    "\n",
    "# Verifica si hay otras variables calculadas que podrían contener información posterior\n",
    "remaining_suspicious = [col for col in X_combined_final_clean.columns \n",
    "                       if any(term in col.lower() for term in ['result', 'duracion', 'tiempo'])]\n",
    "print(f\"Posibles columnas problemáticas restantes: {remaining_suspicious}\")"
   ]
  },
  {
   "cell_type": "code",
   "execution_count": 79,
   "id": "310fad71",
   "metadata": {},
   "outputs": [
    {
     "name": "stdout",
     "output_type": "stream",
     "text": [
      "Forma después de eliminar las últimas columnas problemáticas: (162639, 2505)\n",
      "Columnas posiblemente problemáticas restantes: []\n"
     ]
    }
   ],
   "source": [
    "# Eliminar las palabras 'tiempo' y 'tiempos' de las características TF-IDF\n",
    "text_time_cols = ['tiempo', 'tiempos']\n",
    "# Eliminar las categorías de duración\n",
    "duracion_cols = [col for col in X_combined_final_clean.columns if 'CATEGORIA_DURACION_' in col]\n",
    "\n",
    "# Unir todas las columnas a eliminar\n",
    "final_cols_to_drop = text_time_cols + duracion_cols\n",
    "\n",
    "# Eliminar estas columnas del conjunto de datos final\n",
    "X_combined_truly_final = X_combined_final_clean.drop(columns=final_cols_to_drop)\n",
    "\n",
    "print(f\"Forma después de eliminar las últimas columnas problemáticas: {X_combined_truly_final.shape}\")\n",
    "\n",
    "# Verificar que ya no queden columnas sospechosas\n",
    "remaining_suspicious = [col for col in X_combined_truly_final.columns \n",
    "                       if any(term in col.lower() for term in ['result', 'duracion', 'tiempo'])]\n",
    "print(f\"Columnas posiblemente problemáticas restantes: {remaining_suspicious}\")"
   ]
  },
  {
   "cell_type": "code",
   "execution_count": 81,
   "id": "7a8a9321",
   "metadata": {},
   "outputs": [
    {
     "name": "stdout",
     "output_type": "stream",
     "text": [
      "CV Accuracy final real: 0.9802 ± 0.0104\n"
     ]
    }
   ],
   "source": [
    "# Validación cruzada con el conjunto finalmente limpio\n",
    "cv_scores_truly_final = cross_val_score(\n",
    "    RandomForestClassifier(n_estimators=100, random_state=42),\n",
    "    X_combined_truly_final, df['DE_CLASIF_1'], \n",
    "    cv=5\n",
    ")\n",
    "print(f\"CV Accuracy final real: {cv_scores_truly_final.mean():.4f} ± {cv_scores_truly_final.std():.4f}\")"
   ]
  },
  {
   "cell_type": "code",
   "execution_count": 82,
   "id": "4e3224f3",
   "metadata": {},
   "outputs": [
    {
     "name": "stdout",
     "output_type": "stream",
     "text": [
      "Comparación de rendimiento:\n",
      "Modelo con posible fuga de información: 0.9793 ± 0.0112\n",
      "Modelo sin fuga de información: 0.9802 ± 0.0104\n"
     ]
    }
   ],
   "source": [
    "print(\"Comparación de rendimiento:\")\n",
    "print(f\"Modelo con posible fuga de información: {cv_scores_final.mean():.4f} ± {cv_scores_final.std():.4f}\")\n",
    "print(f\"Modelo sin fuga de información: {cv_scores_truly_final.mean():.4f} ± {cv_scores_truly_final.std():.4f}\")"
   ]
  }
 ],
 "metadata": {
  "kernelspec": {
   "display_name": "base",
   "language": "python",
   "name": "python3"
  },
  "language_info": {
   "codemirror_mode": {
    "name": "ipython",
    "version": 3
   },
   "file_extension": ".py",
   "mimetype": "text/x-python",
   "name": "python",
   "nbconvert_exporter": "python",
   "pygments_lexer": "ipython3",
   "version": "3.12.7"
  }
 },
 "nbformat": 4,
 "nbformat_minor": 5
}
