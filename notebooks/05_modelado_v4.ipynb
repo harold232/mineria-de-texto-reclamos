{
 "cells": [
  {
   "cell_type": "markdown",
   "id": "312c022f-1631-4c45-90b3-13378e7c8fa3",
   "metadata": {},
   "source": [
    "# Modelado"
   ]
  },
  {
   "cell_type": "markdown",
   "id": "9d92ede7-6a05-4958-889d-ea2b21d95bc4",
   "metadata": {},
   "source": [
    "### Importacion de librerias"
   ]
  },
  {
   "cell_type": "code",
   "execution_count": 3,
   "id": "30b65f35-621a-4752-8109-cb6e493bc0b4",
   "metadata": {},
   "outputs": [],
   "source": [
    "import pandas as pd\n",
    "import numpy as np"
   ]
  },
  {
   "cell_type": "code",
   "execution_count": 4,
   "id": "f2342514-77ae-4f9e-8f07-05e183fca242",
   "metadata": {},
   "outputs": [],
   "source": [
    "from sklearn.feature_extraction.text import TfidfVectorizer\n",
    "from sklearn.preprocessing import OneHotEncoder, OrdinalEncoder, StandardScaler\n",
    "from sklearn.impute import SimpleImputer\n",
    "from sklearn.compose import ColumnTransformer\n",
    "from sklearn.pipeline import Pipeline\n",
    "from sklearn.model_selection import train_test_split, GridSearchCV\n",
    "from sklearn.ensemble import RandomForestClassifier\n",
    "from sklearn.metrics import classification_report, confusion_matrix"
   ]
  },
  {
   "cell_type": "code",
   "execution_count": 5,
   "id": "6e399608-beec-4545-90c6-8579472fc1e3",
   "metadata": {},
   "outputs": [],
   "source": [
    "import xgboost as xgb\n",
    "import matplotlib.pyplot as plt\n",
    "import seaborn as sns"
   ]
  },
  {
   "cell_type": "markdown",
   "id": "eef43fa6-d0c5-4d8f-aa04-8e3b6ed7a0b0",
   "metadata": {},
   "source": [
    "### Carga de datos"
   ]
  },
  {
   "cell_type": "code",
   "execution_count": 7,
   "id": "cb55deeb-9911-4acf-95aa-05ec4986567c",
   "metadata": {},
   "outputs": [],
   "source": [
    "df = pd.read_csv(\"../data/processed/reclamos_descripcionesv2.csv\", low_memory=False)"
   ]
  },
  {
   "cell_type": "code",
   "execution_count": 8,
   "id": "2c17de38-e947-4b51-b54a-bde6bc5ba4d0",
   "metadata": {},
   "outputs": [
    {
     "data": {
      "text/html": [
       "<div>\n",
       "<style scoped>\n",
       "    .dataframe tbody tr th:only-of-type {\n",
       "        vertical-align: middle;\n",
       "    }\n",
       "\n",
       "    .dataframe tbody tr th {\n",
       "        vertical-align: top;\n",
       "    }\n",
       "\n",
       "    .dataframe thead th {\n",
       "        text-align: right;\n",
       "    }\n",
       "</style>\n",
       "<table border=\"1\" class=\"dataframe\">\n",
       "  <thead>\n",
       "    <tr style=\"text-align: right;\">\n",
       "      <th></th>\n",
       "      <th>ID_PERIODO</th>\n",
       "      <th>DE_TIPO_ADMINISTRADO</th>\n",
       "      <th>CO_ADMIN_DECLA</th>\n",
       "      <th>CO_UGIPRESS</th>\n",
       "      <th>DE_TIPO_INSTITUCION</th>\n",
       "      <th>CO_ADMIN_SUCE</th>\n",
       "      <th>DE_MEDIO_PRESENTACION</th>\n",
       "      <th>CO_UNICO_RECLAMO</th>\n",
       "      <th>DE_MEDIO_RECEPCION</th>\n",
       "      <th>FE_PRESEN_RECLA</th>\n",
       "      <th>...</th>\n",
       "      <th>DE_TIPO_ADMIN_DERIVA</th>\n",
       "      <th>CO_ADMIN_DERIVA</th>\n",
       "      <th>DE_RESULTADO</th>\n",
       "      <th>DE_MOTIVO_CONCL_ANTIC</th>\n",
       "      <th>FE_RESULT_RECL</th>\n",
       "      <th>DE_COMUN_RESULT</th>\n",
       "      <th>FE_NOTIFI_RESULT</th>\n",
       "      <th>AÑO</th>\n",
       "      <th>MES</th>\n",
       "      <th>DESCRIPCION</th>\n",
       "    </tr>\n",
       "  </thead>\n",
       "  <tbody>\n",
       "    <tr>\n",
       "      <th>0</th>\n",
       "      <td>202101</td>\n",
       "      <td>IAFAS</td>\n",
       "      <td>20007</td>\n",
       "      <td>20007</td>\n",
       "      <td>IAFAS</td>\n",
       "      <td>20007</td>\n",
       "      <td>Físico</td>\n",
       "      <td>20007-352</td>\n",
       "      <td>Libro de Reclamaciones Físico</td>\n",
       "      <td>2020-11-27</td>\n",
       "      <td>...</td>\n",
       "      <td>-</td>\n",
       "      <td>-</td>\n",
       "      <td>Infundado</td>\n",
       "      <td>-</td>\n",
       "      <td>2020-12-21</td>\n",
       "      <td>Correo electrónico</td>\n",
       "      <td>NaN</td>\n",
       "      <td>2020</td>\n",
       "      <td>11</td>\n",
       "      <td>-</td>\n",
       "    </tr>\n",
       "    <tr>\n",
       "      <th>1</th>\n",
       "      <td>202101</td>\n",
       "      <td>IAFAS</td>\n",
       "      <td>20007</td>\n",
       "      <td>20007</td>\n",
       "      <td>IAFAS</td>\n",
       "      <td>20007</td>\n",
       "      <td>Físico</td>\n",
       "      <td>20007-360</td>\n",
       "      <td>Libro de Reclamaciones Físico</td>\n",
       "      <td>2021-01-04</td>\n",
       "      <td>...</td>\n",
       "      <td>-</td>\n",
       "      <td>-</td>\n",
       "      <td>Infundado</td>\n",
       "      <td>-</td>\n",
       "      <td>2021-02-18</td>\n",
       "      <td>Correo electrónico</td>\n",
       "      <td>NaN</td>\n",
       "      <td>2021</td>\n",
       "      <td>1</td>\n",
       "      <td>Me cobraron por una vacuna que estaba incluida...</td>\n",
       "    </tr>\n",
       "    <tr>\n",
       "      <th>2</th>\n",
       "      <td>202101</td>\n",
       "      <td>IAFAS</td>\n",
       "      <td>20007</td>\n",
       "      <td>20007</td>\n",
       "      <td>IAFAS</td>\n",
       "      <td>20007</td>\n",
       "      <td>Físico</td>\n",
       "      <td>20007-361</td>\n",
       "      <td>Libro de Reclamaciones Físico</td>\n",
       "      <td>2021-01-06</td>\n",
       "      <td>...</td>\n",
       "      <td>-</td>\n",
       "      <td>-</td>\n",
       "      <td>Infundado</td>\n",
       "      <td>-</td>\n",
       "      <td>2021-01-20</td>\n",
       "      <td>Correo electrónico</td>\n",
       "      <td>20210122.0</td>\n",
       "      <td>2021</td>\n",
       "      <td>1</td>\n",
       "      <td>Las ambulancias de EsSalud no llegaron a tiemp...</td>\n",
       "    </tr>\n",
       "    <tr>\n",
       "      <th>3</th>\n",
       "      <td>202101</td>\n",
       "      <td>IAFAS</td>\n",
       "      <td>20007</td>\n",
       "      <td>20007</td>\n",
       "      <td>IAFAS</td>\n",
       "      <td>20007</td>\n",
       "      <td>Físico</td>\n",
       "      <td>20007-364</td>\n",
       "      <td>Libro de Reclamaciones Físico</td>\n",
       "      <td>2021-01-06</td>\n",
       "      <td>...</td>\n",
       "      <td>-</td>\n",
       "      <td>-</td>\n",
       "      <td>Infundado</td>\n",
       "      <td>-</td>\n",
       "      <td>2021-01-25</td>\n",
       "      <td>Correo electrónico</td>\n",
       "      <td>20210204.0</td>\n",
       "      <td>2021</td>\n",
       "      <td>1</td>\n",
       "      <td>La atención que brindan las IAFAS no ha sido d...</td>\n",
       "    </tr>\n",
       "    <tr>\n",
       "      <th>4</th>\n",
       "      <td>202101</td>\n",
       "      <td>IAFAS</td>\n",
       "      <td>20007</td>\n",
       "      <td>20007</td>\n",
       "      <td>IAFAS</td>\n",
       "      <td>20007</td>\n",
       "      <td>Físico</td>\n",
       "      <td>20007-365</td>\n",
       "      <td>Libro de Reclamaciones Físico</td>\n",
       "      <td>2021-01-08</td>\n",
       "      <td>...</td>\n",
       "      <td>-</td>\n",
       "      <td>-</td>\n",
       "      <td>Pendiente</td>\n",
       "      <td>-</td>\n",
       "      <td>NaN</td>\n",
       "      <td>-</td>\n",
       "      <td>NaN</td>\n",
       "      <td>2021</td>\n",
       "      <td>1</td>\n",
       "      <td>He tenido problemas para acceder a mis servici...</td>\n",
       "    </tr>\n",
       "  </tbody>\n",
       "</table>\n",
       "<p>5 rows × 28 columns</p>\n",
       "</div>"
      ],
      "text/plain": [
       "   ID_PERIODO DE_TIPO_ADMINISTRADO  CO_ADMIN_DECLA  CO_UGIPRESS  \\\n",
       "0      202101                IAFAS           20007        20007   \n",
       "1      202101                IAFAS           20007        20007   \n",
       "2      202101                IAFAS           20007        20007   \n",
       "3      202101                IAFAS           20007        20007   \n",
       "4      202101                IAFAS           20007        20007   \n",
       "\n",
       "  DE_TIPO_INSTITUCION  CO_ADMIN_SUCE DE_MEDIO_PRESENTACION CO_UNICO_RECLAMO  \\\n",
       "0               IAFAS          20007                Físico        20007-352   \n",
       "1               IAFAS          20007                Físico        20007-360   \n",
       "2               IAFAS          20007                Físico        20007-361   \n",
       "3               IAFAS          20007                Físico        20007-364   \n",
       "4               IAFAS          20007                Físico        20007-365   \n",
       "\n",
       "              DE_MEDIO_RECEPCION FE_PRESEN_RECLA  ... DE_TIPO_ADMIN_DERIVA  \\\n",
       "0  Libro de Reclamaciones Físico      2020-11-27  ...                    -   \n",
       "1  Libro de Reclamaciones Físico      2021-01-04  ...                    -   \n",
       "2  Libro de Reclamaciones Físico      2021-01-06  ...                    -   \n",
       "3  Libro de Reclamaciones Físico      2021-01-06  ...                    -   \n",
       "4  Libro de Reclamaciones Físico      2021-01-08  ...                    -   \n",
       "\n",
       "  CO_ADMIN_DERIVA DE_RESULTADO DE_MOTIVO_CONCL_ANTIC FE_RESULT_RECL  \\\n",
       "0               -    Infundado                     -     2020-12-21   \n",
       "1               -    Infundado                     -     2021-02-18   \n",
       "2               -    Infundado                     -     2021-01-20   \n",
       "3               -    Infundado                     -     2021-01-25   \n",
       "4               -    Pendiente                     -            NaN   \n",
       "\n",
       "      DE_COMUN_RESULT FE_NOTIFI_RESULT   AÑO MES  \\\n",
       "0  Correo electrónico              NaN  2020  11   \n",
       "1  Correo electrónico              NaN  2021   1   \n",
       "2  Correo electrónico       20210122.0  2021   1   \n",
       "3  Correo electrónico       20210204.0  2021   1   \n",
       "4                   -              NaN  2021   1   \n",
       "\n",
       "                                         DESCRIPCION  \n",
       "0                                                  -  \n",
       "1  Me cobraron por una vacuna que estaba incluida...  \n",
       "2  Las ambulancias de EsSalud no llegaron a tiemp...  \n",
       "3  La atención que brindan las IAFAS no ha sido d...  \n",
       "4  He tenido problemas para acceder a mis servici...  \n",
       "\n",
       "[5 rows x 28 columns]"
      ]
     },
     "execution_count": 8,
     "metadata": {},
     "output_type": "execute_result"
    }
   ],
   "source": [
    "df.head()"
   ]
  },
  {
   "cell_type": "markdown",
   "id": "be38d732-1936-4bf3-b7d9-316be615f8b7",
   "metadata": {},
   "source": [
    "### Limpiar y validar el dataset"
   ]
  },
  {
   "cell_type": "code",
   "execution_count": 10,
   "id": "e4eece1d-7579-48bf-927a-dd3ef939b3e1",
   "metadata": {},
   "outputs": [
    {
     "name": "stdout",
     "output_type": "stream",
     "text": [
      "Dimensiones del dataset: (162639, 28)\n",
      "\n",
      "Columnas disponibles:\n",
      "['ID_PERIODO', 'DE_TIPO_ADMINISTRADO', 'CO_ADMIN_DECLA', 'CO_UGIPRESS', 'DE_TIPO_INSTITUCION', 'CO_ADMIN_SUCE', 'DE_MEDIO_PRESENTACION', 'CO_UNICO_RECLAMO', 'DE_MEDIO_RECEPCION', 'FE_PRESEN_RECLA', 'DE_SERVICIO', 'DE_COMPETENCIA', 'DE_CLASIF_1', 'DE_CLASIF_2', 'DE_CLASIF_3', 'DE_ESTADO_RECLAMO', 'CO_RECLAMO_PRIMIG', 'DE_ETAPA_RECLAMO', 'DE_TIPO_ADMIN_DERIVA', 'CO_ADMIN_DERIVA', 'DE_RESULTADO', 'DE_MOTIVO_CONCL_ANTIC', 'FE_RESULT_RECL', 'DE_COMUN_RESULT', 'FE_NOTIFI_RESULT', 'AÑO', 'MES', 'DESCRIPCION']\n",
      "\n",
      "Información de tipos de datos:\n",
      "<class 'pandas.core.frame.DataFrame'>\n",
      "RangeIndex: 162639 entries, 0 to 162638\n",
      "Data columns (total 28 columns):\n",
      " #   Column                 Non-Null Count   Dtype \n",
      "---  ------                 --------------   ----- \n",
      " 0   ID_PERIODO             162639 non-null  int64 \n",
      " 1   DE_TIPO_ADMINISTRADO   162639 non-null  object\n",
      " 2   CO_ADMIN_DECLA         162639 non-null  int64 \n",
      " 3   CO_UGIPRESS            162639 non-null  int64 \n",
      " 4   DE_TIPO_INSTITUCION    162639 non-null  object\n",
      " 5   CO_ADMIN_SUCE          162639 non-null  int64 \n",
      " 6   DE_MEDIO_PRESENTACION  162639 non-null  object\n",
      " 7   CO_UNICO_RECLAMO       162639 non-null  object\n",
      " 8   DE_MEDIO_RECEPCION     162639 non-null  object\n",
      " 9   FE_PRESEN_RECLA        162639 non-null  object\n",
      " 10  DE_SERVICIO            162639 non-null  object\n",
      " 11  DE_COMPETENCIA         162639 non-null  object\n",
      " 12  DE_CLASIF_1            162639 non-null  object\n",
      " 13  DE_CLASIF_2            162639 non-null  object\n",
      " 14  DE_CLASIF_3            162639 non-null  object\n",
      " 15  DE_ESTADO_RECLAMO      162639 non-null  object\n",
      " 16  CO_RECLAMO_PRIMIG      162639 non-null  object\n",
      " 17  DE_ETAPA_RECLAMO       162639 non-null  object\n",
      " 18  DE_TIPO_ADMIN_DERIVA   162639 non-null  object\n",
      " 19  CO_ADMIN_DERIVA        162639 non-null  object\n",
      " 20  DE_RESULTADO           162639 non-null  object\n",
      " 21  DE_MOTIVO_CONCL_ANTIC  162639 non-null  object\n",
      " 22  FE_RESULT_RECL         65217 non-null   object\n",
      " 23  DE_COMUN_RESULT        162639 non-null  object\n",
      " 24  FE_NOTIFI_RESULT       57899 non-null   object\n",
      " 25  AÑO                    162639 non-null  int64 \n",
      " 26  MES                    162639 non-null  int64 \n",
      " 27  DESCRIPCION            162639 non-null  object\n",
      "dtypes: int64(6), object(22)\n",
      "memory usage: 34.7+ MB\n",
      "None\n",
      "\n",
      "Estadísticas descriptivas:\n",
      "          ID_PERIODO  CO_ADMIN_DECLA    CO_UGIPRESS  CO_ADMIN_SUCE  \\\n",
      "count  162639.000000   162639.000000  162639.000000   1.626390e+05   \n",
      "mean   202259.912702    13605.485917   13605.485917   8.740303e+04   \n",
      "std        96.781974     4820.730579    4820.730579   8.550039e+05   \n",
      "min    202101.000000    10001.000000   10001.000000   1.000000e+00   \n",
      "25%    202204.000000    10001.000000   10001.000000   1.000100e+04   \n",
      "50%    202301.000000    10002.000000   10002.000000   1.000200e+04   \n",
      "75%    202310.000000    20004.000000   20004.000000   2.000500e+04   \n",
      "max    202406.000000    50025.000000   50025.000000   1.000014e+07   \n",
      "\n",
      "                 AÑO            MES  \n",
      "count  162639.000000  162639.000000  \n",
      "mean     2022.058061       6.330173  \n",
      "std         1.005160       3.476604  \n",
      "min      2011.000000       1.000000  \n",
      "25%      2021.000000       3.000000  \n",
      "50%      2022.000000       6.000000  \n",
      "75%      2023.000000       9.000000  \n",
      "max      2024.000000      12.000000  \n",
      "\n",
      "Valores faltantes por columna:\n",
      "ID_PERIODO                    0\n",
      "DE_TIPO_ADMINISTRADO          0\n",
      "CO_ADMIN_DECLA                0\n",
      "CO_UGIPRESS                   0\n",
      "DE_TIPO_INSTITUCION           0\n",
      "CO_ADMIN_SUCE                 0\n",
      "DE_MEDIO_PRESENTACION         0\n",
      "CO_UNICO_RECLAMO              0\n",
      "DE_MEDIO_RECEPCION            0\n",
      "FE_PRESEN_RECLA               0\n",
      "DE_SERVICIO                   0\n",
      "DE_COMPETENCIA                0\n",
      "DE_CLASIF_1                   0\n",
      "DE_CLASIF_2                   0\n",
      "DE_CLASIF_3                   0\n",
      "DE_ESTADO_RECLAMO             0\n",
      "CO_RECLAMO_PRIMIG             0\n",
      "DE_ETAPA_RECLAMO              0\n",
      "DE_TIPO_ADMIN_DERIVA          0\n",
      "CO_ADMIN_DERIVA               0\n",
      "DE_RESULTADO                  0\n",
      "DE_MOTIVO_CONCL_ANTIC         0\n",
      "FE_RESULT_RECL            97422\n",
      "DE_COMUN_RESULT               0\n",
      "FE_NOTIFI_RESULT         104740\n",
      "AÑO                           0\n",
      "MES                           0\n",
      "DESCRIPCION                   0\n",
      "dtype: int64\n",
      "\n",
      "Distribución de la variable objetivo:\n",
      "DE_CLASIF_1\n",
      "-                                                                                   0.389015\n",
      "Otros relativos a las IAFAS                                                         0.271091\n",
      "Negar la acreditación de usuario asegurado.                                         0.065206\n",
      "Cobrar indebidamente                                                                0.065138\n",
      "Negar  o demora en otorgar la cobertura en salud                                    0.055971\n",
      "No permitir al usuario la libre elección de IPRESS de acuerdo a lo contratado       0.051703\n",
      "No brindar información sobre sus derechos en salud                                  0.036805\n",
      "Demorar la gestión de la carta de garantía y/o reembolsos.                          0.032428\n",
      "Negar o demorar en la atención en la IAFAS                                          0.012469\n",
      "Negar atención para el trámite de registro o acreditación                           0.005810\n",
      "No brindar atención con respeto de parte del personal de la IAFAS                   0.003806\n",
      "Negar la cobertura en periodo de latencia                                           0.003517\n",
      "No cumplir con las disposiciones de la PAUS de acuerdo a la normatividad vigente    0.003019\n",
      "Negar la afiliación del usuario                                                     0.001869\n",
      "Negar el otorgamiento de prestaciones económicas o sociales                         0.001463\n",
      "Negar la cobertura de emergencia en periodo de carencia                             0.000289\n",
      "No cumplir con la disposición de libro de reclamaciones en salud                    0.000283\n",
      "No brindar atención según la ley de atención preferencial y de discapacidad         0.000117\n",
      "Name: proportion, dtype: float64\n",
      "\n",
      "Filas duplicadas: 0\n"
     ]
    }
   ],
   "source": [
    "print(f\"Dimensiones del dataset: {df.shape}\")\n",
    "print(\"\\nColumnas disponibles:\")\n",
    "print(df.columns.tolist())\n",
    "print(\"\\nInformación de tipos de datos:\")\n",
    "print(df.info())\n",
    "print(\"\\nEstadísticas descriptivas:\")\n",
    "print(df.describe())\n",
    "print(\"\\nValores faltantes por columna:\")\n",
    "print(df.isnull().sum())\n",
    "print(\"\\nDistribución de la variable objetivo:\")\n",
    "print(df['DE_CLASIF_1'].value_counts(normalize=True))\n",
    "\n",
    "# Verificar duplicados\n",
    "duplicados = df.duplicated().sum()\n",
    "print(f\"\\nFilas duplicadas: {duplicados}\")"
   ]
  },
  {
   "cell_type": "code",
   "execution_count": 11,
   "id": "40c7303e-1afe-48d7-8d57-fbf4b63eaf2f",
   "metadata": {},
   "outputs": [],
   "source": [
    "df_clean = df.copy()"
   ]
  },
  {
   "cell_type": "code",
   "execution_count": 12,
   "id": "f4f4a8d2-cbfb-4f25-a6e2-27667743802b",
   "metadata": {},
   "outputs": [
    {
     "name": "stdout",
     "output_type": "stream",
     "text": [
      "Valores nulos en DESCRIPCION: 0\n"
     ]
    }
   ],
   "source": [
    "print(f\"Valores nulos en DESCRIPCION: {df_clean['DESCRIPCION'].isnull().sum()}\")"
   ]
  },
  {
   "cell_type": "code",
   "execution_count": 13,
   "id": "6b4bd0b8-9fd2-42b0-83e7-49ca7bf51553",
   "metadata": {},
   "outputs": [
    {
     "name": "stdout",
     "output_type": "stream",
     "text": [
      "Valores con '-' en DESCRIPCION: 35200\n"
     ]
    }
   ],
   "source": [
    "print(f\"Valores con '-' en DESCRIPCION: {(df_clean['DESCRIPCION'] == '-').sum()}\")"
   ]
  },
  {
   "cell_type": "code",
   "execution_count": 14,
   "id": "22d41d62-4302-451a-a20b-64331027a170",
   "metadata": {},
   "outputs": [],
   "source": [
    "# Rellenar valores faltantes en DESCRIPCION con un valor por defecto\n",
    "df_clean['DESCRIPCION'] = df_clean['DESCRIPCION'].fillna(\"Sin descripción\")"
   ]
  },
  {
   "cell_type": "code",
   "execution_count": 15,
   "id": "c33c977f-7104-4a85-966f-b581342bf7e4",
   "metadata": {},
   "outputs": [],
   "source": [
    "df_clean['DESCRIPCION'] = df_clean['DESCRIPCION'].replace('-', np.nan).fillna(\"Sin descripción\")"
   ]
  },
  {
   "cell_type": "code",
   "execution_count": null,
   "id": "d161498f-a3b2-4b14-a1f1-77db175652a2",
   "metadata": {},
   "outputs": [],
   "source": [
    "n_duplicados = df_clean.duplicated().sum()\n",
    "if n_duplicados > 0:\n",
    "    print(f\"Eliminando {n_duplicados} filas duplicadas\")\n",
    "    df_clean = df_clean.drop_duplicates()"
   ]
  },
  {
   "cell_type": "markdown",
   "id": "adb9ee4e-1059-49d1-ac6a-57a274ce75d8",
   "metadata": {},
   "source": [
    "### Eliminar columnas que no debemos usar (data leakage)"
   ]
  },
  {
   "cell_type": "code",
   "execution_count": 18,
   "id": "c5f4bac6-2195-490b-88c6-b8bc7e3e7be3",
   "metadata": {},
   "outputs": [],
   "source": [
    "columnas_data_leakage = [\n",
    "    'DE_CLASIF_2', 'DE_CLASIF_3',\n",
    "    'DE_ESTADO_RECLAMO',\n",
    "    'CO_RECLAMO_PRIMIG',\n",
    "    'DE_ETAPA_RECLAMO',\n",
    "    'DE_TIPO_ADMIN_DERIVA',\n",
    "    'CO_ADMIN_DERIVA',\n",
    "    'DE_RESULTADO',\n",
    "    'DE_MOTIVO_CONCL_ANTIC',\n",
    "    'FE_RESULT_RECL',\n",
    "    'DE_COMUN_RESULT',\n",
    "    'FE_NOTIFI_RESULT',\n",
    "    'DE_TIPO_ADMINISTRADO'\n",
    "]"
   ]
  },
  {
   "cell_type": "code",
   "execution_count": 19,
   "id": "47ea08b3-9530-48be-81d3-670f8583c951",
   "metadata": {},
   "outputs": [],
   "source": [
    "# Verificar cuáles de estas columnas existen en el dataset\n",
    "columnas_existentes = [col for col in columnas_data_leakage if col in df.columns]"
   ]
  },
  {
   "cell_type": "code",
   "execution_count": 20,
   "id": "bbba18ab-cf93-4d8e-91ad-422efe1c8869",
   "metadata": {},
   "outputs": [
    {
     "name": "stdout",
     "output_type": "stream",
     "text": [
      "Eliminando columnas por data leakage: ['DE_CLASIF_2', 'DE_CLASIF_3', 'DE_ESTADO_RECLAMO', 'CO_RECLAMO_PRIMIG', 'DE_ETAPA_RECLAMO', 'DE_TIPO_ADMIN_DERIVA', 'CO_ADMIN_DERIVA', 'DE_RESULTADO', 'DE_MOTIVO_CONCL_ANTIC', 'FE_RESULT_RECL', 'DE_COMUN_RESULT', 'FE_NOTIFI_RESULT', 'DE_TIPO_ADMINISTRADO']\n"
     ]
    }
   ],
   "source": [
    "if columnas_existentes:\n",
    "    print(f\"Eliminando columnas por data leakage: {columnas_existentes}\")\n",
    "    df_clean = df_clean.drop(columns=columnas_existentes)"
   ]
  },
  {
   "cell_type": "markdown",
   "id": "53b485a4-e092-45ae-83e7-7a0db7f22bf0",
   "metadata": {},
   "source": [
    "### Procesar variables temporales"
   ]
  },
  {
   "cell_type": "code",
   "execution_count": 22,
   "id": "7802b7b1-55ac-40fa-87a8-8951075c189c",
   "metadata": {},
   "outputs": [
    {
     "data": {
      "text/plain": [
       "0         2020-11-27\n",
       "1         2021-01-04\n",
       "2         2021-01-06\n",
       "3         2021-01-06\n",
       "4         2021-01-08\n",
       "             ...    \n",
       "162634    2024-06-29\n",
       "162635    2024-06-14\n",
       "162636    2024-06-17\n",
       "162637    2024-06-14\n",
       "162638    2024-06-17\n",
       "Name: FE_PRESEN_RECLA, Length: 162639, dtype: object"
      ]
     },
     "execution_count": 22,
     "metadata": {},
     "output_type": "execute_result"
    }
   ],
   "source": [
    "df_clean['FE_PRESEN_RECLA']"
   ]
  },
  {
   "cell_type": "code",
   "execution_count": 23,
   "id": "8e7bd49d-dc9a-48ba-9e70-81d71d18cbe7",
   "metadata": {},
   "outputs": [
    {
     "data": {
      "text/plain": [
       "dtype('O')"
      ]
     },
     "execution_count": 23,
     "metadata": {},
     "output_type": "execute_result"
    }
   ],
   "source": [
    "df_clean['FE_PRESEN_RECLA'].dtype"
   ]
  },
  {
   "cell_type": "code",
   "execution_count": 24,
   "id": "c86e1b8c-2a78-4b19-ad5a-3879c5eb70a8",
   "metadata": {},
   "outputs": [],
   "source": [
    "if 'FE_PRESEN_RECLA' in df_clean.columns:\n",
    "    df_clean['FE_PRESEN_RECLA'] = pd.to_datetime(df_clean['FE_PRESEN_RECLA'], format='%Y-%m-%d', errors='coerce')\n",
    "    df_clean['MES'] = df_clean['FE_PRESEN_RECLA'].dt.month\n",
    "    df_clean['DIA_SEMANA'] = df_clean['FE_PRESEN_RECLA'].dt.dayofweek\n",
    "    df_clean['AÑO'] = df_clean['FE_PRESEN_RECLA'].dt.year\n",
    "    df_clean['DIA_MES'] = df_clean['FE_PRESEN_RECLA'].dt.day\n",
    "    registros_invalidos = df_clean['FE_PRESEN_RECLA'].isnull().sum()\n",
    "    if registros_invalidos > 0:\n",
    "        print(f\"Se encontraron {registros_invalidos} registros con fechas inválidas\")"
   ]
  },
  {
   "cell_type": "code",
   "execution_count": 25,
   "id": "e915d8e6-613d-432c-9ec6-be0b592c6641",
   "metadata": {},
   "outputs": [
    {
     "data": {
      "text/plain": [
       "0        2020-11-27\n",
       "1        2021-01-04\n",
       "2        2021-01-06\n",
       "3        2021-01-06\n",
       "4        2021-01-08\n",
       "            ...    \n",
       "162634   2024-06-29\n",
       "162635   2024-06-14\n",
       "162636   2024-06-17\n",
       "162637   2024-06-14\n",
       "162638   2024-06-17\n",
       "Name: FE_PRESEN_RECLA, Length: 162639, dtype: datetime64[ns]"
      ]
     },
     "execution_count": 25,
     "metadata": {},
     "output_type": "execute_result"
    }
   ],
   "source": [
    "df_clean['FE_PRESEN_RECLA']"
   ]
  },
  {
   "cell_type": "code",
   "execution_count": 26,
   "id": "5acaf02a-e380-4341-b5f6-b0a4a7d57b95",
   "metadata": {},
   "outputs": [],
   "source": [
    "if 'ID_PERIODO' in df_clean.columns and df_clean['ID_PERIODO'].dtype == 'object':\n",
    "    try:\n",
    "        df_clean['PERIODO_AÑO'] = df_clean['ID_PERIODO'].str[:4].astype(int)\n",
    "        df_clean['PERIODO_MES'] = df_clean['ID_PERIODO'].str[4:6].astype(int)\n",
    "    except:\n",
    "        print(\"Error al procesar ID_PERIODO\")"
   ]
  },
  {
   "cell_type": "code",
   "execution_count": 27,
   "id": "cbed0135-c0d8-4ff4-84b1-9c285bdfeb13",
   "metadata": {},
   "outputs": [
    {
     "name": "stdout",
     "output_type": "stream",
     "text": [
      "\n",
      "Distribución de clases en DE_CLASIF_1:\n",
      "DE_CLASIF_1\n",
      "-                                                                                   0.389015\n",
      "Otros relativos a las IAFAS                                                         0.271091\n",
      "Negar la acreditación de usuario asegurado.                                         0.065206\n",
      "Cobrar indebidamente                                                                0.065138\n",
      "Negar  o demora en otorgar la cobertura en salud                                    0.055971\n",
      "No permitir al usuario la libre elección de IPRESS de acuerdo a lo contratado       0.051703\n",
      "No brindar información sobre sus derechos en salud                                  0.036805\n",
      "Demorar la gestión de la carta de garantía y/o reembolsos.                          0.032428\n",
      "Negar o demorar en la atención en la IAFAS                                          0.012469\n",
      "Negar atención para el trámite de registro o acreditación                           0.005810\n",
      "No brindar atención con respeto de parte del personal de la IAFAS                   0.003806\n",
      "Negar la cobertura en periodo de latencia                                           0.003517\n",
      "No cumplir con las disposiciones de la PAUS de acuerdo a la normatividad vigente    0.003019\n",
      "Negar la afiliación del usuario                                                     0.001869\n",
      "Negar el otorgamiento de prestaciones económicas o sociales                         0.001463\n",
      "Negar la cobertura de emergencia en periodo de carencia                             0.000289\n",
      "No cumplir con la disposición de libro de reclamaciones en salud                    0.000283\n",
      "No brindar atención según la ley de atención preferencial y de discapacidad         0.000117\n",
      "Name: proportion, dtype: float64\n"
     ]
    }
   ],
   "source": [
    "print(\"\\nDistribución de clases en DE_CLASIF_1:\")\n",
    "print(df_clean['DE_CLASIF_1'].value_counts(normalize=True))"
   ]
  },
  {
   "cell_type": "code",
   "execution_count": 28,
   "id": "51694843-2599-46bf-990d-7338fbc74756",
   "metadata": {},
   "outputs": [],
   "source": [
    "X = df_clean.drop(columns=['DE_CLASIF_1'])\n",
    "y = df_clean['DE_CLASIF_1']"
   ]
  },
  {
   "cell_type": "code",
   "execution_count": null,
   "id": "cbf84e3c-87d3-443b-af17-e9e3bc59b060",
   "metadata": {},
   "outputs": [],
   "source": [
    "X_train, X_test, y_train, y_test =  (X, y, test_size=0.2, stratify=y, random_state=42)"
   ]
  },
  {
   "cell_type": "code",
   "execution_count": 76,
   "id": "71a71b79-3272-4371-baf9-f30f9dc790d0",
   "metadata": {},
   "outputs": [
    {
     "name": "stdout",
     "output_type": "stream",
     "text": [
      "Tamaño entrenamiento: (130111, 16)\n",
      "Tamaño prueba: (32528, 16)\n"
     ]
    }
   ],
   "source": [
    "print(f\"Tamaño entrenamiento: {X_train.shape}\")\n",
    "print(f\"Tamaño prueba: {X_test.shape}\")"
   ]
  },
  {
   "cell_type": "code",
   "execution_count": 31,
   "id": "04fda00d-6283-4df2-a173-536217b8281c",
   "metadata": {},
   "outputs": [],
   "source": [
    "cat_bajo_cardinal = ['DE_TIPO_ADMINISTRADO', 'DE_TIPO_INSTITUCION', \n",
    "                     'DE_MEDIO_PRESENTACION', 'DE_MEDIO_RECEPCION',\n",
    "                     'DE_SERVICIO', 'DE_COMPETENCIA']\n",
    "cat_alto_cardinal = ['CO_ADMIN_DECLA', 'CO_ADMIN_SUCE', 'CO_UGIPRESS']\n",
    "numericas = ['MES', 'DIA_SEMANA', 'AÑO', 'DIA_MES', 'PERIODO_AÑO', 'PERIODO_MES']"
   ]
  },
  {
   "cell_type": "code",
   "execution_count": 32,
   "id": "68f209de-5b04-4612-876c-72735718c1e8",
   "metadata": {},
   "outputs": [],
   "source": [
    "cat_bajo_cardinal = [col for col in cat_bajo_cardinal if col in X_train.columns]\n",
    "cat_alto_cardinal = [col for col in cat_alto_cardinal if col in X_train.columns]\n",
    "numericas = [col for col in numericas if col in X_train.columns]"
   ]
  },
  {
   "cell_type": "code",
   "execution_count": 33,
   "id": "b8a09314-60b3-4265-99cf-e6326e87f391",
   "metadata": {},
   "outputs": [],
   "source": [
    "import nltk"
   ]
  },
  {
   "cell_type": "code",
   "execution_count": 34,
   "id": "08dd6e02-818f-4e4f-9559-84a1cf3b5496",
   "metadata": {},
   "outputs": [
    {
     "name": "stderr",
     "output_type": "stream",
     "text": [
      "[nltk_data] Downloading package stopwords to\n",
      "[nltk_data]     C:\\Users\\harol\\AppData\\Roaming\\nltk_data...\n",
      "[nltk_data]   Package stopwords is already up-to-date!\n"
     ]
    },
    {
     "data": {
      "text/plain": [
       "True"
      ]
     },
     "execution_count": 34,
     "metadata": {},
     "output_type": "execute_result"
    }
   ],
   "source": [
    "nltk.download('stopwords')"
   ]
  },
  {
   "cell_type": "code",
   "execution_count": 35,
   "id": "785b41bb-6b78-4f22-913f-ea0283b397e6",
   "metadata": {},
   "outputs": [],
   "source": [
    "from nltk.corpus import stopwords"
   ]
  },
  {
   "cell_type": "code",
   "execution_count": 36,
   "id": "ac4addd7-01ca-4c6a-9bc3-12658edcc2b4",
   "metadata": {},
   "outputs": [],
   "source": [
    "stop_words_spanish = stopwords.words('spanish')"
   ]
  },
  {
   "cell_type": "code",
   "execution_count": 37,
   "id": "9161c34e-06f7-4002-9132-f13a6120e4b5",
   "metadata": {},
   "outputs": [],
   "source": [
    "# Asegurarte de que las columnas categóricas de baja y alta cardinalidad sean tipo texto\n",
    "for col in cat_bajo_cardinal:\n",
    "    if df[col].dtype != 'object':\n",
    "        print(f\"⚠️  {col} no es tipo object. Convertir a string.\")\n",
    "        df[col] = df[col].astype(str)"
   ]
  },
  {
   "cell_type": "code",
   "execution_count": 38,
   "id": "9d571527-5c4e-498b-a71a-a77d078da80c",
   "metadata": {},
   "outputs": [
    {
     "name": "stdout",
     "output_type": "stream",
     "text": [
      "⚠️  CO_ADMIN_DECLA no es tipo object. Convertir a string.\n",
      "⚠️  CO_ADMIN_SUCE no es tipo object. Convertir a string.\n",
      "⚠️  CO_UGIPRESS no es tipo object. Convertir a string.\n"
     ]
    }
   ],
   "source": [
    "for col in cat_alto_cardinal:\n",
    "    if df[col].dtype != 'object':\n",
    "        print(f\"⚠️  {col} no es tipo object. Convertir a string.\")\n",
    "        df[col] = df[col].astype(str)"
   ]
  },
  {
   "cell_type": "code",
   "execution_count": 39,
   "id": "bfd9d61e-fd97-49e3-b792-61a4f13ac286",
   "metadata": {},
   "outputs": [],
   "source": [
    "# Forzar a tipo string las columnas categóricas que no son 'object'\n",
    "for col in cat_bajo_cardinal + cat_alto_cardinal:\n",
    "    if df[col].dtype != 'object':\n",
    "        df[col] = df[col].astype(str)\n"
   ]
  },
  {
   "cell_type": "code",
   "execution_count": 40,
   "id": "d05651c3-6f2d-46bc-8845-c51a80000285",
   "metadata": {},
   "outputs": [
    {
     "name": "stdout",
     "output_type": "stream",
     "text": [
      "DE_TIPO_INSTITUCION      object\n",
      "DE_MEDIO_PRESENTACION    object\n",
      "DE_MEDIO_RECEPCION       object\n",
      "DE_SERVICIO              object\n",
      "DE_COMPETENCIA           object\n",
      "CO_ADMIN_DECLA            int64\n",
      "CO_ADMIN_SUCE             int64\n",
      "CO_UGIPRESS               int64\n",
      "dtype: object\n"
     ]
    }
   ],
   "source": [
    "print(X_train[cat_bajo_cardinal + cat_alto_cardinal].dtypes)\n"
   ]
  },
  {
   "cell_type": "code",
   "execution_count": 41,
   "id": "23cb2a49-f149-4a83-ac51-e9741f623a34",
   "metadata": {},
   "outputs": [],
   "source": [
    "for col in cat_bajo_cardinal + cat_alto_cardinal:\n",
    "    X_train[col] = X_train[col].astype(str)\n",
    "    X_test[col] = X_test[col].astype(str)\n"
   ]
  },
  {
   "cell_type": "code",
   "execution_count": 42,
   "id": "536f0399-66ac-495b-a5cd-f04d58718a1c",
   "metadata": {},
   "outputs": [],
   "source": [
    "transformadores = []"
   ]
  },
  {
   "cell_type": "code",
   "execution_count": 43,
   "id": "762dd884-259b-4824-bdb3-7151e4f6e72d",
   "metadata": {},
   "outputs": [],
   "source": [
    "if 'DESCRIPCION' in X_train.columns:\n",
    "    transformadores.append(('text', TfidfVectorizer(stop_words=stop_words_spanish, max_features=3000, ngram_range=(1,2), min_df=5), 'DESCRIPCION'))"
   ]
  },
  {
   "cell_type": "code",
   "execution_count": 44,
   "id": "3591b329-dd7b-4d40-8e74-4e8d44591f0c",
   "metadata": {},
   "outputs": [],
   "source": [
    "if cat_bajo_cardinal:\n",
    "    transformadores.append(('cat_low', Pipeline([\n",
    "        ('imputer', SimpleImputer(strategy='constant', fill_value='missing')),\n",
    "        ('onehot', OneHotEncoder(handle_unknown='ignore', sparse_output=False))\n",
    "    ]), cat_bajo_cardinal))"
   ]
  },
  {
   "cell_type": "code",
   "execution_count": 45,
   "id": "2a767b33-2820-454b-9b0a-496955d9ef98",
   "metadata": {},
   "outputs": [],
   "source": [
    "if cat_alto_cardinal:\n",
    "    transformadores.append(('cat_high', Pipeline([\n",
    "        ('imputer', SimpleImputer(strategy='constant', fill_value='missing')),\n",
    "        ('ordinal', OrdinalEncoder(handle_unknown='use_encoded_value', unknown_value=-1))\n",
    "    ]), cat_alto_cardinal))"
   ]
  },
  {
   "cell_type": "code",
   "execution_count": 46,
   "id": "c3763718-76d7-4a91-8170-0c550daee25e",
   "metadata": {},
   "outputs": [],
   "source": [
    "if numericas:\n",
    "    transformadores.append(('num', Pipeline([\n",
    "        ('imputer', SimpleImputer(strategy='median'))\n",
    "    ]), numericas))"
   ]
  },
  {
   "cell_type": "code",
   "execution_count": 47,
   "id": "0468d0e5-2365-45d0-8b6f-e9a68a879455",
   "metadata": {},
   "outputs": [],
   "source": [
    "preprocessor = ColumnTransformer(transformers=transformadores, remainder='drop')"
   ]
  },
  {
   "cell_type": "code",
   "execution_count": 48,
   "id": "5056df61-07d1-4f69-a161-92609f755d8a",
   "metadata": {},
   "outputs": [],
   "source": [
    "from sklearn.pipeline import Pipeline\n",
    "from xgboost import XGBClassifier\n"
   ]
  },
  {
   "cell_type": "code",
   "execution_count": 52,
   "id": "cfed46ad-bfd2-4d11-a9b9-f3481a599165",
   "metadata": {},
   "outputs": [],
   "source": [
    "# Xgboost\n",
    "from sklearn.preprocessing import LabelEncoder\n",
    "\n",
    "# Codificar las etiquetas (y)\n",
    "label_encoder = LabelEncoder()\n",
    "y_train_encoded = label_encoder.fit_transform(y_train)\n",
    "y_test_encoded = label_encoder.transform(y_test)"
   ]
  },
  {
   "cell_type": "code",
   "execution_count": 54,
   "id": "38de9df2-8ad2-432b-b360-17d4378c5990",
   "metadata": {},
   "outputs": [],
   "source": [
    "# Xgboost\n",
    "pipeline = Pipeline(steps=[\n",
    "    ('preprocessor', preprocessor),\n",
    "    ('classifier', XGBClassifier(\n",
    "        objective='multi:softprob',  # útil para clasificación multiclase\n",
    "        eval_metric='mlogloss',      # buena métrica para esto\n",
    "        use_label_encoder=False,\n",
    "        random_state=42,\n",
    "        n_jobs=-1\n",
    "    ))\n",
    "])"
   ]
  },
  {
   "cell_type": "code",
   "execution_count": 50,
   "id": "6cb2647f-db00-4681-a83b-b631cf94df7c",
   "metadata": {},
   "outputs": [],
   "source": [
    "# pipeline = Pipeline([\n",
    "#     ('preprocessor', preprocessor),\n",
    "#     ('classifier', RandomForestClassifier(\n",
    "#         n_estimators=100,\n",
    "#         class_weight='balanced',\n",
    "#         random_state=42\n",
    "#     ))\n",
    "# ])"
   ]
  },
  {
   "cell_type": "code",
   "execution_count": 56,
   "id": "e4d1b92d-5ec6-427b-ac9b-b2b6049dc29e",
   "metadata": {},
   "outputs": [
    {
     "name": "stdout",
     "output_type": "stream",
     "text": [
      "Entrenando modelo...\n"
     ]
    },
    {
     "name": "stderr",
     "output_type": "stream",
     "text": [
      "C:\\Users\\harol\\anaconda3\\Lib\\site-packages\\xgboost\\core.py:158: UserWarning: [15:04:24] WARNING: C:\\buildkite-agent\\builds\\buildkite-windows-cpu-autoscaling-group-i-08cbc0333d8d4aae1-1\\xgboost\\xgboost-ci-windows\\src\\learner.cc:740: \n",
      "Parameters: { \"use_label_encoder\" } are not used.\n",
      "\n",
      "  warnings.warn(smsg, UserWarning)\n"
     ]
    },
    {
     "name": "stdout",
     "output_type": "stream",
     "text": [
      "Modelo entrenado.\n"
     ]
    }
   ],
   "source": [
    "print(\"Entrenando modelo...\")\n",
    "pipeline.fit(X_train, y_train_encoded)\n",
    "print(\"Modelo entrenado.\")"
   ]
  },
  {
   "cell_type": "code",
   "execution_count": 64,
   "id": "1613f905-4a4f-4aef-9ee8-6292163a755e",
   "metadata": {},
   "outputs": [],
   "source": [
    "#y_pred = pipeline.predict(X_test)"
   ]
  },
  {
   "cell_type": "code",
   "execution_count": 68,
   "id": "e797e502-e37f-462b-ab25-2f3c23284b75",
   "metadata": {},
   "outputs": [],
   "source": [
    "#xgboost\n",
    "y_pred_encoded = pipeline.predict(X_test)"
   ]
  },
  {
   "cell_type": "code",
   "execution_count": 70,
   "id": "1b0d2732-94bd-4238-bace-aba1b6594d46",
   "metadata": {},
   "outputs": [],
   "source": [
    "# Decodificar predicciones\n",
    "y_pred = label_encoder.inverse_transform(y_pred_encoded)"
   ]
  },
  {
   "cell_type": "code",
   "execution_count": 72,
   "id": "28ccb971-bca7-4a9d-9b31-355f228e0a22",
   "metadata": {},
   "outputs": [
    {
     "name": "stdout",
     "output_type": "stream",
     "text": [
      "\n",
      "Reporte de clasificación:\n",
      "                                                                                  precision    recall  f1-score   support\n",
      "\n",
      "                                                                               -       1.00      1.00      1.00     12654\n",
      "                                                            Cobrar indebidamente       1.00      1.00      1.00      2119\n",
      "                      Demorar la gestión de la carta de garantía y/o reembolsos.       0.86      0.87      0.86      1055\n",
      "                                Negar  o demora en otorgar la cobertura en salud       0.79      0.80      0.79      1821\n",
      "                       Negar atención para el trámite de registro o acreditación       1.00      1.00      1.00       189\n",
      "                     Negar el otorgamiento de prestaciones económicas o sociales       1.00      1.00      1.00        47\n",
      "                                     Negar la acreditación de usuario asegurado.       0.88      0.87      0.88      2121\n",
      "                                                 Negar la afiliación del usuario       1.00      1.00      1.00        61\n",
      "                         Negar la cobertura de emergencia en periodo de carencia       1.00      1.00      1.00         9\n",
      "                                       Negar la cobertura en periodo de latencia       1.00      1.00      1.00       114\n",
      "                                      Negar o demorar en la atención en la IAFAS       1.00      1.00      1.00       406\n",
      "               No brindar atención con respeto de parte del personal de la IAFAS       0.99      1.00      1.00       124\n",
      "     No brindar atención según la ley de atención preferencial y de discapacidad       1.00      0.75      0.86         4\n",
      "                              No brindar información sobre sus derechos en salud       1.00      1.00      1.00      1197\n",
      "                No cumplir con la disposición de libro de reclamaciones en salud       1.00      0.89      0.94         9\n",
      "No cumplir con las disposiciones de la PAUS de acuerdo a la normatividad vigente       1.00      1.00      1.00        98\n",
      "   No permitir al usuario la libre elección de IPRESS de acuerdo a lo contratado       1.00      1.00      1.00      1682\n",
      "                                                     Otros relativos a las IAFAS       1.00      1.00      1.00      8818\n",
      "\n",
      "                                                                        accuracy                           0.98     32528\n",
      "                                                                       macro avg       0.97      0.95      0.96     32528\n",
      "                                                                    weighted avg       0.98      0.98      0.98     32528\n",
      "\n"
     ]
    }
   ],
   "source": [
    "print(\"\\nReporte de clasificación:\")\n",
    "print(classification_report(y_test, y_pred))"
   ]
  },
  {
   "cell_type": "code",
   "execution_count": null,
   "id": "e4d69373-d6e9-4318-a4e8-386167625228",
   "metadata": {},
   "outputs": [],
   "source": [
    "plt.figure(figsize=(12, 10))\n",
    "cm = confusion_matrix(y_test, y_pred)\n",
    "sns.heatmap(cm, annot=True, fmt='d', cmap='Blues', xticklabels=sorted(set(y_test)), yticklabels=sorted(set(y_test)))\n",
    "plt.title('Matriz de Confusión')\n",
    "plt.ylabel('Real')\n",
    "plt.xlabel('Predicho')\n",
    "plt.tight_layout()\n",
    "plt.show()"
   ]
  },
  {
   "cell_type": "code",
   "execution_count": 80,
   "id": "676ded35-3219-48be-bffb-4fd3f124b4f6",
   "metadata": {},
   "outputs": [
    {
     "name": "stdout",
     "output_type": "stream",
     "text": [
      "Collecting tensorflow\n",
      "  Downloading tensorflow-2.19.0-cp312-cp312-win_amd64.whl.metadata (4.1 kB)\n",
      "Collecting absl-py>=1.0.0 (from tensorflow)\n",
      "  Downloading absl_py-2.2.2-py3-none-any.whl.metadata (2.6 kB)\n",
      "Collecting astunparse>=1.6.0 (from tensorflow)\n",
      "  Downloading astunparse-1.6.3-py2.py3-none-any.whl.metadata (4.4 kB)\n",
      "Collecting flatbuffers>=24.3.25 (from tensorflow)\n",
      "  Downloading flatbuffers-25.2.10-py2.py3-none-any.whl.metadata (875 bytes)\n",
      "Collecting gast!=0.5.0,!=0.5.1,!=0.5.2,>=0.2.1 (from tensorflow)\n",
      "  Downloading gast-0.6.0-py3-none-any.whl.metadata (1.3 kB)\n",
      "Collecting google-pasta>=0.1.1 (from tensorflow)\n",
      "  Downloading google_pasta-0.2.0-py3-none-any.whl.metadata (814 bytes)\n",
      "Collecting libclang>=13.0.0 (from tensorflow)\n",
      "  Downloading libclang-18.1.1-py2.py3-none-win_amd64.whl.metadata (5.3 kB)\n",
      "Collecting opt-einsum>=2.3.2 (from tensorflow)\n",
      "  Downloading opt_einsum-3.4.0-py3-none-any.whl.metadata (6.3 kB)\n",
      "Requirement already satisfied: packaging in c:\\users\\harol\\anaconda3\\lib\\site-packages (from tensorflow) (24.1)\n",
      "Requirement already satisfied: protobuf!=4.21.0,!=4.21.1,!=4.21.2,!=4.21.3,!=4.21.4,!=4.21.5,<6.0.0dev,>=3.20.3 in c:\\users\\harol\\anaconda3\\lib\\site-packages (from tensorflow) (4.25.3)\n",
      "Requirement already satisfied: requests<3,>=2.21.0 in c:\\users\\harol\\anaconda3\\lib\\site-packages (from tensorflow) (2.32.3)\n",
      "Requirement already satisfied: setuptools in c:\\users\\harol\\anaconda3\\lib\\site-packages (from tensorflow) (75.1.0)\n",
      "Requirement already satisfied: six>=1.12.0 in c:\\users\\harol\\anaconda3\\lib\\site-packages (from tensorflow) (1.16.0)\n",
      "Collecting termcolor>=1.1.0 (from tensorflow)\n",
      "  Downloading termcolor-3.0.1-py3-none-any.whl.metadata (6.1 kB)\n",
      "Requirement already satisfied: typing-extensions>=3.6.6 in c:\\users\\harol\\anaconda3\\lib\\site-packages (from tensorflow) (4.13.2)\n",
      "Requirement already satisfied: wrapt>=1.11.0 in c:\\users\\harol\\anaconda3\\lib\\site-packages (from tensorflow) (1.14.1)\n",
      "Collecting grpcio<2.0,>=1.24.3 (from tensorflow)\n",
      "  Downloading grpcio-1.71.0-cp312-cp312-win_amd64.whl.metadata (4.0 kB)\n",
      "Collecting tensorboard~=2.19.0 (from tensorflow)\n",
      "  Downloading tensorboard-2.19.0-py3-none-any.whl.metadata (1.8 kB)\n",
      "Collecting keras>=3.5.0 (from tensorflow)\n",
      "  Downloading keras-3.9.2-py3-none-any.whl.metadata (6.1 kB)\n",
      "Requirement already satisfied: numpy<2.2.0,>=1.26.0 in c:\\users\\harol\\anaconda3\\lib\\site-packages (from tensorflow) (1.26.4)\n",
      "Requirement already satisfied: h5py>=3.11.0 in c:\\users\\harol\\anaconda3\\lib\\site-packages (from tensorflow) (3.11.0)\n",
      "Collecting ml-dtypes<1.0.0,>=0.5.1 (from tensorflow)\n",
      "  Downloading ml_dtypes-0.5.1-cp312-cp312-win_amd64.whl.metadata (22 kB)\n",
      "Requirement already satisfied: wheel<1.0,>=0.23.0 in c:\\users\\harol\\anaconda3\\lib\\site-packages (from astunparse>=1.6.0->tensorflow) (0.44.0)\n",
      "Requirement already satisfied: rich in c:\\users\\harol\\anaconda3\\lib\\site-packages (from keras>=3.5.0->tensorflow) (13.7.1)\n",
      "Collecting namex (from keras>=3.5.0->tensorflow)\n",
      "  Downloading namex-0.0.8-py3-none-any.whl.metadata (246 bytes)\n",
      "Collecting optree (from keras>=3.5.0->tensorflow)\n",
      "  Downloading optree-0.15.0-cp312-cp312-win_amd64.whl.metadata (49 kB)\n",
      "Requirement already satisfied: charset-normalizer<4,>=2 in c:\\users\\harol\\anaconda3\\lib\\site-packages (from requests<3,>=2.21.0->tensorflow) (3.3.2)\n",
      "Requirement already satisfied: idna<4,>=2.5 in c:\\users\\harol\\anaconda3\\lib\\site-packages (from requests<3,>=2.21.0->tensorflow) (3.7)\n",
      "Requirement already satisfied: urllib3<3,>=1.21.1 in c:\\users\\harol\\anaconda3\\lib\\site-packages (from requests<3,>=2.21.0->tensorflow) (2.2.3)\n",
      "Requirement already satisfied: certifi>=2017.4.17 in c:\\users\\harol\\anaconda3\\lib\\site-packages (from requests<3,>=2.21.0->tensorflow) (2024.8.30)\n",
      "Requirement already satisfied: markdown>=2.6.8 in c:\\users\\harol\\anaconda3\\lib\\site-packages (from tensorboard~=2.19.0->tensorflow) (3.4.1)\n",
      "Collecting tensorboard-data-server<0.8.0,>=0.7.0 (from tensorboard~=2.19.0->tensorflow)\n",
      "  Downloading tensorboard_data_server-0.7.2-py3-none-any.whl.metadata (1.1 kB)\n",
      "Requirement already satisfied: werkzeug>=1.0.1 in c:\\users\\harol\\anaconda3\\lib\\site-packages (from tensorboard~=2.19.0->tensorflow) (3.0.3)\n",
      "Requirement already satisfied: MarkupSafe>=2.1.1 in c:\\users\\harol\\anaconda3\\lib\\site-packages (from werkzeug>=1.0.1->tensorboard~=2.19.0->tensorflow) (2.1.3)\n",
      "Requirement already satisfied: markdown-it-py>=2.2.0 in c:\\users\\harol\\anaconda3\\lib\\site-packages (from rich->keras>=3.5.0->tensorflow) (2.2.0)\n",
      "Requirement already satisfied: pygments<3.0.0,>=2.13.0 in c:\\users\\harol\\anaconda3\\lib\\site-packages (from rich->keras>=3.5.0->tensorflow) (2.15.1)\n",
      "Requirement already satisfied: mdurl~=0.1 in c:\\users\\harol\\anaconda3\\lib\\site-packages (from markdown-it-py>=2.2.0->rich->keras>=3.5.0->tensorflow) (0.1.0)\n",
      "Downloading tensorflow-2.19.0-cp312-cp312-win_amd64.whl (376.0 MB)\n",
      "   ---------------------------------------- 0.0/376.0 MB ? eta -:--:--\n",
      "   ---------------------------------------- 2.4/376.0 MB 11.2 MB/s eta 0:00:34\n",
      "   ---------------------------------------- 4.2/376.0 MB 10.1 MB/s eta 0:00:37\n",
      "    --------------------------------------- 6.0/376.0 MB 9.5 MB/s eta 0:00:40\n",
      "    --------------------------------------- 7.6/376.0 MB 9.2 MB/s eta 0:00:40\n",
      "   - -------------------------------------- 9.4/376.0 MB 9.0 MB/s eta 0:00:41\n",
      "   - -------------------------------------- 11.3/376.0 MB 9.2 MB/s eta 0:00:40\n",
      "   - -------------------------------------- 13.6/376.0 MB 9.3 MB/s eta 0:00:39\n",
      "   - -------------------------------------- 17.8/376.0 MB 10.6 MB/s eta 0:00:34\n",
      "   -- ------------------------------------- 22.5/376.0 MB 12.0 MB/s eta 0:00:30\n",
      "   -- ------------------------------------- 27.5/376.0 MB 13.1 MB/s eta 0:00:27\n",
      "   --- ------------------------------------ 32.5/376.0 MB 14.1 MB/s eta 0:00:25\n",
      "   ---- ----------------------------------- 37.7/376.0 MB 15.0 MB/s eta 0:00:23\n",
      "   ---- ----------------------------------- 42.5/376.0 MB 15.6 MB/s eta 0:00:22\n",
      "   ----- ---------------------------------- 48.0/376.0 MB 16.4 MB/s eta 0:00:20\n",
      "   ----- ---------------------------------- 53.0/376.0 MB 17.0 MB/s eta 0:00:19\n",
      "   ------ --------------------------------- 57.7/376.0 MB 17.3 MB/s eta 0:00:19\n",
      "   ------ --------------------------------- 60.8/376.0 MB 17.6 MB/s eta 0:00:18\n",
      "   ------ --------------------------------- 60.8/376.0 MB 17.6 MB/s eta 0:00:18\n",
      "   ------- -------------------------------- 66.1/376.0 MB 16.6 MB/s eta 0:00:19\n",
      "   ------- -------------------------------- 72.1/376.0 MB 17.3 MB/s eta 0:00:18\n",
      "   -------- ------------------------------- 78.1/376.0 MB 17.9 MB/s eta 0:00:17\n",
      "   -------- ------------------------------- 83.6/376.0 MB 18.2 MB/s eta 0:00:17\n",
      "   --------- ------------------------------ 89.1/376.0 MB 18.6 MB/s eta 0:00:16\n",
      "   ---------- ----------------------------- 94.6/376.0 MB 18.9 MB/s eta 0:00:15\n",
      "   ---------- ----------------------------- 97.8/376.0 MB 18.9 MB/s eta 0:00:15\n",
      "   ---------- ---------------------------- 102.8/376.0 MB 19.0 MB/s eta 0:00:15\n",
      "   ----------- --------------------------- 107.5/376.0 MB 19.2 MB/s eta 0:00:15\n",
      "   ----------- --------------------------- 111.9/376.0 MB 19.3 MB/s eta 0:00:14\n",
      "   ------------ -------------------------- 116.7/376.0 MB 19.4 MB/s eta 0:00:14\n",
      "   ------------ -------------------------- 120.8/376.0 MB 19.4 MB/s eta 0:00:14\n",
      "   ------------ -------------------------- 125.3/376.0 MB 19.5 MB/s eta 0:00:13\n",
      "   ------------- ------------------------- 128.5/376.0 MB 19.5 MB/s eta 0:00:13\n",
      "   ------------- ------------------------- 134.0/376.0 MB 19.5 MB/s eta 0:00:13\n",
      "   -------------- ------------------------ 138.7/376.0 MB 19.6 MB/s eta 0:00:13\n",
      "   -------------- ------------------------ 143.7/376.0 MB 19.7 MB/s eta 0:00:12\n",
      "   --------------- ----------------------- 149.2/376.0 MB 19.9 MB/s eta 0:00:12\n",
      "   ---------------- ---------------------- 154.9/376.0 MB 20.1 MB/s eta 0:00:12\n",
      "   ---------------- ---------------------- 159.4/376.0 MB 20.1 MB/s eta 0:00:11\n",
      "   ---------------- ---------------------- 163.1/376.0 MB 20.0 MB/s eta 0:00:11\n",
      "   ----------------- --------------------- 167.0/376.0 MB 20.0 MB/s eta 0:00:11\n",
      "   ----------------- --------------------- 171.2/376.0 MB 20.0 MB/s eta 0:00:11\n",
      "   ------------------ -------------------- 175.6/376.0 MB 20.0 MB/s eta 0:00:10\n",
      "   ------------------ -------------------- 180.1/376.0 MB 20.1 MB/s eta 0:00:10\n",
      "   ------------------- ------------------- 184.5/376.0 MB 20.1 MB/s eta 0:00:10\n",
      "   ------------------- ------------------- 189.8/376.0 MB 20.2 MB/s eta 0:00:10\n",
      "   -------------------- ------------------ 195.8/376.0 MB 20.4 MB/s eta 0:00:09\n",
      "   -------------------- ------------------ 201.3/376.0 MB 20.5 MB/s eta 0:00:09\n",
      "   --------------------- ----------------- 207.4/376.0 MB 20.7 MB/s eta 0:00:09\n",
      "   ---------------------- ---------------- 212.6/376.0 MB 20.8 MB/s eta 0:00:08\n",
      "   ---------------------- ---------------- 218.9/376.0 MB 21.0 MB/s eta 0:00:08\n",
      "   ----------------------- --------------- 225.4/376.0 MB 21.2 MB/s eta 0:00:08\n",
      "   ------------------------ -------------- 233.0/376.0 MB 21.5 MB/s eta 0:00:07\n",
      "   ------------------------ -------------- 238.8/376.0 MB 21.6 MB/s eta 0:00:07\n",
      "   ------------------------- ------------- 244.3/376.0 MB 21.7 MB/s eta 0:00:07\n",
      "   -------------------------- ------------ 251.9/376.0 MB 21.9 MB/s eta 0:00:06\n",
      "   -------------------------- ------------ 259.3/376.0 MB 22.2 MB/s eta 0:00:06\n",
      "   --------------------------- ----------- 266.3/376.0 MB 22.9 MB/s eta 0:00:05\n",
      "   ---------------------------- ---------- 273.4/376.0 MB 24.2 MB/s eta 0:00:05\n",
      "   ----------------------------- --------- 280.0/376.0 MB 24.6 MB/s eta 0:00:04\n",
      "   ----------------------------- --------- 287.0/376.0 MB 24.9 MB/s eta 0:00:04\n",
      "   ------------------------------ -------- 293.3/376.0 MB 25.1 MB/s eta 0:00:04\n",
      "   ------------------------------- ------- 300.2/376.0 MB 25.2 MB/s eta 0:00:04\n",
      "   ------------------------------- ------- 307.2/376.0 MB 25.3 MB/s eta 0:00:03\n",
      "   -------------------------------- ------ 313.5/376.0 MB 25.5 MB/s eta 0:00:03\n",
      "   -------------------------------- ------ 313.5/376.0 MB 25.5 MB/s eta 0:00:03\n",
      "   -------------------------------- ------ 316.7/376.0 MB 24.8 MB/s eta 0:00:03\n",
      "   --------------------------------- ----- 321.7/376.0 MB 24.8 MB/s eta 0:00:03\n",
      "   --------------------------------- ----- 326.6/376.0 MB 25.5 MB/s eta 0:00:02\n",
      "   ---------------------------------- ---- 331.9/376.0 MB 25.4 MB/s eta 0:00:02\n",
      "   ----------------------------------- --- 338.7/376.0 MB 25.5 MB/s eta 0:00:02\n",
      "   ----------------------------------- --- 344.7/376.0 MB 25.5 MB/s eta 0:00:02\n",
      "   ------------------------------------ -- 351.3/376.0 MB 25.6 MB/s eta 0:00:01\n",
      "   ------------------------------------- - 357.3/376.0 MB 25.9 MB/s eta 0:00:01\n",
      "   ------------------------------------- - 363.1/376.0 MB 25.9 MB/s eta 0:00:01\n",
      "   --------------------------------------  368.6/376.0 MB 26.0 MB/s eta 0:00:01\n",
      "   --------------------------------------  374.6/376.0 MB 26.1 MB/s eta 0:00:01\n",
      "   --------------------------------------  375.9/376.0 MB 26.2 MB/s eta 0:00:01\n",
      "   --------------------------------------  375.9/376.0 MB 26.2 MB/s eta 0:00:01\n",
      "   --------------------------------------  375.9/376.0 MB 26.2 MB/s eta 0:00:01\n",
      "   --------------------------------------  375.9/376.0 MB 26.2 MB/s eta 0:00:01\n",
      "   --------------------------------------  375.9/376.0 MB 26.2 MB/s eta 0:00:01\n",
      "   --------------------------------------  375.9/376.0 MB 26.2 MB/s eta 0:00:01\n",
      "   --------------------------------------- 376.0/376.0 MB 22.9 MB/s eta 0:00:00\n",
      "Downloading absl_py-2.2.2-py3-none-any.whl (135 kB)\n",
      "Downloading astunparse-1.6.3-py2.py3-none-any.whl (12 kB)\n",
      "Downloading flatbuffers-25.2.10-py2.py3-none-any.whl (30 kB)\n",
      "Downloading gast-0.6.0-py3-none-any.whl (21 kB)\n",
      "Downloading google_pasta-0.2.0-py3-none-any.whl (57 kB)\n",
      "Downloading grpcio-1.71.0-cp312-cp312-win_amd64.whl (4.3 MB)\n",
      "   ---------------------------------------- 0.0/4.3 MB ? eta -:--:--\n",
      "   ------------------------------------ --- 3.9/4.3 MB 23.5 MB/s eta 0:00:01\n",
      "   ---------------------------------------- 4.3/4.3 MB 18.4 MB/s eta 0:00:00\n",
      "Downloading keras-3.9.2-py3-none-any.whl (1.3 MB)\n",
      "   ---------------------------------------- 0.0/1.3 MB ? eta -:--:--\n",
      "   ---------------------------------------- 1.3/1.3 MB 17.1 MB/s eta 0:00:00\n",
      "Downloading libclang-18.1.1-py2.py3-none-win_amd64.whl (26.4 MB)\n",
      "   ---------------------------------------- 0.0/26.4 MB ? eta -:--:--\n",
      "   ------ --------------------------------- 4.5/26.4 MB 22.4 MB/s eta 0:00:01\n",
      "   -------------- ------------------------- 9.4/26.4 MB 23.5 MB/s eta 0:00:01\n",
      "   --------------------- ------------------ 14.4/26.4 MB 23.8 MB/s eta 0:00:01\n",
      "   -------------------------- ------------- 17.8/26.4 MB 23.4 MB/s eta 0:00:01\n",
      "   -------------------------- ------------- 17.8/26.4 MB 23.4 MB/s eta 0:00:01\n",
      "   -------------------------- ------------- 17.8/26.4 MB 23.4 MB/s eta 0:00:01\n",
      "   -------------------------- ------------- 17.8/26.4 MB 23.4 MB/s eta 0:00:01\n",
      "   ------------------------------ --------- 20.4/26.4 MB 12.3 MB/s eta 0:00:01\n",
      "   ---------------------------------------  26.2/26.4 MB 14.6 MB/s eta 0:00:01\n",
      "   ---------------------------------------- 26.4/26.4 MB 13.7 MB/s eta 0:00:00\n",
      "Downloading ml_dtypes-0.5.1-cp312-cp312-win_amd64.whl (210 kB)\n",
      "Downloading opt_einsum-3.4.0-py3-none-any.whl (71 kB)\n",
      "Downloading tensorboard-2.19.0-py3-none-any.whl (5.5 MB)\n",
      "   ---------------------------------------- 0.0/5.5 MB ? eta -:--:--\n",
      "   ---------------------------------------- 5.5/5.5 MB 30.5 MB/s eta 0:00:00\n",
      "Downloading termcolor-3.0.1-py3-none-any.whl (7.2 kB)\n",
      "Downloading tensorboard_data_server-0.7.2-py3-none-any.whl (2.4 kB)\n",
      "Downloading namex-0.0.8-py3-none-any.whl (5.8 kB)\n",
      "Downloading optree-0.15.0-cp312-cp312-win_amd64.whl (307 kB)\n",
      "Installing collected packages: namex, libclang, flatbuffers, termcolor, tensorboard-data-server, optree, opt-einsum, ml-dtypes, grpcio, google-pasta, gast, astunparse, absl-py, tensorboard, keras, tensorflow\n",
      "Successfully installed absl-py-2.2.2 astunparse-1.6.3 flatbuffers-25.2.10 gast-0.6.0 google-pasta-0.2.0 grpcio-1.71.0 keras-3.9.2 libclang-18.1.1 ml-dtypes-0.5.1 namex-0.0.8 opt-einsum-3.4.0 optree-0.15.0 tensorboard-2.19.0 tensorboard-data-server-0.7.2 tensorflow-2.19.0 termcolor-3.0.1\n",
      "Note: you may need to restart the kernel to use updated packages.\n"
     ]
    }
   ],
   "source": [
    "%pip install tensorflow"
   ]
  },
  {
   "cell_type": "code",
   "execution_count": 82,
   "id": "4fb06f98-4557-4145-b680-0588cb4cb1c4",
   "metadata": {},
   "outputs": [],
   "source": [
    "#Redes\n",
    "from sklearn.preprocessing import LabelEncoder, OneHotEncoder\n",
    "from tensorflow.keras.utils import to_categorical\n",
    "\n",
    "# Label encoding\n",
    "label_encoder = LabelEncoder()\n",
    "y_train_int = label_encoder.fit_transform(y_train)\n",
    "y_test_int = label_encoder.transform(y_test)\n",
    "\n",
    "# One-hot encoding\n",
    "y_train_cat = to_categorical(y_train_int)\n",
    "y_test_cat = to_categorical(y_test_int)\n"
   ]
  },
  {
   "cell_type": "code",
   "execution_count": 84,
   "id": "4840bd42-6767-446a-a4c9-53db489821c7",
   "metadata": {},
   "outputs": [
    {
     "name": "stderr",
     "output_type": "stream",
     "text": [
      "C:\\Users\\harol\\anaconda3\\Lib\\site-packages\\keras\\src\\layers\\core\\dense.py:87: UserWarning: Do not pass an `input_shape`/`input_dim` argument to a layer. When using Sequential models, prefer using an `Input(shape)` object as the first layer in the model instead.\n",
      "  super().__init__(activity_regularizer=activity_regularizer, **kwargs)\n"
     ]
    }
   ],
   "source": [
    "from tensorflow.keras.models import Sequential\n",
    "from tensorflow.keras.layers import Dense, Dropout\n",
    "\n",
    "model = Sequential()\n",
    "model.add(Dense(128, input_dim=X_train.shape[1], activation='relu'))\n",
    "model.add(Dropout(0.3))\n",
    "model.add(Dense(64, activation='relu'))\n",
    "model.add(Dense(len(label_encoder.classes_), activation='softmax'))\n"
   ]
  },
  {
   "cell_type": "code",
   "execution_count": 88,
   "id": "6a277bd9-21ee-4649-9c61-19f39a2909f9",
   "metadata": {},
   "outputs": [
    {
     "name": "stdout",
     "output_type": "stream",
     "text": [
      "ID_PERIODO                        int64\n",
      "CO_ADMIN_DECLA                    int64\n",
      "CO_UGIPRESS                       int64\n",
      "DE_TIPO_INSTITUCION              object\n",
      "CO_ADMIN_SUCE                     int64\n",
      "DE_MEDIO_PRESENTACION            object\n",
      "CO_UNICO_RECLAMO                 object\n",
      "DE_MEDIO_RECEPCION               object\n",
      "FE_PRESEN_RECLA          datetime64[ns]\n",
      "DE_SERVICIO                      object\n",
      "DE_COMPETENCIA                   object\n",
      "AÑO                               int32\n",
      "MES                               int32\n",
      "DESCRIPCION                      object\n",
      "DIA_SEMANA                        int32\n",
      "DIA_MES                           int32\n",
      "dtype: object\n"
     ]
    }
   ],
   "source": [
    "print(X_train.dtypes)\n"
   ]
  },
  {
   "cell_type": "code",
   "execution_count": 90,
   "id": "09cb647d-3c7d-4cc8-b89d-35e3e8c88401",
   "metadata": {},
   "outputs": [
    {
     "ename": "ValueError",
     "evalue": "Invalid dtype: object",
     "output_type": "error",
     "traceback": [
      "\u001b[1;31m---------------------------------------------------------------------------\u001b[0m",
      "\u001b[1;31mValueError\u001b[0m                                Traceback (most recent call last)",
      "Cell \u001b[1;32mIn[90], line 3\u001b[0m\n\u001b[0;32m      1\u001b[0m model\u001b[38;5;241m.\u001b[39mcompile(loss\u001b[38;5;241m=\u001b[39m\u001b[38;5;124m'\u001b[39m\u001b[38;5;124mcategorical_crossentropy\u001b[39m\u001b[38;5;124m'\u001b[39m, optimizer\u001b[38;5;241m=\u001b[39m\u001b[38;5;124m'\u001b[39m\u001b[38;5;124madam\u001b[39m\u001b[38;5;124m'\u001b[39m, metrics\u001b[38;5;241m=\u001b[39m[\u001b[38;5;124m'\u001b[39m\u001b[38;5;124maccuracy\u001b[39m\u001b[38;5;124m'\u001b[39m])\n\u001b[1;32m----> 3\u001b[0m model\u001b[38;5;241m.\u001b[39mfit(X_train, y_train_cat, epochs\u001b[38;5;241m=\u001b[39m\u001b[38;5;241m20\u001b[39m, batch_size\u001b[38;5;241m=\u001b[39m\u001b[38;5;241m32\u001b[39m, validation_split\u001b[38;5;241m=\u001b[39m\u001b[38;5;241m0.2\u001b[39m)\n",
      "File \u001b[1;32m~\\anaconda3\\Lib\\site-packages\\keras\\src\\utils\\traceback_utils.py:122\u001b[0m, in \u001b[0;36mfilter_traceback.<locals>.error_handler\u001b[1;34m(*args, **kwargs)\u001b[0m\n\u001b[0;32m    119\u001b[0m     filtered_tb \u001b[38;5;241m=\u001b[39m _process_traceback_frames(e\u001b[38;5;241m.\u001b[39m__traceback__)\n\u001b[0;32m    120\u001b[0m     \u001b[38;5;66;03m# To get the full stack trace, call:\u001b[39;00m\n\u001b[0;32m    121\u001b[0m     \u001b[38;5;66;03m# `keras.config.disable_traceback_filtering()`\u001b[39;00m\n\u001b[1;32m--> 122\u001b[0m     \u001b[38;5;28;01mraise\u001b[39;00m e\u001b[38;5;241m.\u001b[39mwith_traceback(filtered_tb) \u001b[38;5;28;01mfrom\u001b[39;00m \u001b[38;5;28;01mNone\u001b[39;00m\n\u001b[0;32m    123\u001b[0m \u001b[38;5;28;01mfinally\u001b[39;00m:\n\u001b[0;32m    124\u001b[0m     \u001b[38;5;28;01mdel\u001b[39;00m filtered_tb\n",
      "File \u001b[1;32m~\\anaconda3\\Lib\\site-packages\\optree\\ops.py:766\u001b[0m, in \u001b[0;36mtree_map\u001b[1;34m(func, tree, is_leaf, none_is_leaf, namespace, *rests)\u001b[0m\n\u001b[0;32m    764\u001b[0m leaves, treespec \u001b[38;5;241m=\u001b[39m _C\u001b[38;5;241m.\u001b[39mflatten(tree, is_leaf, none_is_leaf, namespace)\n\u001b[0;32m    765\u001b[0m flat_args \u001b[38;5;241m=\u001b[39m [leaves] \u001b[38;5;241m+\u001b[39m [treespec\u001b[38;5;241m.\u001b[39mflatten_up_to(r) \u001b[38;5;28;01mfor\u001b[39;00m r \u001b[38;5;129;01min\u001b[39;00m rests]\n\u001b[1;32m--> 766\u001b[0m \u001b[38;5;28;01mreturn\u001b[39;00m treespec\u001b[38;5;241m.\u001b[39munflatten(\u001b[38;5;28mmap\u001b[39m(func, \u001b[38;5;241m*\u001b[39mflat_args))\n",
      "\u001b[1;31mValueError\u001b[0m: Invalid dtype: object"
     ]
    }
   ],
   "source": [
    "model.compile(loss='categorical_crossentropy', optimizer='adam', metrics=['accuracy'])\n",
    "\n",
    "model.fit(X_train, y_train_cat, epochs=20, batch_size=32, validation_split=0.2)\n"
   ]
  },
  {
   "cell_type": "code",
   "execution_count": null,
   "id": "68ebe9c0-09bb-4d2b-97c6-a0f90fdb8c08",
   "metadata": {},
   "outputs": [],
   "source": [
    "# Predicciones\n",
    "y_pred_prob = model.predict(X_test)\n",
    "y_pred_int = y_pred_prob.argmax(axis=1)\n",
    "y_pred = label_encoder.inverse_transform(y_pred_int)\n",
    "\n",
    "# Reporte\n",
    "from sklearn.metrics import classification_report\n",
    "print(classification_report(y_test, y_pred))\n"
   ]
  }
 ],
 "metadata": {
  "kernelspec": {
   "display_name": "base",
   "language": "python",
   "name": "python3"
  },
  "language_info": {
   "codemirror_mode": {
    "name": "ipython",
    "version": 3
   },
   "file_extension": ".py",
   "mimetype": "text/x-python",
   "name": "python",
   "nbconvert_exporter": "python",
   "pygments_lexer": "ipython3",
   "version": "3.12.7"
  }
 },
 "nbformat": 4,
 "nbformat_minor": 5
}
