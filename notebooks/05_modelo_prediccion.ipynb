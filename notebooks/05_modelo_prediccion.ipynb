{
 "cells": [
  {
   "cell_type": "markdown",
   "id": "b69f9f08-24b4-4f45-a6ce-27a6fa9846ea",
   "metadata": {},
   "source": [
    "# Modelo de prediccion"
   ]
  },
  {
   "cell_type": "markdown",
   "id": "869f0b18",
   "metadata": {},
   "source": [
    "##### Integrantes: \n",
    "##### - Harold Aquino Curisinche \n",
    "##### - Rosa Estrada Estrada\n",
    "##### Descripción: Modelado predictivo para reclamos de SUSALUD"
   ]
  },
  {
   "cell_type": "code",
   "execution_count": 1,
   "id": "9dd1c8e5-7b5a-48b7-8088-fd2edb61e665",
   "metadata": {},
   "outputs": [],
   "source": [
    "import pandas as pd\n",
    "import numpy as np\n",
    "import seaborn as sns\n",
    "import matplotlib.pyplot as plt"
   ]
  },
  {
   "cell_type": "code",
   "execution_count": 2,
   "id": "d15ee5c6",
   "metadata": {},
   "outputs": [],
   "source": [
    "from sklearn.model_selection import train_test_split\n",
    "from sklearn.preprocessing import LabelEncoder, StandardScaler\n",
    "from sklearn.ensemble import RandomForestClassifier\n",
    "from sklearn.metrics import accuracy_score, classification_report, confusion_matrix"
   ]
  },
  {
   "cell_type": "code",
   "execution_count": 3,
   "id": "bbe28ec5",
   "metadata": {},
   "outputs": [],
   "source": [
    "import joblib "
   ]
  },
  {
   "cell_type": "markdown",
   "id": "0c560896-993e-48d8-a002-54dec963c81e",
   "metadata": {},
   "source": [
    "## Cargar y preparar los datos"
   ]
  },
  {
   "cell_type": "code",
   "execution_count": 6,
   "id": "e8aa8a73-284c-4d98-b68e-c4fe74691d55",
   "metadata": {},
   "outputs": [
    {
     "name": "stdout",
     "output_type": "stream",
     "text": [
      "  DE_MEDIO_PRESENTACION DE_SERVICIO  \\\n",
      "0                Físico           -   \n",
      "1                Físico           -   \n",
      "2                Físico           -   \n",
      "3                Físico           -   \n",
      "4                Físico           -   \n",
      "\n",
      "                                        DE_CLASIF_1 DE_ESTADO_RECLAMO  \\\n",
      "0  Negar  o demora en otorgar la cobertura en salud          Resuelto   \n",
      "1                              Cobrar indebidamente          Resuelto   \n",
      "2                       Otros relativos a las IAFAS         Concluido   \n",
      "3                       Otros relativos a las IAFAS         Concluido   \n",
      "4                       Otros relativos a las IAFAS        En trámite   \n",
      "\n",
      "  DE_RESULTADO  \n",
      "0    Infundado  \n",
      "1    Infundado  \n",
      "2    Infundado  \n",
      "3    Infundado  \n",
      "4    Pendiente  \n"
     ]
    }
   ],
   "source": [
    "# Cargar dataset procesado\n",
    "df = pd.read_csv(\"../data/processed/reclamos_clean_transformed.csv\")\n",
    "\n",
    "# Seleccionar variables relevantes\n",
    "df = df[[\"DE_MEDIO_PRESENTACION\", \"DE_SERVICIO\", \"DE_CLASIF_1\", \"DE_ESTADO_RECLAMO\", \"DE_RESULTADO\"]]\n",
    "\n",
    "# Eliminar filas con valores nulos\n",
    "df.dropna(inplace=True)\n",
    "\n",
    "# Ver estructura del dataset\n",
    "print(df.head())\n"
   ]
  },
  {
   "cell_type": "code",
   "execution_count": 7,
   "id": "e5b1393a-0c15-4d07-bb73-d49d620a82e8",
   "metadata": {},
   "outputs": [
    {
     "name": "stdout",
     "output_type": "stream",
     "text": [
      "   DE_MEDIO_PRESENTACION  DE_SERVICIO  DE_CLASIF_1  DE_ESTADO_RECLAMO  \\\n",
      "0                      0            0            3                  4   \n",
      "1                      0            0            1                  4   \n",
      "2                      0            0           17                  2   \n",
      "3                      0            0           17                  2   \n",
      "4                      0            0           17                  3   \n",
      "\n",
      "  DE_RESULTADO  \n",
      "0    Infundado  \n",
      "1    Infundado  \n",
      "2    Infundado  \n",
      "3    Infundado  \n",
      "4    Pendiente  \n"
     ]
    }
   ],
   "source": [
    "# Codificar variables categóricas con LabelEncoder\n",
    "encoder = LabelEncoder()\n",
    "for col in [\"DE_MEDIO_PRESENTACION\", \"DE_SERVICIO\", \"DE_CLASIF_1\", \"DE_ESTADO_RECLAMO\"]:\n",
    "    df[col] = encoder.fit_transform(df[col])\n",
    "\n",
    "# Ver datos transformados\n",
    "print(df.head())\n"
   ]
  },
  {
   "cell_type": "code",
   "execution_count": 8,
   "id": "565be31d-32a9-45ca-90ca-9723277309d0",
   "metadata": {},
   "outputs": [
    {
     "name": "stdout",
     "output_type": "stream",
     "text": [
      "Tamaño del conjunto de entrenamiento: (130111, 4)\n",
      "Tamaño del conjunto de prueba: (32528, 4)\n"
     ]
    }
   ],
   "source": [
    "# Definir variables predictoras y variable objetivo\n",
    "X = df.drop(columns=[\"DE_RESULTADO\"])  # Variables de entrada\n",
    "y = encoder.fit_transform(df[\"DE_RESULTADO\"])  # Variable a predecir\n",
    "\n",
    "# Dividir en conjunto de entrenamiento (80%) y prueba (20%)\n",
    "X_train, X_test, y_train, y_test = train_test_split(X, y, test_size=0.2, random_state=42)\n",
    "\n",
    "print(\"Tamaño del conjunto de entrenamiento:\", X_train.shape)\n",
    "print(\"Tamaño del conjunto de prueba:\", X_test.shape)\n"
   ]
  },
  {
   "cell_type": "code",
   "execution_count": 10,
   "id": "2a03a9d9-48f8-46e9-812b-7befab534295",
   "metadata": {},
   "outputs": [],
   "source": [
    "# Crear y entrenar modelo Random Forest\n",
    "modelo = RandomForestClassifier(n_estimators=100, random_state=42)\n",
    "modelo.fit(X_train, y_train)\n",
    "\n",
    "# Guardar modelo entrenado\n",
    "joblib.dump(modelo, \"../modelos/reclamos_model.pkl\")\n",
    "\n",
    "# Predicción en datos de prueba\n",
    "y_pred = modelo.predict(X_test)\n"
   ]
  },
  {
   "cell_type": "code",
   "execution_count": null,
   "id": "e7f90b15-a073-4dab-a176-1887da7b1d5e",
   "metadata": {},
   "outputs": [
    {
     "name": "stdout",
     "output_type": "stream",
     "text": [
      "Precisión del modelo: 0.83\n",
      "\n",
      "Reporte de Clasificación:\n",
      "               precision    recall  f1-score   support\n",
      "\n",
      "           0       1.00      1.00      1.00       658\n",
      "           1       0.40      0.01      0.02       333\n",
      "           2       0.50      0.71      0.59      4616\n",
      "           3       0.00      0.00      0.00       960\n",
      "           4       0.60      0.17      0.26       856\n",
      "           5       0.58      0.57      0.57      5000\n",
      "           6       1.00      1.00      1.00     20105\n",
      "\n",
      "    accuracy                           0.83     32528\n",
      "   macro avg       0.58      0.49      0.49     32528\n",
      "weighted avg       0.82      0.83      0.82     32528\n",
      "\n"
     ]
    },
    {
     "name": "stderr",
     "output_type": "stream",
     "text": [
      "c:\\Users\\harol\\anaconda3\\Lib\\site-packages\\sklearn\\metrics\\_classification.py:1531: UndefinedMetricWarning: Precision is ill-defined and being set to 0.0 in labels with no predicted samples. Use `zero_division` parameter to control this behavior.\n",
      "  _warn_prf(average, modifier, f\"{metric.capitalize()} is\", len(result))\n",
      "c:\\Users\\harol\\anaconda3\\Lib\\site-packages\\sklearn\\metrics\\_classification.py:1531: UndefinedMetricWarning: Precision is ill-defined and being set to 0.0 in labels with no predicted samples. Use `zero_division` parameter to control this behavior.\n",
      "  _warn_prf(average, modifier, f\"{metric.capitalize()} is\", len(result))\n",
      "c:\\Users\\harol\\anaconda3\\Lib\\site-packages\\sklearn\\metrics\\_classification.py:1531: UndefinedMetricWarning: Precision is ill-defined and being set to 0.0 in labels with no predicted samples. Use `zero_division` parameter to control this behavior.\n",
      "  _warn_prf(average, modifier, f\"{metric.capitalize()} is\", len(result))\n"
     ]
    },
    {
     "data": {
      "image/png": "[encoded data removed]",
      "text/plain": [
       "<Figure size 600x400 with 2 Axes>"
      ]
     },
     "metadata": {},
     "output_type": "display_data"
    }
   ],
   "source": [
    "# Calcular precisión\n",
    "accuracy = accuracy_score(y_test, y_pred)\n",
    "print(f\"Precisión del modelo: {accuracy:.2f}\")\n",
    "\n",
    "# Reporte de clasificación\n",
    "print(\"\\nReporte de Clasificación:\\n\", classification_report(y_test, y_pred))\n",
    "\n",
    "# Matriz de confusión\n",
    "plt.figure(figsize=(6,4))\n",
    "sns.heatmap(confusion_matrix(y_test, y_pred), annot=True, fmt=\"d\", cmap=\"Blues\")\n",
    "plt.xlabel(\"Predicción\")\n",
    "plt.ylabel(\"Real\")\n",
    "plt.title(\"Matriz de Confusión\")\n",
    "plt.show()"
   ]
  }
 ],
 "metadata": {
  "kernelspec": {
   "display_name": "base",
   "language": "python",
   "name": "python3"
  },
  "language_info": {
   "codemirror_mode": {
    "name": "ipython",
    "version": 3
   },
   "file_extension": ".py",
   "mimetype": "text/x-python",
   "name": "python",
   "nbconvert_exporter": "python",
   "pygments_lexer": "ipython3",
   "version": "3.12.7"
  }
 },
 "nbformat": 4,
 "nbformat_minor": 5
}
